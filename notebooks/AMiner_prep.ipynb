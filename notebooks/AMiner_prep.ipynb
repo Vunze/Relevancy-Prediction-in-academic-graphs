{
 "cells": [
  {
   "cell_type": "code",
   "execution_count": 1,
   "id": "e2c7dea9",
   "metadata": {},
   "outputs": [
    {
     "name": "stderr",
     "output_type": "stream",
     "text": [
      "/home/vunz/Projects/Diploma/jup/lib/python3.12/site-packages/tqdm/auto.py:21: TqdmWarning: IProgress not found. Please update jupyter and ipywidgets. See https://ipywidgets.readthedocs.io/en/stable/user_install.html\n",
      "  from .autonotebook import tqdm as notebook_tqdm\n"
     ]
    }
   ],
   "source": [
    "import json\n",
    "import networkx as nx\n",
    "from helpers import handle_empty\n",
    "import numpy as np\n",
    "from tqdm import tqdm, trange\n",
    "from sklearn.feature_extraction.text import TfidfVectorizer\n",
    "from sklearn.preprocessing import MinMaxScaler\n",
    "from sentence_transformers import SentenceTransformer\n",
    "import torch\n",
    "import torch.nn.functional as F\n",
    "from torch import nn\n",
    "from torch_geometric.nn import GATConv\n",
    "from torch_geometric.data import Data\n",
    "from torch.utils.data import DataLoader"
   ]
  },
  {
   "cell_type": "code",
   "execution_count": 13,
   "id": "a4ecf799",
   "metadata": {},
   "outputs": [],
   "source": [
    "data = []\n",
    "counter = 0\n",
    "with open(\"../data/dblp_papers_v11.txt\", \"r\") as f:\n",
    "    for line in f:\n",
    "        data.append(json.loads(line))\n",
    "        counter += 1\n",
    "        if counter == 175000:\n",
    "            break"
   ]
  },
  {
   "cell_type": "code",
   "execution_count": 14,
   "id": "e1924408",
   "metadata": {},
   "outputs": [],
   "source": [
    "def indexed_to_abstract(abstract):\n",
    "    return \" \".join(list(abstract[\"InvertedIndex\"].keys()))\n",
    "\n",
    "def authors_to_str(authors):\n",
    "    res = []\n",
    "    for a in authors:\n",
    "        res.append(a[\"name\"])\n",
    "    return \",\".join(res)\n",
    "\n",
    "def fos_to_keys(fos):\n",
    "    res = []\n",
    "    for fo in fos:\n",
    "        res.append(fo[\"name\"])\n",
    "    return \", \".join(res)"
   ]
  },
  {
   "cell_type": "code",
   "execution_count": 15,
   "id": "c1ad8ceb",
   "metadata": {},
   "outputs": [],
   "source": [
    "def process_article(article: dict) -> tuple:\n",
    "    \"\"\"\n",
    "    to return: tuple(id, features)\n",
    "    features should include if possible:\n",
    "    title, authors, venue, year, abstract, references\n",
    "    \"\"\"\n",
    "    id = article[\"id\"] if \"id\" in article.keys() else None\n",
    "    title = article[\"title\"] if \"title\" in article.keys() else None\n",
    "    authors = authors_to_str(article[\"authors\"]) if \"authors\" in article.keys() else None\n",
    "    venue = article[\"venue\"][\"raw\"] if \"venue\" in article.keys() else None\n",
    "    year = article[\"year\"] if \"year\" in article.keys() else None\n",
    "    abstract = indexed_to_abstract(article[\"indexed_abstract\"]) if \"indexed_abstract\" in article.keys() else None\n",
    "    references = article[\"references\"] if \"references\" in article.keys() else None\n",
    "    keywords = fos_to_keys(article[\"fos\"]) if \"fos\" in article.keys() else None\n",
    "    return (id, {\n",
    "        \"title\": title,\n",
    "        \"authors\": authors,\n",
    "        \"venue\": venue,\n",
    "        \"year\": year,\n",
    "        \"abstract\": abstract,\n",
    "        \"references\": references,\n",
    "        \"keywords\": keywords\n",
    "    })"
   ]
  },
  {
   "cell_type": "code",
   "execution_count": 16,
   "id": "1a4e93f0",
   "metadata": {},
   "outputs": [],
   "source": [
    "graph = nx.Graph()"
   ]
  },
  {
   "cell_type": "code",
   "execution_count": 17,
   "id": "16802cb2",
   "metadata": {},
   "outputs": [],
   "source": [
    "data_dict = dict()\n",
    "for art in data:\n",
    "    id, features = process_article(art)\n",
    "    data_dict[id] = features\n"
   ]
  },
  {
   "cell_type": "code",
   "execution_count": 18,
   "id": "0465c7e9",
   "metadata": {},
   "outputs": [],
   "source": [
    "graph.add_nodes_from(data_dict.keys())"
   ]
  },
  {
   "cell_type": "code",
   "execution_count": 19,
   "id": "58420ac3",
   "metadata": {},
   "outputs": [],
   "source": [
    "for id in data_dict:\n",
    "    refs = data_dict[id][\"references\"]\n",
    "    if refs is None:\n",
    "        continue\n",
    "    for ref in refs:\n",
    "        if ref in graph.nodes:\n",
    "            graph.add_edge(id, ref)"
   ]
  },
  {
   "cell_type": "code",
   "execution_count": 20,
   "id": "97625219",
   "metadata": {},
   "outputs": [],
   "source": [
    "def quick_info(g):\n",
    "    print(f\"Number of resulting nodes: {len(g.nodes)}\")\n",
    "    print(f\"Number of edges in resulting graph: {len(g.edges)}\")\n",
    "    if nx.is_connected(g):\n",
    "        print(\"The graph is connected!\")\n",
    "    else:\n",
    "        print(f\"The graph is not connected, having {nx.number_connected_components(g)} connected components\")"
   ]
  },
  {
   "cell_type": "code",
   "execution_count": 21,
   "id": "41c2af7b",
   "metadata": {},
   "outputs": [
    {
     "name": "stdout",
     "output_type": "stream",
     "text": [
      "Number of resulting nodes: 175000\n",
      "Number of edges in resulting graph: 61051\n",
      "The graph is not connected, having 126695 connected components\n"
     ]
    }
   ],
   "source": [
    "quick_info(graph)"
   ]
  },
  {
   "cell_type": "code",
   "execution_count": 22,
   "id": "82e32dc2",
   "metadata": {},
   "outputs": [],
   "source": [
    "largest_cc = max(nx.connected_components(graph), key=len)\n",
    "subgraph = nx.subgraph(graph, largest_cc)"
   ]
  },
  {
   "cell_type": "code",
   "execution_count": 23,
   "id": "3d028973",
   "metadata": {},
   "outputs": [
    {
     "name": "stdout",
     "output_type": "stream",
     "text": [
      "Number of resulting nodes: 34887\n",
      "Number of edges in resulting graph: 47237\n",
      "The graph is connected!\n"
     ]
    }
   ],
   "source": [
    "quick_info(subgraph)"
   ]
  },
  {
   "cell_type": "code",
   "execution_count": 24,
   "id": "97a1f3db",
   "metadata": {},
   "outputs": [],
   "source": [
    "sub = nx.Graph(subgraph)"
   ]
  },
  {
   "cell_type": "code",
   "execution_count": 25,
   "id": "71eebdd8",
   "metadata": {},
   "outputs": [],
   "source": [
    "sub_graph_labels = dict()\n",
    "for node in sub.nodes:\n",
    "    sub_graph_labels[node] = data_dict[node]"
   ]
  },
  {
   "cell_type": "code",
   "execution_count": 26,
   "id": "ecca1311",
   "metadata": {},
   "outputs": [],
   "source": [
    "titles = [handle_empty(sub_graph_labels[obj][\"title\"]) for obj in sub_graph_labels]\n",
    "authors = [handle_empty(sub_graph_labels[obj][\"authors\"]) for obj in sub_graph_labels]\n",
    "venues = [handle_empty(sub_graph_labels[obj][\"venue\"]) for obj in sub_graph_labels]\n",
    "years = [sub_graph_labels[obj][\"year\"] if sub_graph_labels[obj][\"year\"] else 0 for obj in sub_graph_labels]\n",
    "abstracts = [handle_empty(sub_graph_labels[obj][\"abstract\"]) for obj in sub_graph_labels]\n",
    "keywords = [handle_empty(sub_graph_labels[obj][\"keywords\"]) for obj in sub_graph_labels]\n"
   ]
  },
  {
   "cell_type": "code",
   "execution_count": 27,
   "id": "1a0e16c9",
   "metadata": {},
   "outputs": [
    {
     "name": "stdout",
     "output_type": "stream",
     "text": [
      "2005.194542379683\n",
      "2018\n",
      "1959\n"
     ]
    }
   ],
   "source": [
    "print(np.mean(np.array(years)))\n",
    "print(np.array(years).max())\n",
    "print(np.array(years).min())"
   ]
  },
  {
   "cell_type": "code",
   "execution_count": 28,
   "id": "005735e3",
   "metadata": {},
   "outputs": [],
   "source": [
    "tfidf_vectorizer = TfidfVectorizer(max_features=300)\n",
    "sentence_model = SentenceTransformer('all-MiniLM-L6-v2')\n",
    "scaler = MinMaxScaler()"
   ]
  },
  {
   "cell_type": "code",
   "execution_count": 29,
   "id": "348812b9",
   "metadata": {},
   "outputs": [
    {
     "name": "stdout",
     "output_type": "stream",
     "text": [
      "(34887, 1837)\n"
     ]
    }
   ],
   "source": [
    "title_embeddings = sentence_model.encode(titles)\n",
    "author_embeddings = sentence_model.encode(authors)\n",
    "venue_embeddings = sentence_model.encode(venues)\n",
    "abstract_embeddings = sentence_model.encode(abstracts)\n",
    "keyword_embeddings = tfidf_vectorizer.fit_transform(keywords).toarray()\n",
    "years_normalized = scaler.fit_transform(np.array(years).reshape(-1, 1))\n",
    "\n",
    "encoded_data = np.hstack([\n",
    "    title_embeddings,\n",
    "    author_embeddings,\n",
    "    venue_embeddings,\n",
    "    years_normalized,\n",
    "    abstract_embeddings,\n",
    "    keyword_embeddings\n",
    "])\n",
    "print(encoded_data.shape)"
   ]
  },
  {
   "cell_type": "code",
   "execution_count": 30,
   "id": "1aecbcde",
   "metadata": {},
   "outputs": [],
   "source": [
    "encoded_data_no_year = np.hstack([\n",
    "    title_embeddings,\n",
    "    author_embeddings,\n",
    "    venue_embeddings,\n",
    "    abstract_embeddings,\n",
    "    keyword_embeddings\n",
    "])"
   ]
  },
  {
   "cell_type": "code",
   "execution_count": 31,
   "id": "3087bd5f",
   "metadata": {},
   "outputs": [],
   "source": [
    "node_list = list(sub.nodes())\n",
    "node_mapping = {node: idx for idx, node in enumerate(node_list)}\n",
    "graph = nx.relabel_nodes(sub, node_mapping)"
   ]
  },
  {
   "cell_type": "code",
   "execution_count": 32,
   "id": "8104a593",
   "metadata": {},
   "outputs": [],
   "source": [
    "years_dict = dict(enumerate(years))\n",
    "nx.set_node_attributes(graph, years_dict, name=\"year\")"
   ]
  },
  {
   "cell_type": "code",
   "execution_count": 33,
   "id": "63133af6",
   "metadata": {},
   "outputs": [],
   "source": [
    "from torch_geometric.utils import from_networkx\n",
    "\n",
    "pyg_data = from_networkx(graph)"
   ]
  },
  {
   "cell_type": "code",
   "execution_count": 34,
   "id": "8d82f3e8",
   "metadata": {},
   "outputs": [],
   "source": [
    "def create_dataset(g: nx.Graph, graph, node_labels, target_function):\n",
    "    x = torch.tensor(node_labels, dtype=torch.float)\n",
    "    edge_index = graph.edge_index\n",
    "    y = torch.tensor(list(target_function(g).values()), dtype=torch.float)\n",
    "    return Data(x=x, edge_index=edge_index, y=y)"
   ]
  },
  {
   "cell_type": "code",
   "execution_count": 35,
   "id": "e0f2acfb",
   "metadata": {},
   "outputs": [],
   "source": [
    "device = torch.device(\"cpu\")"
   ]
  },
  {
   "cell_type": "code",
   "execution_count": 36,
   "id": "200bf6b8",
   "metadata": {},
   "outputs": [],
   "source": [
    "dataset_pr = create_dataset(graph, pyg_data, encoded_data, nx.pagerank).to(device)\n",
    "dataset_harmonic = create_dataset(graph, pyg_data, encoded_data, nx.harmonic_centrality).to(device)"
   ]
  },
  {
   "cell_type": "code",
   "execution_count": 37,
   "id": "ad9d7314",
   "metadata": {},
   "outputs": [
    {
     "name": "stdout",
     "output_type": "stream",
     "text": [
      "16\n",
      "54\n",
      "340\n"
     ]
    }
   ],
   "source": [
    "print((np.array(years)==2018).sum())\n",
    "print((np.array(years)==2017).sum())\n",
    "print((np.array(years)==2016).sum())"
   ]
  },
  {
   "cell_type": "code",
   "execution_count": 38,
   "id": "ab84580b",
   "metadata": {},
   "outputs": [],
   "source": [
    "test_nodes = [n for n, attr in graph.nodes(data=True) if attr.get('year') == 2016]\n",
    "train_nodes = [n for n, attr in graph.nodes(data=True) if attr.get('year') < 2016]"
   ]
  },
  {
   "cell_type": "code",
   "execution_count": 39,
   "id": "20bd4a4a",
   "metadata": {},
   "outputs": [],
   "source": [
    "train_mask = (torch.zeros(len(graph.nodes), dtype=torch.bool).to(device))\n",
    "train_mask[train_nodes] = True\n",
    "test_mask = (torch.zeros(len(graph.nodes), dtype=torch.bool).to(device))\n",
    "test_mask[test_nodes] = True"
   ]
  },
  {
   "cell_type": "code",
   "execution_count": 40,
   "id": "a65048eb",
   "metadata": {},
   "outputs": [],
   "source": [
    "class GATRegression(nn.Module):\n",
    "    def __init__(self, in_channels, hidden_channels, out_channels, heads=4):\n",
    "        super(GATRegression, self).__init__()\n",
    "        self.gat1 = GATConv(in_channels, hidden_channels, heads=heads, dropout=0.6)\n",
    "        self.gat2 = GATConv(hidden_channels * heads, out_channels, heads=1, concat=False)\n",
    "    def forward(self, x, edge_index):\n",
    "        x = self.gat1(x, edge_index)\n",
    "        x = F.elu(x)\n",
    "        x = self.gat2(x, edge_index)\n",
    "        return x"
   ]
  },
  {
   "cell_type": "code",
   "execution_count": 41,
   "id": "609c9fe3",
   "metadata": {},
   "outputs": [],
   "source": [
    "model = GATRegression(in_channels=encoded_data.shape[1], hidden_channels=64, out_channels=1).to(device)\n",
    "optimizer = torch.optim.Adam(model.parameters(), lr=0.001)\n",
    "loss_fn = torch.nn.MSELoss()"
   ]
  },
  {
   "cell_type": "code",
   "execution_count": 42,
   "id": "a0b5e911",
   "metadata": {},
   "outputs": [],
   "source": [
    "def train(epochs, data, model, optimizer, loss_fn, train_mask, test_mask):\n",
    "    for epoch in trange(epochs):\n",
    "        model.train()\n",
    "        optimizer.zero_grad()\n",
    "        out = model(data.x, data.edge_index).squeeze()\n",
    "        loss = loss_fn(out[train_mask], data.y[train_mask])\n",
    "        loss.backward()\n",
    "        optimizer.step()\n",
    "        if epoch % 50 == 0 or epoch == epochs - 1:\n",
    "            print(f\"Loss: {loss.item()}\")\n",
    "    model.eval()\n",
    "    with torch.no_grad():\n",
    "        predictions = model(data.x, data.edge_index).squeeze()\n",
    "        test_loss = loss_fn(predictions[test_mask], data.y[test_mask])\n",
    "        print(f'Test Loss: MSE = {test_loss.item()}')"
   ]
  },
  {
   "cell_type": "code",
   "execution_count": 43,
   "id": "3c22a5dc",
   "metadata": {},
   "outputs": [
    {
     "name": "stderr",
     "output_type": "stream",
     "text": [
      "  0%|          | 1/500 [00:01<08:40,  1.04s/it]"
     ]
    },
    {
     "name": "stdout",
     "output_type": "stream",
     "text": [
      "Loss: 0.004026798531413078\n"
     ]
    },
    {
     "name": "stderr",
     "output_type": "stream",
     "text": [
      " 10%|█         | 51/500 [00:47<09:43,  1.30s/it]"
     ]
    },
    {
     "name": "stdout",
     "output_type": "stream",
     "text": [
      "Loss: 0.0009193026344291866\n"
     ]
    },
    {
     "name": "stderr",
     "output_type": "stream",
     "text": [
      " 20%|██        | 101/500 [01:59<10:09,  1.53s/it]"
     ]
    },
    {
     "name": "stdout",
     "output_type": "stream",
     "text": [
      "Loss: 0.0004340907034929842\n"
     ]
    },
    {
     "name": "stderr",
     "output_type": "stream",
     "text": [
      " 30%|███       | 151/500 [03:17<09:08,  1.57s/it]"
     ]
    },
    {
     "name": "stdout",
     "output_type": "stream",
     "text": [
      "Loss: 0.0003024851612281054\n"
     ]
    },
    {
     "name": "stderr",
     "output_type": "stream",
     "text": [
      " 40%|████      | 201/500 [04:37<07:54,  1.59s/it]"
     ]
    },
    {
     "name": "stdout",
     "output_type": "stream",
     "text": [
      "Loss: 0.00021548118093051016\n"
     ]
    },
    {
     "name": "stderr",
     "output_type": "stream",
     "text": [
      " 50%|█████     | 251/500 [05:56<06:34,  1.58s/it]"
     ]
    },
    {
     "name": "stdout",
     "output_type": "stream",
     "text": [
      "Loss: 0.0001692720252322033\n"
     ]
    },
    {
     "name": "stderr",
     "output_type": "stream",
     "text": [
      " 60%|██████    | 301/500 [07:15<05:16,  1.59s/it]"
     ]
    },
    {
     "name": "stdout",
     "output_type": "stream",
     "text": [
      "Loss: 0.000130471758893691\n"
     ]
    },
    {
     "name": "stderr",
     "output_type": "stream",
     "text": [
      " 70%|███████   | 351/500 [08:35<03:57,  1.59s/it]"
     ]
    },
    {
     "name": "stdout",
     "output_type": "stream",
     "text": [
      "Loss: 0.00010821050818776712\n"
     ]
    },
    {
     "name": "stderr",
     "output_type": "stream",
     "text": [
      " 80%|████████  | 401/500 [09:54<02:36,  1.58s/it]"
     ]
    },
    {
     "name": "stdout",
     "output_type": "stream",
     "text": [
      "Loss: 9.130486432695761e-05\n"
     ]
    },
    {
     "name": "stderr",
     "output_type": "stream",
     "text": [
      " 90%|█████████ | 451/500 [11:14<01:17,  1.59s/it]"
     ]
    },
    {
     "name": "stdout",
     "output_type": "stream",
     "text": [
      "Loss: 7.598357478855178e-05\n"
     ]
    },
    {
     "name": "stderr",
     "output_type": "stream",
     "text": [
      "100%|██████████| 500/500 [12:32<00:00,  1.50s/it]"
     ]
    },
    {
     "name": "stdout",
     "output_type": "stream",
     "text": [
      "Loss: 6.538217712659389e-05\n"
     ]
    },
    {
     "name": "stderr",
     "output_type": "stream",
     "text": [
      "\n"
     ]
    },
    {
     "name": "stdout",
     "output_type": "stream",
     "text": [
      "Test Loss: MSE = 1.4516814189846627e-05\n"
     ]
    }
   ],
   "source": [
    "train(500, dataset_pr, model, optimizer, loss_fn, train_mask, test_mask)"
   ]
  },
  {
   "cell_type": "code",
   "execution_count": 44,
   "id": "849a37f7",
   "metadata": {},
   "outputs": [
    {
     "data": {
      "text/plain": [
       "tensor(4.2764e-05)"
      ]
     },
     "execution_count": 44,
     "metadata": {},
     "output_type": "execute_result"
    }
   ],
   "source": [
    "torch.std(dataset_pr.y)"
   ]
  },
  {
   "cell_type": "code",
   "execution_count": 193,
   "id": "46e18ead",
   "metadata": {},
   "outputs": [],
   "source": [
    "model = GATRegression(in_channels=encoded_data.shape[1], hidden_channels=64, out_channels=1).to(device)\n",
    "optimizer = torch.optim.Adam(model.parameters(), lr=0.001)\n",
    "loss_fn = torch.nn.MSELoss()"
   ]
  },
  {
   "cell_type": "code",
   "execution_count": null,
   "id": "1ff7acc9",
   "metadata": {},
   "outputs": [
    {
     "name": "stderr",
     "output_type": "stream",
     "text": [
      "  0%|          | 2/1000 [00:00<02:12,  7.53it/s]"
     ]
    },
    {
     "name": "stdout",
     "output_type": "stream",
     "text": [
      "Loss: 98588.4766\n"
     ]
    },
    {
     "name": "stderr",
     "output_type": "stream",
     "text": [
      "  5%|▌         | 52/1000 [00:04<01:44,  9.10it/s]"
     ]
    },
    {
     "name": "stdout",
     "output_type": "stream",
     "text": [
      "Loss: 69461.6953\n"
     ]
    },
    {
     "name": "stderr",
     "output_type": "stream",
     "text": [
      " 10%|█         | 102/1000 [00:09<01:09, 12.92it/s]"
     ]
    },
    {
     "name": "stdout",
     "output_type": "stream",
     "text": [
      "Loss: 26365.0293\n"
     ]
    },
    {
     "name": "stderr",
     "output_type": "stream",
     "text": [
      " 15%|█▌        | 152/1000 [00:13<01:05, 13.01it/s]"
     ]
    },
    {
     "name": "stdout",
     "output_type": "stream",
     "text": [
      "Loss: 11619.8545\n"
     ]
    },
    {
     "name": "stderr",
     "output_type": "stream",
     "text": [
      " 20%|██        | 202/1000 [00:17<01:01, 12.90it/s]"
     ]
    },
    {
     "name": "stdout",
     "output_type": "stream",
     "text": [
      "Loss: 11066.7100\n"
     ]
    },
    {
     "name": "stderr",
     "output_type": "stream",
     "text": [
      " 25%|██▌       | 252/1000 [00:21<00:58, 12.80it/s]"
     ]
    },
    {
     "name": "stdout",
     "output_type": "stream",
     "text": [
      "Loss: 9386.3066\n"
     ]
    },
    {
     "name": "stderr",
     "output_type": "stream",
     "text": [
      " 30%|███       | 302/1000 [00:25<00:55, 12.50it/s]"
     ]
    },
    {
     "name": "stdout",
     "output_type": "stream",
     "text": [
      "Loss: 7898.2285\n"
     ]
    },
    {
     "name": "stderr",
     "output_type": "stream",
     "text": [
      " 35%|███▌      | 352/1000 [00:29<00:49, 13.10it/s]"
     ]
    },
    {
     "name": "stdout",
     "output_type": "stream",
     "text": [
      "Loss: 7472.0088\n"
     ]
    },
    {
     "name": "stderr",
     "output_type": "stream",
     "text": [
      " 40%|████      | 402/1000 [00:33<00:48, 12.34it/s]"
     ]
    },
    {
     "name": "stdout",
     "output_type": "stream",
     "text": [
      "Loss: 7085.8862\n"
     ]
    },
    {
     "name": "stderr",
     "output_type": "stream",
     "text": [
      " 45%|████▌     | 452/1000 [00:37<00:42, 13.03it/s]"
     ]
    },
    {
     "name": "stdout",
     "output_type": "stream",
     "text": [
      "Loss: 6777.2598\n"
     ]
    },
    {
     "name": "stderr",
     "output_type": "stream",
     "text": [
      " 50%|█████     | 502/1000 [00:41<00:38, 13.09it/s]"
     ]
    },
    {
     "name": "stdout",
     "output_type": "stream",
     "text": [
      "Loss: 6197.8906\n"
     ]
    },
    {
     "name": "stderr",
     "output_type": "stream",
     "text": [
      " 55%|█████▌    | 552/1000 [00:45<00:34, 12.93it/s]"
     ]
    },
    {
     "name": "stdout",
     "output_type": "stream",
     "text": [
      "Loss: 6324.5879\n"
     ]
    },
    {
     "name": "stderr",
     "output_type": "stream",
     "text": [
      " 60%|██████    | 602/1000 [00:49<00:30, 13.10it/s]"
     ]
    },
    {
     "name": "stdout",
     "output_type": "stream",
     "text": [
      "Loss: 5853.5840\n"
     ]
    },
    {
     "name": "stderr",
     "output_type": "stream",
     "text": [
      " 65%|██████▌   | 652/1000 [00:53<00:26, 13.03it/s]"
     ]
    },
    {
     "name": "stdout",
     "output_type": "stream",
     "text": [
      "Loss: 6051.9507\n"
     ]
    },
    {
     "name": "stderr",
     "output_type": "stream",
     "text": [
      " 70%|███████   | 702/1000 [00:57<00:22, 13.23it/s]"
     ]
    },
    {
     "name": "stdout",
     "output_type": "stream",
     "text": [
      "Loss: 5976.8647\n"
     ]
    },
    {
     "name": "stderr",
     "output_type": "stream",
     "text": [
      " 75%|███████▌  | 752/1000 [01:01<00:22, 11.18it/s]"
     ]
    },
    {
     "name": "stdout",
     "output_type": "stream",
     "text": [
      "Loss: 5661.7163\n"
     ]
    },
    {
     "name": "stderr",
     "output_type": "stream",
     "text": [
      " 80%|████████  | 802/1000 [01:04<00:15, 13.15it/s]"
     ]
    },
    {
     "name": "stdout",
     "output_type": "stream",
     "text": [
      "Loss: 5794.0249\n"
     ]
    },
    {
     "name": "stderr",
     "output_type": "stream",
     "text": [
      " 85%|████████▌ | 853/1000 [01:09<00:13, 11.24it/s]"
     ]
    },
    {
     "name": "stdout",
     "output_type": "stream",
     "text": [
      "Loss: 6249.3765\n"
     ]
    },
    {
     "name": "stderr",
     "output_type": "stream",
     "text": [
      " 90%|█████████ | 903/1000 [01:13<00:07, 13.19it/s]"
     ]
    },
    {
     "name": "stdout",
     "output_type": "stream",
     "text": [
      "Loss: 5306.6802\n"
     ]
    },
    {
     "name": "stderr",
     "output_type": "stream",
     "text": [
      " 95%|█████████▌| 953/1000 [01:17<00:03, 13.03it/s]"
     ]
    },
    {
     "name": "stdout",
     "output_type": "stream",
     "text": [
      "Loss: 5883.4907\n"
     ]
    },
    {
     "name": "stderr",
     "output_type": "stream",
     "text": [
      "100%|██████████| 1000/1000 [01:20<00:00, 12.35it/s]"
     ]
    },
    {
     "name": "stdout",
     "output_type": "stream",
     "text": [
      "Loss: 5885.3931\n",
      "Test Loss: MSE = 6086.845703125\n"
     ]
    },
    {
     "name": "stderr",
     "output_type": "stream",
     "text": [
      "\n"
     ]
    }
   ],
   "source": [
    "train(500, dataset_harmonic, model, optimizer, loss_fn, train_mask, test_mask)"
   ]
  },
  {
   "cell_type": "code",
   "execution_count": 195,
   "id": "163c5476",
   "metadata": {},
   "outputs": [
    {
     "data": {
      "text/plain": [
       "tensor(66.5860)"
      ]
     },
     "execution_count": 195,
     "metadata": {},
     "output_type": "execute_result"
    }
   ],
   "source": [
    "torch.std(dataset_harmonic.y)"
   ]
  },
  {
   "cell_type": "code",
   "execution_count": null,
   "id": "2df4b8cd",
   "metadata": {},
   "outputs": [],
   "source": []
  },
  {
   "cell_type": "code",
   "execution_count": 45,
   "id": "25102804",
   "metadata": {},
   "outputs": [],
   "source": [
    "class GATEncoder(nn.Module):\n",
    "    def __init__(self, input_dim, hidden_dim, heads):\n",
    "        super().__init__()\n",
    "        self.conv1 = GATConv(input_dim, hidden_dim, heads=heads)\n",
    "        self.conv2 = GATConv(hidden_dim*heads, hidden_dim, heads=1)\n",
    "        \n",
    "    def forward(self, x, edge_index):\n",
    "        x = F.elu(self.conv1(x, edge_index))\n",
    "        x = self.conv2(x, edge_index)\n",
    "        return x"
   ]
  },
  {
   "cell_type": "code",
   "execution_count": 46,
   "id": "b8498633",
   "metadata": {},
   "outputs": [],
   "source": [
    "class TemporalModel(nn.Module):\n",
    "    def __init__(self, input_dim, hidden_dim, output_dim):\n",
    "        super().__init__()\n",
    "        self.lstm = nn.LSTM(input_dim, hidden_dim, batch_first=True)\n",
    "        self.fc = nn.Linear(hidden_dim, output_dim)\n",
    "        \n",
    "    def forward(self, x):\n",
    "        out, _ = self.lstm(x)\n",
    "        return self.fc(out[:, -1, :])"
   ]
  },
  {
   "cell_type": "code",
   "execution_count": 47,
   "id": "889f2240",
   "metadata": {},
   "outputs": [],
   "source": [
    "class GraphTemporalPipeline(nn.Module):\n",
    "    def __init__(self, gat_encoder, temporal_model):\n",
    "        super().__init__()\n",
    "        self.gat_encoder = gat_encoder\n",
    "        self.temporal_model = temporal_model\n",
    "        \n",
    "    def forward(self, graphs):\n",
    "        # Encode each graph\n",
    "        embeddings = []\n",
    "        for graph in graphs:\n",
    "            emb = self.gat_encoder(graph.x, graph.edge_index)\n",
    "            emb = emb.mean(dim=0)\n",
    "            embeddings.append(emb)\n",
    "        \n",
    "        # Stack embeddings over time [num_years, num_nodes, embedding_dim]\n",
    "        temporal_input = torch.stack(embeddings, dim=0).unsqueeze(0)\n",
    "        \n",
    "        # Predict centrality measures\n",
    "        return self.temporal_model(temporal_input)"
   ]
  },
  {
   "cell_type": "code",
   "execution_count": 48,
   "id": "e487ad01",
   "metadata": {},
   "outputs": [],
   "source": [
    "num_nodes = encoded_data_no_year.shape[0]\n",
    "num_features = encoded_data_no_year.shape[1]\n",
    "hidden_dim = 64\n",
    "num_heads = 2\n",
    "years_range = list(range(2000, 2015))"
   ]
  },
  {
   "cell_type": "code",
   "execution_count": 49,
   "id": "eeb5cfe4",
   "metadata": {},
   "outputs": [],
   "source": [
    "def load_graph(year, graph, encodings, target_func):\n",
    "    filtered_nodes = [n for n, attr in graph.nodes(data=True) if 0 < attr.get('year') <= year]\n",
    "    filtered_edges = [(u, v) for u,v in graph.edges if u in filtered_nodes and v in filtered_nodes]\n",
    "    subgraph = nx.Graph()\n",
    "    subgraph.add_nodes_from(graph.nodes)\n",
    "    subgraph.add_edges_from(filtered_edges)\n",
    "    # subgraph = graph.subgraph(filtered_nodes)\n",
    "    pyg_data = from_networkx(subgraph)\n",
    "    x = torch.tensor(np.array(encodings), dtype=torch.float)\n",
    "    edge_indices = pyg_data.edge_index\n",
    "    y = torch.tensor(list(target_func(subgraph).values()), dtype=torch.float)\n",
    "    return Data(x=x, edge_index=edge_indices, y=y)"
   ]
  },
  {
   "cell_type": "code",
   "execution_count": 50,
   "id": "6ce0f821",
   "metadata": {},
   "outputs": [],
   "source": [
    "def train_lstm(epochs, seqs, model, optimizer, criterion):\n",
    "    for epoch in trange(epochs):\n",
    "        for sequence, target in seqs:\n",
    "            optimizer.zero_grad()\n",
    "            preds = model(sequence)\n",
    "            loss = criterion(preds, target.y.unsqueeze(0))\n",
    "            loss.backward()\n",
    "            optimizer.step()\n",
    "        if epoch % 5 == 0 or epoch == epochs - 1:\n",
    "            print(f\"Loss: {loss.item():.4f}\")"
   ]
  },
  {
   "cell_type": "code",
   "execution_count": 51,
   "id": "b406a394",
   "metadata": {},
   "outputs": [],
   "source": [
    "graphs = [load_graph(year, graph, encoded_data_no_year, nx.pagerank) for year in years_range]\n",
    "sequences = []\n",
    "for i in range(len(graphs) - 1):\n",
    "    sequence = graphs[:i+1]\n",
    "    target = graphs[i+1]\n",
    "    sequences.append((sequence, target))"
   ]
  },
  {
   "cell_type": "code",
   "execution_count": null,
   "id": "55747f9c",
   "metadata": {},
   "outputs": [
    {
     "ename": "TypeError",
     "evalue": "'<' not supported between instances of 'int' and 'NoneType'",
     "output_type": "error",
     "traceback": [
      "\u001b[0;31m---------------------------------------------------------------------------\u001b[0m",
      "\u001b[0;31mTypeError\u001b[0m                                 Traceback (most recent call last)",
      "Cell \u001b[0;32mIn[226], line 1\u001b[0m\n\u001b[0;32m----> 1\u001b[0m graphs_harmonic \u001b[38;5;241m=\u001b[39m [\u001b[43mload_graph\u001b[49m\u001b[43m(\u001b[49m\u001b[43myear\u001b[49m\u001b[43m,\u001b[49m\u001b[43m \u001b[49m\u001b[43msub\u001b[49m\u001b[43m,\u001b[49m\u001b[43m \u001b[49m\u001b[43mencoded_data_no_year\u001b[49m\u001b[43m,\u001b[49m\u001b[43m \u001b[49m\u001b[43mnx\u001b[49m\u001b[38;5;241;43m.\u001b[39;49m\u001b[43mharmonic_centrality\u001b[49m\u001b[43m)\u001b[49m \u001b[38;5;28;01mfor\u001b[39;00m year \u001b[38;5;129;01min\u001b[39;00m years_range]\n\u001b[1;32m      2\u001b[0m sequences_harmonic \u001b[38;5;241m=\u001b[39m []\n\u001b[1;32m      3\u001b[0m \u001b[38;5;28;01mfor\u001b[39;00m i \u001b[38;5;129;01min\u001b[39;00m \u001b[38;5;28mrange\u001b[39m(\u001b[38;5;28mlen\u001b[39m(graphs_harmonic) \u001b[38;5;241m-\u001b[39m \u001b[38;5;241m1\u001b[39m):\n",
      "Cell \u001b[0;32mIn[196], line 2\u001b[0m, in \u001b[0;36mload_graph\u001b[0;34m(year, graph, encodings, target_func)\u001b[0m\n\u001b[1;32m      1\u001b[0m \u001b[38;5;28;01mdef\u001b[39;00m\u001b[38;5;250m \u001b[39m\u001b[38;5;21mload_graph\u001b[39m(year, graph, encodings, target_func):\n\u001b[0;32m----> 2\u001b[0m     filtered_nodes \u001b[38;5;241m=\u001b[39m [n \u001b[38;5;28;01mfor\u001b[39;00m n, attr \u001b[38;5;129;01min\u001b[39;00m graph\u001b[38;5;241m.\u001b[39mnodes(data\u001b[38;5;241m=\u001b[39m\u001b[38;5;28;01mTrue\u001b[39;00m) \u001b[38;5;28;01mif\u001b[39;00m \u001b[38;5;241;43m0\u001b[39;49m\u001b[43m \u001b[49m\u001b[38;5;241;43m<\u001b[39;49m\u001b[43m \u001b[49m\u001b[43mattr\u001b[49m\u001b[38;5;241;43m.\u001b[39;49m\u001b[43mget\u001b[49m\u001b[43m(\u001b[49m\u001b[38;5;124;43m'\u001b[39;49m\u001b[38;5;124;43myear\u001b[39;49m\u001b[38;5;124;43m'\u001b[39;49m\u001b[43m)\u001b[49m\u001b[43m \u001b[49m\u001b[38;5;241;43m<\u001b[39;49m\u001b[38;5;241;43m=\u001b[39;49m\u001b[43m \u001b[49m\u001b[43myear\u001b[49m]\n\u001b[1;32m      3\u001b[0m     filtered_edges \u001b[38;5;241m=\u001b[39m [(u, v) \u001b[38;5;28;01mfor\u001b[39;00m u,v \u001b[38;5;129;01min\u001b[39;00m graph\u001b[38;5;241m.\u001b[39medges \u001b[38;5;28;01mif\u001b[39;00m u \u001b[38;5;129;01min\u001b[39;00m filtered_nodes \u001b[38;5;129;01mand\u001b[39;00m v \u001b[38;5;129;01min\u001b[39;00m filtered_nodes]\n\u001b[1;32m      4\u001b[0m     subgraph \u001b[38;5;241m=\u001b[39m nx\u001b[38;5;241m.\u001b[39mGraph()\n",
      "\u001b[0;31mTypeError\u001b[0m: '<' not supported between instances of 'int' and 'NoneType'"
     ]
    }
   ],
   "source": [
    "graphs_harmonic = [load_graph(year, graph, encoded_data_no_year, nx.harmonic_centrality) for year in years_range]\n",
    "sequences_harmonic = []\n",
    "for i in range(len(graphs_harmonic) - 1):\n",
    "    sequence = graphs_harmonic[:i+1]\n",
    "    target = graphs_harmonic[i+1]\n",
    "    sequences_harmonic.append((sequence, target))"
   ]
  },
  {
   "cell_type": "code",
   "execution_count": 52,
   "id": "7acff209",
   "metadata": {},
   "outputs": [],
   "source": [
    "gat = GATEncoder(num_features, hidden_dim, num_heads)\n",
    "temporal = TemporalModel(hidden_dim, hidden_dim, num_nodes)\n",
    "pipeline = GraphTemporalPipeline(gat, temporal)\n",
    "optimizer = torch.optim.Adam(pipeline.parameters(), lr=0.01)\n",
    "criterion = nn.MSELoss()"
   ]
  },
  {
   "cell_type": "code",
   "execution_count": 53,
   "id": "888bb0d2",
   "metadata": {},
   "outputs": [
    {
     "name": "stderr",
     "output_type": "stream",
     "text": [
      "  2%|▏         | 1/50 [01:22<1:07:01, 82.07s/it]"
     ]
    },
    {
     "name": "stdout",
     "output_type": "stream",
     "text": [
      "Loss: 0.0002\n"
     ]
    },
    {
     "name": "stderr",
     "output_type": "stream",
     "text": [
      " 12%|█▏        | 6/50 [06:38<45:12, 61.64s/it]  "
     ]
    },
    {
     "name": "stdout",
     "output_type": "stream",
     "text": [
      "Loss: 0.0000\n"
     ]
    },
    {
     "name": "stderr",
     "output_type": "stream",
     "text": [
      " 22%|██▏       | 11/50 [11:17<36:39, 56.40s/it]"
     ]
    },
    {
     "name": "stdout",
     "output_type": "stream",
     "text": [
      "Loss: 0.0000\n"
     ]
    },
    {
     "name": "stderr",
     "output_type": "stream",
     "text": [
      " 32%|███▏      | 16/50 [15:48<30:54, 54.53s/it]"
     ]
    },
    {
     "name": "stdout",
     "output_type": "stream",
     "text": [
      "Loss: 0.0000\n"
     ]
    },
    {
     "name": "stderr",
     "output_type": "stream",
     "text": [
      " 42%|████▏     | 21/50 [20:14<25:48, 53.40s/it]"
     ]
    },
    {
     "name": "stdout",
     "output_type": "stream",
     "text": [
      "Loss: 0.0000\n"
     ]
    },
    {
     "name": "stderr",
     "output_type": "stream",
     "text": [
      " 52%|█████▏    | 26/50 [24:43<21:39, 54.16s/it]"
     ]
    },
    {
     "name": "stdout",
     "output_type": "stream",
     "text": [
      "Loss: 0.0000\n"
     ]
    },
    {
     "name": "stderr",
     "output_type": "stream",
     "text": [
      " 62%|██████▏   | 31/50 [29:16<17:10, 54.26s/it]"
     ]
    },
    {
     "name": "stdout",
     "output_type": "stream",
     "text": [
      "Loss: 0.0000\n"
     ]
    },
    {
     "name": "stderr",
     "output_type": "stream",
     "text": [
      " 72%|███████▏  | 36/50 [33:34<12:08, 52.01s/it]"
     ]
    },
    {
     "name": "stdout",
     "output_type": "stream",
     "text": [
      "Loss: 0.0000\n"
     ]
    },
    {
     "name": "stderr",
     "output_type": "stream",
     "text": [
      " 82%|████████▏ | 41/50 [37:50<07:40, 51.20s/it]"
     ]
    },
    {
     "name": "stdout",
     "output_type": "stream",
     "text": [
      "Loss: 0.0000\n"
     ]
    },
    {
     "name": "stderr",
     "output_type": "stream",
     "text": [
      " 92%|█████████▏| 46/50 [42:03<03:23, 50.75s/it]"
     ]
    },
    {
     "name": "stdout",
     "output_type": "stream",
     "text": [
      "Loss: 0.0000\n"
     ]
    },
    {
     "name": "stderr",
     "output_type": "stream",
     "text": [
      "100%|██████████| 50/50 [45:25<00:00, 54.51s/it]"
     ]
    },
    {
     "name": "stdout",
     "output_type": "stream",
     "text": [
      "Loss: 0.0000\n"
     ]
    },
    {
     "name": "stderr",
     "output_type": "stream",
     "text": [
      "\n"
     ]
    }
   ],
   "source": [
    "train_lstm(50, sequences, pipeline, optimizer, criterion)"
   ]
  },
  {
   "cell_type": "code",
   "execution_count": 54,
   "id": "03f6e6c2",
   "metadata": {},
   "outputs": [
    {
     "name": "stdout",
     "output_type": "stream",
     "text": [
      "Loss on test = 6.6712506630040025e-09\n"
     ]
    },
    {
     "name": "stderr",
     "output_type": "stream",
     "text": [
      "/home/vunz/Projects/Diploma/jup/lib/python3.12/site-packages/torch/nn/modules/loss.py:610: UserWarning: Using a target size (torch.Size([34887])) that is different to the input size (torch.Size([1, 34887])). This will likely lead to incorrect results due to broadcasting. Please ensure they have the same size.\n",
      "  return F.mse_loss(input, target, reduction=self.reduction)\n"
     ]
    }
   ],
   "source": [
    "graphs.append(load_graph(2016, graph, encoded_data_no_year, nx.pagerank))\n",
    "sequences.append([graphs[:-1], graphs[-1]])\n",
    "pipeline.eval()\n",
    "with torch.no_grad():\n",
    "    preds = pipeline(sequences[-1][0])\n",
    "    loss = criterion(preds, sequences[-1][1].y)\n",
    "    print(f\"Loss on test = {loss.item()}\")"
   ]
  },
  {
   "cell_type": "code",
   "execution_count": 55,
   "id": "8b629f45",
   "metadata": {},
   "outputs": [
    {
     "data": {
      "text/plain": [
       "tensor([[ 3.4260e-05,  2.9017e-05, -7.4806e-05,  ..., -1.0400e-05,\n",
       "          5.8240e-06,  3.1064e-06]])"
      ]
     },
     "execution_count": 55,
     "metadata": {},
     "output_type": "execute_result"
    }
   ],
   "source": [
    "preds"
   ]
  },
  {
   "cell_type": "code",
   "execution_count": 56,
   "id": "5617dcc0",
   "metadata": {},
   "outputs": [
    {
     "name": "stdout",
     "output_type": "stream",
     "text": [
      "34887\n",
      "34887\n"
     ]
    }
   ],
   "source": [
    "print(len(preds[0]))\n",
    "print(len(graph.nodes))"
   ]
  },
  {
   "cell_type": "code",
   "execution_count": 57,
   "id": "27973e6d",
   "metadata": {},
   "outputs": [],
   "source": [
    "keywords_dict = dict(enumerate(keywords))"
   ]
  },
  {
   "cell_type": "code",
   "execution_count": 58,
   "id": "cf54399c",
   "metadata": {},
   "outputs": [],
   "source": [
    "preds_dict = dict(enumerate(preds[0]))"
   ]
  },
  {
   "cell_type": "code",
   "execution_count": 59,
   "id": "6e76c038",
   "metadata": {},
   "outputs": [
    {
     "data": {
      "text/plain": [
       "3488"
      ]
     },
     "execution_count": 59,
     "metadata": {},
     "output_type": "execute_result"
    }
   ],
   "source": [
    "top_n = len(preds[0]) // 10\n",
    "top_n"
   ]
  },
  {
   "cell_type": "code",
   "execution_count": 60,
   "id": "afd37da4",
   "metadata": {},
   "outputs": [],
   "source": [
    "top_dict = dict(sorted(preds_dict.items(), key=lambda item: item[1], reverse=True)[:top_n])"
   ]
  },
  {
   "cell_type": "code",
   "execution_count": 61,
   "id": "45010712",
   "metadata": {},
   "outputs": [],
   "source": [
    "top_vertices = list(top_dict.keys())\n",
    "top_keywords = []\n",
    "for vertex in top_vertices:\n",
    "    top_keywords.extend(keywords_dict[vertex].split(\", \"))"
   ]
  },
  {
   "cell_type": "code",
   "execution_count": 62,
   "id": "2af24f20",
   "metadata": {},
   "outputs": [
    {
     "data": {
      "text/plain": [
       "32725"
      ]
     },
     "execution_count": 62,
     "metadata": {},
     "output_type": "execute_result"
    }
   ],
   "source": [
    "len(top_keywords)"
   ]
  },
  {
   "cell_type": "code",
   "execution_count": 63,
   "id": "949eb5e7",
   "metadata": {},
   "outputs": [],
   "source": [
    "unique, counts = np.unique(np.array(top_keywords), return_counts=True)"
   ]
  },
  {
   "cell_type": "code",
   "execution_count": 64,
   "id": "aa861a34",
   "metadata": {},
   "outputs": [],
   "source": [
    "freqs = dict(zip(unique,counts))\n",
    "top_freqs = dict(sorted(freqs.items(), key=lambda item: item[1], reverse=True))"
   ]
  },
  {
   "cell_type": "code",
   "execution_count": 65,
   "id": "951907db",
   "metadata": {},
   "outputs": [],
   "source": [
    "filtered_freqs = {key: value for key, value in top_freqs.items() if value > 10}"
   ]
  },
  {
   "cell_type": "code",
   "execution_count": 69,
   "id": "4b69e854",
   "metadata": {},
   "outputs": [
    {
     "data": {
      "text/plain": [
       "6520"
      ]
     },
     "execution_count": 69,
     "metadata": {},
     "output_type": "execute_result"
    }
   ],
   "source": [
    "len(top_freqs)"
   ]
  },
  {
   "cell_type": "code",
   "execution_count": 77,
   "id": "7e04924e",
   "metadata": {},
   "outputs": [],
   "source": [
    "topPercentileFreqs =  dict()\n",
    "s = 0\n",
    "for field, freq in filtered_freqs.items():\n",
    "    if freq / len(top_freqs) * 100 > 6:\n",
    "        topPercentileFreqs[field] = freq\n",
    "    s += freq\n",
    "topPercentileFreqs[\"Other\"] = s"
   ]
  },
  {
   "cell_type": "code",
   "execution_count": 91,
   "id": "dc305233",
   "metadata": {},
   "outputs": [
    {
     "data": {
      "image/png": "[encoded data removed]",
      "text/plain": [
       "<Figure size 600x500 with 1 Axes>"
      ]
     },
     "metadata": {},
     "output_type": "display_data"
    }
   ],
   "source": [
    "import matplotlib.pyplot as plt\n",
    "# TODO: make smaller. leave only 4%>. label the rest as \"other\"\n",
    "labels = list(topPercentileFreqs.keys())\n",
    "sizes = list(topPercentileFreqs.values())\n",
    "plt.figure(figsize=(6,5))\n",
    "plt.pie(sizes, labels=labels, autopct='%1.1f%%', rotatelabels=True, startangle=130)\n",
    "plt.axis(\"equal\")\n",
    "plt.show()"
   ]
  },
  {
   "cell_type": "code",
   "execution_count": 233,
   "id": "a3cd2df1",
   "metadata": {},
   "outputs": [
    {
     "data": {
      "text/plain": [
       "tensor(0.0002)"
      ]
     },
     "execution_count": 233,
     "metadata": {},
     "output_type": "execute_result"
    }
   ],
   "source": [
    "torch.std(sequences[-1][1].y)"
   ]
  },
  {
   "cell_type": "code",
   "execution_count": 220,
   "id": "41849a8c",
   "metadata": {},
   "outputs": [],
   "source": [
    "gat = GATEncoder(num_features, 128, num_heads)\n",
    "temporal = TemporalModel(128, 128, num_nodes)\n",
    "pipeline = GraphTemporalPipeline(gat, temporal)\n",
    "optimizer = torch.optim.Adam(pipeline.parameters(), lr=0.01)\n",
    "criterion = nn.MSELoss()"
   ]
  },
  {
   "cell_type": "code",
   "execution_count": 221,
   "id": "42cb35f6",
   "metadata": {},
   "outputs": [
    {
     "name": "stderr",
     "output_type": "stream",
     "text": [
      "  2%|▏         | 1/50 [02:01<1:39:04, 121.32s/it]"
     ]
    },
    {
     "name": "stdout",
     "output_type": "stream",
     "text": [
      "Loss: 91511.3359\n"
     ]
    },
    {
     "name": "stderr",
     "output_type": "stream",
     "text": [
      " 12%|█▏        | 6/50 [13:20<1:38:57, 134.95s/it]"
     ]
    },
    {
     "name": "stdout",
     "output_type": "stream",
     "text": [
      "Loss: 75898.2969\n"
     ]
    },
    {
     "name": "stderr",
     "output_type": "stream",
     "text": [
      " 22%|██▏       | 11/50 [24:35<1:27:49, 135.12s/it]"
     ]
    },
    {
     "name": "stdout",
     "output_type": "stream",
     "text": [
      "Loss: 70670.5469\n"
     ]
    },
    {
     "name": "stderr",
     "output_type": "stream",
     "text": [
      " 32%|███▏      | 16/50 [35:53<1:16:45, 135.46s/it]"
     ]
    },
    {
     "name": "stdout",
     "output_type": "stream",
     "text": [
      "Loss: 68726.6719\n"
     ]
    },
    {
     "name": "stderr",
     "output_type": "stream",
     "text": [
      " 42%|████▏     | 21/50 [47:11<1:05:32, 135.61s/it]"
     ]
    },
    {
     "name": "stdout",
     "output_type": "stream",
     "text": [
      "Loss: 67962.6016\n"
     ]
    },
    {
     "name": "stderr",
     "output_type": "stream",
     "text": [
      " 52%|█████▏    | 26/50 [58:41<55:20, 138.36s/it]  "
     ]
    },
    {
     "name": "stdout",
     "output_type": "stream",
     "text": [
      "Loss: 67648.3438\n"
     ]
    },
    {
     "name": "stderr",
     "output_type": "stream",
     "text": [
      " 62%|██████▏   | 31/50 [1:10:03<43:10, 136.35s/it]"
     ]
    },
    {
     "name": "stdout",
     "output_type": "stream",
     "text": [
      "Loss: 67513.5234\n"
     ]
    },
    {
     "name": "stderr",
     "output_type": "stream",
     "text": [
      " 72%|███████▏  | 36/50 [1:21:22<31:41, 135.79s/it]"
     ]
    },
    {
     "name": "stdout",
     "output_type": "stream",
     "text": [
      "Loss: 67453.1016\n"
     ]
    },
    {
     "name": "stderr",
     "output_type": "stream",
     "text": [
      " 82%|████████▏ | 41/50 [1:32:40<20:21, 135.67s/it]"
     ]
    },
    {
     "name": "stdout",
     "output_type": "stream",
     "text": [
      "Loss: 67424.6172\n"
     ]
    },
    {
     "name": "stderr",
     "output_type": "stream",
     "text": [
      " 92%|█████████▏| 46/50 [1:43:58<09:02, 135.67s/it]"
     ]
    },
    {
     "name": "stdout",
     "output_type": "stream",
     "text": [
      "Loss: 67410.3594\n"
     ]
    },
    {
     "name": "stderr",
     "output_type": "stream",
     "text": [
      "100%|██████████| 50/50 [1:53:01<00:00, 135.63s/it]"
     ]
    },
    {
     "name": "stdout",
     "output_type": "stream",
     "text": [
      "Loss: 67403.8906\n"
     ]
    },
    {
     "name": "stderr",
     "output_type": "stream",
     "text": [
      "\n"
     ]
    }
   ],
   "source": [
    "train_lstm(50, sequences_harmonic, pipeline, optimizer, criterion)"
   ]
  },
  {
   "cell_type": "code",
   "execution_count": 222,
   "id": "41db4208",
   "metadata": {},
   "outputs": [
    {
     "name": "stdout",
     "output_type": "stream",
     "text": [
      "Loss on test = 67159.0703125\n"
     ]
    }
   ],
   "source": [
    "graphs_harmonic.append(load_graph(2016, graph, encoded_data_no_year, nx.harmonic_centrality))\n",
    "sequences_harmonic.append([graphs_harmonic[:-1], graphs_harmonic[-1]])\n",
    "pipeline.eval()\n",
    "with torch.no_grad():\n",
    "    preds = pipeline(sequences_harmonic[-1][0])\n",
    "    loss = criterion(preds, sequences_harmonic[-1][1].y.unsqueeze(0))\n",
    "    print(f\"Loss on test = {loss.item()}\")"
   ]
  },
  {
   "cell_type": "code",
   "execution_count": 223,
   "id": "06815d96",
   "metadata": {},
   "outputs": [
    {
     "data": {
      "text/plain": [
       "tensor(68.2163)"
      ]
     },
     "execution_count": 223,
     "metadata": {},
     "output_type": "execute_result"
    }
   ],
   "source": [
    "torch.std(sequences_harmonic[-1][1].y)"
   ]
  },
  {
   "cell_type": "code",
   "execution_count": null,
   "id": "c81c45ee",
   "metadata": {},
   "outputs": [],
   "source": []
  }
 ],
 "metadata": {
  "kernelspec": {
   "display_name": "jup",
   "language": "python",
   "name": "python3"
  },
  "language_info": {
   "codemirror_mode": {
    "name": "ipython",
    "version": 3
   },
   "file_extension": ".py",
   "mimetype": "text/x-python",
   "name": "python",
   "nbconvert_exporter": "python",
   "pygments_lexer": "ipython3",
   "version": "3.12.3"
  }
 },
 "nbformat": 4,
 "nbformat_minor": 5
}
