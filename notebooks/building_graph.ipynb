{
 "cells": [
  {
   "cell_type": "code",
   "execution_count": 1,
   "metadata": {},
   "outputs": [],
   "source": [
    "import pandas as pd\n",
    "import networkx as nx\n",
    "from helpers import get_refs_and_cites, deduplicate_edges\n",
    "from tqdm import tqdm\n",
    "from IPython.display import clear_output\n",
    "from habanero import Crossref\n",
    "import pickle"
   ]
  },
  {
   "cell_type": "markdown",
   "metadata": {},
   "source": [
    "Теперь давайте сделаем граф. На этом этапе я решил не делить данные по годам, поскольку пока мы не изучаем динамику и данных в принципе немного.\n",
    "\n",
    "Для этого я воспользуюсь библиотекой networkx. "
   ]
  },
  {
   "cell_type": "code",
   "execution_count": 2,
   "metadata": {},
   "outputs": [],
   "source": [
    "cr = Crossref()\n",
    "def recursive_edges(base_doi: str, edges: list, doi: str = \"\", depth = 3, curr_depth = 3):\n",
    "    \"\"\"\n",
    "    Build the citation graph, starting from doi, with depth.\n",
    "    Need to deduplicate edges after.\n",
    "    Hoping that fixing the depth to 5 would yield a single connected component for multiple starting dois\n",
    "    \"\"\"\n",
    "    if curr_depth == 0:\n",
    "        return\n",
    "    # time.sleep(0.5)\n",
    "    d = doi if len(doi) else base_doi\n",
    "    try:\n",
    "        refs, cites = get_refs_and_cites(d, cr)\n",
    "    except Exception as e:\n",
    "        print(e)\n",
    "        print(type(e))\n",
    "    refs_edges = zip([d] * len(refs), refs)\n",
    "    cites_edges = zip(cites, [d] * len(cites))\n",
    "    edges.extend(refs_edges)\n",
    "    edges.extend(cites_edges)\n",
    "    for ref in refs:\n",
    "        recursive_edges(base_doi, edges, ref, depth, curr_depth-1)\n",
    "    if curr_depth < depth:\n",
    "        for cite in cites:\n",
    "            if cite != base_doi:\n",
    "                recursive_edges(base_doi, edges, cite, depth, curr_depth-1)"
   ]
  },
  {
   "cell_type": "code",
   "execution_count": 3,
   "metadata": {},
   "outputs": [],
   "source": [
    "def build_graph(g: nx.DiGraph, df: pd.DataFrame, depth: int = 5):\n",
    "    \"\"\"\n",
    "    g - base graph.\n",
    "    df - DataFrame, containing dois of publications\n",
    "    Algo: With a fixed depth iterate over all publications within a cluster, gathering citations and references.\n",
    "        From that, get a list of these connections in the form of edges. Then deduplicate and add them to the graph.\n",
    "    \"\"\"\n",
    "    for ind, row in tqdm(df.iterrows()):\n",
    "        edges = []\n",
    "        recursive_edges(row[\"doi\"], edges, depth=depth, curr_depth=depth)\n",
    "        edges = deduplicate_edges(edges)\n",
    "        g.add_edges_from(edges)\n",
    "    "
   ]
  },
  {
   "cell_type": "code",
   "execution_count": 4,
   "metadata": {},
   "outputs": [],
   "source": [
    "pubs = pd.read_csv(\"../data/clean_pubs.csv\")"
   ]
  },
  {
   "cell_type": "markdown",
   "metadata": {},
   "source": [
    "Перед тем как пытаться собрать данные в одну связную компоненту путем рекурсивного поиска цитирований, я собираюсь кластеризовать наши данные, чтобы немного ускорить процесс поиска"
   ]
  },
  {
   "cell_type": "code",
   "execution_count": 5,
   "metadata": {},
   "outputs": [
    {
     "name": "stderr",
     "output_type": "stream",
     "text": [
      "[nltk_data] Downloading package punkt_tab to /home/vunz/nltk_data...\n",
      "[nltk_data]   Package punkt_tab is already up-to-date!\n",
      "[nltk_data] Downloading package stopwords to /home/vunz/nltk_data...\n",
      "[nltk_data]   Package stopwords is already up-to-date!\n"
     ]
    }
   ],
   "source": [
    "import nltk\n",
    "from nltk.corpus import stopwords\n",
    "from nltk.stem import PorterStemmer\n",
    "from sklearn.feature_extraction.text import TfidfVectorizer\n",
    "\n",
    "nltk.download('punkt_tab')\n",
    "nltk.download('stopwords')\n",
    "\n",
    "stemmer = PorterStemmer()\n",
    "stop_words = set(stopwords.words('english'))\n",
    "\n",
    "def preprocess_text(text):\n",
    "    tokens = nltk.word_tokenize(text.lower())\n",
    "    tokens = [stemmer.stem(word) for word in tokens if word.isalnum() and word not in stop_words]\n",
    "    return ' '.join(tokens)\n",
    "\n",
    "pubs['processed_abstract'] = pubs['abstract'].apply(preprocess_text)\n"
   ]
  },
  {
   "cell_type": "code",
   "execution_count": 6,
   "metadata": {},
   "outputs": [],
   "source": [
    "vectorizer = TfidfVectorizer()\n",
    "\n",
    "tfidf_matrix = vectorizer.fit_transform(pubs['processed_abstract'])"
   ]
  },
  {
   "cell_type": "code",
   "execution_count": 7,
   "metadata": {},
   "outputs": [],
   "source": [
    "from sklearn.cluster import KMeans\n",
    "\n",
    "num_clusters = 5\n",
    "kmeans = KMeans(n_clusters=num_clusters, random_state=42)\n",
    "\n",
    "kmeans.fit(tfidf_matrix)\n",
    "\n",
    "pubs['cluster'] = kmeans.labels_"
   ]
  },
  {
   "cell_type": "code",
   "execution_count": 8,
   "metadata": {},
   "outputs": [
    {
     "data": {
      "text/html": [
       "<div>\n",
       "<style scoped>\n",
       "    .dataframe tbody tr th:only-of-type {\n",
       "        vertical-align: middle;\n",
       "    }\n",
       "\n",
       "    .dataframe tbody tr th {\n",
       "        vertical-align: top;\n",
       "    }\n",
       "\n",
       "    .dataframe thead th {\n",
       "        text-align: right;\n",
       "    }\n",
       "</style>\n",
       "<table border=\"1\" class=\"dataframe\">\n",
       "  <thead>\n",
       "    <tr style=\"text-align: right;\">\n",
       "      <th></th>\n",
       "      <th>count</th>\n",
       "    </tr>\n",
       "    <tr>\n",
       "      <th>cluster</th>\n",
       "      <th></th>\n",
       "    </tr>\n",
       "  </thead>\n",
       "  <tbody>\n",
       "    <tr>\n",
       "      <th>0</th>\n",
       "      <td>1548</td>\n",
       "    </tr>\n",
       "    <tr>\n",
       "      <th>1</th>\n",
       "      <td>5023</td>\n",
       "    </tr>\n",
       "    <tr>\n",
       "      <th>2</th>\n",
       "      <td>14465</td>\n",
       "    </tr>\n",
       "    <tr>\n",
       "      <th>3</th>\n",
       "      <td>24885</td>\n",
       "    </tr>\n",
       "    <tr>\n",
       "      <th>4</th>\n",
       "      <td>18425</td>\n",
       "    </tr>\n",
       "  </tbody>\n",
       "</table>\n",
       "</div>"
      ],
      "text/plain": [
       "         count\n",
       "cluster       \n",
       "0         1548\n",
       "1         5023\n",
       "2        14465\n",
       "3        24885\n",
       "4        18425"
      ]
     },
     "execution_count": 8,
     "metadata": {},
     "output_type": "execute_result"
    }
   ],
   "source": [
    "pubs.groupby(by=\"cluster\").count()[[\"doi\"]].rename({\"doi\":\"count\"},axis=1)"
   ]
  },
  {
   "cell_type": "code",
   "execution_count": 9,
   "metadata": {},
   "outputs": [
    {
     "data": {
      "text/html": [
       "<div>\n",
       "<style scoped>\n",
       "    .dataframe tbody tr th:only-of-type {\n",
       "        vertical-align: middle;\n",
       "    }\n",
       "\n",
       "    .dataframe tbody tr th {\n",
       "        vertical-align: top;\n",
       "    }\n",
       "\n",
       "    .dataframe thead th {\n",
       "        text-align: right;\n",
       "    }\n",
       "</style>\n",
       "<table border=\"1\" class=\"dataframe\">\n",
       "  <thead>\n",
       "    <tr style=\"text-align: right;\">\n",
       "      <th></th>\n",
       "      <th>Unnamed: 0</th>\n",
       "      <th>title</th>\n",
       "      <th>doi</th>\n",
       "      <th>year</th>\n",
       "      <th>abstract</th>\n",
       "      <th>keywords</th>\n",
       "      <th>refs</th>\n",
       "      <th>authors</th>\n",
       "      <th>processed_abstract</th>\n",
       "      <th>cluster</th>\n",
       "    </tr>\n",
       "  </thead>\n",
       "  <tbody>\n",
       "    <tr>\n",
       "      <th>0</th>\n",
       "      <td>0</td>\n",
       "      <td>Studies of Zγ production in association with a...</td>\n",
       "      <td>10.1007/JHEP07(2017)107</td>\n",
       "      <td>2017</td>\n",
       "      <td>The production of a Z boson and a photon in as...</td>\n",
       "      <td>(\"'Electroweak interaction'\", \" 'Hadron-Hadron...</td>\n",
       "      <td>('Eboli O.J.P., Gonzalez-Garcia M.C., Lietti S...</td>\n",
       "      <td>(\"'Ahmadov F.'\", \" 'Aleksandrov I.N.'\", \" 'Bed...</td>\n",
       "      <td>product z boson photon associ dijet system stu...</td>\n",
       "      <td>1</td>\n",
       "    </tr>\n",
       "    <tr>\n",
       "      <th>1</th>\n",
       "      <td>1</td>\n",
       "      <td>Towards the detection of light and heavy relic...</td>\n",
       "      <td>10.1016/j.ppnp.2011.01.050</td>\n",
       "      <td>2011</td>\n",
       "      <td>The standard Big Bang cosmology predicts that ...</td>\n",
       "      <td>(\"'Neutrino capture'\", \" 'Relic neutrinos'\", \"...</td>\n",
       "      <td>('Giunti C., Kim C.W., Fundamentals of Neutrin...</td>\n",
       "      <td>(\"'Šimkovic F.'\",)</td>\n",
       "      <td>standard big bang cosmolog predict univers abu...</td>\n",
       "      <td>3</td>\n",
       "    </tr>\n",
       "    <tr>\n",
       "      <th>2</th>\n",
       "      <td>3</td>\n",
       "      <td>Measurement of the underlying event in jet eve...</td>\n",
       "      <td>10.1140/epjc/s10052-014-2965-5</td>\n",
       "      <td>2014</td>\n",
       "      <td>Distributions sensitive to the underlying even...</td>\n",
       "      <td>('',)</td>\n",
       "      <td>('The underlying event in hard interactions at...</td>\n",
       "      <td>(\"'Ahmadov F.'\", \" 'Aleksandrov I.N.'\", \" 'Bed...</td>\n",
       "      <td>distribut sensit underli event qcd jet event m...</td>\n",
       "      <td>2</td>\n",
       "    </tr>\n",
       "    <tr>\n",
       "      <th>3</th>\n",
       "      <td>4</td>\n",
       "      <td>Bubble and kink solitons in the φ6-model of no...</td>\n",
       "      <td>10.1016/0375-9601(93)91074-F</td>\n",
       "      <td>1993</td>\n",
       "      <td>We have studied the φ6-model in the parameter ...</td>\n",
       "      <td>('',)</td>\n",
       "      <td>('Kosevich, Et al., Sov. J. Low Temp. Phys., 2...</td>\n",
       "      <td>(\"'Agüero Granados M.A.'\",)</td>\n",
       "      <td>studi paramet domain 1 relev paramet model cas...</td>\n",
       "      <td>4</td>\n",
       "    </tr>\n",
       "    <tr>\n",
       "      <th>4</th>\n",
       "      <td>5</td>\n",
       "      <td>Standard complex for quantum lie algebras</td>\n",
       "      <td>10.1134/1.1432906</td>\n",
       "      <td>2001</td>\n",
       "      <td>For a quantum Lie algebra Γ, let Γ∧ be its ext...</td>\n",
       "      <td>('',)</td>\n",
       "      <td>('Woronowicz S.L., Publ. RIMS Kyoto, 23, (1987...</td>\n",
       "      <td>(\"'Burdik C.'\", \" 'Isaev A.P.'\", \" 'Ogievetsky...</td>\n",
       "      <td>quantum lie algebra γ let exterior extens alge...</td>\n",
       "      <td>4</td>\n",
       "    </tr>\n",
       "    <tr>\n",
       "      <th>...</th>\n",
       "      <td>...</td>\n",
       "      <td>...</td>\n",
       "      <td>...</td>\n",
       "      <td>...</td>\n",
       "      <td>...</td>\n",
       "      <td>...</td>\n",
       "      <td>...</td>\n",
       "      <td>...</td>\n",
       "      <td>...</td>\n",
       "      <td>...</td>\n",
       "    </tr>\n",
       "    <tr>\n",
       "      <th>64341</th>\n",
       "      <td>72011</td>\n",
       "      <td>Molecular markers development for studying of ...</td>\n",
       "      <td>10.1063/5.0063872</td>\n",
       "      <td>2021</td>\n",
       "      <td>['Here we report about molecular genetic marke...</td>\n",
       "      <td>('',)</td>\n",
       "      <td>('Philippe H., Et al., Phylogenomics Revives T...</td>\n",
       "      <td>(\"'Yakhnenko A.'\", \" 'Yushin N.'\", \" 'Zinicovs...</td>\n",
       "      <td>report molecular genet marker develop primer p...</td>\n",
       "      <td>3</td>\n",
       "    </tr>\n",
       "    <tr>\n",
       "      <th>64342</th>\n",
       "      <td>72012</td>\n",
       "      <td>Measurement of the anomalous precession freque...</td>\n",
       "      <td>10.1103/PhysRevD.103.072002</td>\n",
       "      <td>2021</td>\n",
       "      <td>['The Muon g-2 Experiment at Fermi National Ac...</td>\n",
       "      <td>('',)</td>\n",
       "      <td>('Abi B., Letter companion, Measurement of the...</td>\n",
       "      <td>(\"'Baranov V.A.'\", \" 'Duginov V.N.'\", \" 'Khomu...</td>\n",
       "      <td>muon experi fermi nation acceler laboratori fn...</td>\n",
       "      <td>2</td>\n",
       "    </tr>\n",
       "    <tr>\n",
       "      <th>64343</th>\n",
       "      <td>72013</td>\n",
       "      <td>ATLAS results on quarkonia and heavy flavor pr...</td>\n",
       "      <td>10.1142/S0217751X20440030</td>\n",
       "      <td>2020</td>\n",
       "      <td>['The associated production a vector boson wit...</td>\n",
       "      <td>(\"'associated production'\", \" 'atlas'\", \" 'hea...</td>\n",
       "      <td>('J. Instrum, 3, (2008)', 'J. High Energy Phys...</td>\n",
       "      <td>(\"'Lyubushkina T.'\",)</td>\n",
       "      <td>associ product vector boson key observ underst...</td>\n",
       "      <td>2</td>\n",
       "    </tr>\n",
       "    <tr>\n",
       "      <th>64344</th>\n",
       "      <td>72014</td>\n",
       "      <td>Analytical study of light bullets stabilizatio...</td>\n",
       "      <td>10.1016/j.chaos.2022.111799</td>\n",
       "      <td>2022</td>\n",
       "      <td>[\"Dynamics of light bullets in the Raman activ...</td>\n",
       "      <td>(\"'diffraction'\", \" 'light bullet'\", \" 'lyapun...</td>\n",
       "      <td>('Couairon A., Mysyrowicz A., Femtosecond fila...</td>\n",
       "      <td>(\"'Bugay A.N.'\", \" 'Khalyapin V.A.'\")</td>\n",
       "      <td>dynam light bullet raman activ ioniz medium an...</td>\n",
       "      <td>4</td>\n",
       "    </tr>\n",
       "    <tr>\n",
       "      <th>64345</th>\n",
       "      <td>72015</td>\n",
       "      <td>Production of Hyperons, Strange Mesons and Sea...</td>\n",
       "      <td>10.1134/S1063779621040304</td>\n",
       "      <td>2021</td>\n",
       "      <td>['Abstract: The BM@N (Baryonic Matter at Nuclo...</td>\n",
       "      <td>('',)</td>\n",
       "      <td>('Steinheimer J., Prog. Part. Nucl. Phys., 62,...</td>\n",
       "      <td>(\"'Kapishin M.'\", \" 'Alishina K.'\", \" 'Batyuk ...</td>\n",
       "      <td>bm n baryon matter nuclotron first experi oper...</td>\n",
       "      <td>2</td>\n",
       "    </tr>\n",
       "  </tbody>\n",
       "</table>\n",
       "<p>64346 rows × 10 columns</p>\n",
       "</div>"
      ],
      "text/plain": [
       "       Unnamed: 0                                              title  \\\n",
       "0               0  Studies of Zγ production in association with a...   \n",
       "1               1  Towards the detection of light and heavy relic...   \n",
       "2               3  Measurement of the underlying event in jet eve...   \n",
       "3               4  Bubble and kink solitons in the φ6-model of no...   \n",
       "4               5          Standard complex for quantum lie algebras   \n",
       "...           ...                                                ...   \n",
       "64341       72011  Molecular markers development for studying of ...   \n",
       "64342       72012  Measurement of the anomalous precession freque...   \n",
       "64343       72013  ATLAS results on quarkonia and heavy flavor pr...   \n",
       "64344       72014  Analytical study of light bullets stabilizatio...   \n",
       "64345       72015  Production of Hyperons, Strange Mesons and Sea...   \n",
       "\n",
       "                                  doi  year  \\\n",
       "0             10.1007/JHEP07(2017)107  2017   \n",
       "1          10.1016/j.ppnp.2011.01.050  2011   \n",
       "2      10.1140/epjc/s10052-014-2965-5  2014   \n",
       "3        10.1016/0375-9601(93)91074-F  1993   \n",
       "4                   10.1134/1.1432906  2001   \n",
       "...                               ...   ...   \n",
       "64341               10.1063/5.0063872  2021   \n",
       "64342     10.1103/PhysRevD.103.072002  2021   \n",
       "64343       10.1142/S0217751X20440030  2020   \n",
       "64344     10.1016/j.chaos.2022.111799  2022   \n",
       "64345       10.1134/S1063779621040304  2021   \n",
       "\n",
       "                                                abstract  \\\n",
       "0      The production of a Z boson and a photon in as...   \n",
       "1      The standard Big Bang cosmology predicts that ...   \n",
       "2      Distributions sensitive to the underlying even...   \n",
       "3      We have studied the φ6-model in the parameter ...   \n",
       "4      For a quantum Lie algebra Γ, let Γ∧ be its ext...   \n",
       "...                                                  ...   \n",
       "64341  ['Here we report about molecular genetic marke...   \n",
       "64342  ['The Muon g-2 Experiment at Fermi National Ac...   \n",
       "64343  ['The associated production a vector boson wit...   \n",
       "64344  [\"Dynamics of light bullets in the Raman activ...   \n",
       "64345  ['Abstract: The BM@N (Baryonic Matter at Nuclo...   \n",
       "\n",
       "                                                keywords  \\\n",
       "0      (\"'Electroweak interaction'\", \" 'Hadron-Hadron...   \n",
       "1      (\"'Neutrino capture'\", \" 'Relic neutrinos'\", \"...   \n",
       "2                                                  ('',)   \n",
       "3                                                  ('',)   \n",
       "4                                                  ('',)   \n",
       "...                                                  ...   \n",
       "64341                                              ('',)   \n",
       "64342                                              ('',)   \n",
       "64343  (\"'associated production'\", \" 'atlas'\", \" 'hea...   \n",
       "64344  (\"'diffraction'\", \" 'light bullet'\", \" 'lyapun...   \n",
       "64345                                              ('',)   \n",
       "\n",
       "                                                    refs  \\\n",
       "0      ('Eboli O.J.P., Gonzalez-Garcia M.C., Lietti S...   \n",
       "1      ('Giunti C., Kim C.W., Fundamentals of Neutrin...   \n",
       "2      ('The underlying event in hard interactions at...   \n",
       "3      ('Kosevich, Et al., Sov. J. Low Temp. Phys., 2...   \n",
       "4      ('Woronowicz S.L., Publ. RIMS Kyoto, 23, (1987...   \n",
       "...                                                  ...   \n",
       "64341  ('Philippe H., Et al., Phylogenomics Revives T...   \n",
       "64342  ('Abi B., Letter companion, Measurement of the...   \n",
       "64343  ('J. Instrum, 3, (2008)', 'J. High Energy Phys...   \n",
       "64344  ('Couairon A., Mysyrowicz A., Femtosecond fila...   \n",
       "64345  ('Steinheimer J., Prog. Part. Nucl. Phys., 62,...   \n",
       "\n",
       "                                                 authors  \\\n",
       "0      (\"'Ahmadov F.'\", \" 'Aleksandrov I.N.'\", \" 'Bed...   \n",
       "1                                     (\"'Šimkovic F.'\",)   \n",
       "2      (\"'Ahmadov F.'\", \" 'Aleksandrov I.N.'\", \" 'Bed...   \n",
       "3                            (\"'Agüero Granados M.A.'\",)   \n",
       "4      (\"'Burdik C.'\", \" 'Isaev A.P.'\", \" 'Ogievetsky...   \n",
       "...                                                  ...   \n",
       "64341  (\"'Yakhnenko A.'\", \" 'Yushin N.'\", \" 'Zinicovs...   \n",
       "64342  (\"'Baranov V.A.'\", \" 'Duginov V.N.'\", \" 'Khomu...   \n",
       "64343                              (\"'Lyubushkina T.'\",)   \n",
       "64344              (\"'Bugay A.N.'\", \" 'Khalyapin V.A.'\")   \n",
       "64345  (\"'Kapishin M.'\", \" 'Alishina K.'\", \" 'Batyuk ...   \n",
       "\n",
       "                                      processed_abstract  cluster  \n",
       "0      product z boson photon associ dijet system stu...        1  \n",
       "1      standard big bang cosmolog predict univers abu...        3  \n",
       "2      distribut sensit underli event qcd jet event m...        2  \n",
       "3      studi paramet domain 1 relev paramet model cas...        4  \n",
       "4      quantum lie algebra γ let exterior extens alge...        4  \n",
       "...                                                  ...      ...  \n",
       "64341  report molecular genet marker develop primer p...        3  \n",
       "64342  muon experi fermi nation acceler laboratori fn...        2  \n",
       "64343  associ product vector boson key observ underst...        2  \n",
       "64344  dynam light bullet raman activ ioniz medium an...        4  \n",
       "64345  bm n baryon matter nuclotron first experi oper...        2  \n",
       "\n",
       "[64346 rows x 10 columns]"
      ]
     },
     "execution_count": 9,
     "metadata": {},
     "output_type": "execute_result"
    }
   ],
   "source": [
    "pubs"
   ]
  },
  {
   "cell_type": "markdown",
   "metadata": {},
   "source": [
    "Выберем, к примеру, второй кластер. Потом надо будет использовать алгоритм на каждом, но в данный момент для проверки я просто возьму кластер со сравнительно небольшим количеством публикаций. И не слишком маленьким, как в первом кластере"
   ]
  },
  {
   "cell_type": "code",
   "execution_count": 10,
   "metadata": {},
   "outputs": [],
   "source": [
    "cluster0 = pubs.loc[pubs.cluster == 0]\n",
    "samp = cluster0.iloc[:200]"
   ]
  },
  {
   "cell_type": "code",
   "execution_count": 11,
   "metadata": {},
   "outputs": [],
   "source": [
    "graph = nx.DiGraph()"
   ]
  },
  {
   "cell_type": "code",
   "execution_count": 12,
   "metadata": {},
   "outputs": [
    {
     "name": "stderr",
     "output_type": "stream",
     "text": [
      "0it [00:00, ?it/s]"
     ]
    },
    {
     "name": "stdout",
     "output_type": "stream",
     "text": [
      "HTTP error: 404 Client Error: Not Found for url: https://opencitations.net/index/meta/api/v1/citations/10.1016/0362-546X(94)90023-X\n",
      "HTTP error: 404 Client Error: Not Found for url: https://opencitations.net/index/meta/api/v1/citations/10.1007/BF01010875\n",
      "HTTP error: 404 Client Error: Not Found for url: https://opencitations.net/index/meta/api/v1/citations/10.1007/BF01211041\n",
      "HTTP error: 404 Client Error: Not Found for url: https://opencitations.net/index/meta/api/v1/citations/10.1070/SM1987v058n02ABEH003110\n",
      "HTTP error: 404 Client Error: Not Found for url: https://opencitations.net/index/meta/api/v1/citations/10.1007/BF01026495\n",
      "HTTP error: 404 Client Error: Not Found for url: https://opencitations.net/index/meta/api/v1/citations/10.1007/BF01168155\n"
     ]
    },
    {
     "name": "stderr",
     "output_type": "stream",
     "text": [
      "1it [00:09,  9.38s/it]"
     ]
    },
    {
     "name": "stdout",
     "output_type": "stream",
     "text": [
      "HTTP error: 404 Client Error: Not Found for url: https://opencitations.net/index/meta/api/v1/citations/10.1007/BF02395993\n",
      "HTTP error: 404 Client Error: Not Found for url: https://opencitations.net/index/meta/api/v1/citations/10.1143/JJAP.27.L209\n",
      "HTTP error: 404 Client Error: Not Found for url: https://opencitations.net/index/meta/api/v1/citations/10.1016/S0921-4534(88)80040-6\n",
      "HTTP error: 404 Client Error: Not Found for url: https://opencitations.net/index/meta/api/v1/citations/10.1103/PhysRevB.37.2349\n",
      "HTTP error: 404 Client Error: Not Found for url: https://opencitations.net/index/meta/api/v1/citations/10.1016/0921-4534(89)90322-5\n"
     ]
    },
    {
     "name": "stderr",
     "output_type": "stream",
     "text": [
      "2it [00:16,  8.10s/it]"
     ]
    },
    {
     "name": "stdout",
     "output_type": "stream",
     "text": [
      "HTTP error: 404 Client Error: Not Found for url: https://opencitations.net/index/meta/api/v1/citations/10.1007/BF02463215\n",
      "HTTP error: 404 Client Error: Not Found for url: https://opencitations.net/index/meta/api/v1/citations/10.4310/jdg/1214455536\n",
      "HTTP error: 404 Client Error: Not Found for url: https://opencitations.net/index/meta/api/v1/citations/10.1007/BF02099631\n",
      "HTTP error: 404 Client Error: Not Found for url: https://opencitations.net/index/meta/api/v1/citations/10.1016/0003-4916(78)90224-5\n",
      "HTTP error: 404 Client Error: Not Found for url: https://opencitations.net/index/meta/api/v1/citations/10.1007/BF00574162\n",
      "HTTP error: 404 Client Error: Not Found for url: https://opencitations.net/index/meta/api/v1/citations/10.1007/BF00416512\n",
      "HTTP error: 404 Client Error: Not Found for url: https://opencitations.net/index/meta/api/v1/citations/10.1007/BF00739094\n",
      "HTTP error: 404 Client Error: Not Found for url: https://opencitations.net/index/meta/api/v1/citations/10.1023/A:1007492515449\n"
     ]
    },
    {
     "name": "stderr",
     "output_type": "stream",
     "text": [
      "3it [00:26,  8.88s/it]"
     ]
    },
    {
     "name": "stdout",
     "output_type": "stream",
     "text": [
      "HTTP error: 404 Client Error: Not Found for url: https://opencitations.net/index/meta/api/v1/citations/10.1016/0011-2275(76)90303-9\n"
     ]
    },
    {
     "name": "stderr",
     "output_type": "stream",
     "text": [
      "4it [00:27,  5.96s/it]"
     ]
    },
    {
     "name": "stdout",
     "output_type": "stream",
     "text": [
      "HTTP error: 404 Client Error: Not Found for url: https://opencitations.net/index/meta/api/v1/citations/10.1007/BF02725899\n",
      "HTTP error: 404 Client Error: Not Found for url: https://opencitations.net/index/meta/api/v1/citations/10.1016/0550-3213(73)90242-3\n",
      "HTTP error: 404 Client Error: Not Found for url: https://opencitations.net/index/meta/api/v1/citations/10.1016/0370-2693(72)90609-0\n",
      "HTTP error: 404 Client Error: Not Found for url: https://opencitations.net/index/meta/api/v1/citations/10.1103/PhysRevC.4.1805\n",
      "HTTP error: 404 Client Error: Not Found for url: https://opencitations.net/index/meta/api/v1/citations/10.5179/benthos1970.1974.7-8_e1\n",
      "HTTP error: 404 Client Error: Not Found for url: https://opencitations.net/index/meta/api/v1/citations/10.1007/BF02845010\n",
      "HTTP error: 404 Client Error: Not Found for url: https://opencitations.net/index/meta/api/v1/citations/10.1103/PhysRev.98.761\n",
      "HTTP error: 404 Client Error: Not Found for url: https://opencitations.net/index/meta/api/v1/citations/10.1016/0375-9474(73)90119-X\n",
      "HTTP error: 404 Client Error: Not Found for url: https://opencitations.net/index/meta/api/v1/citations/10.1103/PhysRevC.10.2093\n",
      "HTTP error: 404 Client Error: Not Found for url: https://opencitations.net/index/meta/api/v1/citations/10.1016/0003-4916(66)90302-2\n",
      "HTTP error: 404 Client Error: Not Found for url: https://opencitations.net/index/meta/api/v1/citations/10.1103/PhysRevC.9.188\n",
      "HTTP error: 404 Client Error: Not Found for url: https://opencitations.net/index/meta/api/v1/citations/10.1016/0550-3213(70)90408-6\n",
      "HTTP error: 404 Client Error: Not Found for url: https://opencitations.net/index/meta/api/v1/citations/10.1016/0370-2693(75)90391-3\n",
      "HTTP error: 404 Client Error: Not Found for url: https://opencitations.net/index/meta/api/v1/citations/10.1016/0375-9474(75)90378-4\n",
      "HTTP error: 404 Client Error: Not Found for url: https://opencitations.net/index/meta/api/v1/citations/10.1103/PhysRevC.10.1242\n",
      "HTTP error: 404 Client Error: Not Found for url: https://opencitations.net/index/meta/api/v1/citations/10.1103/PhysRev.122.252\n"
     ]
    },
    {
     "name": "stderr",
     "output_type": "stream",
     "text": [
      "5it [00:46, 10.37s/it]"
     ]
    },
    {
     "name": "stdout",
     "output_type": "stream",
     "text": [
      "HTTP error: 404 Client Error: Not Found for url: https://opencitations.net/index/meta/api/v1/citations/10.1016/j.nuclphysa.2010.01.023\n",
      "HTTP error: 404 Client Error: Not Found for url: https://opencitations.net/index/meta/api/v1/citations/10.1103/PhysRevC.59.3071\n",
      "HTTP error: 404 Client Error: Not Found for url: https://opencitations.net/index/meta/api/v1/citations/10.1103/PhysRevC.75.044314\n",
      "HTTP error: 404 Client Error: Not Found for url: https://opencitations.net/index/meta/api/v1/citations/10.1140/epja/i2007-10362-1\n",
      "HTTP error: 404 Client Error: Not Found for url: https://opencitations.net/index/meta/api/v1/citations/10.1103/PhysRevC.57.2250\n",
      "HTTP error: 404 Client Error: Not Found for url: https://opencitations.net/index/meta/api/v1/citations/10.1103/PhysRevC.69.017305\n",
      "HTTP error: 404 Client Error: Not Found for url: https://opencitations.net/index/meta/api/v1/citations/10.1016/0375-9474(89)90180-2\n",
      "HTTP error: 404 Client Error: Not Found for url: https://opencitations.net/index/meta/api/v1/citations/10.1051/epjap:1999145\n",
      "HTTP error: 404 Client Error: Not Found for url: https://opencitations.net/index/meta/api/v1/citations/10.1016/0168-9002(95)00183-2\n",
      "HTTP error: 404 Client Error: Not Found for url: https://opencitations.net/index/meta/api/v1/citations/10.1016/j.ppnp.2008.06.001\n"
     ]
    },
    {
     "name": "stderr",
     "output_type": "stream",
     "text": [
      "6it [01:01, 11.96s/it]"
     ]
    },
    {
     "name": "stdout",
     "output_type": "stream",
     "text": [
      "HTTP error: 404 Client Error: Not Found for url: https://opencitations.net/index/meta/api/v1/citations/10.1007/BF01597155\n",
      "HTTP error: 404 Client Error: Not Found for url: https://opencitations.net/index/meta/api/v1/citations/10.1103/PhysRevLett.52.735\n",
      "HTTP error: 404 Client Error: Not Found for url: https://opencitations.net/index/meta/api/v1/citations/10.1016/0375-9474(83)90271-3\n",
      "HTTP error: 404 Client Error: Not Found for url: https://opencitations.net/index/meta/api/v1/citations/10.1016/0375-9474(85)90186-1\n",
      "HTTP error: 404 Client Error: Not Found for url: https://opencitations.net/index/meta/api/v1/citations/10.1016/0375-9474(77)90624-8\n",
      "HTTP error: 404 Client Error: Not Found for url: https://opencitations.net/index/meta/api/v1/citations/10.1088/0305-4616/6/7/007\n",
      "HTTP error: 404 Client Error: Not Found for url: https://opencitations.net/index/meta/api/v1/citations/10.1007/BF01425107\n",
      "HTTP error: 404 Client Error: Not Found for url: https://opencitations.net/index/meta/api/v1/citations/10.1016/0370-2693(83)90795-5\n",
      "HTTP error: 404 Client Error: Not Found for url: https://opencitations.net/index/meta/api/v1/citations/10.1016/0370-2693(84)91719-2\n",
      "HTTP error: 404 Client Error: Not Found for url: https://opencitations.net/index/meta/api/v1/citations/10.1007/BF02732655\n",
      "HTTP error: 404 Client Error: Not Found for url: https://opencitations.net/index/meta/api/v1/citations/10.1016/0031-9163(66)91175-9\n",
      "HTTP error: 404 Client Error: Not Found for url: https://opencitations.net/index/meta/api/v1/citations/10.1103/PhysRev.180.1349\n",
      "HTTP error: 404 Client Error: Not Found for url: https://opencitations.net/index/meta/api/v1/citations/10.1016/0375-9474(84)90163-5\n"
     ]
    },
    {
     "name": "stderr",
     "output_type": "stream",
     "text": [
      "7it [01:14, 12.44s/it]"
     ]
    },
    {
     "name": "stdout",
     "output_type": "stream",
     "text": [
      "HTTP error: 404 Client Error: Not Found for url: https://opencitations.net/index/meta/api/v1/citations/10.1016/S0375-9474(16)30231-7\n"
     ]
    },
    {
     "name": "stderr",
     "output_type": "stream",
     "text": [
      "8it [01:15,  8.80s/it]"
     ]
    },
    {
     "name": "stdout",
     "output_type": "stream",
     "text": [
      "HTTP error: 404 Client Error: Not Found for url: https://opencitations.net/index/meta/api/v1/citations/10.1088/1742-6596/668/1/011001\n"
     ]
    },
    {
     "name": "stderr",
     "output_type": "stream",
     "text": [
      "9it [01:16,  6.41s/it]"
     ]
    },
    {
     "name": "stdout",
     "output_type": "stream",
     "text": [
      "HTTP error: 404 Client Error: Not Found for url: https://opencitations.net/index/meta/api/v1/citations/10.1002/prop.19670150702\n",
      "HTTP error: 404 Client Error: Not Found for url: https://opencitations.net/index/meta/api/v1/citations/10.1002/prop.19660140111\n",
      "HTTP error: 404 Client Error: Not Found for url: https://opencitations.net/index/meta/api/v1/citations/10.1103/PhysRevLett.7.101\n",
      "HTTP error: 404 Client Error: Not Found for url: https://opencitations.net/index/meta/api/v1/citations/10.1103/PhysRev.103.1472\n",
      "HTTP error: 404 Client Error: Not Found for url: https://opencitations.net/index/meta/api/v1/citations/10.1103/PhysRev.103.1489\n",
      "HTTP error: 404 Client Error: Not Found for url: https://opencitations.net/index/meta/api/v1/citations/10.1080/14786435708243811\n",
      "HTTP error: 404 Client Error: Not Found for url: https://opencitations.net/index/meta/api/v1/citations/10.1098/rspa.1959.0103\n",
      "HTTP error: 404 Client Error: Not Found for url: https://opencitations.net/index/meta/api/v1/citations/10.1103/PhysRev.125.2082\n",
      "HTTP error: 404 Client Error: Not Found for url: https://opencitations.net/index/meta/api/v1/citations/10.1103/PhysRev.125.2091\n",
      "HTTP error: 404 Client Error: Not Found for url: https://opencitations.net/index/meta/api/v1/citations/10.1007/BF02781798\n",
      "HTTP error: 404 Client Error: Not Found for url: https://opencitations.net/index/meta/api/v1/citations/10.1103/PhysRev.125.1386\n",
      "HTTP error: 404 Client Error: Not Found for url: https://opencitations.net/index/meta/api/v1/citations/10.1103/PhysRev.113.330\n",
      "HTTP error: 404 Client Error: Not Found for url: https://opencitations.net/index/meta/api/v1/citations/10.1007/BF02781797\n",
      "HTTP error: 404 Client Error: Not Found for url: https://opencitations.net/index/meta/api/v1/citations/10.1103/PhysRev.105.1058\n",
      "HTTP error: 404 Client Error: Not Found for url: https://opencitations.net/index/meta/api/v1/citations/10.1103/PhysRev.95.1026\n",
      "HTTP error: 404 Client Error: Not Found for url: https://opencitations.net/index/meta/api/v1/citations/10.1007/BF02860229\n",
      "HTTP error: 404 Client Error: Not Found for url: https://opencitations.net/index/meta/api/v1/citations/10.1103/PhysRev.118.812\n",
      "HTTP error: 404 Client Error: Not Found for url: https://opencitations.net/index/meta/api/v1/citations/10.1007/BF02732587\n",
      "HTTP error: 404 Client Error: Not Found for url: https://opencitations.net/index/meta/api/v1/citations/10.1103/PhysRev.104.526\n",
      "HTTP error: 404 Client Error: Not Found for url: https://opencitations.net/index/meta/api/v1/citations/10.1103/PhysRev.118.309\n",
      "HTTP error: 404 Client Error: Not Found for url: https://opencitations.net/index/meta/api/v1/citations/10.1007/BF02859627\n",
      "HTTP error: 404 Client Error: Not Found for url: https://opencitations.net/index/meta/api/v1/citations/10.1103/PhysRev.126.278\n",
      "HTTP error: 404 Client Error: Not Found for url: https://opencitations.net/index/meta/api/v1/citations/10.1103/PhysRev.97.797\n",
      "HTTP error: 404 Client Error: Not Found for url: https://opencitations.net/index/meta/api/v1/citations/10.1103/PhysRev.104.784\n",
      "HTTP error: 404 Client Error: Not Found for url: https://opencitations.net/index/meta/api/v1/citations/10.1103/PhysRev.98.1416\n",
      "HTTP error: 404 Client Error: Not Found for url: https://opencitations.net/index/meta/api/v1/citations/10.1103/PhysRev.111.1676\n",
      "HTTP error: 404 Client Error: Not Found for url: https://opencitations.net/index/meta/api/v1/citations/10.1007/BF02733790\n",
      "HTTP error: 404 Client Error: Not Found for url: https://opencitations.net/index/meta/api/v1/citations/10.1007/BF02733752\n",
      "HTTP error: 404 Client Error: Not Found for url: https://opencitations.net/index/meta/api/v1/citations/10.1103/PhysRev.108.872\n",
      "HTTP error: 404 Client Error: Not Found for url: https://opencitations.net/index/meta/api/v1/citations/10.1007/BF02733632\n",
      "HTTP error: 404 Client Error: Not Found for url: https://opencitations.net/index/meta/api/v1/citations/10.1103/PhysRev.108.850\n",
      "HTTP error: 404 Client Error: Not Found for url: https://opencitations.net/index/meta/api/v1/citations/10.1007/BF02785757\n",
      "HTTP error: 404 Client Error: Not Found for url: https://opencitations.net/index/meta/api/v1/citations/10.1103/PhysRev.133.B1017\n",
      "HTTP error: 404 Client Error: Not Found for url: https://opencitations.net/index/meta/api/v1/citations/10.1103/PhysRev.119.1408\n",
      "HTTP error: 404 Client Error: Not Found for url: https://opencitations.net/index/meta/api/v1/citations/10.1016/0029-5582(62)90350-4\n",
      "HTTP error: 404 Client Error: Not Found for url: https://opencitations.net/index/meta/api/v1/citations/10.1103/PhysRev.124.1575\n",
      "HTTP error: 404 Client Error: Not Found for url: https://opencitations.net/index/meta/api/v1/citations/10.1007/BF02750040\n",
      "HTTP error: 404 Client Error: Not Found for url: https://opencitations.net/index/meta/api/v1/citations/10.1007/BF02724903\n",
      "HTTP error: 404 Client Error: Not Found for url: https://opencitations.net/index/meta/api/v1/citations/10.1143/JPSJ.17.393\n",
      "HTTP error: 404 Client Error: Not Found for url: https://opencitations.net/index/meta/api/v1/citations/10.1016/0029-5582(62)90102-5\n",
      "HTTP error: 404 Client Error: Not Found for url: https://opencitations.net/index/meta/api/v1/citations/10.1007/BF02732022\n",
      "HTTP error: 404 Client Error: Not Found for url: https://opencitations.net/index/meta/api/v1/citations/10.1103/PhysRev.84.457\n",
      "HTTP error: 404 Client Error: Not Found for url: https://opencitations.net/index/meta/api/v1/citations/10.1007/BF02745477\n",
      "HTTP error: 404 Client Error: Not Found for url: https://opencitations.net/index/meta/api/v1/citations/10.1007/BF02826523\n",
      "HTTP error: 404 Client Error: Not Found for url: https://opencitations.net/index/meta/api/v1/citations/10.1103/PhysRev.115.472\n",
      "HTTP error: 404 Client Error: Not Found for url: https://opencitations.net/index/meta/api/v1/citations/10.1103/PhysRev.118.1371\n",
      "HTTP error: 404 Client Error: Not Found for url: https://opencitations.net/index/meta/api/v1/citations/10.1103/PhysRev.105.1037\n",
      "HTTP error: 404 Client Error: Not Found for url: https://opencitations.net/index/meta/api/v1/citations/10.1103/PhysRev.121.1525\n",
      "HTTP error: 404 Client Error: Not Found for url: https://opencitations.net/index/meta/api/v1/citations/10.1007/BF02728178\n",
      "HTTP error: 404 Client Error: Not Found for url: https://opencitations.net/index/meta/api/v1/citations/10.1016/0029-5582(61)90390-X\n",
      "HTTP error: 404 Client Error: Not Found for url: https://opencitations.net/index/meta/api/v1/citations/10.1103/PhysRev.113.1615\n",
      "HTTP error: 404 Client Error: Not Found for url: https://opencitations.net/index/meta/api/v1/citations/10.1007/BF02727530\n",
      "HTTP error: 404 Client Error: Not Found for url: https://opencitations.net/index/meta/api/v1/citations/10.1103/PhysRev.127.617\n",
      "HTTP error: 404 Client Error: Not Found for url: https://opencitations.net/index/meta/api/v1/citations/10.1007/BF02725019\n",
      "HTTP error: 404 Client Error: Not Found for url: https://opencitations.net/index/meta/api/v1/citations/10.1007/BF02731253\n",
      "HTTP error: 404 Client Error: Not Found for url: https://opencitations.net/index/meta/api/v1/citations/10.1103/PhysRev.132.1283\n",
      "HTTP error: 404 Client Error: Not Found for url: https://opencitations.net/index/meta/api/v1/citations/10.1016/0029-5582(62)90018-4\n",
      "HTTP error: 404 Client Error: Not Found for url: https://opencitations.net/index/meta/api/v1/citations/10.1016/0029-5582(62)90017-2\n",
      "HTTP error: 404 Client Error: Not Found for url: https://opencitations.net/index/meta/api/v1/citations/10.1007/BF02751462\n",
      "HTTP error: 404 Client Error: Not Found for url: https://opencitations.net/index/meta/api/v1/citations/10.1103/PhysRevLett.6.303\n",
      "HTTP error: 404 Client Error: Not Found for url: https://opencitations.net/index/meta/api/v1/citations/10.1016/0029-5582(60)90443-0\n",
      "HTTP error: 404 Client Error: Not Found for url: https://opencitations.net/index/meta/api/v1/citations/10.1007/BF02735881\n",
      "HTTP error: 404 Client Error: Not Found for url: https://opencitations.net/index/meta/api/v1/citations/10.1143/JPSJ.18.936\n",
      "HTTP error: 404 Client Error: Not Found for url: https://opencitations.net/index/meta/api/v1/citations/10.1103/PhysRev.116.1238\n",
      "HTTP error: 404 Client Error: Not Found for url: https://opencitations.net/index/meta/api/v1/citations/10.1103/PhysRev.125.679\n",
      "HTTP error: 404 Client Error: Not Found for url: https://opencitations.net/index/meta/api/v1/citations/10.1080/14786435808238218\n",
      "HTTP error: 404 Client Error: Not Found for url: https://opencitations.net/index/meta/api/v1/citations/10.1007/BF02780350\n",
      "HTTP error: 404 Client Error: Not Found for url: https://opencitations.net/index/meta/api/v1/citations/10.1007/BF02754288\n",
      "HTTP error: 404 Client Error: Not Found for url: https://opencitations.net/index/meta/api/v1/citations/10.1103/PhysRev.127.1537\n",
      "HTTP error: 404 Client Error: Not Found for url: https://opencitations.net/index/meta/api/v1/citations/10.1103/PhysRev.128.1823\n",
      "HTTP error: 404 Client Error: Not Found for url: https://opencitations.net/index/meta/api/v1/citations/10.1016/0029-5582(60)90329-1\n",
      "HTTP error: 404 Client Error: Not Found for url: https://opencitations.net/index/meta/api/v1/citations/10.1002/prop.19630111004\n",
      "HTTP error: 404 Client Error: Not Found for url: https://opencitations.net/index/meta/api/v1/citations/10.1002/prop.19630111005\n",
      "HTTP error: 404 Client Error: Not Found for url: https://opencitations.net/index/meta/api/v1/citations/10.1016/0029-5582(60)90471-5\n",
      "HTTP error: 404 Client Error: Not Found for url: https://opencitations.net/index/meta/api/v1/citations/10.1016/0029-5582(61)90436-9\n",
      "HTTP error: 404 Client Error: Not Found for url: https://opencitations.net/index/meta/api/v1/citations/10.1007/BF02780353\n",
      "HTTP error: 404 Client Error: Not Found for url: https://opencitations.net/index/meta/api/v1/citations/10.1143/JPSJ.16.1099\n",
      "HTTP error: 404 Client Error: Not Found for url: https://opencitations.net/index/meta/api/v1/citations/10.1143/JPSJ.16.1107\n",
      "HTTP error: 404 Client Error: Not Found for url: https://opencitations.net/index/meta/api/v1/citations/10.1007/BF02771816\n",
      "HTTP error: 404 Client Error: Not Found for url: https://opencitations.net/index/meta/api/v1/citations/10.1016/0029-5582(63)90628-X\n",
      "HTTP error: 404 Client Error: Not Found for url: https://opencitations.net/index/meta/api/v1/citations/10.1103/RevModPhys.24.133\n",
      "HTTP error: 404 Client Error: Not Found for url: https://opencitations.net/index/meta/api/v1/citations/10.1007/BF02733752\n",
      "HTTP error: 404 Client Error: Not Found for url: https://opencitations.net/index/meta/api/v1/citations/10.1016/0029-5582(65)90398-6\n",
      "HTTP error: 404 Client Error: Not Found for url: https://opencitations.net/index/meta/api/v1/citations/10.1103/PhysRev.134.B901\n",
      "HTTP error: 404 Client Error: Not Found for url: https://opencitations.net/index/meta/api/v1/citations/10.1016/0029-5582(63)90140-8\n",
      "HTTP error: 404 Client Error: Not Found for url: https://opencitations.net/index/meta/api/v1/citations/10.1016/0029-5582(64)90428-6\n",
      "HTTP error: 404 Client Error: Not Found for url: https://opencitations.net/index/meta/api/v1/citations/10.1002/andp.19594590115\n",
      "HTTP error: 404 Client Error: Not Found for url: https://opencitations.net/index/meta/api/v1/citations/10.1103/RevModPhys.33.362\n",
      "HTTP error: 404 Client Error: Not Found for url: https://opencitations.net/index/meta/api/v1/citations/10.1007/BF02813083\n",
      "HTTP error: 404 Client Error: Not Found for url: https://opencitations.net/index/meta/api/v1/citations/10.1103/PhysRev.121.1523\n",
      "HTTP error: 404 Client Error: Not Found for url: https://opencitations.net/index/meta/api/v1/citations/10.1007/BF02785765\n",
      "HTTP error: 404 Client Error: Not Found for url: https://opencitations.net/index/meta/api/v1/citations/10.1007/BF02749887\n",
      "HTTP error: 404 Client Error: Not Found for url: https://opencitations.net/index/meta/api/v1/citations/10.1007/BF02733544\n",
      "HTTP error: 404 Client Error: Not Found for url: https://opencitations.net/index/meta/api/v1/citations/10.1007/BF02781744\n",
      "HTTP error: 404 Client Error: Not Found for url: https://opencitations.net/index/meta/api/v1/citations/10.1007/BF02750039\n",
      "HTTP error: 404 Client Error: Not Found for url: https://opencitations.net/index/meta/api/v1/citations/10.1007/BF02734058\n",
      "HTTP error: 404 Client Error: Not Found for url: https://opencitations.net/index/meta/api/v1/citations/10.1007/BF02732021\n",
      "HTTP error: 404 Client Error: Not Found for url: https://opencitations.net/index/meta/api/v1/citations/10.1143/JPSJ.16.1107\n",
      "HTTP error: 404 Client Error: Not Found for url: https://opencitations.net/index/meta/api/v1/citations/10.1103/PhysRev.122.617\n",
      "HTTP error: 404 Client Error: Not Found for url: https://opencitations.net/index/meta/api/v1/citations/10.1103/PhysRev.122.672\n",
      "HTTP error: 404 Client Error: Not Found for url: https://opencitations.net/index/meta/api/v1/citations/10.1016/0029-5582(61)90211-5\n",
      "HTTP error: 404 Client Error: Not Found for url: https://opencitations.net/index/meta/api/v1/citations/10.1007/BF02724764\n",
      "HTTP error: 404 Client Error: Not Found for url: https://opencitations.net/index/meta/api/v1/citations/10.1103/PhysRevLett.4.611\n",
      "HTTP error: 404 Client Error: Not Found for url: https://opencitations.net/index/meta/api/v1/citations/10.1143/JPSJ.14.880\n",
      "HTTP error: 404 Client Error: Not Found for url: https://opencitations.net/index/meta/api/v1/citations/10.1007/BF02728173\n",
      "HTTP error: 404 Client Error: Not Found for url: https://opencitations.net/index/meta/api/v1/citations/10.1007/BF02785494\n",
      "HTTP error: 404 Client Error: Not Found for url: https://opencitations.net/index/meta/api/v1/citations/10.1007/BF02783270\n",
      "HTTP error: 404 Client Error: Not Found for url: https://opencitations.net/index/meta/api/v1/citations/10.1080/14786435908238278\n",
      "HTTP error: 404 Client Error: Not Found for url: https://opencitations.net/index/meta/api/v1/citations/10.1016/0029-5582(62)90016-0\n",
      "HTTP error: 404 Client Error: Not Found for url: https://opencitations.net/index/meta/api/v1/citations/10.1007/BF02750149\n",
      "HTTP error: 404 Client Error: Not Found for url: https://opencitations.net/index/meta/api/v1/citations/10.1103/PhysRev.134.B901\n",
      "HTTP error: 404 Client Error: Not Found for url: https://opencitations.net/index/meta/api/v1/citations/10.1016/0029-5582(64)90344-X\n",
      "HTTP error: 404 Client Error: Not Found for url: https://opencitations.net/index/meta/api/v1/citations/10.1002/prop.2180100502\n",
      "HTTP error: 404 Client Error: Not Found for url: https://opencitations.net/index/meta/api/v1/citations/10.1002/prop.19610090103\n",
      "HTTP error: 404 Client Error: Not Found for url: https://opencitations.net/index/meta/api/v1/citations/10.3367/UFNr.0068.195907e.0417\n",
      "HTTP error: 404 Client Error: Not Found for url: https://opencitations.net/index/meta/api/v1/citations/10.1103/RevModPhys.33.395\n",
      "HTTP error: 404 Client Error: Not Found for url: https://opencitations.net/index/meta/api/v1/citations/10.1016/0029-5582(59)90338-4\n",
      "HTTP error: 404 Client Error: Not Found for url: https://opencitations.net/index/meta/api/v1/citations/10.1016/0029-5582(61)90363-7\n",
      "HTTP error: 404 Client Error: Not Found for url: https://opencitations.net/index/meta/api/v1/citations/10.1103/PhysRevLett.7.137\n",
      "HTTP error: 404 Client Error: Not Found for url: https://opencitations.net/index/meta/api/v1/citations/10.1103/PhysRev.131.1276\n",
      "HTTP error: 404 Client Error: Not Found for url: https://opencitations.net/index/meta/api/v1/citations/10.1103/PhysRevLett.5.161\n",
      "HTTP error: 404 Client Error: Not Found for url: https://opencitations.net/index/meta/api/v1/citations/10.1103/PhysRevLett.8.332\n",
      "HTTP error: 404 Client Error: Not Found for url: https://opencitations.net/index/meta/api/v1/citations/10.1103/PhysRev.109.1358\n",
      "HTTP error: 404 Client Error: Not Found for url: https://opencitations.net/index/meta/api/v1/citations/10.1007/BF02745646\n",
      "HTTP error: 404 Client Error: Not Found for url: https://opencitations.net/index/meta/api/v1/citations/10.1103/PhysRevLett.8.329\n",
      "HTTP error: 404 Client Error: Not Found for url: https://opencitations.net/index/meta/api/v1/citations/10.1103/PhysRev.123.2160\n",
      "HTTP error: 404 Client Error: Not Found for url: https://opencitations.net/index/meta/api/v1/citations/10.1007/BF02726041\n",
      "HTTP error: 404 Client Error: Not Found for url: https://opencitations.net/index/meta/api/v1/citations/10.1103/PhysRev.134.B207\n",
      "HTTP error: 404 Client Error: Not Found for url: https://opencitations.net/index/meta/api/v1/citations/10.1002/prop.19630110402\n",
      "HTTP error: 404 Client Error: Not Found for url: https://opencitations.net/index/meta/api/v1/citations/10.1103/PhysRev.111.1699\n",
      "HTTP error: 404 Client Error: Not Found for url: https://opencitations.net/index/meta/api/v1/citations/10.1007/BF02726041\n"
     ]
    },
    {
     "name": "stderr",
     "output_type": "stream",
     "text": [
      "10it [03:38, 48.21s/it]"
     ]
    },
    {
     "name": "stdout",
     "output_type": "stream",
     "text": [
      "HTTP error: 404 Client Error: Not Found for url: https://opencitations.net/index/meta/api/v1/citations/10.1016/j.nuclphysa.2004.01.035\n",
      "HTTP error: 404 Client Error: Not Found for url: https://opencitations.net/index/meta/api/v1/citations/10.1524/ract.2001.89.11-12.743\n",
      "HTTP error: 404 Client Error: Not Found for url: https://opencitations.net/index/meta/api/v1/citations/10.1007/s100500050257\n",
      "HTTP error: 404 Client Error: Not Found for url: https://opencitations.net/index/meta/api/v1/citations/10.1038/22281\n",
      "HTTP error: 404 Client Error: Not Found for url: https://opencitations.net/index/meta/api/v1/citations/10.1063/1.431398\n",
      "HTTP error: 404 Client Error: Not Found for url: https://opencitations.net/index/meta/api/v1/citations/10.1021/cr00085a006\n",
      "HTTP error: 404 Client Error: Not Found for url: https://opencitations.net/index/meta/api/v1/citations/10.1021/cr941182g\n",
      "HTTP error: 404 Client Error: Not Found for url: https://opencitations.net/index/meta/api/v1/citations/10.1103/PhysRevLett.83.3154\n",
      "HTTP error: 404 Client Error: Not Found for url: https://opencitations.net/index/meta/api/v1/citations/10.1103/PhysRevC.62.041604\n",
      "HTTP error: 404 Client Error: Not Found for url: https://opencitations.net/index/meta/api/v1/citations/10.1103/PhysRevC.63.011301\n",
      "HTTP error: 404 Client Error: Not Found for url: https://opencitations.net/index/meta/api/v1/citations/10.1016/S0168-9002(97)00948-0\n"
     ]
    },
    {
     "name": "stderr",
     "output_type": "stream",
     "text": [
      "11it [03:50, 37.06s/it]"
     ]
    },
    {
     "name": "stdout",
     "output_type": "stream",
     "text": [
      "HTTP error: 404 Client Error: Not Found for url: https://opencitations.net/index/meta/api/v1/citations/10.1016/S0375-9474(16)30234-2\n"
     ]
    },
    {
     "name": "stderr",
     "output_type": "stream",
     "text": [
      "12it [03:51, 26.10s/it]"
     ]
    },
    {
     "name": "stdout",
     "output_type": "stream",
     "text": [
      "HTTP error: 404 Client Error: Not Found for url: https://opencitations.net/index/meta/api/v1/citations/10.1007/s10751-010-0167-6\n"
     ]
    },
    {
     "name": "stderr",
     "output_type": "stream",
     "text": [
      "13it [03:52, 18.50s/it]"
     ]
    },
    {
     "name": "stdout",
     "output_type": "stream",
     "text": [
      "HTTP error: 404 Client Error: Not Found for url: https://opencitations.net/index/meta/api/v1/citations/10.1103/PhysRevC.81.039804\n",
      "HTTP error: 404 Client Error: Not Found for url: https://opencitations.net/index/meta/api/v1/citations/10.1103/PhysRevC.80.044314\n",
      "HTTP error: 404 Client Error: Not Found for url: https://opencitations.net/index/meta/api/v1/citations/10.1140/epja/i2003-10198-7\n",
      "HTTP error: 404 Client Error: Not Found for url: https://opencitations.net/index/meta/api/v1/citations/10.1103/PhysRevC.74.034314\n",
      "HTTP error: 404 Client Error: Not Found for url: https://opencitations.net/index/meta/api/v1/citations/10.1103/PhysRevC.81.039803\n"
     ]
    },
    {
     "name": "stderr",
     "output_type": "stream",
     "text": [
      "14it [03:57, 14.52s/it]"
     ]
    },
    {
     "name": "stdout",
     "output_type": "stream",
     "text": [
      "HTTP error: 404 Client Error: Not Found for url: https://opencitations.net/index/meta/api/v1/citations/10.1109/TNS.1969.4325368\n"
     ]
    },
    {
     "name": "stderr",
     "output_type": "stream",
     "text": [
      "15it [03:58, 10.44s/it]"
     ]
    },
    {
     "name": "stdout",
     "output_type": "stream",
     "text": [
      "HTTP error: 404 Client Error: Not Found for url: https://opencitations.net/index/meta/api/v1/citations/10.1002/prop.19610090103\n",
      "HTTP error: 404 Client Error: Not Found for url: https://opencitations.net/index/meta/api/v1/citations/10.1016/0029-5582(59)90338-4\n",
      "HTTP error: 404 Client Error: Not Found for url: https://opencitations.net/index/meta/api/v1/citations/10.3367/UFNr.0068.195907e.0417\n",
      "HTTP error: 404 Client Error: Not Found for url: https://opencitations.net/index/meta/api/v1/citations/10.1016/0029-5582(60)90329-1\n",
      "HTTP error: 404 Client Error: Not Found for url: https://opencitations.net/index/meta/api/v1/citations/10.1103/PhysRev.101.1570\n",
      "HTTP error: 404 Client Error: Not Found for url: https://opencitations.net/index/meta/api/v1/citations/10.1103/PhysRev.108.850\n",
      "HTTP error: 404 Client Error: Not Found for url: https://opencitations.net/index/meta/api/v1/citations/10.1103/PhysRev.113.330\n",
      "HTTP error: 404 Client Error: Not Found for url: https://opencitations.net/index/meta/api/v1/citations/10.1103/PhysRev.115.472\n",
      "HTTP error: 404 Client Error: Not Found for url: https://opencitations.net/index/meta/api/v1/citations/10.1016/0029-5582(58)90004-X\n",
      "HTTP error: 404 Client Error: Not Found for url: https://opencitations.net/index/meta/api/v1/citations/10.1007/BF02828776\n",
      "HTTP error: 404 Client Error: Not Found for url: https://opencitations.net/index/meta/api/v1/citations/10.1002/prop.19590070102\n",
      "HTTP error: 404 Client Error: Not Found for url: https://opencitations.net/index/meta/api/v1/citations/10.1103/PhysRev.101.796\n"
     ]
    },
    {
     "name": "stderr",
     "output_type": "stream",
     "text": [
      "16it [04:12, 11.56s/it]"
     ]
    },
    {
     "name": "stdout",
     "output_type": "stream",
     "text": [
      "HTTP error: 404 Client Error: Not Found for url: https://opencitations.net/index/meta/api/v1/citations/10.1002/pssb.2220550153\n",
      "HTTP error: 404 Client Error: Not Found for url: https://opencitations.net/index/meta/api/v1/citations/10.1103/PhysRevLett.26.1541\n",
      "HTTP error: 404 Client Error: Not Found for url: https://opencitations.net/index/meta/api/v1/citations/10.1103/PhysRevB.4.2508\n",
      "HTTP error: 404 Client Error: Not Found for url: https://opencitations.net/index/meta/api/v1/citations/10.1088/0022-3719/4/10/012\n",
      "HTTP error: 404 Client Error: Not Found for url: https://opencitations.net/index/meta/api/v1/citations/10.1103/PhysRevB.4.4642\n",
      "HTTP error: 404 Client Error: Not Found for url: https://opencitations.net/index/meta/api/v1/citations/10.1103/PhysRevB.4.3518\n"
     ]
    },
    {
     "name": "stderr",
     "output_type": "stream",
     "text": [
      "17it [04:19, 10.06s/it]"
     ]
    },
    {
     "name": "stdout",
     "output_type": "stream",
     "text": [
      "HTTP error: 404 Client Error: Not Found for url: https://opencitations.net/index/meta/api/v1/citations/10.1209/0295-5075/122/37001\n",
      "HTTP error: 404 Client Error: Not Found for url: https://opencitations.net/index/meta/api/v1/citations/10.1103/PhysRevLett.86.2427\n",
      "HTTP error: 404 Client Error: Not Found for url: https://opencitations.net/index/meta/api/v1/citations/10.1103/PhysRevLett.96.197003\n",
      "HTTP error: 404 Client Error: Not Found for url: https://opencitations.net/index/meta/api/v1/citations/10.1103/PhysRevLett.97.177003\n",
      "HTTP error: 404 Client Error: Not Found for url: https://opencitations.net/index/meta/api/v1/citations/10.1038/nphys3242\n",
      "HTTP error: 404 Client Error: Not Found for url: https://opencitations.net/index/meta/api/v1/citations/10.1103/PhysRevB.84.144519\n",
      "HTTP error: 404 Client Error: Not Found for url: https://opencitations.net/index/meta/api/v1/citations/10.1103/PhysRevB.87.024418\n",
      "HTTP error: 404 Client Error: Not Found for url: https://opencitations.net/index/meta/api/v1/citations/10.1103/PhysRevLett.101.107005\n",
      "HTTP error: 404 Client Error: Not Found for url: https://opencitations.net/index/meta/api/v1/citations/10.1103/PhysRevB.71.214516\n",
      "HTTP error: 404 Client Error: Not Found for url: https://opencitations.net/index/meta/api/v1/citations/10.1103/PhysRevLett.101.107001\n",
      "HTTP error: 404 Client Error: Not Found for url: https://opencitations.net/index/meta/api/v1/citations/10.1002/352760278X\n",
      "HTTP error: 404 Client Error: Not Found for url: https://opencitations.net/index/meta/api/v1/citations/10.3367/UFNr.0044.195105b.0007\n",
      "HTTP error: 404 Client Error: Not Found for url: https://opencitations.net/index/meta/api/v1/citations/10.3367/UFNe.0181.201106d.0647\n",
      "HTTP error: 404 Client Error: Not Found for url: https://opencitations.net/index/meta/api/v1/citations/10.1016/j.aop.2015.03.027\n",
      "HTTP error: 404 Client Error: Not Found for url: https://opencitations.net/index/meta/api/v1/citations/10.1103/PhysRevLett.104.240402\n",
      "HTTP error: 404 Client Error: Not Found for url: https://opencitations.net/index/meta/api/v1/citations/10.1209/0295-5075/118/20004\n",
      "HTTP error: 404 Client Error: Not Found for url: https://opencitations.net/index/meta/api/v1/citations/10.1209/0295-5075/118/45002\n",
      "HTTP error: 404 Client Error: Not Found for url: https://opencitations.net/index/meta/api/v1/citations/10.1103/PhysRevA.97.023607\n",
      "HTTP error: 404 Client Error: Not Found for url: https://opencitations.net/index/meta/api/v1/citations/10.1209/0295-5075/110/56001\n",
      "HTTP error: 404 Client Error: Not Found for url: https://opencitations.net/index/meta/api/v1/citations/10.1103/RevModPhys.77.935\n",
      "HTTP error: 404 Client Error: Not Found for url: https://opencitations.net/index/meta/api/v1/citations/10.1103/PhysRevLett.102.017001\n",
      "HTTP error: 404 Client Error: Not Found for url: https://opencitations.net/index/meta/api/v1/citations/10.1063/1.4983090\n",
      "HTTP error: 404 Client Error: Not Found for url: https://opencitations.net/index/meta/api/v1/citations/10.1103/PhysRevLett.93.057002\n",
      "HTTP error: 404 Client Error: Not Found for url: https://opencitations.net/index/meta/api/v1/citations/10.1038/srep00699\n",
      "HTTP error: 404 Client Error: Not Found for url: https://opencitations.net/index/meta/api/v1/citations/10.1103/PhysRevB.93.014432\n"
     ]
    },
    {
     "name": "stderr",
     "output_type": "stream",
     "text": [
      "18it [04:52, 16.88s/it]"
     ]
    },
    {
     "name": "stdout",
     "output_type": "stream",
     "text": [
      "HTTP error: 404 Client Error: Not Found for url: https://opencitations.net/index/meta/api/v1/citations/10.1007/BF02757107\n",
      "HTTP error: 404 Client Error: Not Found for url: https://opencitations.net/index/meta/api/v1/citations/10.1103/PhysRevLett.25.972\n"
     ]
    },
    {
     "name": "stderr",
     "output_type": "stream",
     "text": [
      "19it [04:54, 12.43s/it]"
     ]
    },
    {
     "name": "stdout",
     "output_type": "stream",
     "text": [
      "HTTP error: 404 Client Error: Not Found for url: https://opencitations.net/index/meta/api/v1/citations/10.1007/BF02790498\n",
      "HTTP error: 404 Client Error: Not Found for url: https://opencitations.net/index/meta/api/v1/citations/10.1016/0029-554X(65)90312-5\n",
      "HTTP error: 404 Client Error: Not Found for url: https://opencitations.net/index/meta/api/v1/citations/10.1016/0029-554X(73)90206-1\n",
      "HTTP error: 404 Client Error: Not Found for url: https://opencitations.net/index/meta/api/v1/citations/10.1016/0029-554X(67)91363-8\n",
      "HTTP error: 404 Client Error: Not Found for url: https://opencitations.net/index/meta/api/v1/citations/10.1016/0029-554X(75)90568-6\n",
      "HTTP error: 404 Client Error: Not Found for url: https://opencitations.net/index/meta/api/v1/citations/10.1007/BF02826303\n",
      "HTTP error: 404 Client Error: Not Found for url: https://opencitations.net/index/meta/api/v1/citations/10.1016/0029-554X(74)90777-0\n"
     ]
    },
    {
     "name": "stderr",
     "output_type": "stream",
     "text": [
      "20it [05:01, 11.00s/it]"
     ]
    },
    {
     "name": "stdout",
     "output_type": "stream",
     "text": [
      "HTTP error: 404 Client Error: Not Found for url: https://opencitations.net/index/meta/api/v1/citations/10.1515/9783112319000-006\n"
     ]
    },
    {
     "name": "stderr",
     "output_type": "stream",
     "text": [
      "21it [05:02,  8.04s/it]"
     ]
    },
    {
     "name": "stdout",
     "output_type": "stream",
     "text": [
      "HTTP error: 404 Client Error: Not Found for url: https://opencitations.net/index/meta/api/v1/citations/10.1016/0370-2693(92)91385-M\n",
      "HTTP error: 404 Client Error: Not Found for url: https://opencitations.net/index/meta/api/v1/citations/10.1016/0370-2693(87)90288-7\n",
      "HTTP error: 404 Client Error: Not Found for url: https://opencitations.net/index/meta/api/v1/citations/10.1016/0370-2693(91)90661-9\n",
      "HTTP error: 404 Client Error: Not Found for url: https://opencitations.net/index/meta/api/v1/citations/10.1103/PhysRevLett.67.3351\n",
      "HTTP error: 404 Client Error: Not Found for url: https://opencitations.net/index/meta/api/v1/citations/10.1016/0370-2693(91)91239-R\n",
      "HTTP error: 404 Client Error: Not Found for url: https://opencitations.net/index/meta/api/v1/citations/10.1016/0370-2693(90)90509-5\n",
      "HTTP error: 404 Client Error: Not Found for url: https://opencitations.net/index/meta/api/v1/citations/10.1016/0370-2693(92)90335-2\n",
      "HTTP error: 404 Client Error: Not Found for url: https://opencitations.net/index/meta/api/v1/citations/10.1016/0370-2693(87)91177-4\n",
      "HTTP error: 404 Client Error: Not Found for url: https://opencitations.net/index/meta/api/v1/citations/10.1103/PhysRevLett.62.2233\n",
      "HTTP error: 404 Client Error: Not Found for url: https://opencitations.net/index/meta/api/v1/citations/10.1103/PhysRevLett.65.2947\n",
      "HTTP error: 404 Client Error: Not Found for url: https://opencitations.net/index/meta/api/v1/citations/10.1016/0550-3213(78)90015-9\n",
      "HTTP error: 404 Client Error: Not Found for url: https://opencitations.net/index/meta/api/v1/citations/10.1016/0370-2693(92)90879-9\n",
      "HTTP error: 404 Client Error: Not Found for url: https://opencitations.net/index/meta/api/v1/citations/10.1016/0370-2693(91)90379-5\n",
      "HTTP error: 404 Client Error: Not Found for url: https://opencitations.net/index/meta/api/v1/citations/10.1103/PhysRevD.39.799\n",
      "HTTP error: 404 Client Error: Not Found for url: https://opencitations.net/index/meta/api/v1/citations/10.1007/BF01565609\n",
      "HTTP error: 404 Client Error: Not Found for url: https://opencitations.net/index/meta/api/v1/citations/10.1016/0010-4655(82)90175-8\n",
      "HTTP error: 404 Client Error: Not Found for url: https://opencitations.net/index/meta/api/v1/citations/10.1016/0010-4655(83)90041-3\n",
      "HTTP error: 404 Client Error: Not Found for url: https://opencitations.net/index/meta/api/v1/citations/10.1016/0168-9002(91)90793-P\n",
      "HTTP error: 404 Client Error: Not Found for url: https://opencitations.net/index/meta/api/v1/citations/10.1007/BF01559733\n"
     ]
    },
    {
     "name": "stderr",
     "output_type": "stream",
     "text": [
      "22it [05:22, 11.59s/it]"
     ]
    },
    {
     "name": "stdout",
     "output_type": "stream",
     "text": [
      "HTTP error: 404 Client Error: Not Found for url: https://opencitations.net/index/meta/api/v1/citations/10.1351/pac199365081815\n"
     ]
    },
    {
     "name": "stderr",
     "output_type": "stream",
     "text": [
      "23it [05:23,  8.45s/it]"
     ]
    },
    {
     "name": "stdout",
     "output_type": "stream",
     "text": [
      "HTTP error: 404 Client Error: Not Found for url: https://opencitations.net/index/meta/api/v1/citations/10.1063/1.1429310\n",
      "HTTP error: 404 Client Error: Not Found for url: https://opencitations.net/index/meta/api/v1/citations/10.1016/0168-583X(95)00183-2\n",
      "HTTP error: 404 Client Error: Not Found for url: https://opencitations.net/index/meta/api/v1/citations/10.1063/1.1146900\n",
      "HTTP error: 404 Client Error: Not Found for url: https://opencitations.net/index/meta/api/v1/citations/10.1063/1.1361087\n",
      "HTTP error: 404 Client Error: Not Found for url: https://opencitations.net/index/meta/api/v1/citations/10.1063/1.1150402\n",
      "HTTP error: 404 Client Error: Not Found for url: https://opencitations.net/index/meta/api/v1/citations/10.1088/0963-0252/2/4/004\n",
      "HTTP error: 404 Client Error: Not Found for url: https://opencitations.net/index/meta/api/v1/citations/10.1063/1.1150310\n"
     ]
    },
    {
     "name": "stderr",
     "output_type": "stream",
     "text": [
      "24it [05:36,  9.78s/it]"
     ]
    },
    {
     "name": "stdout",
     "output_type": "stream",
     "text": [
      "HTTP error: 404 Client Error: Not Found for url: https://opencitations.net/index/meta/api/v1/citations/10.1134/S0012500806070044\n",
      "HTTP error: 404 Client Error: Not Found for url: https://opencitations.net/index/meta/api/v1/citations/10.1007/s10631-005-0053-y\n",
      "HTTP error: 404 Client Error: Not Found for url: https://opencitations.net/index/meta/api/v1/citations/10.1007/s10631-005-0067-5\n",
      "HTTP error: 404 Client Error: Not Found for url: https://opencitations.net/index/meta/api/v1/citations/10.1007/s10631-005-0073-7\n",
      "HTTP error: 404 Client Error: Not Found for url: https://opencitations.net/index/meta/api/v1/citations/10.1007/s10631-005-0081-7\n"
     ]
    },
    {
     "name": "stderr",
     "output_type": "stream",
     "text": [
      "25it [05:42,  8.45s/it]"
     ]
    },
    {
     "name": "stdout",
     "output_type": "stream",
     "text": [
      "HTTP error: 404 Client Error: Not Found for url: https://opencitations.net/index/meta/api/v1/citations/10.1007/BF03035891\n",
      "HTTP error: 404 Client Error: Not Found for url: https://opencitations.net/index/meta/api/v1/citations/10.1016/0375-9474(93)90428-Z\n",
      "HTTP error: 404 Client Error: Not Found for url: https://opencitations.net/index/meta/api/v1/citations/10.1007/BF02780622\n",
      "HTTP error: 404 Client Error: Not Found for url: https://opencitations.net/index/meta/api/v1/citations/10.1103/PhysRevLett.67.1246\n",
      "HTTP error: 404 Client Error: Not Found for url: https://opencitations.net/index/meta/api/v1/citations/10.1103/PhysRevA.53.3129\n",
      "HTTP error: 404 Client Error: Not Found for url: https://opencitations.net/index/meta/api/v1/citations/10.1038/361238a0\n",
      "HTTP error: 404 Client Error: Not Found for url: https://opencitations.net/index/meta/api/v1/citations/10.1016/0031-9163(64)90216-1\n",
      "HTTP error: 404 Client Error: Not Found for url: https://opencitations.net/index/meta/api/v1/citations/10.1007/BF02775771\n"
     ]
    },
    {
     "name": "stderr",
     "output_type": "stream",
     "text": [
      "26it [05:51,  8.55s/it]"
     ]
    },
    {
     "name": "stdout",
     "output_type": "stream",
     "text": [
      "HTTP error: 404 Client Error: Not Found for url: https://opencitations.net/index/meta/api/v1/citations/10.1016/S0375-9474(14)00602-2\n"
     ]
    },
    {
     "name": "stderr",
     "output_type": "stream",
     "text": [
      "27it [05:52,  6.41s/it]"
     ]
    },
    {
     "name": "stdout",
     "output_type": "stream",
     "text": [
      "HTTP error: 404 Client Error: Not Found for url: https://opencitations.net/index/meta/api/v1/citations/10.1016/0165-6074(87)90120-7\n",
      "HTTP error: 404 Client Error: Not Found for url: https://opencitations.net/index/meta/api/v1/citations/10.1109/TNS.1985.4333621\n"
     ]
    },
    {
     "name": "stderr",
     "output_type": "stream",
     "text": [
      "28it [05:54,  5.23s/it]"
     ]
    },
    {
     "name": "stdout",
     "output_type": "stream",
     "text": [
      "HTTP error: 404 Client Error: Not Found for url: https://opencitations.net/index/meta/api/v1/citations/10.1016/0031-9163(65)90864-4\n",
      "HTTP error: 404 Client Error: Not Found for url: https://opencitations.net/index/meta/api/v1/citations/10.1016/0029-5582(61)90192-4\n",
      "HTTP error: 404 Client Error: Not Found for url: https://opencitations.net/index/meta/api/v1/citations/10.1103/RevModPhys.35.853\n",
      "HTTP error: 404 Client Error: Not Found for url: https://opencitations.net/index/meta/api/v1/citations/10.1016/0029-5582(62)91052-0\n",
      "HTTP error: 404 Client Error: Not Found for url: https://opencitations.net/index/meta/api/v1/citations/10.1103/PhysRev.136.B351\n",
      "HTTP error: 404 Client Error: Not Found for url: https://opencitations.net/index/meta/api/v1/citations/10.1016/0029-5582(64)90478-X\n"
     ]
    },
    {
     "name": "stderr",
     "output_type": "stream",
     "text": [
      "29it [06:01,  5.69s/it]"
     ]
    },
    {
     "name": "stdout",
     "output_type": "stream",
     "text": [
      "HTTP error: 404 Client Error: Not Found for url: https://opencitations.net/index/meta/api/v1/citations/10.1016/j.scitotenv.2015.07.070\n",
      "HTTP error: 404 Client Error: Not Found for url: https://opencitations.net/index/meta/api/v1/citations/10.1016/j.scitotenv.2010.09.013\n",
      "HTTP error: 404 Client Error: Not Found for url: https://opencitations.net/index/meta/api/v1/citations/10.1016/j.envpol.2007.06.043\n",
      "HTTP error: 404 Client Error: Not Found for url: https://opencitations.net/index/meta/api/v1/citations/10.1016/j.envpol.2015.01.036\n",
      "HTTP error: 404 Client Error: Not Found for url: https://opencitations.net/index/meta/api/v1/citations/10.1016/j.envpol.2010.06.039\n",
      "HTTP error: 404 Client Error: Not Found for url: https://opencitations.net/index/meta/api/v1/citations/10.1007/s10874-010-9160-3\n",
      "HTTP error: 404 Client Error: Not Found for url: https://opencitations.net/index/meta/api/v1/citations/10.1007/s11368-010-0254-y\n",
      "HTTP error: 404 Client Error: Not Found for url: https://opencitations.net/index/meta/api/v1/citations/10.1016/j.envpol.2014.03.016\n"
     ]
    },
    {
     "name": "stderr",
     "output_type": "stream",
     "text": [
      "30it [06:09,  6.47s/it]"
     ]
    },
    {
     "name": "stdout",
     "output_type": "stream",
     "text": [
      "HTTP error: 404 Client Error: Not Found for url: https://opencitations.net/index/meta/api/v1/citations/10.1016/S0920-5632(95)80097-2\n",
      "HTTP error: 404 Client Error: Not Found for url: https://opencitations.net/index/meta/api/v1/citations/10.1016/0168-9002(92)90792-3\n"
     ]
    },
    {
     "name": "stderr",
     "output_type": "stream",
     "text": [
      "31it [06:12,  5.14s/it]"
     ]
    },
    {
     "name": "stdout",
     "output_type": "stream",
     "text": [
      "HTTP error: 404 Client Error: Not Found for url: https://opencitations.net/index/meta/api/v1/citations/10.1140/epjcd/s2003-01-0015-3\n"
     ]
    },
    {
     "name": "stderr",
     "output_type": "stream",
     "text": [
      "32it [06:13,  3.91s/it]"
     ]
    },
    {
     "name": "stdout",
     "output_type": "stream",
     "text": [
      "HTTP error: 404 Client Error: Not Found for url: https://opencitations.net/index/meta/api/v1/citations/10.1109/TNS.1969.4325169\n"
     ]
    },
    {
     "name": "stderr",
     "output_type": "stream",
     "text": [
      "33it [06:14,  3.08s/it]"
     ]
    },
    {
     "name": "stdout",
     "output_type": "stream",
     "text": [
      "HTTP error: 404 Client Error: Not Found for url: https://opencitations.net/index/meta/api/v1/citations/10.1140/epjc/s2003-01541-5\n"
     ]
    },
    {
     "name": "stderr",
     "output_type": "stream",
     "text": [
      "34it [06:15,  2.43s/it]"
     ]
    },
    {
     "name": "stdout",
     "output_type": "stream",
     "text": [
      "HTTP error: 404 Client Error: Not Found for url: https://opencitations.net/index/meta/api/v1/citations/10.1103/PhysRevLett.95.209001\n",
      "HTTP error: 404 Client Error: Not Found for url: https://opencitations.net/index/meta/api/v1/citations/10.1103/PhysRevLett.94.171302\n",
      "HTTP error: 404 Client Error: Not Found for url: https://opencitations.net/index/meta/api/v1/citations/10.1086/423193\n",
      "HTTP error: 404 Client Error: Not Found for url: https://opencitations.net/index/meta/api/v1/citations/10.1016/j.newar.2005.01.029\n",
      "HTTP error: 404 Client Error: Not Found for url: https://opencitations.net/index/meta/api/v1/citations/10.1086/305222\n"
     ]
    },
    {
     "name": "stderr",
     "output_type": "stream",
     "text": [
      "35it [06:19,  3.06s/it]"
     ]
    },
    {
     "name": "stdout",
     "output_type": "stream",
     "text": [
      "HTTP error: 404 Client Error: Not Found for url: https://opencitations.net/index/meta/api/v1/citations/10.1002/pssb.2220450155\n",
      "HTTP error: 404 Client Error: Not Found for url: https://opencitations.net/index/meta/api/v1/citations/10.1103/PhysRev.131.2345\n",
      "HTTP error: 404 Client Error: Not Found for url: https://opencitations.net/index/meta/api/v1/citations/10.1103/PhysRevLett.24.394\n",
      "HTTP error: 404 Client Error: Not Found for url: https://opencitations.net/index/meta/api/v1/citations/10.1002/pssb.19640050305\n"
     ]
    },
    {
     "name": "stderr",
     "output_type": "stream",
     "text": [
      "36it [06:23,  3.33s/it]"
     ]
    },
    {
     "name": "stdout",
     "output_type": "stream",
     "text": [
      "HTTP error: 404 Client Error: Not Found for url: https://opencitations.net/index/meta/api/v1/citations/10.1016/S0375-9474(18)30507-4\n"
     ]
    },
    {
     "name": "stderr",
     "output_type": "stream",
     "text": [
      "37it [06:24,  2.61s/it]"
     ]
    },
    {
     "name": "stdout",
     "output_type": "stream",
     "text": [
      "HTTP error: 404 Client Error: Not Found for url: https://opencitations.net/index/meta/api/v1/citations/10.1016/S0920-5632(97)00366-6\n",
      "HTTP error: 404 Client Error: Not Found for url: https://opencitations.net/index/meta/api/v1/citations/10.1016/0370-2693(93)90951-D\n",
      "HTTP error: 404 Client Error: Not Found for url: https://opencitations.net/index/meta/api/v1/citations/10.1016/0550-3213(95)00609-5\n",
      "HTTP error: 404 Client Error: Not Found for url: https://opencitations.net/index/meta/api/v1/citations/10.1142/S0217732396001685\n",
      "HTTP error: 404 Client Error: Not Found for url: https://opencitations.net/index/meta/api/v1/citations/10.1142/S0217751X97000037\n",
      "HTTP error: 404 Client Error: Not Found for url: https://opencitations.net/index/meta/api/v1/citations/10.1088/0264-9381/13/5/004\n"
     ]
    },
    {
     "name": "stderr",
     "output_type": "stream",
     "text": [
      "38it [06:29,  3.44s/it]"
     ]
    },
    {
     "name": "stdout",
     "output_type": "stream",
     "text": [
      "HTTP error: 404 Client Error: Not Found for url: https://opencitations.net/index/meta/api/v1/citations/10.1016/0031-9163(64)90707-3\n",
      "HTTP error: 404 Client Error: Not Found for url: https://opencitations.net/index/meta/api/v1/citations/10.1016/0029-5582(59)90238-X\n",
      "HTTP error: 404 Client Error: Not Found for url: https://opencitations.net/index/meta/api/v1/citations/10.1103/PhysRev.85.947\n",
      "HTTP error: 404 Client Error: Not Found for url: https://opencitations.net/index/meta/api/v1/citations/10.1103/PhysRev.133.B428\n",
      "HTTP error: 404 Client Error: Not Found for url: https://opencitations.net/index/meta/api/v1/citations/10.1007/BF02859566\n",
      "HTTP error: 404 Client Error: Not Found for url: https://opencitations.net/index/meta/api/v1/citations/10.1103/PhysRev.115.736\n"
     ]
    },
    {
     "name": "stderr",
     "output_type": "stream",
     "text": [
      "39it [06:35,  4.02s/it]"
     ]
    },
    {
     "name": "stdout",
     "output_type": "stream",
     "text": [
      "HTTP error: 404 Client Error: Not Found for url: https://opencitations.net/index/meta/api/v1/citations/10.1016/0010-4655(78)90036-X\n",
      "HTTP error: 404 Client Error: Not Found for url: https://opencitations.net/index/meta/api/v1/citations/10.1016/0029-554X(75)90055-5\n",
      "HTTP error: 404 Client Error: Not Found for url: https://opencitations.net/index/meta/api/v1/citations/10.1016/0029-554X(77)90344-5\n"
     ]
    },
    {
     "name": "stderr",
     "output_type": "stream",
     "text": [
      "40it [06:38,  3.73s/it]"
     ]
    },
    {
     "name": "stdout",
     "output_type": "stream",
     "text": [
      "HTTP error: 404 Client Error: Not Found for url: https://opencitations.net/index/meta/api/v1/citations/10.1016/0168-9002(94)01183-4\n",
      "HTTP error: 404 Client Error: Not Found for url: https://opencitations.net/index/meta/api/v1/citations/10.1016/0550-3213(85)90391-8\n",
      "HTTP error: 404 Client Error: Not Found for url: https://opencitations.net/index/meta/api/v1/citations/10.1007/BF01575431\n",
      "HTTP error: 404 Client Error: Not Found for url: https://opencitations.net/index/meta/api/v1/citations/10.1016/0550-3213(87)90057-5\n",
      "HTTP error: 404 Client Error: Not Found for url: https://opencitations.net/index/meta/api/v1/citations/10.1016/0550-3213(88)90033-8\n",
      "HTTP error: 404 Client Error: Not Found for url: https://opencitations.net/index/meta/api/v1/citations/10.1016/0550-3213(92)90618-L\n",
      "HTTP error: 404 Client Error: Not Found for url: https://opencitations.net/index/meta/api/v1/citations/10.3367/UFNr.0163.199307c.0045\n"
     ]
    },
    {
     "name": "stderr",
     "output_type": "stream",
     "text": [
      "41it [06:46,  5.04s/it]"
     ]
    },
    {
     "name": "stdout",
     "output_type": "stream",
     "text": [
      "HTTP error: 404 Client Error: Not Found for url: https://opencitations.net/index/meta/api/v1/citations/10.1103/PhysRevLett.54.490\n",
      "HTTP error: 404 Client Error: Not Found for url: https://opencitations.net/index/meta/api/v1/citations/10.1038/307245a0\n",
      "HTTP error: 404 Client Error: Not Found for url: https://opencitations.net/index/meta/api/v1/citations/10.1103/PhysRevLett.53.759\n",
      "HTTP error: 404 Client Error: Not Found for url: https://opencitations.net/index/meta/api/v1/citations/10.1051/jphys:01983004407079100\n",
      "HTTP error: 404 Client Error: Not Found for url: https://opencitations.net/index/meta/api/v1/citations/10.1051/jphys:019840045070109900\n",
      "HTTP error: 404 Client Error: Not Found for url: https://opencitations.net/index/meta/api/v1/citations/10.1088/0305-4616/10/8/004\n"
     ]
    },
    {
     "name": "stderr",
     "output_type": "stream",
     "text": [
      "42it [06:52,  5.43s/it]"
     ]
    },
    {
     "name": "stdout",
     "output_type": "stream",
     "text": [
      "HTTP error: 404 Client Error: Not Found for url: https://opencitations.net/index/meta/api/v1/citations/10.1016/j.nuclphysbps.2005.01.233\n",
      "HTTP error: 404 Client Error: Not Found for url: https://opencitations.net/index/meta/api/v1/citations/10.1016/S0168-9002(98)00018-7\n",
      "HTTP error: 404 Client Error: Not Found for url: https://opencitations.net/index/meta/api/v1/citations/10.1016/S0927-6505(01)00110-4\n",
      "HTTP error: 404 Client Error: Not Found for url: https://opencitations.net/index/meta/api/v1/citations/10.1134/1.1625721\n"
     ]
    },
    {
     "name": "stderr",
     "output_type": "stream",
     "text": [
      "43it [06:56,  5.06s/it]"
     ]
    },
    {
     "name": "stdout",
     "output_type": "stream",
     "text": [
      "HTTP error: 404 Client Error: Not Found for url: https://opencitations.net/index/meta/api/v1/citations/10.1016/S0375-9474(17)30384-6\n"
     ]
    },
    {
     "name": "stderr",
     "output_type": "stream",
     "text": [
      "44it [06:58,  3.88s/it]"
     ]
    },
    {
     "name": "stdout",
     "output_type": "stream",
     "text": [
      "HTTP error: 404 Client Error: Not Found for url: https://opencitations.net/index/meta/api/v1/citations/10.1007/BF01590095\n",
      "HTTP error: 404 Client Error: Not Found for url: https://opencitations.net/index/meta/api/v1/citations/10.1063/1.524700\n",
      "HTTP error: 404 Client Error: Not Found for url: https://opencitations.net/index/meta/api/v1/citations/10.1088/0305-4470/16/14/021\n",
      "HTTP error: 404 Client Error: Not Found for url: https://opencitations.net/index/meta/api/v1/citations/10.1016/0375-9601(81)90938-5\n",
      "HTTP error: 404 Client Error: Not Found for url: https://opencitations.net/index/meta/api/v1/citations/10.1007/BF01603581\n",
      "HTTP error: 404 Client Error: Not Found for url: https://opencitations.net/index/meta/api/v1/citations/10.1103/RevModPhys.48.553\n",
      "HTTP error: 404 Client Error: Not Found for url: https://opencitations.net/index/meta/api/v1/citations/10.1103/PhysRevLett.49.1885\n",
      "HTTP error: 404 Client Error: Not Found for url: https://opencitations.net/index/meta/api/v1/citations/10.1007/BF02725927\n",
      "HTTP error: 404 Client Error: Not Found for url: https://opencitations.net/index/meta/api/v1/citations/10.1515/9781400868940-009\n",
      "HTTP error: 404 Client Error: Not Found for url: https://opencitations.net/index/meta/api/v1/citations/10.1007/BF01614249\n",
      "HTTP error: 404 Client Error: Not Found for url: https://opencitations.net/index/meta/api/v1/citations/10.1103/PhysRev.82.840\n",
      "HTTP error: 404 Client Error: Not Found for url: https://opencitations.net/index/meta/api/v1/citations/10.1073/pnas.38.11.961\n",
      "HTTP error: 404 Client Error: Not Found for url: https://opencitations.net/index/meta/api/v1/citations/10.1007/BF01649591\n",
      "HTTP error: 404 Client Error: Not Found for url: https://opencitations.net/index/meta/api/v1/citations/10.1515/9781400883882\n",
      "HTTP error: 404 Client Error: Not Found for url: https://opencitations.net/index/meta/api/v1/citations/10.1007/BF02418013\n",
      "HTTP error: 404 Client Error: Not Found for url: https://opencitations.net/index/meta/api/v1/citations/10.1137/0121004\n",
      "HTTP error: 404 Client Error: Not Found for url: https://opencitations.net/index/meta/api/v1/citations/10.1090/pspum/036/573436\n",
      "HTTP error: 404 Client Error: Not Found for url: https://opencitations.net/index/meta/api/v1/citations/10.1063/1.525840\n",
      "HTTP error: 404 Client Error: Not Found for url: https://opencitations.net/index/meta/api/v1/citations/10.1016/0003-4916(80)90396-6\n",
      "HTTP error: 404 Client Error: Not Found for url: https://opencitations.net/index/meta/api/v1/citations/10.1088/0305-4470/16/5/014\n",
      "HTTP error: 404 Client Error: Not Found for url: https://opencitations.net/index/meta/api/v1/citations/10.1016/0034-4877(84)90018-1\n",
      "HTTP error: 404 Client Error: Not Found for url: https://opencitations.net/index/meta/api/v1/citations/10.1016/0375-9601(83)90757-0\n",
      "HTTP error: 404 Client Error: Not Found for url: https://opencitations.net/index/meta/api/v1/citations/10.1090/S0002-9904-1976-14149-3\n",
      "HTTP error: 404 Client Error: Not Found for url: https://opencitations.net/index/meta/api/v1/citations/10.2307/1971160\n",
      "HTTP error: 404 Client Error: Not Found for url: https://opencitations.net/index/meta/api/v1/citations/10.1007/BF01590200\n"
     ]
    },
    {
     "name": "stderr",
     "output_type": "stream",
     "text": [
      "45it [07:22, 10.05s/it]"
     ]
    },
    {
     "name": "stdout",
     "output_type": "stream",
     "text": [
      "HTTP error: 404 Client Error: Not Found for url: https://opencitations.net/index/meta/api/v1/citations/10.1007/BF02732955\n",
      "HTTP error: 404 Client Error: Not Found for url: https://opencitations.net/index/meta/api/v1/citations/10.1016/0029-5582(58)90214-1\n",
      "HTTP error: 404 Client Error: Not Found for url: https://opencitations.net/index/meta/api/v1/citations/10.1103/PhysRev.104.254\n",
      "HTTP error: 404 Client Error: Not Found for url: https://opencitations.net/index/meta/api/v1/citations/10.1103/PhysRev.108.1102\n",
      "HTTP error: 404 Client Error: Not Found for url: https://opencitations.net/index/meta/api/v1/citations/10.1103/PhysRev.108.1353\n"
     ]
    },
    {
     "name": "stderr",
     "output_type": "stream",
     "text": [
      "46it [07:27,  8.49s/it]"
     ]
    },
    {
     "name": "stdout",
     "output_type": "stream",
     "text": [
      "HTTP error: 404 Client Error: Not Found for url: https://opencitations.net/index/meta/api/v1/citations/10.1063/1.527410\n"
     ]
    },
    {
     "name": "stderr",
     "output_type": "stream",
     "text": [
      "47it [07:28,  6.22s/it]"
     ]
    },
    {
     "name": "stdout",
     "output_type": "stream",
     "text": [
      "HTTP error: 404 Client Error: Not Found for url: https://opencitations.net/index/meta/api/v1/citations/10.1007/BF02814638\n",
      "HTTP error: 404 Client Error: Not Found for url: https://opencitations.net/index/meta/api/v1/citations/10.1007/BF02747655\n",
      "HTTP error: 404 Client Error: Not Found for url: https://opencitations.net/index/meta/api/v1/citations/10.1007/978-94-009-8937-5_16\n",
      "HTTP error: 404 Client Error: Not Found for url: https://opencitations.net/index/meta/api/v1/citations/10.2307/2003554\n",
      "HTTP error: 404 Client Error: Not Found for url: https://opencitations.net/index/meta/api/v1/citations/10.1002/andp.19113390503\n"
     ]
    },
    {
     "name": "stderr",
     "output_type": "stream",
     "text": [
      "48it [07:33,  5.86s/it]"
     ]
    },
    {
     "name": "stdout",
     "output_type": "stream",
     "text": [
      "HTTP error: 404 Client Error: Not Found for url: https://opencitations.net/index/meta/api/v1/citations/10.1007/BF02891980\n",
      "HTTP error: 404 Client Error: Not Found for url: https://opencitations.net/index/meta/api/v1/citations/10.1080/00207177308932472\n",
      "HTTP error: 404 Client Error: Not Found for url: https://opencitations.net/index/meta/api/v1/citations/10.1016/0370-2693(70)90225-X\n",
      "HTTP error: 404 Client Error: Not Found for url: https://opencitations.net/index/meta/api/v1/citations/10.1007/BF02721658\n"
     ]
    },
    {
     "name": "stderr",
     "output_type": "stream",
     "text": [
      "49it [07:37,  5.33s/it]"
     ]
    },
    {
     "name": "stdout",
     "output_type": "stream",
     "text": [
      "HTTP error: 404 Client Error: Not Found for url: https://opencitations.net/index/meta/api/v1/citations/10.1016/0375-9474(95)00111-D\n",
      "HTTP error: 404 Client Error: Not Found for url: https://opencitations.net/index/meta/api/v1/citations/10.1007/BF01290776\n",
      "HTTP error: 404 Client Error: Not Found for url: https://opencitations.net/index/meta/api/v1/citations/10.1016/0375-9474(90)90387-2\n",
      "HTTP error: 404 Client Error: Not Found for url: https://opencitations.net/index/meta/api/v1/citations/10.1016/0370-2693(94)91336-6\n",
      "HTTP error: 404 Client Error: Not Found for url: https://opencitations.net/index/meta/api/v1/citations/10.1016/0370-2693(85)91392-9\n",
      "HTTP error: 404 Client Error: Not Found for url: https://opencitations.net/index/meta/api/v1/citations/10.1016/0375-9474(93)90187-3\n",
      "HTTP error: 404 Client Error: Not Found for url: https://opencitations.net/index/meta/api/v1/citations/10.1007/BF01283193\n",
      "HTTP error: 404 Client Error: Not Found for url: https://opencitations.net/index/meta/api/v1/citations/10.1007/BF01289828\n"
     ]
    },
    {
     "name": "stderr",
     "output_type": "stream",
     "text": [
      "50it [07:44,  5.92s/it]"
     ]
    },
    {
     "name": "stdout",
     "output_type": "stream",
     "text": [
      "HTTP error: 404 Client Error: Not Found for url: https://opencitations.net/index/meta/api/v1/citations/10.1145/120694.120767\n"
     ]
    },
    {
     "name": "stderr",
     "output_type": "stream",
     "text": [
      "51it [07:45,  4.44s/it]"
     ]
    },
    {
     "name": "stdout",
     "output_type": "stream",
     "text": [
      "HTTP error: 404 Client Error: Not Found for url: https://opencitations.net/index/meta/api/v1/citations/10.1016/0031-9163(65)91011-5\n",
      "HTTP error: 404 Client Error: Not Found for url: https://opencitations.net/index/meta/api/v1/citations/10.1103/PhysRevLett.7.394\n",
      "HTTP error: 404 Client Error: Not Found for url: https://opencitations.net/index/meta/api/v1/citations/10.1016/0029-5582(61)90134-1\n",
      "HTTP error: 404 Client Error: Not Found for url: https://opencitations.net/index/meta/api/v1/citations/10.1103/PhysRev.130.1177\n",
      "HTTP error: 404 Client Error: Not Found for url: https://opencitations.net/index/meta/api/v1/citations/10.1103/PhysRev.130.2455\n",
      "HTTP error: 404 Client Error: Not Found for url: https://opencitations.net/index/meta/api/v1/citations/10.1007/BF02733598\n",
      "HTTP error: 404 Client Error: Not Found for url: https://opencitations.net/index/meta/api/v1/citations/10.1103/PhysRev.128.1939\n",
      "HTTP error: 404 Client Error: Not Found for url: https://opencitations.net/index/meta/api/v1/citations/10.1103/PhysRev.121.1250\n",
      "HTTP error: 404 Client Error: Not Found for url: https://opencitations.net/index/meta/api/v1/citations/10.1103/PhysRevLett.4.473\n",
      "HTTP error: 404 Client Error: Not Found for url: https://opencitations.net/index/meta/api/v1/citations/10.1103/PhysRevLett.10.192\n",
      "HTTP error: 404 Client Error: Not Found for url: https://opencitations.net/index/meta/api/v1/citations/10.1103/PhysRevLett.13.173\n",
      "HTTP error: 404 Client Error: Not Found for url: https://opencitations.net/index/meta/api/v1/citations/10.1103/PhysRev.136.B1756\n",
      "HTTP error: 404 Client Error: Not Found for url: https://opencitations.net/index/meta/api/v1/citations/10.1103/PhysRev.131.1888\n",
      "HTTP error: 404 Client Error: Not Found for url: https://opencitations.net/index/meta/api/v1/citations/10.1103/PhysRev.138.B246\n"
     ]
    },
    {
     "name": "stderr",
     "output_type": "stream",
     "text": [
      "52it [07:59,  7.32s/it]"
     ]
    },
    {
     "name": "stdout",
     "output_type": "stream",
     "text": [
      "HTTP error: 404 Client Error: Not Found for url: https://opencitations.net/index/meta/api/v1/citations/10.1016/j.nuclphysa.2006.07.008\n"
     ]
    },
    {
     "name": "stderr",
     "output_type": "stream",
     "text": [
      "53it [08:00,  5.39s/it]"
     ]
    },
    {
     "name": "stdout",
     "output_type": "stream",
     "text": [
      "HTTP error: 404 Client Error: Not Found for url: https://opencitations.net/index/meta/api/v1/citations/10.1140/epjc/s10052-009-1138-4\n"
     ]
    },
    {
     "name": "stderr",
     "output_type": "stream",
     "text": [
      "54it [08:01,  4.06s/it]"
     ]
    },
    {
     "name": "stdout",
     "output_type": "stream",
     "text": [
      "HTTP error: 404 Client Error: Not Found for url: https://opencitations.net/index/meta/api/v1/citations/10.1023/A:1026483120470\n"
     ]
    },
    {
     "name": "stderr",
     "output_type": "stream",
     "text": [
      "55it [08:02,  3.13s/it]"
     ]
    },
    {
     "name": "stdout",
     "output_type": "stream",
     "text": [
      "HTTP error: 404 Client Error: Not Found for url: https://opencitations.net/index/meta/api/v1/citations/10.1007/978-3-319-00047-3_10\n",
      "HTTP error: 404 Client Error: Not Found for url: https://opencitations.net/index/meta/api/v1/citations/10.1007/BF01488988\n",
      "HTTP error: 404 Client Error: Not Found for url: https://opencitations.net/index/meta/api/v1/citations/10.1038/143239a0\n",
      "HTTP error: 404 Client Error: Not Found for url: https://opencitations.net/index/meta/api/v1/citations/10.1007/BF01337700\n",
      "HTTP error: 404 Client Error: Not Found for url: https://opencitations.net/index/meta/api/v1/citations/10.1016/0029-5582(63)90635-7\n",
      "HTTP error: 404 Client Error: Not Found for url: https://opencitations.net/index/meta/api/v1/citations/10.1016/0370-2693(73)90246-3\n",
      "HTTP error: 404 Client Error: Not Found for url: https://opencitations.net/index/meta/api/v1/citations/10.1016/0375-9474(74)90673-3\n",
      "HTTP error: 404 Client Error: Not Found for url: https://opencitations.net/index/meta/api/v1/citations/10.1103/PhysRevC.59.3457\n",
      "HTTP error: 404 Client Error: Not Found for url: https://opencitations.net/index/meta/api/v1/citations/10.1103/PhysRevLett.11.129\n",
      "HTTP error: 404 Client Error: Not Found for url: https://opencitations.net/index/meta/api/v1/citations/10.1016/0370-2693(87)90619-8\n",
      "HTTP error: 404 Client Error: Not Found for url: https://opencitations.net/index/meta/api/v1/citations/10.1007/BF01415224\n",
      "HTTP error: 404 Client Error: Not Found for url: https://opencitations.net/index/meta/api/v1/citations/10.1016/S0168-9002(97)00777-8\n",
      "HTTP error: 404 Client Error: Not Found for url: https://opencitations.net/index/meta/api/v1/citations/10.1140/epja/i2012-12094-5\n",
      "HTTP error: 404 Client Error: Not Found for url: https://opencitations.net/index/meta/api/v1/citations/10.1140/epja/i2010-10988-8\n",
      "HTTP error: 404 Client Error: Not Found for url: https://opencitations.net/index/meta/api/v1/citations/10.1142/S0218301309013038\n",
      "HTTP error: 404 Client Error: Not Found for url: https://opencitations.net/index/meta/api/v1/citations/10.1016/0375-9474(75)90687-9\n"
     ]
    },
    {
     "name": "stderr",
     "output_type": "stream",
     "text": [
      "56it [08:16,  6.51s/it]"
     ]
    },
    {
     "name": "stdout",
     "output_type": "stream",
     "text": [
      "HTTP error: 404 Client Error: Not Found for url: https://opencitations.net/index/meta/api/v1/citations/10.1016/0011-2275(68)90093-3\n",
      "HTTP error: 404 Client Error: Not Found for url: https://opencitations.net/index/meta/api/v1/citations/10.1007/978-1-4757-0528-7_3\n",
      "HTTP error: 404 Client Error: Not Found for url: https://opencitations.net/index/meta/api/v1/citations/10.1088/0508-3443/14/11/303\n",
      "HTTP error: 404 Client Error: Not Found for url: https://opencitations.net/index/meta/api/v1/citations/10.1016/0011-2275(65)90009-3\n",
      "HTTP error: 404 Client Error: Not Found for url: https://opencitations.net/index/meta/api/v1/citations/10.1007/978-1-4757-0525-6_38\n",
      "HTTP error: 404 Client Error: Not Found for url: https://opencitations.net/index/meta/api/v1/citations/10.1063/1.3051796\n",
      "HTTP error: 404 Client Error: Not Found for url: https://opencitations.net/index/meta/api/v1/citations/10.1063/1.1702436\n",
      "HTTP error: 404 Client Error: Not Found for url: https://opencitations.net/index/meta/api/v1/citations/10.1103/PhysRevLett.9.293\n",
      "HTTP error: 404 Client Error: Not Found for url: https://opencitations.net/index/meta/api/v1/citations/10.1063/1.1753877\n",
      "HTTP error: 404 Client Error: Not Found for url: https://opencitations.net/index/meta/api/v1/citations/10.1103/PhysRevLett.9.309\n",
      "HTTP error: 404 Client Error: Not Found for url: https://opencitations.net/index/meta/api/v1/citations/10.1103/RevModPhys.36.39\n"
     ]
    },
    {
     "name": "stderr",
     "output_type": "stream",
     "text": [
      "57it [08:26,  7.51s/it]"
     ]
    },
    {
     "name": "stdout",
     "output_type": "stream",
     "text": [
      "HTTP error: 404 Client Error: Not Found for url: https://opencitations.net/index/meta/api/v1/citations/10.1002/pssb.2220450245\n",
      "HTTP error: 404 Client Error: Not Found for url: https://opencitations.net/index/meta/api/v1/citations/10.1088/0022-3719/1/3/316\n",
      "HTTP error: 404 Client Error: Not Found for url: https://opencitations.net/index/meta/api/v1/citations/10.1103/PhysRevLett.25.752\n",
      "HTTP error: 404 Client Error: Not Found for url: https://opencitations.net/index/meta/api/v1/citations/10.1063/1.1734324\n",
      "HTTP error: 404 Client Error: Not Found for url: https://opencitations.net/index/meta/api/v1/citations/10.1063/1.1740666\n",
      "HTTP error: 404 Client Error: Not Found for url: https://opencitations.net/index/meta/api/v1/citations/10.1103/PhysRev.92.1387\n",
      "HTTP error: 404 Client Error: Not Found for url: https://opencitations.net/index/meta/api/v1/citations/10.1103/PhysRev.136.A271\n"
     ]
    },
    {
     "name": "stderr",
     "output_type": "stream",
     "text": [
      "58it [08:33,  7.16s/it]"
     ]
    },
    {
     "name": "stdout",
     "output_type": "stream",
     "text": [
      "HTTP error: 404 Client Error: Not Found for url: https://opencitations.net/index/meta/api/v1/citations/10.1103/PhysRevLett.112.182001\n",
      "HTTP error: 404 Client Error: Not Found for url: https://opencitations.net/index/meta/api/v1/citations/10.1140/epjc/s2006-02631-6\n",
      "HTTP error: 404 Client Error: Not Found for url: https://opencitations.net/index/meta/api/v1/citations/10.1103/PhysRevLett.100.142002\n",
      "HTTP error: 404 Client Error: Not Found for url: https://opencitations.net/index/meta/api/v1/citations/10.1103/PhysRevD.87.092002\n",
      "HTTP error: 404 Client Error: Not Found for url: https://opencitations.net/index/meta/api/v1/citations/10.1103/PhysRevD.85.091104\n",
      "HTTP error: 404 Client Error: Not Found for url: https://opencitations.net/index/meta/api/v1/citations/10.1103/PhysRevD.81.074024\n",
      "HTTP error: 404 Client Error: Not Found for url: https://opencitations.net/index/meta/api/v1/citations/10.1103/PhysRevD.86.092003\n",
      "HTTP error: 404 Client Error: Not Found for url: https://opencitations.net/index/meta/api/v1/citations/10.1103/PhysRevD.84.074034\n",
      "HTTP error: 404 Client Error: Not Found for url: https://opencitations.net/index/meta/api/v1/citations/10.1007/JHEP08(2012)114\n",
      "HTTP error: 404 Client Error: Not Found for url: https://opencitations.net/index/meta/api/v1/citations/10.1088/1742-6596/447/1/012015\n",
      "HTTP error: 404 Client Error: Not Found for url: https://opencitations.net/index/meta/api/v1/citations/10.1103/PhysRevD.83.031104\n",
      "HTTP error: 404 Client Error: Not Found for url: https://opencitations.net/index/meta/api/v1/citations/10.1103/PhysRevLett.107.032001\n",
      "HTTP error: 404 Client Error: Not Found for url: https://opencitations.net/index/meta/api/v1/citations/10.1016/j.physletb.2011.05.077\n",
      "HTTP error: 404 Client Error: Not Found for url: https://opencitations.net/index/meta/api/v1/citations/10.1103/PhysRevLett.108.212001\n",
      "HTTP error: 404 Client Error: Not Found for url: https://opencitations.net/index/meta/api/v1/citations/10.1103/PhysRevD.87.011103\n",
      "HTTP error: 404 Client Error: Not Found for url: https://opencitations.net/index/meta/api/v1/citations/10.1103/PhysRevLett.111.232002\n",
      "HTTP error: 404 Client Error: Not Found for url: https://opencitations.net/index/meta/api/v1/citations/10.1016/j.physletb.2013.06.051\n",
      "HTTP error: 404 Client Error: Not Found for url: https://opencitations.net/index/meta/api/v1/citations/10.1088/1748-0221/3/08/S08004\n",
      "HTTP error: 404 Client Error: Not Found for url: https://opencitations.net/index/meta/api/v1/citations/10.1088/1748-0221/7/10/P10002\n",
      "HTTP error: 404 Client Error: Not Found for url: https://opencitations.net/index/meta/api/v1/citations/10.1007/JHEP07(2011)049\n",
      "HTTP error: 404 Client Error: Not Found for url: https://opencitations.net/index/meta/api/v1/citations/10.1088/1126-6708/2008/04/063\n",
      "HTTP error: 404 Client Error: Not Found for url: https://opencitations.net/index/meta/api/v1/citations/10.1088/1748-0221/6/11/P11002\n",
      "HTTP error: 404 Client Error: Not Found for url: https://opencitations.net/index/meta/api/v1/citations/10.1088/1748-0221/8/04/P04013\n",
      "HTTP error: 404 Client Error: Not Found for url: https://opencitations.net/index/meta/api/v1/citations/10.1088/1126-6708/2002/06/029\n",
      "HTTP error: 404 Client Error: Not Found for url: https://opencitations.net/index/meta/api/v1/citations/10.1088/1126-6708/2001/01/010\n",
      "HTTP error: 404 Client Error: Not Found for url: https://opencitations.net/index/meta/api/v1/citations/10.1007/JHEP06(2011)128\n",
      "HTTP error: 404 Client Error: Not Found for url: https://opencitations.net/index/meta/api/v1/citations/10.1088/1126-6708/2007/11/070\n",
      "HTTP error: 404 Client Error: Not Found for url: https://opencitations.net/index/meta/api/v1/citations/10.1088/1126-6708/2006/05/026\n",
      "HTTP error: 404 Client Error: Not Found for url: https://opencitations.net/index/meta/api/v1/citations/10.1016/S0168-9002(03)01368-8\n",
      "HTTP error: 404 Client Error: Not Found for url: https://opencitations.net/index/meta/api/v1/citations/10.1007/JHEP10(2011)007\n",
      "HTTP error: 404 Client Error: Not Found for url: https://opencitations.net/index/meta/api/v1/citations/10.1016/j.physletb.2012.07.059\n",
      "HTTP error: 404 Client Error: Not Found for url: https://opencitations.net/index/meta/api/v1/citations/10.1007/JHEP11(2012)067\n",
      "HTTP error: 404 Client Error: Not Found for url: https://opencitations.net/index/meta/api/v1/citations/10.1140/epjc/s10052-013-2339-4\n",
      "HTTP error: 404 Client Error: Not Found for url: https://opencitations.net/index/meta/api/v1/citations/10.1007/JHEP06(2011)077\n",
      "HTTP error: 404 Client Error: Not Found for url: https://opencitations.net/index/meta/api/v1/citations/10.1007/JHEP12(2012)035\n",
      "HTTP error: 404 Client Error: Not Found for url: https://opencitations.net/index/meta/api/v1/citations/10.1140/epjc/s10052-013-2283-3\n",
      "HTTP error: 404 Client Error: Not Found for url: https://opencitations.net/index/meta/api/v1/citations/10.1016/0168-9002(95)01478-0\n",
      "HTTP error: 404 Client Error: Not Found for url: https://opencitations.net/index/meta/api/v1/citations/10.1016/j.nuclphysb.2010.05.001\n"
     ]
    },
    {
     "name": "stderr",
     "output_type": "stream",
     "text": [
      "59it [09:22, 19.84s/it]"
     ]
    },
    {
     "name": "stdout",
     "output_type": "stream",
     "text": [
      "HTTP error: 404 Client Error: Not Found for url: https://opencitations.net/index/meta/api/v1/citations/10.1007/BF02726395\n",
      "HTTP error: 404 Client Error: Not Found for url: https://opencitations.net/index/meta/api/v1/citations/10.1016/0029-5582(58)90004-X\n",
      "HTTP error: 404 Client Error: Not Found for url: https://opencitations.net/index/meta/api/v1/citations/10.1103/PhysRev.100.746\n",
      "HTTP error: 404 Client Error: Not Found for url: https://opencitations.net/index/meta/api/v1/citations/10.1103/PhysRev.108.850\n"
     ]
    },
    {
     "name": "stderr",
     "output_type": "stream",
     "text": [
      "60it [09:26, 15.21s/it]"
     ]
    },
    {
     "name": "stdout",
     "output_type": "stream",
     "text": [
      "HTTP error: 404 Client Error: Not Found for url: https://opencitations.net/index/meta/api/v1/citations/10.1103/RevModPhys.60.575\n"
     ]
    },
    {
     "name": "stderr",
     "output_type": "stream",
     "text": [
      "61it [09:27, 10.93s/it]"
     ]
    },
    {
     "name": "stdout",
     "output_type": "stream",
     "text": [
      "HTTP error: 404 Client Error: Not Found for url: https://opencitations.net/index/meta/api/v1/citations/10.1007/BF02856238\n",
      "HTTP error: 404 Client Error: Not Found for url: https://opencitations.net/index/meta/api/v1/citations/10.1016/0550-3213(79)90187-1\n",
      "HTTP error: 404 Client Error: Not Found for url: https://opencitations.net/index/meta/api/v1/citations/10.1007/BF02724666\n",
      "HTTP error: 404 Client Error: Not Found for url: https://opencitations.net/index/meta/api/v1/citations/10.1103/PhysRevD.15.47\n",
      "HTTP error: 404 Client Error: Not Found for url: https://opencitations.net/index/meta/api/v1/citations/10.1103/PhysRev.144.1145\n",
      "HTTP error: 404 Client Error: Not Found for url: https://opencitations.net/index/meta/api/v1/citations/10.1016/0550-3213(75)90591-X\n"
     ]
    },
    {
     "name": "stderr",
     "output_type": "stream",
     "text": [
      "62it [09:33,  9.25s/it]"
     ]
    },
    {
     "name": "stdout",
     "output_type": "stream",
     "text": [
      "HTTP error: 404 Client Error: Not Found for url: https://opencitations.net/index/meta/api/v1/citations/10.1016/S0375-9474(14)00605-8\n"
     ]
    },
    {
     "name": "stderr",
     "output_type": "stream",
     "text": [
      "63it [09:34,  6.71s/it]"
     ]
    },
    {
     "name": "stdout",
     "output_type": "stream",
     "text": [
      "HTTP error: 404 Client Error: Not Found for url: https://opencitations.net/index/meta/api/v1/citations/10.1134/S1547477116090016\n"
     ]
    },
    {
     "name": "stderr",
     "output_type": "stream",
     "text": [
      "64it [09:34,  4.95s/it]"
     ]
    },
    {
     "name": "stdout",
     "output_type": "stream",
     "text": [
      "HTTP error: 404 Client Error: Not Found for url: https://opencitations.net/index/meta/api/v1/citations/10.1142/9789813224568_0012\n"
     ]
    },
    {
     "name": "stderr",
     "output_type": "stream",
     "text": [
      "65it [09:35,  3.75s/it]"
     ]
    },
    {
     "name": "stdout",
     "output_type": "stream",
     "text": [
      "HTTP error: 404 Client Error: Not Found for url: https://opencitations.net/index/meta/api/v1/citations/10.1016/0031-9163(63)90253-1\n",
      "HTTP error: 404 Client Error: Not Found for url: https://opencitations.net/index/meta/api/v1/citations/10.1103/PhysRev.114.880\n",
      "HTTP error: 404 Client Error: Not Found for url: https://opencitations.net/index/meta/api/v1/citations/10.1103/PhysRev.105.302\n"
     ]
    },
    {
     "name": "stderr",
     "output_type": "stream",
     "text": [
      "66it [09:38,  3.42s/it]"
     ]
    },
    {
     "name": "stdout",
     "output_type": "stream",
     "text": [
      "HTTP error: 404 Client Error: Not Found for url: https://opencitations.net/index/meta/api/v1/citations/10.1134/S0001434614090193\n",
      "HTTP error: 404 Client Error: Not Found for url: https://opencitations.net/index/meta/api/v1/citations/10.4213/tmf6633\n",
      "HTTP error: 404 Client Error: Not Found for url: https://opencitations.net/index/meta/api/v1/citations/10.4213/tmf6473\n"
     ]
    },
    {
     "name": "stderr",
     "output_type": "stream",
     "text": [
      "67it [09:41,  3.28s/it]"
     ]
    },
    {
     "name": "stdout",
     "output_type": "stream",
     "text": [
      "HTTP error: 404 Client Error: Not Found for url: https://opencitations.net/index/meta/api/v1/citations/10.1007/bf03032007\n",
      "HTTP error: 404 Client Error: Not Found for url: https://opencitations.net/index/meta/api/v1/citations/10.1140/epjc/s2003-01386-x\n",
      "HTTP error: 404 Client Error: Not Found for url: https://opencitations.net/index/meta/api/v1/citations/10.1103/PhysRevD.70.094011\n",
      "HTTP error: 404 Client Error: Not Found for url: https://opencitations.net/index/meta/api/v1/citations/10.1007/s100520050217\n",
      "In crossref got an exception Redirect response '301 Moved Permanently' for url 'https://api.crossref.org/works/10.1007/s100520050217'\n",
      "Redirect location: '/works/10.1007/s100529800895'\n",
      "For more information check: https://developer.mozilla.org/en-US/docs/Web/HTTP/Status/301\n",
      "HTTP error: 404 Client Error: Not Found for url: https://opencitations.net/index/meta/api/v1/citations/10.1007/BF01555904\n",
      "HTTP error: 404 Client Error: Not Found for url: https://opencitations.net/index/meta/api/v1/citations/10.1103/PhysRevD.64.016005\n"
     ]
    },
    {
     "name": "stderr",
     "output_type": "stream",
     "text": [
      "68it [09:46,  3.86s/it]"
     ]
    },
    {
     "name": "stdout",
     "output_type": "stream",
     "text": [
      "HTTP error: 404 Client Error: Not Found for url: https://opencitations.net/index/meta/api/v1/citations/10.1002/pssb.2220810248\n",
      "HTTP error: 404 Client Error: Not Found for url: https://opencitations.net/index/meta/api/v1/citations/10.1103/PhysRev.143.422\n",
      "HTTP error: 404 Client Error: Not Found for url: https://opencitations.net/index/meta/api/v1/citations/10.1103/PhysRev.155.619\n",
      "HTTP error: 404 Client Error: Not Found for url: https://opencitations.net/index/meta/api/v1/citations/10.1002/pssb.19700370160\n",
      "HTTP error: 404 Client Error: Not Found for url: https://opencitations.net/index/meta/api/v1/citations/10.1002/pssb.2220540211\n",
      "HTTP error: 404 Client Error: Not Found for url: https://opencitations.net/index/meta/api/v1/citations/10.1016/0038-1098(71)90313-9\n",
      "HTTP error: 404 Client Error: Not Found for url: https://opencitations.net/index/meta/api/v1/citations/10.1103/PhysRevB.12.3479\n"
     ]
    },
    {
     "name": "stderr",
     "output_type": "stream",
     "text": [
      "69it [09:53,  4.79s/it]"
     ]
    },
    {
     "name": "stdout",
     "output_type": "stream",
     "text": [
      "HTTP error: 404 Client Error: Not Found for url: https://opencitations.net/index/meta/api/v1/citations/10.1007/PL00004590\n"
     ]
    },
    {
     "name": "stderr",
     "output_type": "stream",
     "text": [
      "70it [09:54,  3.61s/it]"
     ]
    },
    {
     "name": "stdout",
     "output_type": "stream",
     "text": [
      "HTTP error: 404 Client Error: Not Found for url: https://opencitations.net/index/meta/api/v1/citations/10.1007/BF02764465\n",
      "HTTP error: 404 Client Error: Not Found for url: https://opencitations.net/index/meta/api/v1/citations/10.1103/PhysRevLett.38.1440\n",
      "HTTP error: 404 Client Error: Not Found for url: https://opencitations.net/index/meta/api/v1/citations/10.1016/0370-2693(75)90163-X\n",
      "HTTP error: 404 Client Error: Not Found for url: https://opencitations.net/index/meta/api/v1/citations/10.1103/PhysRevD.8.172\n",
      "HTTP error: 404 Client Error: Not Found for url: https://opencitations.net/index/meta/api/v1/citations/10.1016/0550-3213(76)90382-5\n",
      "HTTP error: 404 Client Error: Not Found for url: https://opencitations.net/index/meta/api/v1/citations/10.1103/PhysRevLett.37.315\n",
      "HTTP error: 404 Client Error: Not Found for url: https://opencitations.net/index/meta/api/v1/citations/10.1103/PhysRevLett.33.179\n",
      "HTTP error: 404 Client Error: Not Found for url: https://opencitations.net/index/meta/api/v1/citations/10.1103/PhysRevD.16.2383\n"
     ]
    },
    {
     "name": "stderr",
     "output_type": "stream",
     "text": [
      "71it [10:01,  4.70s/it]"
     ]
    },
    {
     "name": "stdout",
     "output_type": "stream",
     "text": [
      "HTTP error: 404 Client Error: Not Found for url: https://opencitations.net/index/meta/api/v1/citations/10.5516/j.physletb.2015.09.001\n"
     ]
    },
    {
     "name": "stderr",
     "output_type": "stream",
     "text": [
      "72it [10:02,  3.56s/it]"
     ]
    },
    {
     "name": "stdout",
     "output_type": "stream",
     "text": [
      "In crossref got an exception Client error '404 Not Found' for url 'https://api.crossref.org/works/10.5516/j.physletb.2015.09.001'\n",
      "For more information check: https://developer.mozilla.org/en-US/docs/Web/HTTP/Status/404\n",
      "HTTP error: 404 Client Error: Not Found for url: https://opencitations.net/index/meta/api/v1/citations/10.1002/pssb.2220630249\n",
      "HTTP error: 404 Client Error: Not Found for url: https://opencitations.net/index/meta/api/v1/citations/10.1002/pssb.2220490244\n",
      "HTTP error: 404 Client Error: Not Found for url: https://opencitations.net/index/meta/api/v1/citations/10.1103/PhysRev.174.769\n",
      "HTTP error: 404 Client Error: Not Found for url: https://opencitations.net/index/meta/api/v1/citations/10.1002/pssb.2220580262\n"
     ]
    },
    {
     "name": "stderr",
     "output_type": "stream",
     "text": [
      "73it [10:06,  3.67s/it]"
     ]
    },
    {
     "name": "stdout",
     "output_type": "stream",
     "text": [
      "HTTP error: 404 Client Error: Not Found for url: https://opencitations.net/index/meta/api/v1/citations/10.1007/BF02778162\n",
      "HTTP error: 404 Client Error: Not Found for url: https://opencitations.net/index/meta/api/v1/citations/10.1007/BF01035255\n",
      "HTTP error: 404 Client Error: Not Found for url: https://opencitations.net/index/meta/api/v1/citations/10.3367/UFNr.0071.196005c.0071\n",
      "HTTP error: 404 Client Error: Not Found for url: https://opencitations.net/index/meta/api/v1/citations/10.1063/1.3051231\n",
      "HTTP error: 404 Client Error: Not Found for url: https://opencitations.net/index/meta/api/v1/citations/10.1103/PhysRev.129.2342\n",
      "HTTP error: 404 Client Error: Not Found for url: https://opencitations.net/index/meta/api/v1/citations/10.1103/RevModPhys.39.167\n"
     ]
    },
    {
     "name": "stderr",
     "output_type": "stream",
     "text": [
      "74it [10:12,  4.26s/it]"
     ]
    },
    {
     "name": "stdout",
     "output_type": "stream",
     "text": [
      "HTTP error: 404 Client Error: Not Found for url: https://opencitations.net/index/meta/api/v1/citations/10.1070/PU1971v013n05ABEH004217\n"
     ]
    },
    {
     "name": "stderr",
     "output_type": "stream",
     "text": [
      "75it [10:13,  3.29s/it]"
     ]
    },
    {
     "name": "stdout",
     "output_type": "stream",
     "text": [
      "HTTP error: 404 Client Error: Not Found for url: https://opencitations.net/index/meta/api/v1/citations/10.1016/j.physletb.2004.05.001\n",
      "HTTP error: 404 Client Error: Not Found for url: https://opencitations.net/index/meta/api/v1/citations/10.1016/S0370-2693(01)00517-2\n",
      "HTTP error: 404 Client Error: Not Found for url: https://opencitations.net/index/meta/api/v1/citations/10.1103/PhysRevD.67.074012\n",
      "HTTP error: 404 Client Error: Not Found for url: https://opencitations.net/index/meta/api/v1/citations/10.1016/j.physletb.2003.10.033\n"
     ]
    },
    {
     "name": "stderr",
     "output_type": "stream",
     "text": [
      "76it [10:16,  3.38s/it]"
     ]
    },
    {
     "name": "stdout",
     "output_type": "stream",
     "text": [
      "HTTP error: 404 Client Error: Not Found for url: https://opencitations.net/index/meta/api/v1/citations/10.1016/0146-6410(82)90014-X\n"
     ]
    },
    {
     "name": "stderr",
     "output_type": "stream",
     "text": [
      "77it [10:17,  2.73s/it]"
     ]
    },
    {
     "name": "stdout",
     "output_type": "stream",
     "text": [
      "HTTP error: 404 Client Error: Not Found for url: https://opencitations.net/index/meta/api/v1/citations/10.1016/S0375-9474(01)01556-1\n",
      "HTTP error: 404 Client Error: Not Found for url: https://opencitations.net/index/meta/api/v1/citations/10.1103/PhysRevC.21.1215\n",
      "HTTP error: 404 Client Error: Not Found for url: https://opencitations.net/index/meta/api/v1/citations/10.1016/0370-1573(92)90095-H\n",
      "HTTP error: 404 Client Error: Not Found for url: https://opencitations.net/index/meta/api/v1/citations/10.1016/0375-9474(76)90440-1\n"
     ]
    },
    {
     "name": "stderr",
     "output_type": "stream",
     "text": [
      "78it [10:21,  3.01s/it]"
     ]
    },
    {
     "name": "stdout",
     "output_type": "stream",
     "text": [
      "HTTP error: 404 Client Error: Not Found for url: https://opencitations.net/index/meta/api/v1/citations/10.1016/0011-2275(65)90050-0\n"
     ]
    },
    {
     "name": "stderr",
     "output_type": "stream",
     "text": [
      "79it [10:22,  2.39s/it]"
     ]
    },
    {
     "name": "stdout",
     "output_type": "stream",
     "text": [
      "HTTP error: 404 Client Error: Not Found for url: https://opencitations.net/index/meta/api/v1/citations/10.1007/BF02725085\n",
      "HTTP error: 404 Client Error: Not Found for url: https://opencitations.net/index/meta/api/v1/citations/10.1143/ptp/5.4.570\n",
      "HTTP error: 404 Client Error: Not Found for url: https://opencitations.net/index/meta/api/v1/citations/10.1007/BF02731420\n"
     ]
    },
    {
     "name": "stderr",
     "output_type": "stream",
     "text": [
      "80it [10:25,  2.57s/it]"
     ]
    },
    {
     "name": "stdout",
     "output_type": "stream",
     "text": [
      "HTTP error: 404 Client Error: Not Found for url: https://opencitations.net/index/meta/api/v1/citations/10.1016/S0021-9673(00)93634-3\n",
      "HTTP error: 404 Client Error: Not Found for url: https://opencitations.net/index/meta/api/v1/citations/10.1016/S0021-9673(01)92583-X\n",
      "HTTP error: 404 Client Error: Not Found for url: https://opencitations.net/index/meta/api/v1/citations/10.1016/0020-1650(67)80104-1\n",
      "HTTP error: 404 Client Error: Not Found for url: https://opencitations.net/index/meta/api/v1/citations/10.1021/ja01037a008\n",
      "HTTP error: 404 Client Error: Not Found for url: https://opencitations.net/index/meta/api/v1/citations/10.1016/0022-1902(62)80192-4\n",
      "HTTP error: 404 Client Error: Not Found for url: https://opencitations.net/index/meta/api/v1/citations/10.1016/0020-1650(68)80133-3\n"
     ]
    },
    {
     "name": "stderr",
     "output_type": "stream",
     "text": [
      "81it [10:30,  3.42s/it]"
     ]
    },
    {
     "name": "stdout",
     "output_type": "stream",
     "text": [
      "HTTP error: 404 Client Error: Not Found for url: https://opencitations.net/index/meta/api/v1/citations/10.1016/j.mencom.2013.01.001\n"
     ]
    },
    {
     "name": "stderr",
     "output_type": "stream",
     "text": [
      "82it [10:31,  2.64s/it]"
     ]
    },
    {
     "name": "stdout",
     "output_type": "stream",
     "text": [
      "HTTP error: 404 Client Error: Not Found for url: https://opencitations.net/index/meta/api/v1/citations/10.1103/PhysRevLett.119.079101\n",
      "HTTP error: 404 Client Error: Not Found for url: https://opencitations.net/index/meta/api/v1/citations/10.1103/PhysRevLett.113.221601\n",
      "HTTP error: 404 Client Error: Not Found for url: https://opencitations.net/index/meta/api/v1/citations/10.1016/0550-3213(79)90022-1\n",
      "HTTP error: 404 Client Error: Not Found for url: https://opencitations.net/index/meta/api/v1/citations/10.1103/PhysRevD.95.071501\n"
     ]
    },
    {
     "name": "stderr",
     "output_type": "stream",
     "text": [
      "83it [10:35,  2.98s/it]"
     ]
    },
    {
     "name": "stdout",
     "output_type": "stream",
     "text": [
      "HTTP error: 404 Client Error: Not Found for url: https://opencitations.net/index/meta/api/v1/citations/10.1007/BF02724326\n",
      "HTTP error: 404 Client Error: Not Found for url: https://opencitations.net/index/meta/api/v1/citations/10.1016/0370-1573(76)90015-6\n",
      "HTTP error: 404 Client Error: Not Found for url: https://opencitations.net/index/meta/api/v1/citations/10.1007/BF02728133\n"
     ]
    },
    {
     "name": "stderr",
     "output_type": "stream",
     "text": [
      "84it [10:38,  2.95s/it]"
     ]
    },
    {
     "name": "stdout",
     "output_type": "stream",
     "text": [
      "HTTP error: 404 Client Error: Not Found for url: https://opencitations.net/index/meta/api/v1/citations/10.1016/0011-2275(62)90081-4\n",
      "HTTP error: 404 Client Error: Not Found for url: https://opencitations.net/index/meta/api/v1/citations/10.1063/1.1716985\n"
     ]
    },
    {
     "name": "stderr",
     "output_type": "stream",
     "text": [
      "85it [10:40,  2.65s/it]"
     ]
    },
    {
     "name": "stdout",
     "output_type": "stream",
     "text": [
      "HTTP error: 404 Client Error: Not Found for url: https://opencitations.net/index/meta/api/v1/citations/10.1007/JHEP01(2014)109\n"
     ]
    },
    {
     "name": "stderr",
     "output_type": "stream",
     "text": [
      "86it [10:41,  2.25s/it]"
     ]
    },
    {
     "name": "stdout",
     "output_type": "stream",
     "text": [
      "HTTP error: 404 Client Error: Not Found for url: https://opencitations.net/index/meta/api/v1/citations/10.1016/0021-8502(94)90336-0\n",
      "HTTP error: 404 Client Error: Not Found for url: https://opencitations.net/index/meta/api/v1/citations/10.1016/0956-9618(92)80013-4\n"
     ]
    },
    {
     "name": "stderr",
     "output_type": "stream",
     "text": [
      "87it [10:43,  2.26s/it]"
     ]
    },
    {
     "name": "stdout",
     "output_type": "stream",
     "text": [
      "HTTP error: 404 Client Error: Not Found for url: https://opencitations.net/index/meta/api/v1/citations/10.1070/PU1984v027n10ABEH004129\n"
     ]
    },
    {
     "name": "stderr",
     "output_type": "stream",
     "text": [
      "88it [10:44,  1.88s/it]"
     ]
    },
    {
     "name": "stdout",
     "output_type": "stream",
     "text": [
      "HTTP error: 404 Client Error: Not Found for url: https://opencitations.net/index/meta/api/v1/citations/10.1007/BF02465758\n",
      "HTTP error: 404 Client Error: Not Found for url: https://opencitations.net/index/meta/api/v1/citations/10.1016/0003-4916(78)90221-X\n",
      "HTTP error: 404 Client Error: Not Found for url: https://opencitations.net/index/meta/api/v1/citations/10.4213/faa528\n"
     ]
    },
    {
     "name": "stderr",
     "output_type": "stream",
     "text": [
      "89it [10:49,  2.61s/it]"
     ]
    },
    {
     "name": "stdout",
     "output_type": "stream",
     "text": [
      "HTTP error: 404 Client Error: Not Found for url: https://opencitations.net/index/meta/api/v1/citations/10.1016/0031-9163(65)90886-3\n",
      "HTTP error: 404 Client Error: Not Found for url: https://opencitations.net/index/meta/api/v1/citations/10.1016/0031-9163(64)90223-9\n",
      "HTTP error: 404 Client Error: Not Found for url: https://opencitations.net/index/meta/api/v1/citations/10.1016/S0375-9601(63)95540-3\n",
      "HTTP error: 404 Client Error: Not Found for url: https://opencitations.net/index/meta/api/v1/citations/10.1103/PhysRev.109.193\n",
      "HTTP error: 404 Client Error: Not Found for url: https://opencitations.net/index/meta/api/v1/citations/10.1103/PhysRev.127.653\n",
      "HTTP error: 404 Client Error: Not Found for url: https://opencitations.net/index/meta/api/v1/citations/10.1103/PhysRev.127.664\n"
     ]
    },
    {
     "name": "stderr",
     "output_type": "stream",
     "text": [
      "90it [10:58,  4.62s/it]"
     ]
    },
    {
     "name": "stdout",
     "output_type": "stream",
     "text": [
      "HTTP error: 404 Client Error: Not Found for url: https://opencitations.net/index/meta/api/v1/citations/10.1063/1.1932930\n"
     ]
    },
    {
     "name": "stderr",
     "output_type": "stream",
     "text": [
      "91it [11:00,  3.73s/it]"
     ]
    },
    {
     "name": "stdout",
     "output_type": "stream",
     "text": [
      "HTTP error: 404 Client Error: Not Found for url: https://opencitations.net/index/meta/api/v1/citations/10.3390/universe8010029\n",
      "HTTP error: 404 Client Error: Not Found for url: https://opencitations.net/index/meta/api/v1/citations/10.3390/universe5080185\n",
      "HTTP error: 404 Client Error: Not Found for url: https://opencitations.net/index/meta/api/v1/citations/10.3390/universe6010005\n",
      "HTTP error: 404 Client Error: Not Found for url: https://opencitations.net/index/meta/api/v1/citations/10.3390/universe6030044\n",
      "HTTP error: 404 Client Error: Not Found for url: https://opencitations.net/index/meta/api/v1/citations/10.3390/universe6040048\n"
     ]
    },
    {
     "name": "stderr",
     "output_type": "stream",
     "text": [
      "92it [11:07,  4.93s/it]"
     ]
    },
    {
     "name": "stdout",
     "output_type": "stream",
     "text": [
      "HTTP error: 404 Client Error: Not Found for url: https://opencitations.net/index/meta/api/v1/citations/10.1002/prop.2180100202\n",
      "HTTP error: 404 Client Error: Not Found for url: https://opencitations.net/index/meta/api/v1/citations/10.3367/UFNr.0068.195907e.0417\n",
      "HTTP error: 404 Client Error: Not Found for url: https://opencitations.net/index/meta/api/v1/citations/10.1016/0029-5582(60)90408-9\n",
      "HTTP error: 404 Client Error: Not Found for url: https://opencitations.net/index/meta/api/v1/citations/10.1016/0029-5582(60)90418-1\n",
      "HTTP error: 404 Client Error: Not Found for url: https://opencitations.net/index/meta/api/v1/citations/10.1103/PhysRev.78.807\n",
      "HTTP error: 404 Client Error: Not Found for url: https://opencitations.net/index/meta/api/v1/citations/10.1103/PhysRev.114.1184\n",
      "HTTP error: 404 Client Error: Not Found for url: https://opencitations.net/index/meta/api/v1/citations/10.1002/prop.19610091102\n",
      "HTTP error: 404 Client Error: Not Found for url: https://opencitations.net/index/meta/api/v1/citations/10.1016/0029-5582(61)90363-7\n",
      "HTTP error: 404 Client Error: Not Found for url: https://opencitations.net/index/meta/api/v1/citations/10.1103/PhysRevLett.2.365\n",
      "HTTP error: 404 Client Error: Not Found for url: https://opencitations.net/index/meta/api/v1/citations/10.1103/PhysRev.117.1609\n",
      "HTTP error: 404 Client Error: Not Found for url: https://opencitations.net/index/meta/api/v1/citations/10.1103/PhysRev.75.32\n",
      "HTTP error: 404 Client Error: Not Found for url: https://opencitations.net/index/meta/api/v1/citations/10.1103/PhysRev.96.1428\n",
      "HTTP error: 404 Client Error: Not Found for url: https://opencitations.net/index/meta/api/v1/citations/10.1103/PhysRev.96.1433\n",
      "HTTP error: 404 Client Error: Not Found for url: https://opencitations.net/index/meta/api/v1/citations/10.1103/PhysRev.112.1267\n",
      "HTTP error: 404 Client Error: Not Found for url: https://opencitations.net/index/meta/api/v1/citations/10.1103/PhysRev.105.982\n",
      "HTTP error: 404 Client Error: Not Found for url: https://opencitations.net/index/meta/api/v1/citations/10.1103/PhysRevLett.3.93\n",
      "HTTP error: 404 Client Error: Not Found for url: https://opencitations.net/index/meta/api/v1/citations/10.1103/PhysRev.110.733\n",
      "HTTP error: 404 Client Error: Not Found for url: https://opencitations.net/index/meta/api/v1/citations/10.1103/PhysRev.100.435\n",
      "HTTP error: 404 Client Error: Not Found for url: https://opencitations.net/index/meta/api/v1/citations/10.1007/BF02733177\n",
      "HTTP error: 404 Client Error: Not Found for url: https://opencitations.net/index/meta/api/v1/citations/10.1103/PhysRev.95.1612\n",
      "HTTP error: 404 Client Error: Not Found for url: https://opencitations.net/index/meta/api/v1/citations/10.1016/0029-5582(58)90066-X\n",
      "HTTP error: 404 Client Error: Not Found for url: https://opencitations.net/index/meta/api/v1/citations/10.1103/RevModPhys.29.144\n",
      "HTTP error: 404 Client Error: Not Found for url: https://opencitations.net/index/meta/api/v1/citations/10.1103/PhysRev.114.830\n",
      "HTTP error: 404 Client Error: Not Found for url: https://opencitations.net/index/meta/api/v1/citations/10.1139/p56-005\n",
      "HTTP error: 404 Client Error: Not Found for url: https://opencitations.net/index/meta/api/v1/citations/10.1103/PhysRev.107.1077\n",
      "HTTP error: 404 Client Error: Not Found for url: https://opencitations.net/index/meta/api/v1/citations/10.1103/PhysRev.114.827\n",
      "HTTP error: 404 Client Error: Not Found for url: https://opencitations.net/index/meta/api/v1/citations/10.1143/PTP.24.1132\n",
      "HTTP error: 404 Client Error: Not Found for url: https://opencitations.net/index/meta/api/v1/citations/10.1103/PhysRevLett.3.105\n",
      "HTTP error: 404 Client Error: Not Found for url: https://opencitations.net/index/meta/api/v1/citations/10.1098/rspa.1954.0131\n",
      "HTTP error: 404 Client Error: Not Found for url: https://opencitations.net/index/meta/api/v1/citations/10.1103/PhysRev.80.666\n",
      "HTTP error: 404 Client Error: Not Found for url: https://opencitations.net/index/meta/api/v1/citations/10.1016/0029-5582(58)90376-6\n",
      "HTTP error: 404 Client Error: Not Found for url: https://opencitations.net/index/meta/api/v1/citations/10.1007/BF02731508\n",
      "HTTP error: 404 Client Error: Not Found for url: https://opencitations.net/index/meta/api/v1/citations/10.1103/PhysRev.101.1564\n",
      "HTTP error: 404 Client Error: Not Found for url: https://opencitations.net/index/meta/api/v1/citations/10.1103/PhysRev.104.1741\n",
      "HTTP error: 404 Client Error: Not Found for url: https://opencitations.net/index/meta/api/v1/citations/10.1103/PhysRev.101.1570\n",
      "HTTP error: 404 Client Error: Not Found for url: https://opencitations.net/index/meta/api/v1/citations/10.1103/RevModPhys.27.339\n",
      "HTTP error: 404 Client Error: Not Found for url: https://opencitations.net/index/meta/api/v1/citations/10.1143/PTP.24.519\n",
      "HTTP error: 404 Client Error: Not Found for url: https://opencitations.net/index/meta/api/v1/citations/10.1016/0029-5582(60)90038-9\n",
      "HTTP error: 404 Client Error: Not Found for url: https://opencitations.net/index/meta/api/v1/citations/10.1143/PTP.25.201\n",
      "HTTP error: 404 Client Error: Not Found for url: https://opencitations.net/index/meta/api/v1/citations/10.1007/BF02732027\n",
      "HTTP error: 404 Client Error: Not Found for url: https://opencitations.net/index/meta/api/v1/citations/10.1103/PhysRev.113.1640\n"
     ]
    },
    {
     "name": "stderr",
     "output_type": "stream",
     "text": [
      "93it [11:51, 16.40s/it]"
     ]
    },
    {
     "name": "stdout",
     "output_type": "stream",
     "text": [
      "HTTP error: 404 Client Error: Not Found for url: https://opencitations.net/index/meta/api/v1/citations/10.1016/S0370-2693(02)02180-9\n"
     ]
    },
    {
     "name": "stderr",
     "output_type": "stream",
     "text": [
      "94it [11:53, 12.03s/it]"
     ]
    },
    {
     "name": "stdout",
     "output_type": "stream",
     "text": [
      "HTTP error: 404 Client Error: Not Found for url: https://opencitations.net/index/meta/api/v1/citations/10.1002/mana.19891410115\n",
      "HTTP error: 404 Client Error: Not Found for url: https://opencitations.net/index/meta/api/v1/citations/10.1007/BF01112171\n",
      "HTTP error: 404 Client Error: Not Found for url: https://opencitations.net/index/meta/api/v1/citations/10.2307/1990016\n",
      "HTTP error: 404 Client Error: Not Found for url: https://opencitations.net/index/meta/api/v1/citations/10.2140/pjm.1975.61.383\n",
      "HTTP error: 404 Client Error: Not Found for url: https://opencitations.net/index/meta/api/v1/citations/10.1155/S0161171285000461\n",
      "HTTP error: 404 Client Error: Not Found for url: https://opencitations.net/index/meta/api/v1/citations/10.1017/S0308210500025178\n",
      "HTTP error: 404 Client Error: Not Found for url: https://opencitations.net/index/meta/api/v1/citations/10.1017/S0305004100050313\n",
      "HTTP error: 404 Client Error: Not Found for url: https://opencitations.net/index/meta/api/v1/citations/10.1017/S0013091500015716\n",
      "HTTP error: 404 Client Error: Not Found for url: https://opencitations.net/index/meta/api/v1/citations/10.1002/ctpp.19810210505\n"
     ]
    },
    {
     "name": "stderr",
     "output_type": "stream",
     "text": [
      "95it [12:01, 11.04s/it]"
     ]
    },
    {
     "name": "stdout",
     "output_type": "stream",
     "text": [
      "HTTP error: 404 Client Error: Not Found for url: https://opencitations.net/index/meta/api/v1/citations/10.1103/PhysRevLett.93.142001\n",
      "HTTP error: 404 Client Error: Not Found for url: https://opencitations.net/index/meta/api/v1/citations/10.1103/PhysRevLett.74.2626\n",
      "HTTP error: 404 Client Error: Not Found for url: https://opencitations.net/index/meta/api/v1/citations/10.1103/PhysRevLett.74.2632\n",
      "HTTP error: 404 Client Error: Not Found for url: https://opencitations.net/index/meta/api/v1/citations/10.1016/S0550-3213(98)00335-6\n",
      "HTTP error: 404 Client Error: Not Found for url: https://opencitations.net/index/meta/api/v1/citations/10.1088/1126-6708/2004/04/068\n",
      "HTTP error: 404 Client Error: Not Found for url: https://opencitations.net/index/meta/api/v1/citations/10.1103/PhysRevD.68.114014\n",
      "HTTP error: 404 Client Error: Not Found for url: https://opencitations.net/index/meta/api/v1/citations/10.1103/PhysRevD.49.4454\n",
      "HTTP error: 404 Client Error: Not Found for url: https://opencitations.net/index/meta/api/v1/citations/10.1016/0370-1573(84)90008-5\n",
      "HTTP error: 404 Client Error: Not Found for url: https://opencitations.net/index/meta/api/v1/citations/10.1016/0370-1573(85)90051-1\n",
      "HTTP error: 404 Client Error: Not Found for url: https://opencitations.net/index/meta/api/v1/citations/10.1103/PhysRevLett.79.1203\n",
      "HTTP error: 404 Client Error: Not Found for url: https://opencitations.net/index/meta/api/v1/citations/10.1103/PhysRevLett.80.2779\n",
      "HTTP error: 404 Client Error: Not Found for url: https://opencitations.net/index/meta/api/v1/citations/10.1016/S0168-9002(02)01445-6\n",
      "HTTP error: 404 Client Error: Not Found for url: https://opencitations.net/index/meta/api/v1/citations/10.1016/S0168-9002(00)01294-8\n",
      "HTTP error: 404 Client Error: Not Found for url: https://opencitations.net/index/meta/api/v1/citations/10.1063/1.1594358\n",
      "HTTP error: 404 Client Error: Not Found for url: https://opencitations.net/index/meta/api/v1/citations/10.1016/S0010-4655(00)00236-8\n",
      "HTTP error: 404 Client Error: Not Found for url: https://opencitations.net/index/meta/api/v1/citations/10.1088/1126-6708/2003/07/001\n",
      "HTTP error: 404 Client Error: Not Found for url: https://opencitations.net/index/meta/api/v1/citations/10.1016/0010-4655(92)90055-4\n",
      "HTTP error: 404 Client Error: Not Found for url: https://opencitations.net/index/meta/api/v1/citations/10.1088/1126-6708/2001/01/010\n",
      "HTTP error: 404 Client Error: Not Found for url: https://opencitations.net/index/meta/api/v1/citations/10.1007/s100529900196\n",
      "HTTP error: 404 Client Error: Not Found for url: https://opencitations.net/index/meta/api/v1/citations/10.1103/PhysRevD.60.113006\n"
     ]
    },
    {
     "name": "stderr",
     "output_type": "stream",
     "text": [
      "96it [12:24, 14.70s/it]"
     ]
    },
    {
     "name": "stdout",
     "output_type": "stream",
     "text": [
      "HTTP error: 404 Client Error: Not Found for url: https://opencitations.net/index/meta/api/v1/citations/10.1140/epja/i2011-11039-x\n"
     ]
    },
    {
     "name": "stderr",
     "output_type": "stream",
     "text": [
      "97it [12:25, 10.54s/it]"
     ]
    },
    {
     "name": "stdout",
     "output_type": "stream",
     "text": [
      "HTTP error: 404 Client Error: Not Found for url: https://opencitations.net/index/meta/api/v1/citations/10.1016/j.nuclphysa.2004.03.012\n",
      "HTTP error: 404 Client Error: Not Found for url: https://opencitations.net/index/meta/api/v1/citations/10.1103/PhysRevC.59.3172\n"
     ]
    },
    {
     "name": "stderr",
     "output_type": "stream",
     "text": [
      "98it [12:28,  8.28s/it]"
     ]
    },
    {
     "name": "stdout",
     "output_type": "stream",
     "text": [
      "HTTP error: 404 Client Error: Not Found for url: https://opencitations.net/index/meta/api/v1/citations/10.1016/S0375-9474(16)30232-9\n"
     ]
    },
    {
     "name": "stderr",
     "output_type": "stream",
     "text": [
      "99it [12:30,  6.45s/it]"
     ]
    },
    {
     "name": "stdout",
     "output_type": "stream",
     "text": [
      "HTTP error: 404 Client Error: Not Found for url: https://opencitations.net/index/meta/api/v1/citations/10.1142/S0217751X97000396\n"
     ]
    },
    {
     "name": "stderr",
     "output_type": "stream",
     "text": [
      "100it [12:32,  4.83s/it]"
     ]
    },
    {
     "name": "stdout",
     "output_type": "stream",
     "text": [
      "HTTP error: 404 Client Error: Not Found for url: https://opencitations.net/index/meta/api/v1/citations/10.1134/1.1866391\n"
     ]
    },
    {
     "name": "stderr",
     "output_type": "stream",
     "text": [
      "101it [12:33,  3.69s/it]"
     ]
    },
    {
     "name": "stdout",
     "output_type": "stream",
     "text": [
      "HTTP error: 404 Client Error: Not Found for url: https://opencitations.net/index/meta/api/v1/citations/10.1016/0921-4526(94)90122-8\n",
      "HTTP error: 404 Client Error: Not Found for url: https://opencitations.net/index/meta/api/v1/citations/10.1103/PhysRev.95.359\n",
      "HTTP error: 404 Client Error: Not Found for url: https://opencitations.net/index/meta/api/v1/citations/10.1016/0921-4526(91)90685-8\n"
     ]
    },
    {
     "name": "stderr",
     "output_type": "stream",
     "text": [
      "102it [12:35,  3.37s/it]"
     ]
    },
    {
     "name": "stdout",
     "output_type": "stream",
     "text": [
      "HTTP error: 404 Client Error: Not Found for url: https://opencitations.net/index/meta/api/v1/citations/10.1016/0031-9163(64)90477-9\n",
      "HTTP error: 404 Client Error: Not Found for url: https://opencitations.net/index/meta/api/v1/citations/10.1016/0031-9163(64)90314-2\n"
     ]
    },
    {
     "name": "stderr",
     "output_type": "stream",
     "text": [
      "103it [12:37,  2.86s/it]"
     ]
    },
    {
     "name": "stdout",
     "output_type": "stream",
     "text": [
      "HTTP error: 404 Client Error: Not Found for url: https://opencitations.net/index/meta/api/v1/citations/10.1016/S0370-2693(02)02518-2\n",
      "HTTP error: 404 Client Error: Not Found for url: https://opencitations.net/index/meta/api/v1/citations/10.1016/0550-3213(95)00632-X\n",
      "HTTP error: 404 Client Error: Not Found for url: https://opencitations.net/index/meta/api/v1/citations/10.1016/S0550-3213(96)00648-7\n",
      "HTTP error: 404 Client Error: Not Found for url: https://opencitations.net/index/meta/api/v1/citations/10.1016/S0370-2693(00)00285-9\n",
      "HTTP error: 404 Client Error: Not Found for url: https://opencitations.net/index/meta/api/v1/citations/10.1016/S0375-9474(00)00609-6\n",
      "HTTP error: 404 Client Error: Not Found for url: https://opencitations.net/index/meta/api/v1/citations/10.1103/PhysRevD.65.034010\n",
      "HTTP error: 404 Client Error: Not Found for url: https://opencitations.net/index/meta/api/v1/citations/10.1016/S0370-2693(01)01258-8\n",
      "HTTP error: 404 Client Error: Not Found for url: https://opencitations.net/index/meta/api/v1/citations/10.1016/S0370-2693(00)00296-3\n",
      "HTTP error: 404 Client Error: Not Found for url: https://opencitations.net/index/meta/api/v1/citations/10.1016/S0920-5632(99)00131-0\n",
      "HTTP error: 404 Client Error: Not Found for url: https://opencitations.net/index/meta/api/v1/citations/10.1016/S0920-5632(99)00781-1\n",
      "HTTP error: 404 Client Error: Not Found for url: https://opencitations.net/index/meta/api/v1/citations/10.1103/PhysRevD.64.097101\n",
      "HTTP error: 404 Client Error: Not Found for url: https://opencitations.net/index/meta/api/v1/citations/10.1103/PhysRevLett.84.4047\n",
      "HTTP error: 404 Client Error: Not Found for url: https://opencitations.net/index/meta/api/v1/citations/10.1016/S0920-5632(99)00771-9\n",
      "HTTP error: 404 Client Error: Not Found for url: https://opencitations.net/index/meta/api/v1/citations/10.1016/S0370-2693(96)01288-9\n",
      "HTTP error: 404 Client Error: Not Found for url: https://opencitations.net/index/meta/api/v1/citations/10.1103/PhysRevD.64.034013\n"
     ]
    },
    {
     "name": "stderr",
     "output_type": "stream",
     "text": [
      "104it [12:50,  6.06s/it]"
     ]
    },
    {
     "name": "stdout",
     "output_type": "stream",
     "text": [
      "HTTP error: 404 Client Error: Not Found for url: https://opencitations.net/index/meta/api/v1/citations/10.1007/BF02770133\n",
      "HTTP error: 404 Client Error: Not Found for url: https://opencitations.net/index/meta/api/v1/citations/10.1103/PhysRev.95.1628\n",
      "HTTP error: 404 Client Error: Not Found for url: https://opencitations.net/index/meta/api/v1/citations/10.1063/1.1704170\n",
      "HTTP error: 404 Client Error: Not Found for url: https://opencitations.net/index/meta/api/v1/citations/10.1063/1.1704261\n",
      "HTTP error: 404 Client Error: Not Found for url: https://opencitations.net/index/meta/api/v1/citations/10.1063/1.1664613\n",
      "HTTP error: 404 Client Error: Not Found for url: https://opencitations.net/index/meta/api/v1/citations/10.1016/0029-5582(59)90293-7\n",
      "HTTP error: 404 Client Error: Not Found for url: https://opencitations.net/index/meta/api/v1/citations/10.1063/1.1705024\n",
      "HTTP error: 404 Client Error: Not Found for url: https://opencitations.net/index/meta/api/v1/citations/10.1103/PhysRev.174.1208\n",
      "HTTP error: 404 Client Error: Not Found for url: https://opencitations.net/index/meta/api/v1/citations/10.1007/BF02757010\n",
      "HTTP error: 404 Client Error: Not Found for url: https://opencitations.net/index/meta/api/v1/citations/10.1016/0370-2693(69)90398-0\n",
      "HTTP error: 404 Client Error: Not Found for url: https://opencitations.net/index/meta/api/v1/citations/10.1016/0003-4916(70)90376-3\n",
      "HTTP error: 404 Client Error: Not Found for url: https://opencitations.net/index/meta/api/v1/citations/10.1007/BF01407647\n"
     ]
    },
    {
     "name": "stderr",
     "output_type": "stream",
     "text": [
      "105it [13:02,  7.77s/it]"
     ]
    },
    {
     "name": "stdout",
     "output_type": "stream",
     "text": [
      "HTTP error: 404 Client Error: Not Found for url: https://opencitations.net/index/meta/api/v1/citations/10.1016/0010-4655(83)90123-6\n",
      "HTTP error: 404 Client Error: Not Found for url: https://opencitations.net/index/meta/api/v1/citations/10.1016/0010-4655(81)90089-8\n",
      "HTTP error: 404 Client Error: Not Found for url: https://opencitations.net/index/meta/api/v1/citations/10.1016/0010-4655(75)90039-9\n"
     ]
    },
    {
     "name": "stderr",
     "output_type": "stream",
     "text": [
      "106it [13:05,  6.36s/it]"
     ]
    },
    {
     "name": "stdout",
     "output_type": "stream",
     "text": [
      "HTTP error: 404 Client Error: Not Found for url: https://opencitations.net/index/meta/api/v1/citations/10.1134/S1063778807020214\n",
      "HTTP error: 404 Client Error: Not Found for url: https://opencitations.net/index/meta/api/v1/citations/10.1016/0370-2693(74)90053-7\n",
      "HTTP error: 404 Client Error: Not Found for url: https://opencitations.net/index/meta/api/v1/citations/10.1140/epjad/i2005-06-104-3\n"
     ]
    },
    {
     "name": "stderr",
     "output_type": "stream",
     "text": [
      "107it [13:08,  5.34s/it]"
     ]
    },
    {
     "name": "stdout",
     "output_type": "stream",
     "text": [
      "HTTP error: 404 Client Error: Not Found for url: https://opencitations.net/index/meta/api/v1/citations/10.1016/1359-0189(93)90006-u\n"
     ]
    },
    {
     "name": "stderr",
     "output_type": "stream",
     "text": [
      "108it [13:09,  4.05s/it]"
     ]
    },
    {
     "name": "stdout",
     "output_type": "stream",
     "text": [
      "HTTP error: 404 Client Error: Not Found for url: https://opencitations.net/index/meta/api/v1/citations/10.1080/10619127.2020.1832821\n",
      "HTTP error: 404 Client Error: Not Found for url: https://opencitations.net/index/meta/api/v1/citations/10.1007/978-3-319-31763-2\n",
      "HTTP error: 404 Client Error: Not Found for url: https://opencitations.net/index/meta/api/v1/citations/10.1103/RevModPhys.72.733\n",
      "HTTP error: 404 Client Error: Not Found for url: https://opencitations.net/index/meta/api/v1/citations/10.1088/0034-4885/78/3/036301\n",
      "HTTP error: 404 Client Error: Not Found for url: https://opencitations.net/index/meta/api/v1/citations/10.1016/0370-1573(78)90200-4\n",
      "HTTP error: 404 Client Error: Not Found for url: https://opencitations.net/index/meta/api/v1/citations/10.1524/ract.1986.40.2.75\n",
      "HTTP error: 404 Client Error: Not Found for url: https://opencitations.net/index/meta/api/v1/citations/10.1140/epja/s10050-020-00046-7\n",
      "HTTP error: 404 Client Error: Not Found for url: https://opencitations.net/index/meta/api/v1/citations/10.1103/PhysRevC.71.034603\n",
      "HTTP error: 404 Client Error: Not Found for url: https://opencitations.net/index/meta/api/v1/citations/10.1103/PhysRevC.80.067601\n",
      "HTTP error: 404 Client Error: Not Found for url: https://opencitations.net/index/meta/api/v1/citations/10.1103/PhysRevC.99.014613\n",
      "HTTP error: 404 Client Error: Not Found for url: https://opencitations.net/index/meta/api/v1/citations/10.1016/j.physletb.2015.07.006\n",
      "HTTP error: 404 Client Error: Not Found for url: https://opencitations.net/index/meta/api/v1/citations/10.1103/PhysRevC.89.034622\n",
      "HTTP error: 404 Client Error: Not Found for url: https://opencitations.net/index/meta/api/v1/citations/10.1103/PhysRevC.96.024618\n",
      "HTTP error: 404 Client Error: Not Found for url: https://opencitations.net/index/meta/api/v1/citations/10.1016/j.nimb.2016.01.041\n",
      "HTTP error: 404 Client Error: Not Found for url: https://opencitations.net/index/meta/api/v1/citations/10.1016/j.nima.2014.12.094\n"
     ]
    },
    {
     "name": "stderr",
     "output_type": "stream",
     "text": [
      "109it [13:24,  7.16s/it]"
     ]
    },
    {
     "name": "stdout",
     "output_type": "stream",
     "text": [
      "HTTP error: 404 Client Error: Not Found for url: https://opencitations.net/index/meta/api/v1/citations/10.1016/j.nuclphysa.2006.07.007\n"
     ]
    },
    {
     "name": "stderr",
     "output_type": "stream",
     "text": [
      "110it [13:25,  5.36s/it]"
     ]
    },
    {
     "name": "stdout",
     "output_type": "stream",
     "text": [
      "HTTP error: 404 Client Error: Not Found for url: https://opencitations.net/index/meta/api/v1/citations/10.1016/0021-9991(85)90126-3\n",
      "HTTP error: 404 Client Error: Not Found for url: https://opencitations.net/index/meta/api/v1/citations/10.1103/PhysRevA.1.1577\n",
      "HTTP error: 404 Client Error: Not Found for url: https://opencitations.net/index/meta/api/v1/citations/10.1071/PH730449\n"
     ]
    },
    {
     "name": "stderr",
     "output_type": "stream",
     "text": [
      "111it [13:29,  4.88s/it]"
     ]
    },
    {
     "name": "stdout",
     "output_type": "stream",
     "text": [
      "HTTP error: 404 Client Error: Not Found for url: https://opencitations.net/index/meta/api/v1/citations/10.1007/BF02746567\n",
      "HTTP error: 404 Client Error: Not Found for url: https://opencitations.net/index/meta/api/v1/citations/10.1016/0370-2693(69)90090-2\n",
      "HTTP error: 404 Client Error: Not Found for url: https://opencitations.net/index/meta/api/v1/citations/10.3367/UFNr.0104.197105a.0003\n",
      "HTTP error: 404 Client Error: Not Found for url: https://opencitations.net/index/meta/api/v1/citations/10.1016/0370-2693(76)90141-6\n",
      "HTTP error: 404 Client Error: Not Found for url: https://opencitations.net/index/meta/api/v1/citations/10.1103/PhysRevD.10.3088\n",
      "HTTP error: 404 Client Error: Not Found for url: https://opencitations.net/index/meta/api/v1/citations/10.1103/PhysRevD.2.1285\n",
      "HTTP error: 404 Client Error: Not Found for url: https://opencitations.net/index/meta/api/v1/citations/10.1016/0370-2693(75)90040-4\n",
      "HTTP error: 404 Client Error: Not Found for url: https://opencitations.net/index/meta/api/v1/citations/10.1103/PhysRevD.12.3589\n",
      "HTTP error: 404 Client Error: Not Found for url: https://opencitations.net/index/meta/api/v1/citations/10.1103/PhysRev.142.852\n"
     ]
    },
    {
     "name": "stderr",
     "output_type": "stream",
     "text": [
      "112it [13:37,  6.03s/it]"
     ]
    },
    {
     "name": "stdout",
     "output_type": "stream",
     "text": [
      "HTTP error: 404 Client Error: Not Found for url: https://opencitations.net/index/meta/api/v1/citations/10.1016/0022-3697(76)90191-8\n",
      "HTTP error: 404 Client Error: Not Found for url: https://opencitations.net/index/meta/api/v1/citations/10.1016/0031-8914(66)90027-9\n",
      "HTTP error: 404 Client Error: Not Found for url: https://opencitations.net/index/meta/api/v1/citations/10.1103/PhysRevA.4.1071\n",
      "HTTP error: 404 Client Error: Not Found for url: https://opencitations.net/index/meta/api/v1/citations/10.1088/0022-3719/5/23/011\n",
      "HTTP error: 404 Client Error: Not Found for url: https://opencitations.net/index/meta/api/v1/citations/10.1103/PhysRevB.5.1126\n"
     ]
    },
    {
     "name": "stderr",
     "output_type": "stream",
     "text": [
      "113it [13:42,  5.64s/it]"
     ]
    },
    {
     "name": "stdout",
     "output_type": "stream",
     "text": [
      "HTTP error: 404 Client Error: Not Found for url: https://opencitations.net/index/meta/api/v1/citations/10.1007/s10686-014-9420-3\n"
     ]
    },
    {
     "name": "stderr",
     "output_type": "stream",
     "text": [
      "114it [13:43,  4.23s/it]"
     ]
    },
    {
     "name": "stdout",
     "output_type": "stream",
     "text": [
      "HTTP error: 404 Client Error: Not Found for url: https://opencitations.net/index/meta/api/v1/citations/10.1007/s00128-004-0569-8\n"
     ]
    },
    {
     "name": "stderr",
     "output_type": "stream",
     "text": [
      "115it [13:44,  3.20s/it]"
     ]
    },
    {
     "name": "stdout",
     "output_type": "stream",
     "text": [
      "HTTP error: 404 Client Error: Not Found for url: https://opencitations.net/index/meta/api/v1/citations/10.1109/TNS2.1960.4315734\n",
      "HTTP error: 404 Client Error: Not Found for url: https://opencitations.net/index/meta/api/v1/citations/10.1063/1.1716052\n",
      "HTTP error: 404 Client Error: Not Found for url: https://opencitations.net/index/meta/api/v1/citations/10.1016/0369-643X(57)90072-5\n",
      "HTTP error: 404 Client Error: Not Found for url: https://opencitations.net/index/meta/api/v1/citations/10.1109/TNS2.1958.4315653\n"
     ]
    },
    {
     "name": "stderr",
     "output_type": "stream",
     "text": [
      "116it [13:47,  3.32s/it]"
     ]
    },
    {
     "name": "stdout",
     "output_type": "stream",
     "text": [
      "HTTP error: 404 Client Error: Not Found for url: https://opencitations.net/index/meta/api/v1/citations/10.1002/pssb.2221280251\n",
      "HTTP error: 404 Client Error: Not Found for url: https://opencitations.net/index/meta/api/v1/citations/10.1143/JPSJ.52.4044\n",
      "HTTP error: 404 Client Error: Not Found for url: https://opencitations.net/index/meta/api/v1/citations/10.1103/PhysRevB.29.515\n",
      "HTTP error: 404 Client Error: Not Found for url: https://opencitations.net/index/meta/api/v1/citations/10.1080/00150198308227835\n",
      "HTTP error: 404 Client Error: Not Found for url: https://opencitations.net/index/meta/api/v1/citations/10.1088/0022-3719/8/10/021\n"
     ]
    },
    {
     "name": "stderr",
     "output_type": "stream",
     "text": [
      "117it [13:53,  3.89s/it]"
     ]
    },
    {
     "name": "stdout",
     "output_type": "stream",
     "text": [
      "HTTP error: 404 Client Error: Not Found for url: https://opencitations.net/index/meta/api/v1/citations/10.1007/BF02754033\n",
      "HTTP error: 404 Client Error: Not Found for url: https://opencitations.net/index/meta/api/v1/citations/10.1007/BF02733596\n",
      "HTTP error: 404 Client Error: Not Found for url: https://opencitations.net/index/meta/api/v1/citations/10.1103/PhysRevD.6.1007\n"
     ]
    },
    {
     "name": "stderr",
     "output_type": "stream",
     "text": [
      "118it [13:55,  3.51s/it]"
     ]
    },
    {
     "name": "stdout",
     "output_type": "stream",
     "text": [
      "HTTP error: 404 Client Error: Not Found for url: https://opencitations.net/index/meta/api/v1/citations/10.1140/epjc/s10052-007-0225-7\n"
     ]
    },
    {
     "name": "stderr",
     "output_type": "stream",
     "text": [
      "119it [13:56,  2.74s/it]"
     ]
    },
    {
     "name": "stdout",
     "output_type": "stream",
     "text": [
      "HTTP error: 404 Client Error: Not Found for url: https://opencitations.net/index/meta/api/v1/citations/10.1080/10420159308219723\n",
      "HTTP error: 404 Client Error: Not Found for url: https://opencitations.net/index/meta/api/v1/citations/10.1525/9780520320239\n",
      "HTTP error: 404 Client Error: Not Found for url: https://opencitations.net/index/meta/api/v1/citations/10.1080/10256018708623770\n",
      "HTTP error: 404 Client Error: Not Found for url: https://opencitations.net/index/meta/api/v1/citations/10.1016/1359-0189(91)90001-X\n",
      "HTTP error: 404 Client Error: Not Found for url: https://opencitations.net/index/meta/api/v1/citations/10.1209/0295-5075/15/1/007\n",
      "HTTP error: 404 Client Error: Not Found for url: https://opencitations.net/index/meta/api/v1/citations/10.1063/1.1661643\n"
     ]
    },
    {
     "name": "stderr",
     "output_type": "stream",
     "text": [
      "120it [14:02,  3.70s/it]"
     ]
    },
    {
     "name": "stdout",
     "output_type": "stream",
     "text": [
      "HTTP error: 404 Client Error: Not Found for url: https://opencitations.net/index/meta/api/v1/citations/10.1070/PU2002v045n06ABEH001183\n"
     ]
    },
    {
     "name": "stderr",
     "output_type": "stream",
     "text": [
      "121it [14:03,  2.92s/it]"
     ]
    },
    {
     "name": "stdout",
     "output_type": "stream",
     "text": [
      "HTTP error: 404 Client Error: Not Found for url: https://opencitations.net/index/meta/api/v1/citations/10.1007/BF01018903\n",
      "HTTP error: 404 Client Error: Not Found for url: https://opencitations.net/index/meta/api/v1/citations/10.1016/0370-2693(79)90554-9\n",
      "HTTP error: 404 Client Error: Not Found for url: https://opencitations.net/index/meta/api/v1/citations/10.1103/PhysRevD.22.2157\n",
      "HTTP error: 404 Client Error: Not Found for url: https://opencitations.net/index/meta/api/v1/citations/10.1007/BF02743254\n",
      "HTTP error: 404 Client Error: Not Found for url: https://opencitations.net/index/meta/api/v1/citations/10.1007/BF02724617\n",
      "HTTP error: 404 Client Error: Not Found for url: https://opencitations.net/index/meta/api/v1/citations/10.1007/BF02750359\n",
      "HTTP error: 404 Client Error: Not Found for url: https://opencitations.net/index/meta/api/v1/citations/10.1007/BF02759225\n",
      "HTTP error: 404 Client Error: Not Found for url: https://opencitations.net/index/meta/api/v1/citations/10.1007/BF01036573\n",
      "HTTP error: 404 Client Error: Not Found for url: https://opencitations.net/index/meta/api/v1/citations/10.1016/0003-4916(73)90007-9\n",
      "HTTP error: 404 Client Error: Not Found for url: https://opencitations.net/index/meta/api/v1/citations/10.1007/BF02743254\n",
      "HTTP error: 404 Client Error: Not Found for url: https://opencitations.net/index/meta/api/v1/citations/10.1007/BF01035566\n"
     ]
    },
    {
     "name": "stderr",
     "output_type": "stream",
     "text": [
      "122it [14:13,  5.14s/it]"
     ]
    },
    {
     "name": "stdout",
     "output_type": "stream",
     "text": [
      "HTTP error: 404 Client Error: Not Found for url: https://opencitations.net/index/meta/api/v1/citations/10.1016/j.nuclphysa.2006.12.055\n",
      "HTTP error: 404 Client Error: Not Found for url: https://opencitations.net/index/meta/api/v1/citations/10.1103/PhysRev.75.1766.2\n",
      "HTTP error: 404 Client Error: Not Found for url: https://opencitations.net/index/meta/api/v1/citations/10.1103/PhysRev.75.1969\n",
      "HTTP error: 404 Client Error: Not Found for url: https://opencitations.net/index/meta/api/v1/citations/10.1016/0375-9474(67)90510-6\n",
      "HTTP error: 404 Client Error: Not Found for url: https://opencitations.net/index/meta/api/v1/citations/10.1103/RevModPhys.44.320\n",
      "HTTP error: 404 Client Error: Not Found for url: https://opencitations.net/index/meta/api/v1/citations/10.1016/0375-9474(69)90809-4\n",
      "HTTP error: 404 Client Error: Not Found for url: https://opencitations.net/index/meta/api/v1/citations/10.1103/PhysRev.99.1615\n",
      "HTTP error: 404 Client Error: Not Found for url: https://opencitations.net/index/meta/api/v1/citations/10.1016/0031-9163(66)91243-1\n",
      "HTTP error: 404 Client Error: Not Found for url: https://opencitations.net/index/meta/api/v1/citations/10.1007/BF01392125\n",
      "HTTP error: 404 Client Error: Not Found for url: https://opencitations.net/index/meta/api/v1/citations/10.1088/0954-3899/20/11/003\n",
      "HTTP error: 404 Client Error: Not Found for url: https://opencitations.net/index/meta/api/v1/citations/10.1103/PhysRevC.52.1871\n",
      "HTTP error: 404 Client Error: Not Found for url: https://opencitations.net/index/meta/api/v1/citations/10.1088/0034-4885/61/6/002\n",
      "HTTP error: 404 Client Error: Not Found for url: https://opencitations.net/index/meta/api/v1/citations/10.1016/0375-9474(76)90724-7\n",
      "HTTP error: 404 Client Error: Not Found for url: https://opencitations.net/index/meta/api/v1/citations/10.1146/annurev.ns.35.120185.001031\n",
      "HTTP error: 404 Client Error: Not Found for url: https://opencitations.net/index/meta/api/v1/citations/10.1088/0034-4885/51/1/002\n",
      "HTTP error: 404 Client Error: Not Found for url: https://opencitations.net/index/meta/api/v1/citations/10.1103/RevModPhys.72.733\n",
      "HTTP error: 404 Client Error: Not Found for url: https://opencitations.net/index/meta/api/v1/citations/10.1143/JPSJ.73.2593\n",
      "HTTP error: 404 Client Error: Not Found for url: https://opencitations.net/index/meta/api/v1/citations/10.1103/PhysRevC.69.054607\n",
      "HTTP error: 404 Client Error: Not Found for url: https://opencitations.net/index/meta/api/v1/citations/10.1016/S0168-9002(01)01367-5\n",
      "HTTP error: 404 Client Error: Not Found for url: https://opencitations.net/index/meta/api/v1/citations/10.1103/PhysRevC.69.021601\n",
      "HTTP error: 404 Client Error: Not Found for url: https://opencitations.net/index/meta/api/v1/citations/10.1103/PhysRevLett.83.3154\n",
      "HTTP error: 404 Client Error: Not Found for url: https://opencitations.net/index/meta/api/v1/citations/10.1103/PhysRevC.66.024326\n"
     ]
    },
    {
     "name": "stderr",
     "output_type": "stream",
     "text": [
      "123it [14:35, 10.19s/it]"
     ]
    },
    {
     "name": "stdout",
     "output_type": "stream",
     "text": [
      "HTTP error: 404 Client Error: Not Found for url: https://opencitations.net/index/meta/api/v1/citations/10.1016/0014-5793(78)81128-4\n",
      "HTTP error: 404 Client Error: Not Found for url: https://opencitations.net/index/meta/api/v1/citations/10.1021/bi00748a028\n",
      "HTTP error: 404 Client Error: Not Found for url: https://opencitations.net/index/meta/api/v1/citations/10.1111/j.1432-1033.1974.tb03247.x\n",
      "HTTP error: 404 Client Error: Not Found for url: https://opencitations.net/index/meta/api/v1/citations/10.1016/0014-5793(77)80468-7\n",
      "HTTP error: 404 Client Error: Not Found for url: https://opencitations.net/index/meta/api/v1/citations/10.1016/0019-2791(74)90301-2\n",
      "HTTP error: 404 Client Error: Not Found for url: https://opencitations.net/index/meta/api/v1/citations/10.1002/hlca.19510340318\n",
      "HTTP error: 404 Client Error: Not Found for url: https://opencitations.net/index/meta/api/v1/citations/10.1021/ja01151a554\n",
      "HTTP error: 404 Client Error: Not Found for url: https://opencitations.net/index/meta/api/v1/citations/10.1002/jlac.19515720115\n",
      "HTTP error: 404 Client Error: Not Found for url: https://opencitations.net/index/meta/api/v1/citations/10.1111/j.1432-1033.1971.tb01302.x\n",
      "HTTP error: 404 Client Error: Not Found for url: https://opencitations.net/index/meta/api/v1/citations/10.1016/0003-2697(70)90082-5\n",
      "HTTP error: 404 Client Error: Not Found for url: https://opencitations.net/index/meta/api/v1/citations/10.1107/S0021889874008880\n",
      "HTTP error: 404 Client Error: Not Found for url: https://opencitations.net/index/meta/api/v1/citations/10.1016/0014-5793(76)80454-1\n",
      "HTTP error: 404 Client Error: Not Found for url: https://opencitations.net/index/meta/api/v1/citations/10.1016/0014-5793(78)80529-8\n"
     ]
    },
    {
     "name": "stderr",
     "output_type": "stream",
     "text": [
      "124it [14:54, 12.56s/it]"
     ]
    },
    {
     "name": "stdout",
     "output_type": "stream",
     "text": [
      "HTTP error: 404 Client Error: Not Found for url: https://opencitations.net/index/meta/api/v1/citations/10.1007/BF00688663\n",
      "HTTP error: 404 Client Error: Not Found for url: https://opencitations.net/index/meta/api/v1/citations/10.1524/zpch.1980.121.1.145\n",
      "HTTP error: 404 Client Error: Not Found for url: https://opencitations.net/index/meta/api/v1/citations/10.1063/1.443424\n",
      "HTTP error: 404 Client Error: Not Found for url: https://opencitations.net/index/meta/api/v1/citations/10.1016/0009-2614(81)85549-2\n"
     ]
    },
    {
     "name": "stderr",
     "output_type": "stream",
     "text": [
      "125it [14:58, 10.03s/it]"
     ]
    },
    {
     "name": "stdout",
     "output_type": "stream",
     "text": [
      "HTTP error: 404 Client Error: Not Found for url: https://opencitations.net/index/meta/api/v1/citations/10.1002/pssb.2221490257\n",
      "HTTP error: 404 Client Error: Not Found for url: https://opencitations.net/index/meta/api/v1/citations/10.1002/pssb.2221440224\n",
      "HTTP error: 404 Client Error: Not Found for url: https://opencitations.net/index/meta/api/v1/citations/10.1002/pssb.2221460225\n",
      "HTTP error: 404 Client Error: Not Found for url: https://opencitations.net/index/meta/api/v1/citations/10.1007/BF01011729\n",
      "HTTP error: 404 Client Error: Not Found for url: https://opencitations.net/index/meta/api/v1/citations/10.1016/0375-9474(84)90522-0\n",
      "HTTP error: 404 Client Error: Not Found for url: https://opencitations.net/index/meta/api/v1/citations/10.1016/0370-1573(86)90005-0\n",
      "HTTP error: 404 Client Error: Not Found for url: https://opencitations.net/index/meta/api/v1/citations/10.1103/PhysRev.144.151\n",
      "HTTP error: 404 Client Error: Not Found for url: https://opencitations.net/index/meta/api/v1/citations/10.1103/PhysRevLett.59.2979\n",
      "HTTP error: 404 Client Error: Not Found for url: https://opencitations.net/index/meta/api/v1/citations/10.1103/PhysRevLett.57.2752\n",
      "HTTP error: 404 Client Error: Not Found for url: https://opencitations.net/index/meta/api/v1/citations/10.1016/0375-9601(83)90012-9\n",
      "HTTP error: 404 Client Error: Not Found for url: https://opencitations.net/index/meta/api/v1/citations/10.1016/0022-3697(85)90105-2\n",
      "HTTP error: 404 Client Error: Not Found for url: https://opencitations.net/index/meta/api/v1/citations/10.1016/0378-4363(85)90377-8\n",
      "HTTP error: 404 Client Error: Not Found for url: https://opencitations.net/index/meta/api/v1/citations/10.1016/0022-3697(86)90125-3\n",
      "HTTP error: 404 Client Error: Not Found for url: https://opencitations.net/index/meta/api/v1/citations/10.1103/PhysRevB.34.5443\n",
      "HTTP error: 404 Client Error: Not Found for url: https://opencitations.net/index/meta/api/v1/citations/10.1103/PhysRevA.33.1152\n",
      "HTTP error: 404 Client Error: Not Found for url: https://opencitations.net/index/meta/api/v1/citations/10.1002/pssb.2221460139\n"
     ]
    },
    {
     "name": "stderr",
     "output_type": "stream",
     "text": [
      "126it [15:13, 11.71s/it]"
     ]
    },
    {
     "name": "stdout",
     "output_type": "stream",
     "text": [
      "HTTP error: 404 Client Error: Not Found for url: https://opencitations.net/index/meta/api/v1/citations/10.1016/j.proeng.2012.08.518\n",
      "HTTP error: 404 Client Error: Not Found for url: https://opencitations.net/index/meta/api/v1/citations/10.1098/rsta.1972.0031\n",
      "HTTP error: 404 Client Error: Not Found for url: https://opencitations.net/index/meta/api/v1/citations/10.2217/17435889.2.6.875\n",
      "HTTP error: 404 Client Error: Not Found for url: https://opencitations.net/index/meta/api/v1/citations/10.1038/nnano.2007.27\n",
      "HTTP error: 404 Client Error: Not Found for url: https://opencitations.net/index/meta/api/v1/citations/10.1016/S0168-583X(01)00722-4\n",
      "HTTP error: 404 Client Error: Not Found for url: https://opencitations.net/index/meta/api/v1/citations/10.1088/0957-4484/18/30/305302\n",
      "HTTP error: 404 Client Error: Not Found for url: https://opencitations.net/index/meta/api/v1/citations/10.1016/j.nimb.2009.02.012\n",
      "HTTP error: 404 Client Error: Not Found for url: https://opencitations.net/index/meta/api/v1/citations/10.1088/0957-4484/22/17/175302\n",
      "HTTP error: 404 Client Error: Not Found for url: https://opencitations.net/index/meta/api/v1/citations/10.1063/1.2179797\n",
      "HTTP error: 404 Client Error: Not Found for url: https://opencitations.net/index/meta/api/v1/citations/10.1088/0957-4484/19/31/315707\n"
     ]
    },
    {
     "name": "stderr",
     "output_type": "stream",
     "text": [
      "127it [15:24, 11.27s/it]"
     ]
    },
    {
     "name": "stdout",
     "output_type": "stream",
     "text": [
      "HTTP error: 404 Client Error: Not Found for url: https://opencitations.net/index/meta/api/v1/citations/10.1002/crat.2170250828\n",
      "HTTP error: 404 Client Error: Not Found for url: https://opencitations.net/index/meta/api/v1/citations/10.1515/9783112736173\n"
     ]
    },
    {
     "name": "stderr",
     "output_type": "stream",
     "text": [
      "128it [15:25,  8.45s/it]"
     ]
    },
    {
     "name": "stdout",
     "output_type": "stream",
     "text": [
      "HTTP error: 404 Client Error: Not Found for url: https://opencitations.net/index/meta/api/v1/citations/10.1007/BF02731270\n",
      "HTTP error: 404 Client Error: Not Found for url: https://opencitations.net/index/meta/api/v1/citations/10.1016/0029-5582(61)90413-8\n",
      "HTTP error: 404 Client Error: Not Found for url: https://opencitations.net/index/meta/api/v1/citations/10.1103/PhysRevLett.6.310\n",
      "HTTP error: 404 Client Error: Not Found for url: https://opencitations.net/index/meta/api/v1/citations/10.1103/PhysRev.123.2180\n",
      "HTTP error: 404 Client Error: Not Found for url: https://opencitations.net/index/meta/api/v1/citations/10.1103/PhysRev.112.1380\n"
     ]
    },
    {
     "name": "stderr",
     "output_type": "stream",
     "text": [
      "129it [15:30,  7.40s/it]"
     ]
    },
    {
     "name": "stdout",
     "output_type": "stream",
     "text": [
      "HTTP error: 404 Client Error: Not Found for url: https://opencitations.net/index/meta/api/v1/citations/10.1063/1.1430864\n",
      "HTTP error: 404 Client Error: Not Found for url: https://opencitations.net/index/meta/api/v1/citations/10.1088/0963-0252/2/4/004\n"
     ]
    },
    {
     "name": "stderr",
     "output_type": "stream",
     "text": [
      "130it [15:32,  5.82s/it]"
     ]
    },
    {
     "name": "stdout",
     "output_type": "stream",
     "text": [
      "HTTP error: 404 Client Error: Not Found for url: https://opencitations.net/index/meta/api/v1/citations/10.1002/prop.2190311003\n",
      "HTTP error: 404 Client Error: Not Found for url: https://opencitations.net/index/meta/api/v1/citations/10.1007/BF01448427\n",
      "HTTP error: 404 Client Error: Not Found for url: https://opencitations.net/index/meta/api/v1/citations/10.1002/andp.19173591804\n",
      "HTTP error: 404 Client Error: Not Found for url: https://opencitations.net/index/meta/api/v1/citations/10.1007/978-3-642-98950-6\n",
      "HTTP error: 404 Client Error: Not Found for url: https://opencitations.net/index/meta/api/v1/citations/10.1007/BF01459410\n",
      "HTTP error: 404 Client Error: Not Found for url: https://opencitations.net/index/meta/api/v1/citations/10.1103/PhysRev.75.680\n",
      "HTTP error: 404 Client Error: Not Found for url: https://opencitations.net/index/meta/api/v1/citations/10.1103/RevModPhys.21.480\n",
      "HTTP error: 404 Client Error: Not Found for url: https://opencitations.net/index/meta/api/v1/citations/10.1103/PhysRev.80.81\n",
      "HTTP error: 404 Client Error: Not Found for url: https://opencitations.net/index/meta/api/v1/citations/10.1103/PhysRev.83.1018\n",
      "HTTP error: 404 Client Error: Not Found for url: https://opencitations.net/index/meta/api/v1/citations/10.1103/PhysRev.98.531\n",
      "HTTP error: 404 Client Error: Not Found for url: https://opencitations.net/index/meta/api/v1/citations/10.1103/PhysRev.89.400\n",
      "HTTP error: 404 Client Error: Not Found for url: https://opencitations.net/index/meta/api/v1/citations/10.1103/PhysRev.112.287\n",
      "HTTP error: 404 Client Error: Not Found for url: https://opencitations.net/index/meta/api/v1/citations/10.1103/PhysRev.89.263\n",
      "HTTP error: 404 Client Error: Not Found for url: https://opencitations.net/index/meta/api/v1/citations/10.1103/PhysRev.101.1597\n",
      "HTTP error: 404 Client Error: Not Found for url: https://opencitations.net/index/meta/api/v1/citations/10.1063/1.1703702\n",
      "HTTP error: 404 Client Error: Not Found for url: https://opencitations.net/index/meta/api/v1/citations/10.1007/BF01035741\n",
      "HTTP error: 404 Client Error: Not Found for url: https://opencitations.net/index/meta/api/v1/citations/10.1007/BF00674282\n",
      "HTTP error: 404 Client Error: Not Found for url: https://opencitations.net/index/meta/api/v1/citations/10.1016/0003-4916(72)90180-7\n",
      "HTTP error: 404 Client Error: Not Found for url: https://opencitations.net/index/meta/api/v1/citations/10.1016/0003-4916(74)90331-5\n",
      "HTTP error: 404 Client Error: Not Found for url: https://opencitations.net/index/meta/api/v1/citations/10.1007/BF02819059\n",
      "HTTP error: 404 Client Error: Not Found for url: https://opencitations.net/index/meta/api/v1/citations/10.1007/BF02758981\n",
      "HTTP error: 404 Client Error: Not Found for url: https://opencitations.net/index/meta/api/v1/citations/10.1063/1.1665487\n",
      "HTTP error: 404 Client Error: Not Found for url: https://opencitations.net/index/meta/api/v1/citations/10.1007/BF01019082\n",
      "HTTP error: 404 Client Error: Not Found for url: https://opencitations.net/index/meta/api/v1/citations/10.1103/PhysRev.145.1011\n",
      "HTTP error: 404 Client Error: Not Found for url: https://opencitations.net/index/meta/api/v1/citations/10.1103/PhysRev.150.1251\n",
      "HTTP error: 404 Client Error: Not Found for url: https://opencitations.net/index/meta/api/v1/citations/10.1103/PhysRevLett.21.242\n",
      "HTTP error: 404 Client Error: Not Found for url: https://opencitations.net/index/meta/api/v1/citations/10.1007/BF02711610\n",
      "HTTP error: 404 Client Error: Not Found for url: https://opencitations.net/index/meta/api/v1/citations/10.1007/BF02711611\n",
      "HTTP error: 404 Client Error: Not Found for url: https://opencitations.net/index/meta/api/v1/citations/10.1007/BF02820284\n",
      "HTTP error: 404 Client Error: Not Found for url: https://opencitations.net/index/meta/api/v1/citations/10.1007/BF00727101\n",
      "HTTP error: 404 Client Error: Not Found for url: https://opencitations.net/index/meta/api/v1/citations/10.1007/BF01646018\n",
      "HTTP error: 404 Client Error: Not Found for url: https://opencitations.net/index/meta/api/v1/citations/10.1063/1.522706\n",
      "HTTP error: 404 Client Error: Not Found for url: https://opencitations.net/index/meta/api/v1/citations/10.1103/RevModPhys.13.203\n",
      "HTTP error: 404 Client Error: Not Found for url: https://opencitations.net/index/meta/api/v1/citations/10.1103/RevModPhys.23.253\n",
      "HTTP error: 404 Client Error: Not Found for url: https://opencitations.net/index/meta/api/v1/citations/10.1016/0003-4916(67)90135-2\n",
      "HTTP error: 404 Client Error: Not Found for url: https://opencitations.net/index/meta/api/v1/citations/10.1002/prop.19680160603\n",
      "HTTP error: 404 Client Error: Not Found for url: https://opencitations.net/index/meta/api/v1/citations/10.1007/BF01028568\n",
      "HTTP error: 404 Client Error: Not Found for url: https://opencitations.net/index/meta/api/v1/citations/10.2307/1968929\n",
      "HTTP error: 404 Client Error: Not Found for url: https://opencitations.net/index/meta/api/v1/citations/10.1103/PhysRev.96.191\n",
      "HTTP error: 404 Client Error: Not Found for url: https://opencitations.net/index/meta/api/v1/citations/10.1016/0370-1573(73)90027-6\n",
      "HTTP error: 404 Client Error: Not Found for url: https://opencitations.net/index/meta/api/v1/citations/10.1103/RevModPhys.49.681\n",
      "HTTP error: 404 Client Error: Not Found for url: https://opencitations.net/index/meta/api/v1/citations/10.1103/RevModPhys.51.461\n",
      "HTTP error: 404 Client Error: Not Found for url: https://opencitations.net/index/meta/api/v1/citations/10.1002/prop.19800281102\n",
      "HTTP error: 404 Client Error: Not Found for url: https://opencitations.net/index/meta/api/v1/citations/10.1016/0029-5582(66)90206-9\n",
      "HTTP error: 404 Client Error: Not Found for url: https://opencitations.net/index/meta/api/v1/citations/10.1016/0003-4916(65)90077-1\n",
      "HTTP error: 404 Client Error: Not Found for url: https://opencitations.net/index/meta/api/v1/citations/10.1016/S0031-8914(39)90090-X\n",
      "HTTP error: 404 Client Error: Not Found for url: https://opencitations.net/index/meta/api/v1/citations/10.1016/S0031-8914(40)90091-X\n",
      "HTTP error: 404 Client Error: Not Found for url: https://opencitations.net/index/meta/api/v1/citations/10.1016/0003-4916(70)90394-5\n",
      "HTTP error: 404 Client Error: Not Found for url: https://opencitations.net/index/meta/api/v1/citations/10.1017/CBO9780511524646\n",
      "HTTP error: 404 Client Error: Not Found for url: https://opencitations.net/index/meta/api/v1/citations/10.1016/0003-4916(62)90233-6\n",
      "HTTP error: 404 Client Error: Not Found for url: https://opencitations.net/index/meta/api/v1/citations/10.1103/RevModPhys.32.65\n",
      "HTTP error: 404 Client Error: Not Found for url: https://opencitations.net/index/meta/api/v1/citations/10.1016/0003-4916(58)90053-8\n",
      "HTTP error: 404 Client Error: Not Found for url: https://opencitations.net/index/meta/api/v1/citations/10.1016/0003-4916(61)90148-8\n",
      "HTTP error: 404 Client Error: Not Found for url: https://opencitations.net/index/meta/api/v1/citations/10.1007/BF01018391\n",
      "HTTP error: 404 Client Error: Not Found for url: https://opencitations.net/index/meta/api/v1/citations/10.1007/BF01018392\n",
      "HTTP error: 404 Client Error: Not Found for url: https://opencitations.net/index/meta/api/v1/citations/10.3367/UFNr.0136.198203c.0435\n",
      "HTTP error: 404 Client Error: Not Found for url: https://opencitations.net/index/meta/api/v1/citations/10.1103/RevModPhys.47.123\n",
      "HTTP error: 404 Client Error: Not Found for url: https://opencitations.net/index/meta/api/v1/citations/10.1090/S0002-9904-1969-12357-8\n",
      "HTTP error: 404 Client Error: Not Found for url: https://opencitations.net/index/meta/api/v1/citations/10.1007/BF01327245\n",
      "HTTP error: 404 Client Error: Not Found for url: https://opencitations.net/index/meta/api/v1/citations/10.1007/BF01336904\n",
      "HTTP error: 404 Client Error: Not Found for url: https://opencitations.net/index/meta/api/v1/citations/10.1007/BF01340179\n",
      "HTTP error: 404 Client Error: Not Found for url: https://opencitations.net/index/meta/api/v1/citations/10.1007/BF01338811\n",
      "HTTP error: 404 Client Error: Not Found for url: https://opencitations.net/index/meta/api/v1/citations/10.1109/PROC.1973.9296\n",
      "HTTP error: 404 Client Error: Not Found for url: https://opencitations.net/index/meta/api/v1/citations/10.1063/1.522487\n",
      "HTTP error: 404 Client Error: Not Found for url: https://opencitations.net/index/meta/api/v1/citations/10.1063/1.523267\n"
     ]
    },
    {
     "name": "stderr",
     "output_type": "stream",
     "text": [
      "131it [16:41, 24.77s/it]"
     ]
    },
    {
     "name": "stdout",
     "output_type": "stream",
     "text": [
      "HTTP error: 404 Client Error: Not Found for url: https://opencitations.net/index/meta/api/v1/citations/10.1038/s41467-020-17309-y\n"
     ]
    },
    {
     "name": "stderr",
     "output_type": "stream",
     "text": [
      "132it [16:43, 17.78s/it]"
     ]
    },
    {
     "name": "stdout",
     "output_type": "stream",
     "text": [
      "HTTP error: 404 Client Error: Not Found for url: https://opencitations.net/index/meta/api/v1/citations/10.1016/S0375-9474(03)00820-0\n",
      "HTTP error: 404 Client Error: Not Found for url: https://opencitations.net/index/meta/api/v1/citations/10.1007/BF01295772\n",
      "HTTP error: 404 Client Error: Not Found for url: https://opencitations.net/index/meta/api/v1/citations/10.1016/S1350-4487(99)00193-6\n"
     ]
    },
    {
     "name": "stderr",
     "output_type": "stream",
     "text": [
      "133it [16:46, 13.49s/it]"
     ]
    },
    {
     "name": "stdout",
     "output_type": "stream",
     "text": [
      "HTTP error: 404 Client Error: Not Found for url: https://opencitations.net/index/meta/api/v1/citations/10.1080/10619127.2013.822697\n",
      "HTTP error: 404 Client Error: Not Found for url: https://opencitations.net/index/meta/api/v1/citations/10.1007/978-3-662-03407-1\n",
      "HTTP error: 404 Client Error: Not Found for url: https://opencitations.net/index/meta/api/v1/citations/10.1134/1.953085\n",
      "HTTP error: 404 Client Error: Not Found for url: https://opencitations.net/index/meta/api/v1/citations/10.1016/S0168-583X(99)01062-9\n",
      "HTTP error: 404 Client Error: Not Found for url: https://opencitations.net/index/meta/api/v1/citations/10.1016/j.nimb.2004.12.128\n",
      "HTTP error: 404 Client Error: Not Found for url: https://opencitations.net/index/meta/api/v1/citations/10.1016/j.physletb.2010.07.023\n",
      "HTTP error: 404 Client Error: Not Found for url: https://opencitations.net/index/meta/api/v1/citations/10.1016/j.physletb.2011.08.023\n",
      "HTTP error: 404 Client Error: Not Found for url: https://opencitations.net/index/meta/api/v1/citations/10.1016/j.physletb.2012.07.006\n",
      "HTTP error: 404 Client Error: Not Found for url: https://opencitations.net/index/meta/api/v1/citations/10.1016/0370-2693(95)00981-P\n",
      "HTTP error: 404 Client Error: Not Found for url: https://opencitations.net/index/meta/api/v1/citations/10.1103/PhysRevLett.79.4182\n",
      "HTTP error: 404 Client Error: Not Found for url: https://opencitations.net/index/meta/api/v1/citations/10.1016/j.physletb.2005.06.003\n",
      "HTTP error: 404 Client Error: Not Found for url: https://opencitations.net/index/meta/api/v1/citations/10.1016/0370-2693(93)90024-C\n",
      "HTTP error: 404 Client Error: Not Found for url: https://opencitations.net/index/meta/api/v1/citations/10.1016/0168-583X(96)00356-4\n",
      "HTTP error: 404 Client Error: Not Found for url: https://opencitations.net/index/meta/api/v1/citations/10.1103/PhysRevLett.87.094802\n"
     ]
    },
    {
     "name": "stderr",
     "output_type": "stream",
     "text": [
      "134it [17:01, 13.93s/it]"
     ]
    },
    {
     "name": "stdout",
     "output_type": "stream",
     "text": [
      "HTTP error: 404 Client Error: Not Found for url: https://opencitations.net/index/meta/api/v1/citations/10.1007/s10751-006-9499-7\n"
     ]
    },
    {
     "name": "stderr",
     "output_type": "stream",
     "text": [
      "135it [17:03, 10.12s/it]"
     ]
    },
    {
     "name": "stdout",
     "output_type": "stream",
     "text": [
      "HTTP error: 404 Client Error: Not Found for url: https://opencitations.net/index/meta/api/v1/citations/10.1002/pssb.2221450139\n",
      "HTTP error: 404 Client Error: Not Found for url: https://opencitations.net/index/meta/api/v1/citations/10.1002/pssb.2221080131\n",
      "HTTP error: 404 Client Error: Not Found for url: https://opencitations.net/index/meta/api/v1/citations/10.1103/PhysRevB.11.4364\n",
      "HTTP error: 404 Client Error: Not Found for url: https://opencitations.net/index/meta/api/v1/citations/10.1143/JPSJ.53.676\n"
     ]
    },
    {
     "name": "stderr",
     "output_type": "stream",
     "text": [
      "136it [17:07,  8.51s/it]"
     ]
    },
    {
     "name": "stdout",
     "output_type": "stream",
     "text": [
      "HTTP error: 404 Client Error: Not Found for url: https://opencitations.net/index/meta/api/v1/citations/10.1140/epjc/s10052-015-3661-9\n"
     ]
    },
    {
     "name": "stderr",
     "output_type": "stream",
     "text": [
      "137it [17:09,  6.51s/it]"
     ]
    },
    {
     "name": "stdout",
     "output_type": "stream",
     "text": [
      "HTTP error: 404 Client Error: Not Found for url: https://opencitations.net/index/meta/api/v1/citations/10.1515/9783110298581.xv\n"
     ]
    },
    {
     "name": "stderr",
     "output_type": "stream",
     "text": [
      "138it [17:10,  4.86s/it]"
     ]
    },
    {
     "name": "stdout",
     "output_type": "stream",
     "text": [
      "HTTP error: 404 Client Error: Not Found for url: https://opencitations.net/index/meta/api/v1/citations/10.1002/pssb.2220570243\n",
      "HTTP error: 404 Client Error: Not Found for url: https://opencitations.net/index/meta/api/v1/citations/10.1016/0003-4916(65)90139-9\n",
      "HTTP error: 404 Client Error: Not Found for url: https://opencitations.net/index/meta/api/v1/citations/10.1103/PhysRev.58.1098\n",
      "HTTP error: 404 Client Error: Not Found for url: https://opencitations.net/index/meta/api/v1/citations/10.1007/978-1-4899-7182-1\n",
      "HTTP error: 404 Client Error: Not Found for url: https://opencitations.net/index/meta/api/v1/citations/10.1103/PhysRev.102.1217\n"
     ]
    },
    {
     "name": "stderr",
     "output_type": "stream",
     "text": [
      "139it [17:15,  4.96s/it]"
     ]
    },
    {
     "name": "stdout",
     "output_type": "stream",
     "text": [
      "HTTP error: 404 Client Error: Not Found for url: https://opencitations.net/index/meta/api/v1/citations/10.1007/BF01123159\n"
     ]
    },
    {
     "name": "stderr",
     "output_type": "stream",
     "text": [
      "140it [17:16,  3.78s/it]"
     ]
    },
    {
     "name": "stdout",
     "output_type": "stream",
     "text": [
      "HTTP error: 404 Client Error: Not Found for url: https://opencitations.net/index/meta/api/v1/citations/10.1088/1742-6596/678/1/011001\n"
     ]
    },
    {
     "name": "stderr",
     "output_type": "stream",
     "text": [
      "141it [17:18,  2.98s/it]"
     ]
    },
    {
     "name": "stdout",
     "output_type": "stream",
     "text": [
      "HTTP error: 404 Client Error: Not Found for url: https://opencitations.net/index/meta/api/v1/citations/10.1007/BF02824358\n",
      "HTTP error: 404 Client Error: Not Found for url: https://opencitations.net/index/meta/api/v1/citations/10.1016/0029-554X(75)90429-2\n",
      "HTTP error: 404 Client Error: Not Found for url: https://opencitations.net/index/meta/api/v1/citations/10.1016/0029-554X(75)90568-6\n",
      "HTTP error: 404 Client Error: Not Found for url: https://opencitations.net/index/meta/api/v1/citations/10.1016/0029-554X(67)91363-8\n",
      "HTTP error: 404 Client Error: Not Found for url: https://opencitations.net/index/meta/api/v1/citations/10.1063/1.1678783\n"
     ]
    },
    {
     "name": "stderr",
     "output_type": "stream",
     "text": [
      "142it [17:23,  3.74s/it]"
     ]
    },
    {
     "name": "stdout",
     "output_type": "stream",
     "text": [
      "HTTP error: 404 Client Error: Not Found for url: https://opencitations.net/index/meta/api/v1/citations/10.1023/A:1019276400332\n"
     ]
    },
    {
     "name": "stderr",
     "output_type": "stream",
     "text": [
      "143it [17:24,  2.85s/it]"
     ]
    },
    {
     "name": "stdout",
     "output_type": "stream",
     "text": [
      "HTTP error: 404 Client Error: Not Found for url: https://opencitations.net/index/meta/api/v1/citations/10.1016/0969-8043(95)00327-4\n",
      "HTTP error: 404 Client Error: Not Found for url: https://opencitations.net/index/meta/api/v1/citations/10.1103/PhysRevLett.73.624\n",
      "HTTP error: 404 Client Error: Not Found for url: https://opencitations.net/index/meta/api/v1/citations/10.1103/PhysRevLett.75.1903\n"
     ]
    },
    {
     "name": "stderr",
     "output_type": "stream",
     "text": [
      "144it [17:27,  3.09s/it]"
     ]
    },
    {
     "name": "stdout",
     "output_type": "stream",
     "text": [
      "HTTP error: 404 Client Error: Not Found for url: https://opencitations.net/index/meta/api/v1/citations/10.1016/0031-9163(62)90409-2\n",
      "HTTP error: 404 Client Error: Not Found for url: https://opencitations.net/index/meta/api/v1/citations/10.1103/PhysRevLett.8.34\n",
      "HTTP error: 404 Client Error: Not Found for url: https://opencitations.net/index/meta/api/v1/citations/10.1103/PhysRevLett.8.288\n",
      "HTTP error: 404 Client Error: Not Found for url: https://opencitations.net/index/meta/api/v1/citations/10.1007/BF02745906\n",
      "HTTP error: 404 Client Error: Not Found for url: https://opencitations.net/index/meta/api/v1/citations/10.7498/aps.16.61\n",
      "HTTP error: 404 Client Error: Not Found for url: https://opencitations.net/index/meta/api/v1/citations/10.1016/S0029-5582(60)81054-1\n",
      "HTTP error: 404 Client Error: Not Found for url: https://opencitations.net/index/meta/api/v1/citations/10.1103/PhysRevLett.6.417\n",
      "HTTP error: 404 Client Error: Not Found for url: https://opencitations.net/index/meta/api/v1/citations/10.1103/PhysRev.111.354\n"
     ]
    },
    {
     "name": "stderr",
     "output_type": "stream",
     "text": [
      "145it [17:35,  4.57s/it]"
     ]
    },
    {
     "name": "stdout",
     "output_type": "stream",
     "text": [
      "HTTP error: 404 Client Error: Not Found for url: https://opencitations.net/index/meta/api/v1/citations/10.1103/PhysRevLett.122.159302\n",
      "HTTP error: 404 Client Error: Not Found for url: https://opencitations.net/index/meta/api/v1/citations/10.1103/PhysRevLett.122.159301\n",
      "HTTP error: 404 Client Error: Not Found for url: https://opencitations.net/index/meta/api/v1/citations/10.1103/RevModPhys.21.400\n",
      "HTTP error: 404 Client Error: Not Found for url: https://opencitations.net/index/meta/api/v1/citations/10.1063/1.1703689\n",
      "HTTP error: 404 Client Error: Not Found for url: https://opencitations.net/index/meta/api/v1/citations/10.1103/RevModPhys.34.845\n",
      "HTTP error: 404 Client Error: Not Found for url: https://opencitations.net/index/meta/api/v1/citations/10.1103/PhysRev.132.1842\n",
      "HTTP error: 404 Client Error: Not Found for url: https://opencitations.net/index/meta/api/v1/citations/10.1016/0031-9163(65)90226-X\n",
      "HTTP error: 404 Client Error: Not Found for url: https://opencitations.net/index/meta/api/v1/citations/10.1103/PhysRev.113.1367\n",
      "HTTP error: 404 Client Error: Not Found for url: https://opencitations.net/index/meta/api/v1/citations/10.1063/1.1704054\n",
      "HTTP error: 404 Client Error: Not Found for url: https://opencitations.net/index/meta/api/v1/citations/10.1016/0375-9601(77)90329-2\n",
      "HTTP error: 404 Client Error: Not Found for url: https://opencitations.net/index/meta/api/v1/citations/10.1016/0375-9601(78)90317-1\n",
      "HTTP error: 404 Client Error: Not Found for url: https://opencitations.net/index/meta/api/v1/citations/10.1007/BF02721623\n",
      "HTTP error: 404 Client Error: Not Found for url: https://opencitations.net/index/meta/api/v1/citations/10.1007/BF02721624\n",
      "HTTP error: 404 Client Error: Not Found for url: https://opencitations.net/index/meta/api/v1/citations/10.1098/rspa.1948.0103\n",
      "HTTP error: 404 Client Error: Not Found for url: https://opencitations.net/index/meta/api/v1/citations/10.1103/PhysRev.78.29\n",
      "HTTP error: 404 Client Error: Not Found for url: https://opencitations.net/index/meta/api/v1/citations/10.1103/PhysRev.87.688\n",
      "HTTP error: 404 Client Error: Not Found for url: https://opencitations.net/index/meta/api/v1/citations/10.1103/PhysRev.113.1661\n",
      "HTTP error: 404 Client Error: Not Found for url: https://opencitations.net/index/meta/api/v1/citations/10.1143/PTP.26.1\n",
      "HTTP error: 404 Client Error: Not Found for url: https://opencitations.net/index/meta/api/v1/citations/10.1143/PTP.26.499\n",
      "HTTP error: 404 Client Error: Not Found for url: https://opencitations.net/index/meta/api/v1/citations/10.1143/PTP.27.1063\n",
      "HTTP error: 404 Client Error: Not Found for url: https://opencitations.net/index/meta/api/v1/citations/10.1119/1.18017\n",
      "HTTP error: 404 Client Error: Not Found for url: https://opencitations.net/index/meta/api/v1/citations/10.1002/prop.19700180402\n",
      "HTTP error: 404 Client Error: Not Found for url: https://opencitations.net/index/meta/api/v1/citations/10.1103/RevModPhys.33.343\n",
      "HTTP error: 404 Client Error: Not Found for url: https://opencitations.net/index/meta/api/v1/citations/10.1016/j.aop.2012.12.001\n",
      "HTTP error: 404 Client Error: Not Found for url: https://opencitations.net/index/meta/api/v1/citations/10.1103/PhysRevA.88.022119\n",
      "HTTP error: 404 Client Error: Not Found for url: https://opencitations.net/index/meta/api/v1/citations/10.1088/1367-2630/16/4/043012\n",
      "HTTP error: 404 Client Error: Not Found for url: https://opencitations.net/index/meta/api/v1/citations/10.1088/0305-4470/30/7/034\n",
      "HTTP error: 404 Client Error: Not Found for url: https://opencitations.net/index/meta/api/v1/citations/10.1238/Physica.Regular.061a00396\n",
      "HTTP error: 404 Client Error: Not Found for url: https://opencitations.net/index/meta/api/v1/citations/10.1103/PhysRevLett.121.043202\n",
      "HTTP error: 404 Client Error: Not Found for url: https://opencitations.net/index/meta/api/v1/citations/10.1063/1.1579991\n",
      "HTTP error: 404 Client Error: Not Found for url: https://opencitations.net/index/meta/api/v1/citations/10.1103/PhysRevA.77.012116\n",
      "HTTP error: 404 Client Error: Not Found for url: https://opencitations.net/index/meta/api/v1/citations/10.1134/S1547477113020131\n",
      "HTTP error: 404 Client Error: Not Found for url: https://opencitations.net/index/meta/api/v1/citations/10.1007/s11232-013-0086-1\n",
      "HTTP error: 404 Client Error: Not Found for url: https://opencitations.net/index/meta/api/v1/citations/10.1103/PhysRevA.91.022103\n",
      "HTTP error: 404 Client Error: Not Found for url: https://opencitations.net/index/meta/api/v1/citations/10.1103/PhysRevA.93.022108\n",
      "HTTP error: 404 Client Error: Not Found for url: https://opencitations.net/index/meta/api/v1/citations/10.1093/oso/9780195140866.001.0001\n",
      "HTTP error: 404 Client Error: Not Found for url: https://opencitations.net/index/meta/api/v1/citations/10.1002/9783527627486\n",
      "HTTP error: 404 Client Error: Not Found for url: https://opencitations.net/index/meta/api/v1/citations/10.1103/PhysRevA.94.052116\n",
      "HTTP error: 404 Client Error: Not Found for url: https://opencitations.net/index/meta/api/v1/citations/10.1007/BF02067491\n",
      "HTTP error: 404 Client Error: Not Found for url: https://opencitations.net/index/meta/api/v1/citations/10.1007/s11182-005-0203-1\n",
      "HTTP error: 404 Client Error: Not Found for url: https://opencitations.net/index/meta/api/v1/citations/10.1103/PhysRevLett.2.492\n",
      "HTTP error: 404 Client Error: Not Found for url: https://opencitations.net/index/meta/api/v1/citations/10.1142/S0217751X13501479\n",
      "HTTP error: 404 Client Error: Not Found for url: https://opencitations.net/index/meta/api/v1/citations/10.1088/0031-8949/90/6/065303\n",
      "HTTP error: 404 Client Error: Not Found for url: https://opencitations.net/index/meta/api/v1/citations/10.1134/1.1581931\n",
      "HTTP error: 404 Client Error: Not Found for url: https://opencitations.net/index/meta/api/v1/citations/10.1103/PhysRevD.87.073015\n",
      "HTTP error: 404 Client Error: Not Found for url: https://opencitations.net/index/meta/api/v1/citations/10.1103/PhysRevA.91.012111\n",
      "HTTP error: 404 Client Error: Not Found for url: https://opencitations.net/index/meta/api/v1/citations/10.1103/PhysRevB.63.052503\n",
      "HTTP error: 404 Client Error: Not Found for url: https://opencitations.net/index/meta/api/v1/citations/10.1142/S0217732311034967\n",
      "HTTP error: 404 Client Error: Not Found for url: https://opencitations.net/index/meta/api/v1/citations/10.1073/pnas.34.5.211\n",
      "HTTP error: 404 Client Error: Not Found for url: https://opencitations.net/index/meta/api/v1/citations/10.1134/S1547477108060034\n"
     ]
    },
    {
     "name": "stderr",
     "output_type": "stream",
     "text": [
      "146it [18:24, 17.62s/it]"
     ]
    },
    {
     "name": "stdout",
     "output_type": "stream",
     "text": [
      "HTTP error: 404 Client Error: Not Found for url: https://opencitations.net/index/meta/api/v1/citations/10.1007/BF01832149\n",
      "HTTP error: 404 Client Error: Not Found for url: https://opencitations.net/index/meta/api/v1/citations/10.1088/0031-8949/2/4-5/009\n",
      "HTTP error: 404 Client Error: Not Found for url: https://opencitations.net/index/meta/api/v1/citations/10.1007/BF01600092\n",
      "HTTP error: 404 Client Error: Not Found for url: https://opencitations.net/index/meta/api/v1/citations/10.1007/BF01595381\n",
      "HTTP error: 404 Client Error: Not Found for url: https://opencitations.net/index/meta/api/v1/citations/10.1103/PhysRevC.2.724\n",
      "HTTP error: 404 Client Error: Not Found for url: https://opencitations.net/index/meta/api/v1/citations/10.1103/PhysRev.170.1108\n",
      "HTTP error: 404 Client Error: Not Found for url: https://opencitations.net/index/meta/api/v1/citations/10.1016/0375-9474(77)90461-4\n"
     ]
    },
    {
     "name": "stderr",
     "output_type": "stream",
     "text": [
      "147it [18:30, 14.24s/it]"
     ]
    },
    {
     "name": "stdout",
     "output_type": "stream",
     "text": [
      "HTTP error: 404 Client Error: Not Found for url: https://opencitations.net/index/meta/api/v1/citations/10.1016/0031-9163(65)90363-X\n",
      "HTTP error: 404 Client Error: Not Found for url: https://opencitations.net/index/meta/api/v1/citations/10.1103/PhysRev.125.1067\n",
      "HTTP error: 404 Client Error: Not Found for url: https://opencitations.net/index/meta/api/v1/citations/10.1016/0029-5582(61)90134-1\n",
      "HTTP error: 404 Client Error: Not Found for url: https://opencitations.net/index/meta/api/v1/citations/10.1143/PTP.27.949\n",
      "HTTP error: 404 Client Error: Not Found for url: https://opencitations.net/index/meta/api/v1/citations/10.1103/PhysRevLett.12.204\n",
      "HTTP error: 404 Client Error: Not Found for url: https://opencitations.net/index/meta/api/v1/citations/10.1103/PhysRevLett.11.52\n",
      "HTTP error: 404 Client Error: Not Found for url: https://opencitations.net/index/meta/api/v1/citations/10.1103/PhysRev.133.B531\n",
      "HTTP error: 404 Client Error: Not Found for url: https://opencitations.net/index/meta/api/v1/citations/10.1103/PhysRev.137.B637\n",
      "HTTP error: 404 Client Error: Not Found for url: https://opencitations.net/index/meta/api/v1/citations/10.1103/PhysRev.134.B1393\n",
      "HTTP error: 404 Client Error: Not Found for url: https://opencitations.net/index/meta/api/v1/citations/10.1007/BF02859566\n",
      "HTTP error: 404 Client Error: Not Found for url: https://opencitations.net/index/meta/api/v1/citations/10.1016/0029-5582(59)90238-X\n",
      "HTTP error: 404 Client Error: Not Found for url: https://opencitations.net/index/meta/api/v1/citations/10.1016/0031-9163(64)90707-3\n"
     ]
    },
    {
     "name": "stderr",
     "output_type": "stream",
     "text": [
      "148it [18:44, 14.21s/it]"
     ]
    },
    {
     "name": "stdout",
     "output_type": "stream",
     "text": [
      "HTTP error: 404 Client Error: Not Found for url: https://opencitations.net/index/meta/api/v1/citations/10.1109/TMAG.1975.1058688\n",
      "HTTP error: 404 Client Error: Not Found for url: https://opencitations.net/index/meta/api/v1/citations/10.1103/PhysRev.157.317\n",
      "HTTP error: 404 Client Error: Not Found for url: https://opencitations.net/index/meta/api/v1/citations/10.1007/BF00644085\n",
      "HTTP error: 404 Client Error: Not Found for url: https://opencitations.net/index/meta/api/v1/citations/10.1063/1.1684651\n",
      "HTTP error: 404 Client Error: Not Found for url: https://opencitations.net/index/meta/api/v1/citations/10.1016/0011-2275(72)90133-6\n",
      "HTTP error: 404 Client Error: Not Found for url: https://opencitations.net/index/meta/api/v1/citations/10.1016/0031-9163(66)90618-4\n",
      "HTTP error: 404 Client Error: Not Found for url: https://opencitations.net/index/meta/api/v1/citations/10.1016/0031-9163(65)90583-4\n",
      "In crossref got an exception The read operation timed out\n",
      "HTTP error: 404 Client Error: Not Found for url: https://opencitations.net/index/meta/api/v1/citations/10.1103/PhysRevB.6.832\n",
      "HTTP error: 404 Client Error: Not Found for url: https://opencitations.net/index/meta/api/v1/citations/10.1063/1.1662830\n",
      "HTTP error: 404 Client Error: Not Found for url: https://opencitations.net/index/meta/api/v1/citations/10.1063/1.1653725\n",
      "HTTP error: 404 Client Error: Not Found for url: https://opencitations.net/index/meta/api/v1/citations/10.1070/PU1968v011n03ABEH003840\n",
      "HTTP error: 404 Client Error: Not Found for url: https://opencitations.net/index/meta/api/v1/citations/10.1103/PhysRev.132.2194\n",
      "HTTP error: 404 Client Error: Not Found for url: https://opencitations.net/index/meta/api/v1/citations/10.1051/rphysap:019700050104100\n",
      "HTTP error: 404 Client Error: Not Found for url: https://opencitations.net/index/meta/api/v1/citations/10.1007/BF00629570\n",
      "HTTP error: 404 Client Error: Not Found for url: https://opencitations.net/index/meta/api/v1/citations/10.1063/1.1659605\n",
      "HTTP error: 404 Client Error: Not Found for url: https://opencitations.net/index/meta/api/v1/citations/10.1109/PROC.1973.8965\n",
      "HTTP error: 404 Client Error: Not Found for url: https://opencitations.net/index/meta/api/v1/citations/10.1051/rphysap:019740090107900\n",
      "HTTP error: 404 Client Error: Not Found for url: https://opencitations.net/index/meta/api/v1/citations/10.1109/PROC.1973.8964\n",
      "HTTP error: 404 Client Error: Not Found for url: https://opencitations.net/index/meta/api/v1/citations/10.1063/1.1662916\n",
      "HTTP error: 404 Client Error: Not Found for url: https://opencitations.net/index/meta/api/v1/citations/10.1063/1.1654144\n",
      "HTTP error: 404 Client Error: Not Found for url: https://opencitations.net/index/meta/api/v1/citations/10.1063/1.1686365\n"
     ]
    },
    {
     "name": "stderr",
     "output_type": "stream",
     "text": [
      "149it [19:09, 17.35s/it]"
     ]
    },
    {
     "name": "stdout",
     "output_type": "stream",
     "text": [
      "HTTP error: 404 Client Error: Not Found for url: https://opencitations.net/index/meta/api/v1/citations/10.1002/prop.19600080703\n",
      "HTTP error: 404 Client Error: Not Found for url: https://opencitations.net/index/meta/api/v1/citations/10.1146/annurev.ns.02.120153.001401\n",
      "HTTP error: 404 Client Error: Not Found for url: https://opencitations.net/index/meta/api/v1/citations/10.3367/UFNr.0056.195506b.0165\n",
      "HTTP error: 404 Client Error: Not Found for url: https://opencitations.net/index/meta/api/v1/citations/10.3367/UFNr.0056.195506c.0201\n",
      "HTTP error: 404 Client Error: Not Found for url: https://opencitations.net/index/meta/api/v1/citations/10.1038/178446a0\n",
      "HTTP error: 404 Client Error: Not Found for url: https://opencitations.net/index/meta/api/v1/citations/10.1103/RevModPhys.23.10\n",
      "HTTP error: 404 Client Error: Not Found for url: https://opencitations.net/index/meta/api/v1/citations/10.1103/RevModPhys.26.327\n",
      "HTTP error: 404 Client Error: Not Found for url: https://opencitations.net/index/meta/api/v1/citations/10.1103/PhysRev.104.254\n",
      "HTTP error: 404 Client Error: Not Found for url: https://opencitations.net/index/meta/api/v1/citations/10.1016/0029-5582(57)90061-5\n",
      "HTTP error: 404 Client Error: Not Found for url: https://opencitations.net/index/meta/api/v1/citations/10.1007/BF02812841\n",
      "HTTP error: 404 Client Error: Not Found for url: https://opencitations.net/index/meta/api/v1/citations/10.1103/PhysRev.105.1671\n",
      "HTTP error: 404 Client Error: Not Found for url: https://opencitations.net/index/meta/api/v1/citations/10.3367/UFNr.0061.195703a.0313\n",
      "HTTP error: 404 Client Error: Not Found for url: https://opencitations.net/index/meta/api/v1/citations/10.1002/prop.19570051203\n",
      "HTTP error: 404 Client Error: Not Found for url: https://opencitations.net/index/meta/api/v1/citations/10.1103/PhysRev.106.340\n",
      "HTTP error: 404 Client Error: Not Found for url: https://opencitations.net/index/meta/api/v1/citations/10.1016/0003-4916(57)90032-5\n",
      "HTTP error: 404 Client Error: Not Found for url: https://opencitations.net/index/meta/api/v1/citations/10.1073/pnas.44.2.223\n",
      "HTTP error: 404 Client Error: Not Found for url: https://opencitations.net/index/meta/api/v1/citations/10.1103/PhysRev.91.713\n",
      "HTTP error: 404 Client Error: Not Found for url: https://opencitations.net/index/meta/api/v1/citations/10.1007/BF02827771\n",
      "HTTP error: 404 Client Error: Not Found for url: https://opencitations.net/index/meta/api/v1/citations/10.1007/BF02832502\n",
      "HTTP error: 404 Client Error: Not Found for url: https://opencitations.net/index/meta/api/v1/citations/10.1007/BF02744196\n",
      "HTTP error: 404 Client Error: Not Found for url: https://opencitations.net/index/meta/api/v1/citations/10.1103/PhysRev.107.307\n",
      "HTTP error: 404 Client Error: Not Found for url: https://opencitations.net/index/meta/api/v1/citations/10.1007/BF02744202\n",
      "HTTP error: 404 Client Error: Not Found for url: https://opencitations.net/index/meta/api/v1/citations/10.1103/PhysRev.108.907\n",
      "HTTP error: 404 Client Error: Not Found for url: https://opencitations.net/index/meta/api/v1/citations/10.1016/0029-5582(58)90050-6\n",
      "HTTP error: 404 Client Error: Not Found for url: https://opencitations.net/index/meta/api/v1/citations/10.1103/PhysRev.107.797\n",
      "HTTP error: 404 Client Error: Not Found for url: https://opencitations.net/index/meta/api/v1/citations/10.1103/PhysRev.107.728\n",
      "HTTP error: 404 Client Error: Not Found for url: https://opencitations.net/index/meta/api/v1/citations/10.1103/PhysRev.106.517\n",
      "HTTP error: 404 Client Error: Not Found for url: https://opencitations.net/index/meta/api/v1/citations/10.1016/0029-5582(87)90044-7\n",
      "HTTP error: 404 Client Error: Not Found for url: https://opencitations.net/index/meta/api/v1/citations/10.1016/0029-5582(58)90053-1\n",
      "HTTP error: 404 Client Error: Not Found for url: https://opencitations.net/index/meta/api/v1/citations/10.1103/PhysRev.107.1381\n",
      "HTTP error: 404 Client Error: Not Found for url: https://opencitations.net/index/meta/api/v1/citations/10.1103/PhysRev.107.1316\n",
      "HTTP error: 404 Client Error: Not Found for url: https://opencitations.net/index/meta/api/v1/citations/10.1103/PhysRev.107.1729\n",
      "HTTP error: 404 Client Error: Not Found for url: https://opencitations.net/index/meta/api/v1/citations/10.1103/PhysRev.109.2048\n",
      "HTTP error: 404 Client Error: Not Found for url: https://opencitations.net/index/meta/api/v1/citations/10.1016/0029-5582(58)90085-3\n",
      "HTTP error: 404 Client Error: Not Found for url: https://opencitations.net/index/meta/api/v1/citations/10.1016/0029-5582(87)90019-8\n",
      "HTTP error: 404 Client Error: Not Found for url: https://opencitations.net/index/meta/api/v1/citations/10.1016/0029-5582(87)90020-4\n",
      "HTTP error: 404 Client Error: Not Found for url: https://opencitations.net/index/meta/api/v1/citations/10.1016/0029-5582(58)90040-3\n",
      "HTTP error: 404 Client Error: Not Found for url: https://opencitations.net/index/meta/api/v1/citations/10.1016/0029-5582(58)90204-9\n",
      "HTTP error: 404 Client Error: Not Found for url: https://opencitations.net/index/meta/api/v1/citations/10.1103/PhysRev.109.193\n",
      "HTTP error: 404 Client Error: Not Found for url: https://opencitations.net/index/meta/api/v1/citations/10.1103/PhysRev.109.1860.2\n",
      "HTTP error: 404 Client Error: Not Found for url: https://opencitations.net/index/meta/api/v1/citations/10.1103/PhysRev.111.362\n",
      "HTTP error: 404 Client Error: Not Found for url: https://opencitations.net/index/meta/api/v1/citations/10.1103/PhysRev.110.448\n",
      "HTTP error: 404 Client Error: Not Found for url: https://opencitations.net/index/meta/api/v1/citations/10.1103/PhysRev.110.451\n",
      "HTTP error: 404 Client Error: Not Found for url: https://opencitations.net/index/meta/api/v1/citations/10.1103/PhysRev.110.461\n",
      "HTTP error: 404 Client Error: Not Found for url: https://opencitations.net/index/meta/api/v1/citations/10.1103/PhysRevLett.1.112\n",
      "HTTP error: 404 Client Error: Not Found for url: https://opencitations.net/index/meta/api/v1/citations/10.1103/PhysRevLett.1.116\n",
      "HTTP error: 404 Client Error: Not Found for url: https://opencitations.net/index/meta/api/v1/citations/10.1103/PhysRev.110.1478\n",
      "HTTP error: 404 Client Error: Not Found for url: https://opencitations.net/index/meta/api/v1/citations/10.1103/PhysRev.110.1450\n",
      "HTTP error: 404 Client Error: Not Found for url: https://opencitations.net/index/meta/api/v1/citations/10.1103/PhysRev.111.237\n",
      "HTTP error: 404 Client Error: Not Found for url: https://opencitations.net/index/meta/api/v1/citations/10.1103/PhysRev.111.1130\n",
      "HTTP error: 404 Client Error: Not Found for url: https://opencitations.net/index/meta/api/v1/citations/10.1103/PhysRev.111.354\n",
      "HTTP error: 404 Client Error: Not Found for url: https://opencitations.net/index/meta/api/v1/citations/10.1007/BF02732490\n",
      "HTTP error: 404 Client Error: Not Found for url: https://opencitations.net/index/meta/api/v1/citations/10.1016/0029-5582(87)90080-0\n",
      "HTTP error: 404 Client Error: Not Found for url: https://opencitations.net/index/meta/api/v1/citations/10.1103/PhysRev.83.349\n",
      "HTTP error: 404 Client Error: Not Found for url: https://opencitations.net/index/meta/api/v1/citations/10.1103/PhysRev.109.897\n",
      "HTTP error: 404 Client Error: Not Found for url: https://opencitations.net/index/meta/api/v1/citations/10.1103/PhysRev.93.1076\n",
      "HTTP error: 404 Client Error: Not Found for url: https://opencitations.net/index/meta/api/v1/citations/10.1103/PhysRev.91.1232\n",
      "HTTP error: 404 Client Error: Not Found for url: https://opencitations.net/index/meta/api/v1/citations/10.1103/PhysRev.101.1315\n",
      "HTTP error: 404 Client Error: Not Found for url: https://opencitations.net/index/meta/api/v1/citations/10.1103/PhysRev.107.135\n",
      "HTTP error: 404 Client Error: Not Found for url: https://opencitations.net/index/meta/api/v1/citations/10.1103/PhysRev.97.991\n",
      "HTTP error: 404 Client Error: Not Found for url: https://opencitations.net/index/meta/api/v1/citations/10.1103/PhysRev.107.641.2\n",
      "HTTP error: 404 Client Error: Not Found for url: https://opencitations.net/index/meta/api/v1/citations/10.1103/PhysRev.105.673\n",
      "HTTP error: 404 Client Error: Not Found for url: https://opencitations.net/index/meta/api/v1/citations/10.1103/PhysRev.105.213\n",
      "HTTP error: 404 Client Error: Not Found for url: https://opencitations.net/index/meta/api/v1/citations/10.1016/0029-5582(58)90074-9\n",
      "HTTP error: 404 Client Error: Not Found for url: https://opencitations.net/index/meta/api/v1/citations/10.1103/PhysRev.95.288\n",
      "HTTP error: 404 Client Error: Not Found for url: https://opencitations.net/index/meta/api/v1/citations/10.1103/PhysRevLett.1.61\n",
      "HTTP error: 404 Client Error: Not Found for url: https://opencitations.net/index/meta/api/v1/citations/10.1007/BF01340463\n",
      "HTTP error: 404 Client Error: Not Found for url: https://opencitations.net/index/meta/api/v1/citations/10.1016/0029-5582(58)90289-X\n",
      "HTTP error: 404 Client Error: Not Found for url: https://opencitations.net/index/meta/api/v1/citations/10.1103/PhysRevLett.1.326\n",
      "HTTP error: 404 Client Error: Not Found for url: https://opencitations.net/index/meta/api/v1/citations/10.1103/PhysRev.90.492.2\n",
      "HTTP error: 404 Client Error: Not Found for url: https://opencitations.net/index/meta/api/v1/citations/10.1103/PhysRev.92.830\n",
      "HTTP error: 404 Client Error: Not Found for url: https://opencitations.net/index/meta/api/v1/citations/10.1103/PhysRev.101.1041\n",
      "HTTP error: 404 Client Error: Not Found for url: https://opencitations.net/index/meta/api/v1/citations/10.1103/PhysRev.109.1015\n",
      "HTTP error: 404 Client Error: Not Found for url: https://opencitations.net/index/meta/api/v1/citations/10.1103/PhysRev.107.528\n",
      "HTTP error: 404 Client Error: Not Found for url: https://opencitations.net/index/meta/api/v1/citations/10.1103/PhysRev.107.1609\n",
      "HTTP error: 404 Client Error: Not Found for url: https://opencitations.net/index/meta/api/v1/citations/10.1103/PhysRev.109.2214\n",
      "HTTP error: 404 Client Error: Not Found for url: https://opencitations.net/index/meta/api/v1/citations/10.1103/PhysRevLett.1.101\n",
      "HTTP error: 404 Client Error: Not Found for url: https://opencitations.net/index/meta/api/v1/citations/10.1103/PhysRev.106.386\n",
      "HTTP error: 404 Client Error: Not Found for url: https://opencitations.net/index/meta/api/v1/citations/10.1016/0029-5582(58)90303-1\n",
      "HTTP error: 404 Client Error: Not Found for url: https://opencitations.net/index/meta/api/v1/citations/10.1016/0029-5582(87)90028-9\n",
      "HTTP error: 404 Client Error: Not Found for url: https://opencitations.net/index/meta/api/v1/citations/10.1103/PhysRev.106.826\n",
      "HTTP error: 404 Client Error: Not Found for url: https://opencitations.net/index/meta/api/v1/citations/10.1103/PhysRev.108.160\n",
      "HTTP error: 404 Client Error: Not Found for url: https://opencitations.net/index/meta/api/v1/citations/10.1103/PhysRev.109.85\n",
      "HTTP error: 404 Client Error: Not Found for url: https://opencitations.net/index/meta/api/v1/citations/10.1103/PhysRev.109.223\n",
      "HTTP error: 404 Client Error: Not Found for url: https://opencitations.net/index/meta/api/v1/citations/10.1051/jphysrad:0195800190102800\n",
      "HTTP error: 404 Client Error: Not Found for url: https://opencitations.net/index/meta/api/v1/citations/10.1103/PhysRev.106.1220\n",
      "HTTP error: 404 Client Error: Not Found for url: https://opencitations.net/index/meta/api/v1/citations/10.1103/PhysRev.107.1733\n",
      "HTTP error: 404 Client Error: Not Found for url: https://opencitations.net/index/meta/api/v1/citations/10.1103/PhysRev.107.643\n",
      "HTTP error: 404 Client Error: Not Found for url: https://opencitations.net/index/meta/api/v1/citations/10.1103/PhysRev.108.1099\n",
      "HTTP error: 404 Client Error: Not Found for url: https://opencitations.net/index/meta/api/v1/citations/10.1016/S0031-8914(57)93422-5\n",
      "HTTP error: 404 Client Error: Not Found for url: https://opencitations.net/index/meta/api/v1/citations/10.1103/PhysRev.110.1406\n",
      "HTTP error: 404 Client Error: Not Found for url: https://opencitations.net/index/meta/api/v1/citations/10.1103/PhysRevLett.1.95\n",
      "HTTP error: 404 Client Error: Not Found for url: https://opencitations.net/index/meta/api/v1/citations/10.1103/PhysRevLett.1.176\n",
      "HTTP error: 404 Client Error: Not Found for url: https://opencitations.net/index/meta/api/v1/citations/10.1007/BF01332363\n",
      "HTTP error: 404 Client Error: Not Found for url: https://opencitations.net/index/meta/api/v1/citations/10.1007/BF01375418\n",
      "HTTP error: 404 Client Error: Not Found for url: https://opencitations.net/index/meta/api/v1/citations/10.1103/PhysRevLett.1.34\n",
      "HTTP error: 404 Client Error: Not Found for url: https://opencitations.net/index/meta/api/v1/citations/10.1103/PhysRev.105.1413\n",
      "HTTP error: 404 Client Error: Not Found for url: https://opencitations.net/index/meta/api/v1/citations/10.1103/PhysRev.106.1361\n",
      "HTTP error: 404 Client Error: Not Found for url: https://opencitations.net/index/meta/api/v1/citations/10.1016/S0031-8914(57)91829-3\n",
      "HTTP error: 404 Client Error: Not Found for url: https://opencitations.net/index/meta/api/v1/citations/10.1103/PhysRev.108.503\n",
      "HTTP error: 404 Client Error: Not Found for url: https://opencitations.net/index/meta/api/v1/citations/10.1080/14786435808244571\n",
      "HTTP error: 404 Client Error: Not Found for url: https://opencitations.net/index/meta/api/v1/citations/10.1103/PhysRev.107.1731.2\n",
      "HTTP error: 404 Client Error: Not Found for url: https://opencitations.net/index/meta/api/v1/citations/10.1103/PhysRev.110.1214\n",
      "HTTP error: 404 Client Error: Not Found for url: https://opencitations.net/index/meta/api/v1/citations/10.1103/PhysRevLett.1.100\n",
      "HTTP error: 404 Client Error: Not Found for url: https://opencitations.net/index/meta/api/v1/citations/10.1103/PhysRevLett.1.324\n",
      "HTTP error: 404 Client Error: Not Found for url: https://opencitations.net/index/meta/api/v1/citations/10.1103/PhysRev.106.1364\n",
      "HTTP error: 404 Client Error: Not Found for url: https://opencitations.net/index/meta/api/v1/citations/10.1103/PhysRev.107.1202.2\n",
      "HTTP error: 404 Client Error: Not Found for url: https://opencitations.net/index/meta/api/v1/citations/10.1103/PhysRev.107.1462\n",
      "HTTP error: 404 Client Error: Not Found for url: https://opencitations.net/index/meta/api/v1/citations/10.1080/14786435708242717\n",
      "HTTP error: 404 Client Error: Not Found for url: https://opencitations.net/index/meta/api/v1/citations/10.1103/PhysRev.109.456\n",
      "HTTP error: 404 Client Error: Not Found for url: https://opencitations.net/index/meta/api/v1/citations/10.1103/PhysRev.109.1018\n",
      "HTTP error: 404 Client Error: Not Found for url: https://opencitations.net/index/meta/api/v1/citations/10.1103/PhysRev.110.787\n",
      "HTTP error: 404 Client Error: Not Found for url: https://opencitations.net/index/meta/api/v1/citations/10.1007/BF01375422\n",
      "HTTP error: 404 Client Error: Not Found for url: https://opencitations.net/index/meta/api/v1/citations/10.1103/PhysRev.78.807\n",
      "HTTP error: 404 Client Error: Not Found for url: https://opencitations.net/index/meta/api/v1/citations/10.1103/PhysRevLett.1.144\n"
     ]
    },
    {
     "name": "stderr",
     "output_type": "stream",
     "text": [
      "150it [21:02, 46.26s/it]"
     ]
    },
    {
     "name": "stdout",
     "output_type": "stream",
     "text": [
      "HTTP error: 404 Client Error: Not Found for url: https://opencitations.net/index/meta/api/v1/citations/10.1016/0031-9163(65)91331-4\n",
      "HTTP error: 404 Client Error: Not Found for url: https://opencitations.net/index/meta/api/v1/citations/10.1103/PhysRevLett.13.173\n",
      "HTTP error: 404 Client Error: Not Found for url: https://opencitations.net/index/meta/api/v1/citations/10.1103/PhysRevLett.13.175\n",
      "HTTP error: 404 Client Error: Not Found for url: https://opencitations.net/index/meta/api/v1/citations/10.1103/PhysRevLett.13.299\n",
      "HTTP error: 404 Client Error: Not Found for url: https://opencitations.net/index/meta/api/v1/citations/10.1103/PhysRevLett.13.415\n",
      "HTTP error: 404 Client Error: Not Found for url: https://opencitations.net/index/meta/api/v1/citations/10.1103/PhysRevLett.13.418\n",
      "HTTP error: 404 Client Error: Not Found for url: https://opencitations.net/index/meta/api/v1/citations/10.1103/PhysRevLett.13.509\n",
      "HTTP error: 404 Client Error: Not Found for url: https://opencitations.net/index/meta/api/v1/citations/10.1103/PhysRevLett.13.514\n",
      "HTTP error: 404 Client Error: Not Found for url: https://opencitations.net/index/meta/api/v1/citations/10.1103/PhysRevLett.13.643\n",
      "HTTP error: 404 Client Error: Not Found for url: https://opencitations.net/index/meta/api/v1/citations/10.1103/PhysRev.125.1067\n",
      "HTTP error: 404 Client Error: Not Found for url: https://opencitations.net/index/meta/api/v1/citations/10.1103/PhysicsPhysiqueFizika.1.63\n",
      "HTTP error: 404 Client Error: Not Found for url: https://opencitations.net/index/meta/api/v1/citations/10.1016/0003-4916(60)90126-3\n",
      "HTTP error: 404 Client Error: Not Found for url: https://opencitations.net/index/meta/api/v1/citations/10.1103/PhysRevLett.13.592\n"
     ]
    },
    {
     "name": "stderr",
     "output_type": "stream",
     "text": [
      "151it [21:14, 35.87s/it]"
     ]
    },
    {
     "name": "stdout",
     "output_type": "stream",
     "text": [
      "HTTP error: 404 Client Error: Not Found for url: https://opencitations.net/index/meta/api/v1/citations/10.1016/S0375-9474(14)00570-3\n"
     ]
    },
    {
     "name": "stderr",
     "output_type": "stream",
     "text": [
      "152it [21:15, 25.45s/it]"
     ]
    },
    {
     "name": "stdout",
     "output_type": "stream",
     "text": [
      "HTTP error: 404 Client Error: Not Found for url: https://opencitations.net/index/meta/api/v1/citations/10.1002/pssb.2221220147\n",
      "HTTP error: 404 Client Error: Not Found for url: https://opencitations.net/index/meta/api/v1/citations/10.1002/pssb.2220920254\n",
      "HTTP error: 404 Client Error: Not Found for url: https://opencitations.net/index/meta/api/v1/citations/10.1107/S0021889881009308\n",
      "HTTP error: 404 Client Error: Not Found for url: https://opencitations.net/index/meta/api/v1/citations/10.1002/pssb.2221130221\n",
      "HTTP error: 404 Client Error: Not Found for url: https://opencitations.net/index/meta/api/v1/citations/10.1038/1811193a0\n",
      "HTTP error: 404 Client Error: Not Found for url: https://opencitations.net/index/meta/api/v1/citations/10.1016/0022-4596(81)90449-7\n",
      "HTTP error: 404 Client Error: Not Found for url: https://opencitations.net/index/meta/api/v1/citations/10.1107/S0365110X59002365\n"
     ]
    },
    {
     "name": "stderr",
     "output_type": "stream",
     "text": [
      "153it [21:22, 19.81s/it]"
     ]
    },
    {
     "name": "stdout",
     "output_type": "stream",
     "text": [
      "HTTP error: 404 Client Error: Not Found for url: https://opencitations.net/index/meta/api/v1/citations/10.1002/pssb.2220880154\n",
      "HTTP error: 404 Client Error: Not Found for url: https://opencitations.net/index/meta/api/v1/citations/10.1088/0022-3719/6/15/009\n",
      "HTTP error: 404 Client Error: Not Found for url: https://opencitations.net/index/meta/api/v1/citations/10.1070/PU1960v003n03ABEH003275\n",
      "HTTP error: 404 Client Error: Not Found for url: https://opencitations.net/index/meta/api/v1/citations/10.1088/0022-3719/2/7/312\n",
      "HTTP error: 404 Client Error: Not Found for url: https://opencitations.net/index/meta/api/v1/citations/10.1016/0031-8914(71)90226-6\n",
      "HTTP error: 404 Client Error: Not Found for url: https://opencitations.net/index/meta/api/v1/citations/10.1007/BF02813703\n"
     ]
    },
    {
     "name": "stderr",
     "output_type": "stream",
     "text": [
      "154it [21:27, 15.44s/it]"
     ]
    },
    {
     "name": "stdout",
     "output_type": "stream",
     "text": [
      "HTTP error: 404 Client Error: Not Found for url: https://opencitations.net/index/meta/api/v1/citations/10.1016/j.nuclphysa.2004.03.014\n",
      "HTTP error: 404 Client Error: Not Found for url: https://opencitations.net/index/meta/api/v1/citations/10.1103/PhysRevC.20.992\n",
      "HTTP error: 404 Client Error: Not Found for url: https://opencitations.net/index/meta/api/v1/citations/10.1103/PhysRevLett.42.215\n",
      "HTTP error: 404 Client Error: Not Found for url: https://opencitations.net/index/meta/api/v1/citations/10.1103/PhysRevC.33.2039\n",
      "HTTP error: 404 Client Error: Not Found for url: https://opencitations.net/index/meta/api/v1/citations/10.1016/0092-640X(88)90022-8\n",
      "HTTP error: 404 Client Error: Not Found for url: https://opencitations.net/index/meta/api/v1/citations/10.1006/adnd.1995.1002\n",
      "HTTP error: 404 Client Error: Not Found for url: https://opencitations.net/index/meta/api/v1/citations/10.1016/0370-1573(86)90078-5\n",
      "HTTP error: 404 Client Error: Not Found for url: https://opencitations.net/index/meta/api/v1/citations/10.1103/PhysRevC.59.2640\n",
      "HTTP error: 404 Client Error: Not Found for url: https://opencitations.net/index/meta/api/v1/citations/10.1016/0370-2693(88)90971-9\n",
      "HTTP error: 404 Client Error: Not Found for url: https://opencitations.net/index/meta/api/v1/citations/10.1016/S0370-1573(97)00042-2\n",
      "HTTP error: 404 Client Error: Not Found for url: https://opencitations.net/index/meta/api/v1/citations/10.1103/PhysRevC.65.064615\n",
      "HTTP error: 404 Client Error: Not Found for url: https://opencitations.net/index/meta/api/v1/citations/10.1016/0375-9474(81)90092-0\n",
      "HTTP error: 404 Client Error: Not Found for url: https://opencitations.net/index/meta/api/v1/citations/10.1103/PhysRevLett.70.3538\n",
      "HTTP error: 404 Client Error: Not Found for url: https://opencitations.net/index/meta/api/v1/citations/10.1016/0370-1573(96)00003-8\n",
      "HTTP error: 404 Client Error: Not Found for url: https://opencitations.net/index/meta/api/v1/citations/10.1103/RevModPhys.44.320\n",
      "HTTP error: 404 Client Error: Not Found for url: https://opencitations.net/index/meta/api/v1/citations/10.1016/0029-5582(63)90635-7\n",
      "HTTP error: 404 Client Error: Not Found for url: https://opencitations.net/index/meta/api/v1/citations/10.1103/PhysRevC.16.1890\n",
      "HTTP error: 404 Client Error: Not Found for url: https://opencitations.net/index/meta/api/v1/citations/10.1103/PhysRevC.63.054610\n",
      "HTTP error: 404 Client Error: Not Found for url: https://opencitations.net/index/meta/api/v1/citations/10.1103/PhysRevC.52.243\n",
      "HTTP error: 404 Client Error: Not Found for url: https://opencitations.net/index/meta/api/v1/citations/10.1103/PhysRevC.50.309\n",
      "HTTP error: 404 Client Error: Not Found for url: https://opencitations.net/index/meta/api/v1/citations/10.1103/PhysRevC.15.954\n",
      "HTTP error: 404 Client Error: Not Found for url: https://opencitations.net/index/meta/api/v1/citations/10.1103/PhysRevC.32.195\n"
     ]
    },
    {
     "name": "stderr",
     "output_type": "stream",
     "text": [
      "155it [21:48, 16.98s/it]"
     ]
    },
    {
     "name": "stdout",
     "output_type": "stream",
     "text": [
      "HTTP error: 404 Client Error: Not Found for url: https://opencitations.net/index/meta/api/v1/citations/10.1016/0010-4655(79)90119-X\n",
      "HTTP error: 404 Client Error: Not Found for url: https://opencitations.net/index/meta/api/v1/citations/10.1016/0029-554X(77)90344-5\n",
      "HTTP error: 404 Client Error: Not Found for url: https://opencitations.net/index/meta/api/v1/citations/10.1016/0010-4655(78)90036-X\n"
     ]
    },
    {
     "name": "stderr",
     "output_type": "stream",
     "text": [
      "156it [21:50, 12.71s/it]"
     ]
    },
    {
     "name": "stdout",
     "output_type": "stream",
     "text": [
      "HTTP error: 404 Client Error: Not Found for url: https://opencitations.net/index/meta/api/v1/citations/10.1016/0010-4655(88)90203-2\n",
      "HTTP error: 404 Client Error: Not Found for url: https://opencitations.net/index/meta/api/v1/citations/10.13182/NSE84-A18371\n",
      "HTTP error: 404 Client Error: Not Found for url: https://opencitations.net/index/meta/api/v1/citations/10.13182/NSE84-A18372\n",
      "HTTP error: 404 Client Error: Not Found for url: https://opencitations.net/index/meta/api/v1/citations/10.1016/0010-4655(86)90162-1\n",
      "HTTP error: 404 Client Error: Not Found for url: https://opencitations.net/index/meta/api/v1/citations/10.1016/0010-4655(86)90163-3\n",
      "HTTP error: 404 Client Error: Not Found for url: https://opencitations.net/index/meta/api/v1/citations/10.1016/0010-4655(84)90024-9\n",
      "HTTP error: 404 Client Error: Not Found for url: https://opencitations.net/index/meta/api/v1/citations/10.1103/PhysRevC.19.129\n",
      "HTTP error: 404 Client Error: Not Found for url: https://opencitations.net/index/meta/api/v1/citations/10.1016/0375-9474(77)90448-1\n",
      "HTTP error: 404 Client Error: Not Found for url: https://opencitations.net/index/meta/api/v1/citations/10.13182/NSE87-A20424\n"
     ]
    },
    {
     "name": "stderr",
     "output_type": "stream",
     "text": [
      "157it [21:59, 11.51s/it]"
     ]
    },
    {
     "name": "stdout",
     "output_type": "stream",
     "text": [
      "HTTP error: 404 Client Error: Not Found for url: https://opencitations.net/index/meta/api/v1/citations/10.1016/S0031-9163(64)91997-3\n",
      "HTTP error: 404 Client Error: Not Found for url: https://opencitations.net/index/meta/api/v1/citations/10.1016/0003-4916(60)90016-6\n",
      "HTTP error: 404 Client Error: Not Found for url: https://opencitations.net/index/meta/api/v1/citations/10.1007/BF02751361\n",
      "HTTP error: 404 Client Error: Not Found for url: https://opencitations.net/index/meta/api/v1/citations/10.1007/BF02731254\n"
     ]
    },
    {
     "name": "stderr",
     "output_type": "stream",
     "text": [
      "158it [22:03,  9.20s/it]"
     ]
    },
    {
     "name": "stdout",
     "output_type": "stream",
     "text": [
      "HTTP error: 404 Client Error: Not Found for url: https://opencitations.net/index/meta/api/v1/citations/10.1007/BF02891914\n",
      "HTTP error: 404 Client Error: Not Found for url: https://opencitations.net/index/meta/api/v1/citations/10.1016/0003-4916(71)90269-7\n"
     ]
    },
    {
     "name": "stderr",
     "output_type": "stream",
     "text": [
      "159it [22:05,  6.98s/it]"
     ]
    },
    {
     "name": "stdout",
     "output_type": "stream",
     "text": [
      "HTTP error: 404 Client Error: Not Found for url: https://opencitations.net/index/meta/api/v1/citations/10.1080/10506899709410642\n"
     ]
    },
    {
     "name": "stderr",
     "output_type": "stream",
     "text": [
      "160it [22:06,  5.17s/it]"
     ]
    },
    {
     "name": "stdout",
     "output_type": "stream",
     "text": [
      "HTTP error: 404 Client Error: Not Found for url: https://opencitations.net/index/meta/api/v1/citations/10.1140/epjd/e2012-30042-4\n",
      "HTTP error: 404 Client Error: Not Found for url: https://opencitations.net/index/meta/api/v1/citations/10.1088/0022-3700/4/10/019\n",
      "HTTP error: 404 Client Error: Not Found for url: https://opencitations.net/index/meta/api/v1/citations/10.1103/PhysRevLett.74.892\n"
     ]
    },
    {
     "name": "stderr",
     "output_type": "stream",
     "text": [
      "161it [22:09,  4.51s/it]"
     ]
    },
    {
     "name": "stdout",
     "output_type": "stream",
     "text": [
      "HTTP error: 404 Client Error: Not Found for url: https://opencitations.net/index/meta/api/v1/citations/10.1007/s10686-015-9470-1\n"
     ]
    },
    {
     "name": "stderr",
     "output_type": "stream",
     "text": [
      "162it [22:09,  3.41s/it]"
     ]
    },
    {
     "name": "stdout",
     "output_type": "stream",
     "text": [
      "HTTP error: 404 Client Error: Not Found for url: https://opencitations.net/index/meta/api/v1/citations/10.1002/pssb.2221350147\n",
      "HTTP error: 404 Client Error: Not Found for url: https://opencitations.net/index/meta/api/v1/citations/10.1098/rsta.1962.0011\n",
      "HTTP error: 404 Client Error: Not Found for url: https://opencitations.net/index/meta/api/v1/citations/10.1103/PhysRevB.15.5493\n",
      "HTTP error: 404 Client Error: Not Found for url: https://opencitations.net/index/meta/api/v1/citations/10.1103/PhysRevB.23.2684\n",
      "HTTP error: 404 Client Error: Not Found for url: https://opencitations.net/index/meta/api/v1/citations/10.1088/0305-4608/10/3/011\n",
      "HTTP error: 404 Client Error: Not Found for url: https://opencitations.net/index/meta/api/v1/citations/10.1002/pssb.2221090153\n",
      "HTTP error: 404 Client Error: Not Found for url: https://opencitations.net/index/meta/api/v1/citations/10.1002/pssb.2221060247\n",
      "HTTP error: 404 Client Error: Not Found for url: https://opencitations.net/index/meta/api/v1/citations/10.1002/pssb.2221110237\n",
      "HTTP error: 404 Client Error: Not Found for url: https://opencitations.net/index/meta/api/v1/citations/10.1080/14786435808237011\n",
      "HTTP error: 404 Client Error: Not Found for url: https://opencitations.net/index/meta/api/v1/citations/10.1088/0022-3719/4/14/022\n",
      "HTTP error: 404 Client Error: Not Found for url: https://opencitations.net/index/meta/api/v1/citations/10.1103/PhysRevB.6.4370\n",
      "HTTP error: 404 Client Error: Not Found for url: https://opencitations.net/index/meta/api/v1/citations/10.1080/14786436608212694\n",
      "HTTP error: 404 Client Error: Not Found for url: https://opencitations.net/index/meta/api/v1/citations/10.1007/BF02422919\n"
     ]
    },
    {
     "name": "stderr",
     "output_type": "stream",
     "text": [
      "163it [22:22,  6.23s/it]"
     ]
    },
    {
     "name": "stdout",
     "output_type": "stream",
     "text": [
      "HTTP error: 404 Client Error: Not Found for url: https://opencitations.net/index/meta/api/v1/citations/10.1140/epja/i2016-16267-x\n"
     ]
    },
    {
     "name": "stderr",
     "output_type": "stream",
     "text": [
      "164it [22:23,  4.63s/it]"
     ]
    },
    {
     "name": "stdout",
     "output_type": "stream",
     "text": [
      "HTTP error: 404 Client Error: Not Found for url: https://opencitations.net/index/meta/api/v1/citations/10.1016/j.nuclphysa.2009.10.153\n"
     ]
    },
    {
     "name": "stderr",
     "output_type": "stream",
     "text": [
      "165it [22:24,  3.55s/it]"
     ]
    },
    {
     "name": "stdout",
     "output_type": "stream",
     "text": [
      "HTTP error: 404 Client Error: Not Found for url: https://opencitations.net/index/meta/api/v1/citations/10.1051/epjconf/201819501010\n",
      "HTTP error: 404 Client Error: Not Found for url: https://opencitations.net/index/meta/api/v1/citations/10.1109/IRMMW-THz.2016.7758360\n",
      "HTTP error: 404 Client Error: Not Found for url: https://opencitations.net/index/meta/api/v1/citations/10.1103/PhysRevSTAB.14.041002\n",
      "HTTP error: 404 Client Error: Not Found for url: https://opencitations.net/index/meta/api/v1/citations/10.1103/PhysRevSTAB.8.040705\n",
      "HTTP error: 404 Client Error: Not Found for url: https://opencitations.net/index/meta/api/v1/citations/10.1134/S0021364010060020\n",
      "HTTP error: 404 Client Error: Not Found for url: https://opencitations.net/index/meta/api/v1/citations/10.1134/S0020441213060195\n"
     ]
    },
    {
     "name": "stderr",
     "output_type": "stream",
     "text": [
      "166it [22:29,  4.04s/it]"
     ]
    },
    {
     "name": "stdout",
     "output_type": "stream",
     "text": [
      "HTTP error: 404 Client Error: Not Found for url: https://opencitations.net/index/meta/api/v1/citations/10.1088/0953-4075/45/4/049501\n"
     ]
    },
    {
     "name": "stderr",
     "output_type": "stream",
     "text": [
      "167it [22:30,  3.11s/it]"
     ]
    },
    {
     "name": "stdout",
     "output_type": "stream",
     "text": [
      "HTTP error: 404 Client Error: Not Found for url: https://opencitations.net/index/meta/api/v1/citations/10.1016/j.nuclphysa.2009.10.148\n"
     ]
    },
    {
     "name": "stderr",
     "output_type": "stream",
     "text": [
      "168it [22:31,  2.43s/it]"
     ]
    },
    {
     "name": "stdout",
     "output_type": "stream",
     "text": [
      "HTTP error: 404 Client Error: Not Found for url: https://opencitations.net/index/meta/api/v1/citations/10.1016/0029-554X(63)90435-X\n",
      "HTTP error: 404 Client Error: Not Found for url: https://opencitations.net/index/meta/api/v1/citations/10.1016/0029-554X(60)90049-5\n"
     ]
    },
    {
     "name": "stderr",
     "output_type": "stream",
     "text": [
      "169it [22:33,  2.25s/it]"
     ]
    },
    {
     "name": "stdout",
     "output_type": "stream",
     "text": [
      "HTTP error: 404 Client Error: Not Found for url: https://opencitations.net/index/meta/api/v1/citations/10.1016/0020-1650(71)80102-2\n",
      "HTTP error: 404 Client Error: Not Found for url: https://opencitations.net/index/meta/api/v1/citations/10.1016/0022-3107(67)90075-5\n",
      "HTTP error: 404 Client Error: Not Found for url: https://opencitations.net/index/meta/api/v1/citations/10.1016/0022-1902(70)80598-X\n",
      "HTTP error: 404 Client Error: Not Found for url: https://opencitations.net/index/meta/api/v1/citations/10.1016/0031-9163(64)90313-0\n",
      "HTTP error: 404 Client Error: Not Found for url: https://opencitations.net/index/meta/api/v1/citations/10.1016/0020-1650(70)80067-8\n",
      "HTTP error: 404 Client Error: Not Found for url: https://opencitations.net/index/meta/api/v1/citations/10.1103/PhysRevLett.22.1317\n"
     ]
    },
    {
     "name": "stderr",
     "output_type": "stream",
     "text": [
      "170it [22:39,  3.24s/it]"
     ]
    },
    {
     "name": "stdout",
     "output_type": "stream",
     "text": [
      "HTTP error: 404 Client Error: Not Found for url: https://opencitations.net/index/meta/api/v1/citations/10.1063/1.1427032\n",
      "HTTP error: 404 Client Error: Not Found for url: https://opencitations.net/index/meta/api/v1/citations/10.1016/0375-9474(87)90530-6\n",
      "HTTP error: 404 Client Error: Not Found for url: https://opencitations.net/index/meta/api/v1/citations/10.1007/BF01292792\n",
      "HTTP error: 404 Client Error: Not Found for url: https://opencitations.net/index/meta/api/v1/citations/10.1016/0168-9002(94)91182-7\n",
      "HTTP error: 404 Client Error: Not Found for url: https://opencitations.net/index/meta/api/v1/citations/10.1103/PhysRevC.57.2700\n",
      "HTTP error: 404 Client Error: Not Found for url: https://opencitations.net/index/meta/api/v1/citations/10.1016/S0375-9474(98)00638-1\n",
      "HTTP error: 404 Client Error: Not Found for url: https://opencitations.net/index/meta/api/v1/citations/10.1063/1.1372790\n",
      "HTTP error: 404 Client Error: Not Found for url: https://opencitations.net/index/meta/api/v1/citations/10.1063/1.1148622\n",
      "HTTP error: 404 Client Error: Not Found for url: https://opencitations.net/index/meta/api/v1/citations/10.1063/1.1150301\n",
      "HTTP error: 404 Client Error: Not Found for url: https://opencitations.net/index/meta/api/v1/citations/10.1063/1.1390104\n",
      "HTTP error: 404 Client Error: Not Found for url: https://opencitations.net/index/meta/api/v1/citations/10.1016/S0370-2693(00)00513-X\n"
     ]
    },
    {
     "name": "stderr",
     "output_type": "stream",
     "text": [
      "171it [22:49,  5.40s/it]"
     ]
    },
    {
     "name": "stdout",
     "output_type": "stream",
     "text": [
      "HTTP error: 404 Client Error: Not Found for url: https://opencitations.net/index/meta/api/v1/citations/10.1016/S0092-640X(08)80001-0\n",
      "HTTP error: 404 Client Error: Not Found for url: https://opencitations.net/index/meta/api/v1/citations/10.1103/PhysRevLett.1.18\n",
      "HTTP error: 404 Client Error: Not Found for url: https://opencitations.net/index/meta/api/v1/citations/10.1103/PhysRev.112.543\n",
      "HTTP error: 404 Client Error: Not Found for url: https://opencitations.net/index/meta/api/v1/citations/10.1016/0029-5582(61)90147-X\n",
      "HTTP error: 404 Client Error: Not Found for url: https://opencitations.net/index/meta/api/v1/citations/10.1103/PhysRev.126.1805\n",
      "HTTP error: 404 Client Error: Not Found for url: https://opencitations.net/index/meta/api/v1/citations/10.1103/PhysRev.130.2383\n",
      "HTTP error: 404 Client Error: Not Found for url: https://opencitations.net/index/meta/api/v1/citations/10.1103/PhysRev.130.1990\n",
      "HTTP error: 404 Client Error: Not Found for url: https://opencitations.net/index/meta/api/v1/citations/10.1103/PhysRev.131.2176\n",
      "HTTP error: 404 Client Error: Not Found for url: https://opencitations.net/index/meta/api/v1/citations/10.1103/PhysRev.130.1491\n",
      "HTTP error: 404 Client Error: Not Found for url: https://opencitations.net/index/meta/api/v1/citations/10.1103/PhysRev.133.B1373\n",
      "HTTP error: 404 Client Error: Not Found for url: https://opencitations.net/index/meta/api/v1/citations/10.1103/PhysRev.136.B941\n",
      "HTTP error: 404 Client Error: Not Found for url: https://opencitations.net/index/meta/api/v1/citations/10.1016/0029-5582(66)90655-9\n",
      "HTTP error: 404 Client Error: Not Found for url: https://opencitations.net/index/meta/api/v1/citations/10.1103/PhysRev.137.B1448\n",
      "HTTP error: 404 Client Error: Not Found for url: https://opencitations.net/index/meta/api/v1/citations/10.1103/PhysRevLett.14.114\n",
      "HTTP error: 404 Client Error: Not Found for url: https://opencitations.net/index/meta/api/v1/citations/10.1007/BF01312377\n",
      "HTTP error: 404 Client Error: Not Found for url: https://opencitations.net/index/meta/api/v1/citations/10.1103/PhysRev.143.894\n",
      "HTTP error: 404 Client Error: Not Found for url: https://opencitations.net/index/meta/api/v1/citations/10.1016/0029-5582(66)90377-4\n",
      "HTTP error: 404 Client Error: Not Found for url: https://opencitations.net/index/meta/api/v1/citations/10.1016/0022-1902(67)80176-3\n",
      "HTTP error: 404 Client Error: Not Found for url: https://opencitations.net/index/meta/api/v1/citations/10.1016/0375-9474(67)90733-6\n",
      "HTTP error: 404 Client Error: Not Found for url: https://opencitations.net/index/meta/api/v1/citations/10.1016/0370-2693(67)90552-7\n",
      "HTTP error: 404 Client Error: Not Found for url: https://opencitations.net/index/meta/api/v1/citations/10.1007/BF01246260\n",
      "HTTP error: 404 Client Error: Not Found for url: https://opencitations.net/index/meta/api/v1/citations/10.1016/0375-9474(67)90292-8\n",
      "HTTP error: 404 Client Error: Not Found for url: https://opencitations.net/index/meta/api/v1/citations/10.1016/0375-9474(67)90230-8\n",
      "HTTP error: 404 Client Error: Not Found for url: https://opencitations.net/index/meta/api/v1/citations/10.1016/0375-9474(67)90495-2\n",
      "HTTP error: 404 Client Error: Not Found for url: https://opencitations.net/index/meta/api/v1/citations/10.1103/PhysRev.167.1094\n",
      "HTTP error: 404 Client Error: Not Found for url: https://opencitations.net/index/meta/api/v1/citations/10.1103/PhysRev.159.1013\n",
      "HTTP error: 404 Client Error: Not Found for url: https://opencitations.net/index/meta/api/v1/citations/10.1103/PhysRev.161.1284\n",
      "HTTP error: 404 Client Error: Not Found for url: https://opencitations.net/index/meta/api/v1/citations/10.1051/jphys:01968002907056300\n",
      "HTTP error: 404 Client Error: Not Found for url: https://opencitations.net/index/meta/api/v1/citations/10.1103/PhysRev.173.1202\n",
      "HTTP error: 404 Client Error: Not Found for url: https://opencitations.net/index/meta/api/v1/citations/10.1103/PhysRev.172.1232\n",
      "HTTP error: 404 Client Error: Not Found for url: https://opencitations.net/index/meta/api/v1/citations/10.1016/0375-9474(68)90571-X\n",
      "HTTP error: 404 Client Error: Not Found for url: https://opencitations.net/index/meta/api/v1/citations/10.1103/PhysRev.169.1000\n",
      "HTTP error: 404 Client Error: Not Found for url: https://opencitations.net/index/meta/api/v1/citations/10.1103/PhysRev.174.1494\n",
      "HTTP error: 404 Client Error: Not Found for url: https://opencitations.net/index/meta/api/v1/citations/10.1103/PhysRev.176.1377\n",
      "HTTP error: 404 Client Error: Not Found for url: https://opencitations.net/index/meta/api/v1/citations/10.1016/0375-9474(69)90450-3\n",
      "HTTP error: 404 Client Error: Not Found for url: https://opencitations.net/index/meta/api/v1/citations/10.1103/PhysRev.188.1842\n",
      "HTTP error: 404 Client Error: Not Found for url: https://opencitations.net/index/meta/api/v1/citations/10.1103/PhysRevLett.22.1317\n",
      "HTTP error: 404 Client Error: Not Found for url: https://opencitations.net/index/meta/api/v1/citations/10.1103/PhysRev.188.1734\n",
      "HTTP error: 404 Client Error: Not Found for url: https://opencitations.net/index/meta/api/v1/citations/10.1016/0375-9474(69)90820-3\n",
      "HTTP error: 404 Client Error: Not Found for url: https://opencitations.net/index/meta/api/v1/citations/10.1016/0375-9474(70)90934-6\n",
      "HTTP error: 404 Client Error: Not Found for url: https://opencitations.net/index/meta/api/v1/citations/10.1103/PhysRevLett.24.1498\n",
      "HTTP error: 404 Client Error: Not Found for url: https://opencitations.net/index/meta/api/v1/citations/10.1051/jphys:019700031010085500\n",
      "HTTP error: 404 Client Error: Not Found for url: https://opencitations.net/index/meta/api/v1/citations/10.1016/0375-9474(70)91053-5\n",
      "HTTP error: 404 Client Error: Not Found for url: https://opencitations.net/index/meta/api/v1/citations/10.1016/0375-9474(71)90994-8\n",
      "HTTP error: 404 Client Error: Not Found for url: https://opencitations.net/index/meta/api/v1/citations/10.1016/0370-2693(71)90200-0\n",
      "HTTP error: 404 Client Error: Not Found for url: https://opencitations.net/index/meta/api/v1/citations/10.1016/0029-554X(71)90069-3\n",
      "HTTP error: 404 Client Error: Not Found for url: https://opencitations.net/index/meta/api/v1/citations/10.1103/PhysRevLett.28.697\n",
      "HTTP error: 404 Client Error: Not Found for url: https://opencitations.net/index/meta/api/v1/citations/10.1016/0370-2693(72)90477-7\n"
     ]
    },
    {
     "name": "stderr",
     "output_type": "stream",
     "text": [
      "172it [23:34, 17.33s/it]"
     ]
    },
    {
     "name": "stdout",
     "output_type": "stream",
     "text": [
      "HTTP error: 404 Client Error: Not Found for url: https://opencitations.net/index/meta/api/v1/citations/10.1016/0029-554X(63)90471-3\n"
     ]
    },
    {
     "name": "stderr",
     "output_type": "stream",
     "text": [
      "173it [23:35, 12.37s/it]"
     ]
    },
    {
     "name": "stdout",
     "output_type": "stream",
     "text": [
      "HTTP error: 404 Client Error: Not Found for url: https://opencitations.net/index/meta/api/v1/citations/10.1016/0031-9163(62)91387-2\n",
      "HTTP error: 404 Client Error: Not Found for url: https://opencitations.net/index/meta/api/v1/citations/10.1103/PhysRev.73.257\n",
      "HTTP error: 404 Client Error: Not Found for url: https://opencitations.net/index/meta/api/v1/citations/10.1103/PhysRevLett.2.211\n",
      "HTTP error: 404 Client Error: Not Found for url: https://opencitations.net/index/meta/api/v1/citations/10.1103/PhysRevLett.2.357\n",
      "HTTP error: 404 Client Error: Not Found for url: https://opencitations.net/index/meta/api/v1/citations/10.1103/PhysRev.118.589\n",
      "HTTP error: 404 Client Error: Not Found for url: https://opencitations.net/index/meta/api/v1/citations/10.1103/PhysRevLett.8.123\n",
      "HTTP error: 404 Client Error: Not Found for url: https://opencitations.net/index/meta/api/v1/citations/10.1103/PhysRevLett.8.120\n",
      "HTTP error: 404 Client Error: Not Found for url: https://opencitations.net/index/meta/api/v1/citations/10.1103/PhysRevLett.1.471\n",
      "HTTP error: 404 Client Error: Not Found for url: https://opencitations.net/index/meta/api/v1/citations/10.1103/PhysRevLett.3.55\n",
      "HTTP error: 404 Client Error: Not Found for url: https://opencitations.net/index/meta/api/v1/citations/10.1103/PhysRev.121.1823\n",
      "HTTP error: 404 Client Error: Not Found for url: https://opencitations.net/index/meta/api/v1/citations/10.1007/BF02733202\n",
      "HTTP error: 404 Client Error: Not Found for url: https://opencitations.net/index/meta/api/v1/citations/10.1103/PhysRevLett.4.306\n",
      "HTTP error: 404 Client Error: Not Found for url: https://opencitations.net/index/meta/api/v1/citations/10.1103/PhysRevLett.4.307\n",
      "HTTP error: 404 Client Error: Not Found for url: https://opencitations.net/index/meta/api/v1/citations/10.1007/BF02860254\n",
      "HTTP error: 404 Client Error: Not Found for url: https://opencitations.net/index/meta/api/v1/citations/10.1103/PhysRev.109.193\n",
      "HTTP error: 404 Client Error: Not Found for url: https://opencitations.net/index/meta/api/v1/citations/10.1007/BF02725099\n",
      "HTTP error: 404 Client Error: Not Found for url: https://opencitations.net/index/meta/api/v1/citations/10.1103/PhysRevLett.5.573\n",
      "HTTP error: 404 Client Error: Not Found for url: https://opencitations.net/index/meta/api/v1/citations/10.1103/PhysRev.122.1317\n",
      "HTTP error: 404 Client Error: Not Found for url: https://opencitations.net/index/meta/api/v1/citations/10.1103/PhysRevLett.6.70\n"
     ]
    },
    {
     "name": "stderr",
     "output_type": "stream",
     "text": [
      "174it [23:52, 13.82s/it]"
     ]
    },
    {
     "name": "stdout",
     "output_type": "stream",
     "text": [
      "HTTP error: 404 Client Error: Not Found for url: https://opencitations.net/index/meta/api/v1/citations/10.1016/0010-4655(86)90165-7\n",
      "HTTP error: 404 Client Error: Not Found for url: https://opencitations.net/index/meta/api/v1/citations/10.1016/0378-4371(82)90266-7\n",
      "HTTP error: 404 Client Error: Not Found for url: https://opencitations.net/index/meta/api/v1/citations/10.1016/0010-4655(85)90027-X\n"
     ]
    },
    {
     "name": "stderr",
     "output_type": "stream",
     "text": [
      "175it [23:55, 10.41s/it]"
     ]
    },
    {
     "name": "stdout",
     "output_type": "stream",
     "text": [
      "HTTP error: 404 Client Error: Not Found for url: https://opencitations.net/index/meta/api/v1/citations/10.1016/0029-554X(63)90434-8\n"
     ]
    },
    {
     "name": "stderr",
     "output_type": "stream",
     "text": [
      "176it [23:56,  7.58s/it]"
     ]
    },
    {
     "name": "stdout",
     "output_type": "stream",
     "text": [
      "HTTP error: 404 Client Error: Not Found for url: https://opencitations.net/index/meta/api/v1/citations/10.1016/0921-4526(94)90121-X\n"
     ]
    },
    {
     "name": "stderr",
     "output_type": "stream",
     "text": [
      "177it [23:57,  5.59s/it]"
     ]
    },
    {
     "name": "stdout",
     "output_type": "stream",
     "text": [
      "HTTP error: 404 Client Error: Not Found for url: https://opencitations.net/index/meta/api/v1/citations/10.1002/prop.19770250107\n",
      "HTTP error: 404 Client Error: Not Found for url: https://opencitations.net/index/meta/api/v1/citations/10.1007/BF02824451\n",
      "HTTP error: 404 Client Error: Not Found for url: https://opencitations.net/index/meta/api/v1/citations/10.1016/0550-3213(71)90227-6\n",
      "HTTP error: 404 Client Error: Not Found for url: https://opencitations.net/index/meta/api/v1/citations/10.1016/0550-3213(72)90301-X\n",
      "HTTP error: 404 Client Error: Not Found for url: https://opencitations.net/index/meta/api/v1/citations/10.1016/0550-3213(71)90448-2\n",
      "HTTP error: 404 Client Error: Not Found for url: https://opencitations.net/index/meta/api/v1/citations/10.1016/0370-2693(71)90391-1\n",
      "HTTP error: 404 Client Error: Not Found for url: https://opencitations.net/index/meta/api/v1/citations/10.1016/0550-3213(73)90223-X\n",
      "HTTP error: 404 Client Error: Not Found for url: https://opencitations.net/index/meta/api/v1/citations/10.1016/0550-3213(73)90622-6\n",
      "HTTP error: 404 Client Error: Not Found for url: https://opencitations.net/index/meta/api/v1/citations/10.1016/0550-3213(74)90383-6\n",
      "HTTP error: 404 Client Error: Not Found for url: https://opencitations.net/index/meta/api/v1/citations/10.1016/0370-1573(74)90031-3\n",
      "HTTP error: 404 Client Error: Not Found for url: https://opencitations.net/index/meta/api/v1/citations/10.1103/PhysRevB.8.440\n",
      "HTTP error: 404 Client Error: Not Found for url: https://opencitations.net/index/meta/api/v1/citations/10.1016/0550-3213(74)90127-8\n",
      "HTTP error: 404 Client Error: Not Found for url: https://opencitations.net/index/meta/api/v1/citations/10.1016/0370-1573(71)90008-1\n",
      "HTTP error: 404 Client Error: Not Found for url: https://opencitations.net/index/meta/api/v1/citations/10.1016/0370-1573(73)90003-3\n",
      "HTTP error: 404 Client Error: Not Found for url: https://opencitations.net/index/meta/api/v1/citations/10.1016/0370-1573(74)90034-9\n",
      "HTTP error: 404 Client Error: Not Found for url: https://opencitations.net/index/meta/api/v1/citations/10.1103/PhysRev.177.2309\n",
      "HTTP error: 404 Client Error: Not Found for url: https://opencitations.net/index/meta/api/v1/citations/10.1016/0370-2693(70)90255-8\n",
      "HTTP error: 404 Client Error: Not Found for url: https://opencitations.net/index/meta/api/v1/citations/10.1016/0370-2693(71)90513-2\n",
      "HTTP error: 404 Client Error: Not Found for url: https://opencitations.net/index/meta/api/v1/citations/10.1103/PhysRevLett.22.562\n",
      "HTTP error: 404 Client Error: Not Found for url: https://opencitations.net/index/meta/api/v1/citations/10.1103/PhysRevLett.22.689\n",
      "HTTP error: 404 Client Error: Not Found for url: https://opencitations.net/index/meta/api/v1/citations/10.1016/0550-3213(70)90393-7\n",
      "HTTP error: 404 Client Error: Not Found for url: https://opencitations.net/index/meta/api/v1/citations/10.1016/0370-2693(68)90127-5\n",
      "HTTP error: 404 Client Error: Not Found for url: https://opencitations.net/index/meta/api/v1/citations/10.1103/PhysRevLett.22.257\n",
      "HTTP error: 404 Client Error: Not Found for url: https://opencitations.net/index/meta/api/v1/citations/10.1016/0370-2693(69)90342-6\n",
      "HTTP error: 404 Client Error: Not Found for url: https://opencitations.net/index/meta/api/v1/citations/10.1016/0550-3213(69)90331-9\n",
      "HTTP error: 404 Client Error: Not Found for url: https://opencitations.net/index/meta/api/v1/citations/10.1016/0370-2693(70)90393-X\n",
      "HTTP error: 404 Client Error: Not Found for url: https://opencitations.net/index/meta/api/v1/citations/10.1016/0370-2693(69)90109-9\n",
      "HTTP error: 404 Client Error: Not Found for url: https://opencitations.net/index/meta/api/v1/citations/10.1007/BF02728411\n",
      "HTTP error: 404 Client Error: Not Found for url: https://opencitations.net/index/meta/api/v1/citations/10.1007/BF02755080\n",
      "HTTP error: 404 Client Error: Not Found for url: https://opencitations.net/index/meta/api/v1/citations/10.1007/BF02758835\n",
      "HTTP error: 404 Client Error: Not Found for url: https://opencitations.net/index/meta/api/v1/citations/10.1103/PhysRev.184.1640\n",
      "HTTP error: 404 Client Error: Not Found for url: https://opencitations.net/index/meta/api/v1/citations/10.1007/BF02751614\n",
      "HTTP error: 404 Client Error: Not Found for url: https://opencitations.net/index/meta/api/v1/citations/10.1016/0003-4916(72)90272-2\n",
      "HTTP error: 404 Client Error: Not Found for url: https://opencitations.net/index/meta/api/v1/citations/10.1016/0370-2693(72)90420-0\n",
      "HTTP error: 404 Client Error: Not Found for url: https://opencitations.net/index/meta/api/v1/citations/10.1016/0550-3213(74)90316-2\n",
      "HTTP error: 404 Client Error: Not Found for url: https://opencitations.net/index/meta/api/v1/citations/10.1016/0550-3213(74)90438-6\n",
      "HTTP error: 404 Client Error: Not Found for url: https://opencitations.net/index/meta/api/v1/citations/10.1016/0370-2693(69)90503-6\n",
      "HTTP error: 404 Client Error: Not Found for url: https://opencitations.net/index/meta/api/v1/citations/10.1007/BF02813700\n",
      "HTTP error: 404 Client Error: Not Found for url: https://opencitations.net/index/meta/api/v1/citations/10.1007/BF02754124\n",
      "HTTP error: 404 Client Error: Not Found for url: https://opencitations.net/index/meta/api/v1/citations/10.1016/0370-2693(68)90255-4\n",
      "HTTP error: 404 Client Error: Not Found for url: https://opencitations.net/index/meta/api/v1/citations/10.1103/PhysRev.179.1345\n",
      "HTTP error: 404 Client Error: Not Found for url: https://opencitations.net/index/meta/api/v1/citations/10.1016/0550-3213(74)90415-5\n",
      "HTTP error: 404 Client Error: Not Found for url: https://opencitations.net/index/meta/api/v1/citations/10.1007/BF02729477\n",
      "HTTP error: 404 Client Error: Not Found for url: https://opencitations.net/index/meta/api/v1/citations/10.1016/0370-2693(73)90060-9\n",
      "HTTP error: 404 Client Error: Not Found for url: https://opencitations.net/index/meta/api/v1/citations/10.1016/0550-3213(73)90210-1\n",
      "HTTP error: 404 Client Error: Not Found for url: https://opencitations.net/index/meta/api/v1/citations/10.1016/0550-3213(73)90630-5\n",
      "HTTP error: 404 Client Error: Not Found for url: https://opencitations.net/index/meta/api/v1/citations/10.1016/0550-3213(75)90326-0\n",
      "HTTP error: 404 Client Error: Not Found for url: https://opencitations.net/index/meta/api/v1/citations/10.1016/0550-3213(69)90196-5\n",
      "HTTP error: 404 Client Error: Not Found for url: https://opencitations.net/index/meta/api/v1/citations/10.1016/0550-3213(70)90037-4\n",
      "HTTP error: 404 Client Error: Not Found for url: https://opencitations.net/index/meta/api/v1/citations/10.1007/BF01404470\n",
      "HTTP error: 404 Client Error: Not Found for url: https://opencitations.net/index/meta/api/v1/citations/10.1007/BF01395372\n",
      "HTTP error: 404 Client Error: Not Found for url: https://opencitations.net/index/meta/api/v1/citations/10.1002/prop.19720200903\n",
      "HTTP error: 404 Client Error: Not Found for url: https://opencitations.net/index/meta/api/v1/citations/10.1103/PhysRevLett.27.1095\n",
      "HTTP error: 404 Client Error: Not Found for url: https://opencitations.net/index/meta/api/v1/citations/10.1002/andp.19730290204\n",
      "In crossref got an exception Redirect response '301 Moved Permanently' for url 'https://api.crossref.org/works/10.1002/andp.19730290204'\n",
      "Redirect location: '/works/10.1002/andp.19734840204'\n",
      "For more information check: https://developer.mozilla.org/en-US/docs/Web/HTTP/Status/301\n",
      "HTTP error: 404 Client Error: Not Found for url: https://opencitations.net/index/meta/api/v1/citations/10.1002/prop.19720200904\n",
      "HTTP error: 404 Client Error: Not Found for url: https://opencitations.net/index/meta/api/v1/citations/10.1007/BF02755634\n",
      "HTTP error: 404 Client Error: Not Found for url: https://opencitations.net/index/meta/api/v1/citations/10.1007/BF02821095\n",
      "HTTP error: 404 Client Error: Not Found for url: https://opencitations.net/index/meta/api/v1/citations/10.1103/PhysRevLett.27.458\n",
      "HTTP error: 404 Client Error: Not Found for url: https://opencitations.net/index/meta/api/v1/citations/10.1143/PTP.47.260\n",
      "HTTP error: 404 Client Error: Not Found for url: https://opencitations.net/index/meta/api/v1/citations/10.1007/BF02784095\n",
      "HTTP error: 404 Client Error: Not Found for url: https://opencitations.net/index/meta/api/v1/citations/10.1007/BF02823048\n",
      "HTTP error: 404 Client Error: Not Found for url: https://opencitations.net/index/meta/api/v1/citations/10.1007/BF02784097\n",
      "HTTP error: 404 Client Error: Not Found for url: https://opencitations.net/index/meta/api/v1/citations/10.1007/BF02755620\n",
      "HTTP error: 404 Client Error: Not Found for url: https://opencitations.net/index/meta/api/v1/citations/10.1103/PhysRev.185.1910\n",
      "HTTP error: 404 Client Error: Not Found for url: https://opencitations.net/index/meta/api/v1/citations/10.1016/0550-3213(71)90452-4\n",
      "HTTP error: 404 Client Error: Not Found for url: https://opencitations.net/index/meta/api/v1/citations/10.1016/0550-3213(73)90556-7\n",
      "HTTP error: 404 Client Error: Not Found for url: https://opencitations.net/index/meta/api/v1/citations/10.1007/BF02894861\n",
      "HTTP error: 404 Client Error: Not Found for url: https://opencitations.net/index/meta/api/v1/citations/10.1016/0550-3213(73)90231-9\n",
      "HTTP error: 404 Client Error: Not Found for url: https://opencitations.net/index/meta/api/v1/citations/10.1007/BF02728811\n",
      "HTTP error: 404 Client Error: Not Found for url: https://opencitations.net/index/meta/api/v1/citations/10.1103/PhysRevLett.20.1395\n",
      "HTTP error: 404 Client Error: Not Found for url: https://opencitations.net/index/meta/api/v1/citations/10.1103/PhysRevLett.20.235\n",
      "HTTP error: 404 Client Error: Not Found for url: https://opencitations.net/index/meta/api/v1/citations/10.1016/0370-2693(71)90665-4\n",
      "HTTP error: 404 Client Error: Not Found for url: https://opencitations.net/index/meta/api/v1/citations/10.1103/PhysRev.123.1053\n",
      "HTTP error: 404 Client Error: Not Found for url: https://opencitations.net/index/meta/api/v1/citations/10.1016/0370-2693(70)90601-5\n",
      "HTTP error: 404 Client Error: Not Found for url: https://opencitations.net/index/meta/api/v1/citations/10.1016/0550-3213(70)90152-5\n",
      "HTTP error: 404 Client Error: Not Found for url: https://opencitations.net/index/meta/api/v1/citations/10.1143/PTP.46.590\n",
      "HTTP error: 404 Client Error: Not Found for url: https://opencitations.net/index/meta/api/v1/citations/10.1016/S0550-3213(72)80016-6\n",
      "HTTP error: 404 Client Error: Not Found for url: https://opencitations.net/index/meta/api/v1/citations/10.1016/0550-3213(71)90112-X\n",
      "HTTP error: 404 Client Error: Not Found for url: https://opencitations.net/index/meta/api/v1/citations/10.1016/0550-3213(75)90490-3\n",
      "HTTP error: 404 Client Error: Not Found for url: https://opencitations.net/index/meta/api/v1/citations/10.1016/0550-3213(73)90113-2\n",
      "HTTP error: 404 Client Error: Not Found for url: https://opencitations.net/index/meta/api/v1/citations/10.1016/0550-3213(74)90529-X\n",
      "HTTP error: 404 Client Error: Not Found for url: https://opencitations.net/index/meta/api/v1/citations/10.1002/andp.19754870107\n",
      "HTTP error: 404 Client Error: Not Found for url: https://opencitations.net/index/meta/api/v1/citations/10.1016/0550-3213(74)90567-7\n",
      "HTTP error: 404 Client Error: Not Found for url: https://opencitations.net/index/meta/api/v1/citations/10.1016/0370-2693(70)90450-8\n",
      "HTTP error: 404 Client Error: Not Found for url: https://opencitations.net/index/meta/api/v1/citations/10.1007/BF02899858\n",
      "HTTP error: 404 Client Error: Not Found for url: https://opencitations.net/index/meta/api/v1/citations/10.1007/BF02731520\n",
      "HTTP error: 404 Client Error: Not Found for url: https://opencitations.net/index/meta/api/v1/citations/10.1112/plms/s1-23.1.49\n",
      "HTTP error: 404 Client Error: Not Found for url: https://opencitations.net/index/meta/api/v1/citations/10.1515/9781400877522\n",
      "HTTP error: 404 Client Error: Not Found for url: https://opencitations.net/index/meta/api/v1/citations/10.1016/0550-3213(74)90231-4\n",
      "HTTP error: 404 Client Error: Not Found for url: https://opencitations.net/index/meta/api/v1/citations/10.1007/BF02785444\n",
      "HTTP error: 404 Client Error: Not Found for url: https://opencitations.net/index/meta/api/v1/citations/10.1002/sapm19583711\n",
      "HTTP error: 404 Client Error: Not Found for url: https://opencitations.net/index/meta/api/v1/citations/10.1103/PhysRevB.1.2355\n",
      "HTTP error: 404 Client Error: Not Found for url: https://opencitations.net/index/meta/api/v1/citations/10.1016/0550-3213(74)90210-7\n",
      "HTTP error: 404 Client Error: Not Found for url: https://opencitations.net/index/meta/api/v1/citations/10.1007/978-3-7091-8375-5_14\n",
      "HTTP error: 404 Client Error: Not Found for url: https://opencitations.net/index/meta/api/v1/citations/10.1016/0370-2693(72)90480-7\n",
      "HTTP error: 404 Client Error: Not Found for url: https://opencitations.net/index/meta/api/v1/citations/10.1016/0550-3213(73)90421-5\n",
      "HTTP error: 404 Client Error: Not Found for url: https://opencitations.net/index/meta/api/v1/citations/10.1515/9783112718018-007\n",
      "HTTP error: 404 Client Error: Not Found for url: https://opencitations.net/index/meta/api/v1/citations/10.1016/0550-3213(72)90049-1\n",
      "HTTP error: 404 Client Error: Not Found for url: https://opencitations.net/index/meta/api/v1/citations/10.1016/0550-3213(72)90220-9\n",
      "HTTP error: 404 Client Error: Not Found for url: https://opencitations.net/index/meta/api/v1/citations/10.1007/BF02728469\n",
      "HTTP error: 404 Client Error: Not Found for url: https://opencitations.net/index/meta/api/v1/citations/10.1016/0550-3213(75)90491-5\n",
      "HTTP error: 404 Client Error: Not Found for url: https://opencitations.net/index/meta/api/v1/citations/10.1016/0370-2693(70)90254-6\n",
      "HTTP error: 404 Client Error: Not Found for url: https://opencitations.net/index/meta/api/v1/citations/10.1016/0370-2693(75)90269-5\n",
      "HTTP error: 404 Client Error: Not Found for url: https://opencitations.net/index/meta/api/v1/citations/10.1016/0550-3213(71)90146-5\n",
      "HTTP error: 404 Client Error: Not Found for url: https://opencitations.net/index/meta/api/v1/citations/10.1016/0550-3213(74)90151-5\n",
      "HTTP error: 404 Client Error: Not Found for url: https://opencitations.net/index/meta/api/v1/citations/10.1016/0550-3213(75)90125-X\n"
     ]
    },
    {
     "name": "stderr",
     "output_type": "stream",
     "text": [
      "178it [25:53, 38.70s/it]"
     ]
    },
    {
     "name": "stdout",
     "output_type": "stream",
     "text": [
      "HTTP error: 404 Client Error: Not Found for url: https://opencitations.net/index/meta/api/v1/citations/10.1002/pssb.2221030259\n",
      "HTTP error: 404 Client Error: Not Found for url: https://opencitations.net/index/meta/api/v1/citations/10.3367/UFNr.0129.197909a.0003\n",
      "HTTP error: 404 Client Error: Not Found for url: https://opencitations.net/index/meta/api/v1/citations/10.1016/0375-9601(78)90463-2\n",
      "HTTP error: 404 Client Error: Not Found for url: https://opencitations.net/index/meta/api/v1/citations/10.1088/0034-4885/31/1/305\n",
      "HTTP error: 404 Client Error: Not Found for url: https://opencitations.net/index/meta/api/v1/citations/10.1143/JPSJ.12.570\n",
      "HTTP error: 404 Client Error: Not Found for url: https://opencitations.net/index/meta/api/v1/citations/10.1088/0022-3719/7/16/012\n",
      "HTTP error: 404 Client Error: Not Found for url: https://opencitations.net/index/meta/api/v1/citations/10.1103/PhysRevLett.40.1723\n"
     ]
    },
    {
     "name": "stderr",
     "output_type": "stream",
     "text": [
      "179it [25:59, 29.00s/it]"
     ]
    },
    {
     "name": "stdout",
     "output_type": "stream",
     "text": [
      "HTTP error: 404 Client Error: Not Found for url: https://opencitations.net/index/meta/api/v1/citations/10.2753/RSP1061-1967150425\n"
     ]
    },
    {
     "name": "stderr",
     "output_type": "stream",
     "text": [
      "180it [26:00, 20.58s/it]"
     ]
    },
    {
     "name": "stdout",
     "output_type": "stream",
     "text": [
      "HTTP error: 404 Client Error: Not Found for url: https://opencitations.net/index/meta/api/v1/citations/10.1016/0021-9991(76)90112-1\n",
      "HTTP error: 404 Client Error: Not Found for url: https://opencitations.net/index/meta/api/v1/citations/10.1016/0021-9991(73)90121-6\n"
     ]
    },
    {
     "name": "stderr",
     "output_type": "stream",
     "text": [
      "181it [26:02, 15.06s/it]"
     ]
    },
    {
     "name": "stdout",
     "output_type": "stream",
     "text": [
      "HTTP error: 404 Client Error: Not Found for url: https://opencitations.net/index/meta/api/v1/citations/10.1002/pssb.2221630145\n",
      "HTTP error: 404 Client Error: Not Found for url: https://opencitations.net/index/meta/api/v1/citations/10.1002/pssb.2221480218\n",
      "HTTP error: 404 Client Error: Not Found for url: https://opencitations.net/index/meta/api/v1/citations/10.1002/pssb.2221600121\n",
      "HTTP error: 404 Client Error: Not Found for url: https://opencitations.net/index/meta/api/v1/citations/10.1002/pssb.2221620128\n",
      "HTTP error: 404 Client Error: Not Found for url: https://opencitations.net/index/meta/api/v1/citations/10.1103/PhysRev.115.786\n",
      "HTTP error: 404 Client Error: Not Found for url: https://opencitations.net/index/meta/api/v1/citations/10.1103/PhysRev.128.1622\n",
      "HTTP error: 404 Client Error: Not Found for url: https://opencitations.net/index/meta/api/v1/citations/10.1103/PhysRevB.19.6303\n",
      "HTTP error: 404 Client Error: Not Found for url: https://opencitations.net/index/meta/api/v1/citations/10.1103/PhysRevLett.51.2140\n",
      "HTTP error: 404 Client Error: Not Found for url: https://opencitations.net/index/meta/api/v1/citations/10.1103/PhysRevB.33.2144\n",
      "HTTP error: 404 Client Error: Not Found for url: https://opencitations.net/index/meta/api/v1/citations/10.1103/PhysRevLett.58.1680\n",
      "HTTP error: 404 Client Error: Not Found for url: https://opencitations.net/index/meta/api/v1/citations/10.1016/S0081-1947(08)60361-6\n"
     ]
    },
    {
     "name": "stderr",
     "output_type": "stream",
     "text": [
      "182it [26:12, 13.66s/it]"
     ]
    },
    {
     "name": "stdout",
     "output_type": "stream",
     "text": [
      "HTTP error: 404 Client Error: Not Found for url: https://opencitations.net/index/meta/api/v1/citations/10.1215/S0012-7094-97-08914-6\n",
      "HTTP error: 404 Client Error: Not Found for url: https://opencitations.net/index/meta/api/v1/citations/10.2307/1999273\n",
      "HTTP error: 404 Client Error: Not Found for url: https://opencitations.net/index/meta/api/v1/citations/10.1137/0510092\n",
      "HTTP error: 404 Client Error: Not Found for url: https://opencitations.net/index/meta/api/v1/citations/10.2307/2369887\n",
      "HTTP error: 404 Client Error: Not Found for url: https://opencitations.net/index/meta/api/v1/citations/10.1090/S0002-9947-98-01879-0\n",
      "HTTP error: 404 Client Error: Not Found for url: https://opencitations.net/index/meta/api/v1/citations/10.2307/2001881\n",
      "HTTP error: 404 Client Error: Not Found for url: https://opencitations.net/index/meta/api/v1/citations/10.1137/0513044\n",
      "HTTP error: 404 Client Error: Not Found for url: https://opencitations.net/index/meta/api/v1/citations/10.1007/978-3-642-74748-9\n",
      "HTTP error: 404 Client Error: Not Found for url: https://opencitations.net/index/meta/api/v1/citations/10.1007/BF00416020\n",
      "HTTP error: 404 Client Error: Not Found for url: https://opencitations.net/index/meta/api/v1/citations/10.1137/0503016\n"
     ]
    },
    {
     "name": "stderr",
     "output_type": "stream",
     "text": [
      "183it [26:21, 12.23s/it]"
     ]
    },
    {
     "name": "stdout",
     "output_type": "stream",
     "text": [
      "HTTP error: 404 Client Error: Not Found for url: https://opencitations.net/index/meta/api/v1/citations/10.1007/BF02742679\n",
      "HTTP error: 404 Client Error: Not Found for url: https://opencitations.net/index/meta/api/v1/citations/10.1103/PhysRevLett.33.1404\n",
      "HTTP error: 404 Client Error: Not Found for url: https://opencitations.net/index/meta/api/v1/citations/10.1103/PhysRevLett.33.1406\n",
      "HTTP error: 404 Client Error: Not Found for url: https://opencitations.net/index/meta/api/v1/citations/10.1103/PhysRevLett.33.1408\n",
      "HTTP error: 404 Client Error: Not Found for url: https://opencitations.net/index/meta/api/v1/citations/10.1103/PhysRevLett.33.1453\n"
     ]
    },
    {
     "name": "stderr",
     "output_type": "stream",
     "text": [
      "184it [26:26,  9.88s/it]"
     ]
    },
    {
     "name": "stdout",
     "output_type": "stream",
     "text": [
      "HTTP error: 404 Client Error: Not Found for url: https://opencitations.net/index/meta/api/v1/citations/10.1016/0031-9163(64)90319-1\n",
      "HTTP error: 404 Client Error: Not Found for url: https://opencitations.net/index/meta/api/v1/citations/10.1016/0003-4916(58)90017-4\n"
     ]
    },
    {
     "name": "stderr",
     "output_type": "stream",
     "text": [
      "185it [26:28,  7.50s/it]"
     ]
    },
    {
     "name": "stdout",
     "output_type": "stream",
     "text": [
      "HTTP error: 404 Client Error: Not Found for url: https://opencitations.net/index/meta/api/v1/citations/10.1080/00150197808237308\n",
      "HTTP error: 404 Client Error: Not Found for url: https://opencitations.net/index/meta/api/v1/citations/10.1103/PhysRevB.14.5080\n"
     ]
    },
    {
     "name": "stderr",
     "output_type": "stream",
     "text": [
      "186it [26:29,  5.77s/it]"
     ]
    },
    {
     "name": "stdout",
     "output_type": "stream",
     "text": [
      "HTTP error: 404 Client Error: Not Found for url: https://opencitations.net/index/meta/api/v1/citations/10.1002/pssa.2210970137\n",
      "HTTP error: 404 Client Error: Not Found for url: https://opencitations.net/index/meta/api/v1/citations/10.1016/0029-554X(69)90163-3\n",
      "HTTP error: 404 Client Error: Not Found for url: https://opencitations.net/index/meta/api/v1/citations/10.1016/0168-583X(85)90645-7\n",
      "HTTP error: 404 Client Error: Not Found for url: https://opencitations.net/index/meta/api/v1/citations/10.1080/00337577008236293\n",
      "HTTP error: 404 Client Error: Not Found for url: https://opencitations.net/index/meta/api/v1/citations/10.1002/pssa.2210260141\n",
      "HTTP error: 404 Client Error: Not Found for url: https://opencitations.net/index/meta/api/v1/citations/10.1080/00337577508235384\n",
      "HTTP error: 404 Client Error: Not Found for url: https://opencitations.net/index/meta/api/v1/citations/10.1080/00337578008210034\n",
      "HTTP error: 404 Client Error: Not Found for url: https://opencitations.net/index/meta/api/v1/citations/10.1002/crat.2170190917\n"
     ]
    },
    {
     "name": "stderr",
     "output_type": "stream",
     "text": [
      "187it [26:37,  6.22s/it]"
     ]
    },
    {
     "name": "stdout",
     "output_type": "stream",
     "text": [
      "HTTP error: 404 Client Error: Not Found for url: https://opencitations.net/index/meta/api/v1/citations/10.1007/BF02826303\n",
      "HTTP error: 404 Client Error: Not Found for url: https://opencitations.net/index/meta/api/v1/citations/10.1103/PhysRev.162.1677\n",
      "HTTP error: 404 Client Error: Not Found for url: https://opencitations.net/index/meta/api/v1/citations/10.1103/PhysRev.162.1683\n",
      "HTTP error: 404 Client Error: Not Found for url: https://opencitations.net/index/meta/api/v1/citations/10.1016/0031-9163(66)91175-9\n",
      "HTTP error: 404 Client Error: Not Found for url: https://opencitations.net/index/meta/api/v1/citations/10.1103/PhysRev.169.1074\n",
      "HTTP error: 404 Client Error: Not Found for url: https://opencitations.net/index/meta/api/v1/citations/10.1103/PhysRev.180.1349\n",
      "HTTP error: 404 Client Error: Not Found for url: https://opencitations.net/index/meta/api/v1/citations/10.1007/BF02750100\n",
      "HTTP error: 404 Client Error: Not Found for url: https://opencitations.net/index/meta/api/v1/citations/10.1016/0550-3213(70)90323-8\n",
      "HTTP error: 404 Client Error: Not Found for url: https://opencitations.net/index/meta/api/v1/citations/10.1007/BF02748866\n",
      "HTTP error: 404 Client Error: Not Found for url: https://opencitations.net/index/meta/api/v1/citations/10.1016/0029-554X(67)91363-8\n",
      "HTTP error: 404 Client Error: Not Found for url: https://opencitations.net/index/meta/api/v1/citations/10.1007/BF02899866\n"
     ]
    },
    {
     "name": "stderr",
     "output_type": "stream",
     "text": [
      "188it [26:47,  7.43s/it]"
     ]
    },
    {
     "name": "stdout",
     "output_type": "stream",
     "text": [
      "HTTP error: 404 Client Error: Not Found for url: https://opencitations.net/index/meta/api/v1/citations/10.1209/0295-5075/5/4/017\n"
     ]
    },
    {
     "name": "stderr",
     "output_type": "stream",
     "text": [
      "189it [26:48,  5.51s/it]"
     ]
    },
    {
     "name": "stdout",
     "output_type": "stream",
     "text": [
      "HTTP error: 404 Client Error: Not Found for url: https://opencitations.net/index/meta/api/v1/citations/10.1002/pssb.2220490149\n",
      "HTTP error: 404 Client Error: Not Found for url: https://opencitations.net/index/meta/api/v1/citations/10.1088/0370-1328/90/1/323\n",
      "HTTP error: 404 Client Error: Not Found for url: https://opencitations.net/index/meta/api/v1/citations/10.1088/0370-1328/90/1/325\n"
     ]
    },
    {
     "name": "stderr",
     "output_type": "stream",
     "text": [
      "190it [26:50,  4.63s/it]"
     ]
    },
    {
     "name": "stdout",
     "output_type": "stream",
     "text": [
      "HTTP error: 404 Client Error: Not Found for url: https://opencitations.net/index/meta/api/v1/citations/10.1070/IM2004v068n03ABEH000492\n"
     ]
    },
    {
     "name": "stderr",
     "output_type": "stream",
     "text": [
      "191it [26:51,  3.51s/it]"
     ]
    },
    {
     "name": "stdout",
     "output_type": "stream",
     "text": [
      "HTTP error: 404 Client Error: Not Found for url: https://opencitations.net/index/meta/api/v1/citations/10.1080/10448632.2015.1092773\n"
     ]
    },
    {
     "name": "stderr",
     "output_type": "stream",
     "text": [
      "192it [26:52,  2.70s/it]"
     ]
    },
    {
     "name": "stdout",
     "output_type": "stream",
     "text": [
      "HTTP error: 404 Client Error: Not Found for url: https://opencitations.net/index/meta/api/v1/citations/10.1016/0011-2275(73)90100-8\n",
      "HTTP error: 404 Client Error: Not Found for url: https://opencitations.net/index/meta/api/v1/citations/10.1016/0011-2275(68)90089-1\n"
     ]
    },
    {
     "name": "stderr",
     "output_type": "stream",
     "text": [
      "193it [26:54,  2.37s/it]"
     ]
    },
    {
     "name": "stdout",
     "output_type": "stream",
     "text": [
      "HTTP error: 404 Client Error: Not Found for url: https://opencitations.net/index/meta/api/v1/citations/10.1016/j.nuclphysa.2009.10.156\n"
     ]
    },
    {
     "name": "stderr",
     "output_type": "stream",
     "text": [
      "194it [26:55,  1.94s/it]"
     ]
    },
    {
     "name": "stdout",
     "output_type": "stream",
     "text": [
      "HTTP error: 404 Client Error: Not Found for url: https://opencitations.net/index/meta/api/v1/citations/10.1016/S0550-3213(03)00389-4\n",
      "HTTP error: 404 Client Error: Not Found for url: https://opencitations.net/index/meta/api/v1/citations/10.1088/0264-9381/19/14/306\n",
      "HTTP error: 404 Client Error: Not Found for url: https://opencitations.net/index/meta/api/v1/citations/10.1088/0264-9381/20/3/501\n"
     ]
    },
    {
     "name": "stderr",
     "output_type": "stream",
     "text": [
      "195it [26:58,  2.30s/it]"
     ]
    },
    {
     "name": "stdout",
     "output_type": "stream",
     "text": [
      "HTTP error: 404 Client Error: Not Found for url: https://opencitations.net/index/meta/api/v1/citations/10.1103/PhysRevC.93.019802\n",
      "HTTP error: 404 Client Error: Not Found for url: https://opencitations.net/index/meta/api/v1/citations/10.1016/0375-9474(96)00282-5\n",
      "HTTP error: 404 Client Error: Not Found for url: https://opencitations.net/index/meta/api/v1/citations/10.1103/PhysRevC.25.837\n",
      "HTTP error: 404 Client Error: Not Found for url: https://opencitations.net/index/meta/api/v1/citations/10.1103/PhysRevLett.93.012701\n",
      "HTTP error: 404 Client Error: Not Found for url: https://opencitations.net/index/meta/api/v1/citations/10.1103/PhysRevC.55.3155\n",
      "HTTP error: 404 Client Error: Not Found for url: https://opencitations.net/index/meta/api/v1/citations/10.1103/PhysRevC.41.988\n",
      "HTTP error: 404 Client Error: Not Found for url: https://opencitations.net/index/meta/api/v1/citations/10.1103/PhysRevC.67.061601\n",
      "HTTP error: 404 Client Error: Not Found for url: https://opencitations.net/index/meta/api/v1/citations/10.1103/PhysRevC.87.064603\n"
     ]
    },
    {
     "name": "stderr",
     "output_type": "stream",
     "text": [
      "196it [27:06,  3.90s/it]"
     ]
    },
    {
     "name": "stdout",
     "output_type": "stream",
     "text": [
      "HTTP error: 404 Client Error: Not Found for url: https://opencitations.net/index/meta/api/v1/citations/10.1016/S0375-9474(14)00600-9\n"
     ]
    },
    {
     "name": "stderr",
     "output_type": "stream",
     "text": [
      "197it [27:06,  3.01s/it]"
     ]
    },
    {
     "name": "stdout",
     "output_type": "stream",
     "text": [
      "HTTP error: 404 Client Error: Not Found for url: https://opencitations.net/index/meta/api/v1/citations/10.1007/BF03548904\n",
      "HTTP error: 404 Client Error: Not Found for url: https://opencitations.net/index/meta/api/v1/citations/10.1887/0750306041\n",
      "HTTP error: 404 Client Error: Not Found for url: https://opencitations.net/index/meta/api/v1/citations/10.1007/978-1-4613-1469-1\n",
      "HTTP error: 404 Client Error: Not Found for url: https://opencitations.net/index/meta/api/v1/citations/10.1007/978-3-662-03774-4\n",
      "HTTP error: 404 Client Error: Not Found for url: https://opencitations.net/index/meta/api/v1/citations/10.1016/0003-4916(89)90359-X\n",
      "HTTP error: 404 Client Error: Not Found for url: https://opencitations.net/index/meta/api/v1/citations/10.1007/978-3-642-85129-2\n",
      "HTTP error: 404 Client Error: Not Found for url: https://opencitations.net/index/meta/api/v1/citations/10.1007/978-3-662-03795-9\n",
      "HTTP error: 404 Client Error: Not Found for url: https://opencitations.net/index/meta/api/v1/citations/10.1142/0018\n",
      "HTTP error: 404 Client Error: Not Found for url: https://opencitations.net/index/meta/api/v1/citations/10.1063/1.465803\n",
      "HTTP error: 404 Client Error: Not Found for url: https://opencitations.net/index/meta/api/v1/citations/10.1063/1.465673\n",
      "HTTP error: 404 Client Error: Not Found for url: https://opencitations.net/index/meta/api/v1/citations/10.1016/0009-2614(93)87027-Z\n",
      "HTTP error: 404 Client Error: Not Found for url: https://opencitations.net/index/meta/api/v1/citations/10.1063/1.466886\n",
      "HTTP error: 404 Client Error: Not Found for url: https://opencitations.net/index/meta/api/v1/citations/10.1103/PhysRevA.49.3407\n",
      "HTTP error: 404 Client Error: Not Found for url: https://opencitations.net/index/meta/api/v1/citations/10.1103/RevModPhys.70.1039\n",
      "HTTP error: 404 Client Error: Not Found for url: https://opencitations.net/index/meta/api/v1/citations/10.1016/0038-1098(84)90132-7\n",
      "HTTP error: 404 Client Error: Not Found for url: https://opencitations.net/index/meta/api/v1/citations/10.1088/2058-7058/1/12/50\n",
      "HTTP error: 404 Client Error: Not Found for url: https://opencitations.net/index/meta/api/v1/citations/10.1142/2776\n",
      "HTTP error: 404 Client Error: Not Found for url: https://opencitations.net/index/meta/api/v1/citations/10.1088/0022-3719/18/14/018\n",
      "HTTP error: 404 Client Error: Not Found for url: https://opencitations.net/index/meta/api/v1/citations/10.1016/0378-4363(86)90501-2\n",
      "HTTP error: 404 Client Error: Not Found for url: https://opencitations.net/index/meta/api/v1/citations/10.1016/0375-9601(91)90698-8\n",
      "HTTP error: 404 Client Error: Not Found for url: https://opencitations.net/index/meta/api/v1/citations/10.1016/0378-4371(93)90243-W\n",
      "HTTP error: 404 Client Error: Not Found for url: https://opencitations.net/index/meta/api/v1/citations/10.1007/BF02722462\n",
      "HTTP error: 404 Client Error: Not Found for url: https://opencitations.net/index/meta/api/v1/citations/10.1142/S0217979296000866\n",
      "HTTP error: 404 Client Error: Not Found for url: https://opencitations.net/index/meta/api/v1/citations/10.1142/S0217979299002538\n",
      "HTTP error: 404 Client Error: Not Found for url: https://opencitations.net/index/meta/api/v1/citations/10.1073/pnas.37.7.452\n",
      "HTTP error: 404 Client Error: Not Found for url: https://opencitations.net/index/meta/api/v1/citations/10.1103/PhysRev.115.1342\n",
      "HTTP error: 404 Client Error: Not Found for url: https://opencitations.net/index/meta/api/v1/citations/10.1143/PTP.14.351\n",
      "HTTP error: 404 Client Error: Not Found for url: https://opencitations.net/index/meta/api/v1/citations/10.1007/BF02725962\n",
      "HTTP error: 404 Client Error: Not Found for url: https://opencitations.net/index/meta/api/v1/citations/10.1143/PTP.32.50\n",
      "HTTP error: 404 Client Error: Not Found for url: https://opencitations.net/index/meta/api/v1/citations/10.3367/UFNr.0071.196005c.0071\n",
      "HTTP error: 404 Client Error: Not Found for url: https://opencitations.net/index/meta/api/v1/citations/10.1007/978-1-4899-7182-1\n",
      "HTTP error: 404 Client Error: Not Found for url: https://opencitations.net/index/meta/api/v1/citations/10.1016/0375-9601(73)90003-0\n",
      "HTTP error: 404 Client Error: Not Found for url: https://opencitations.net/index/meta/api/v1/citations/10.1103/PhysRevE.61.3571\n",
      "HTTP error: 404 Client Error: Not Found for url: https://opencitations.net/index/meta/api/v1/citations/10.1007/BF01028994\n",
      "HTTP error: 404 Client Error: Not Found for url: https://opencitations.net/index/meta/api/v1/citations/10.1103/PhysRev.124.41\n",
      "HTTP error: 404 Client Error: Not Found for url: https://opencitations.net/index/meta/api/v1/citations/10.1098/rspa.1963.0204\n",
      "HTTP error: 404 Client Error: Not Found for url: https://opencitations.net/index/meta/api/v1/citations/10.1098/rspa.1964.0190\n",
      "HTTP error: 404 Client Error: Not Found for url: https://opencitations.net/index/meta/api/v1/citations/10.1103/PhysRev.157.295\n",
      "HTTP error: 404 Client Error: Not Found for url: https://opencitations.net/index/meta/api/v1/citations/10.1002/pssb.2220770108\n",
      "HTTP error: 404 Client Error: Not Found for url: https://opencitations.net/index/meta/api/v1/citations/10.1002/pssb.2220910108\n",
      "HTTP error: 404 Client Error: Not Found for url: https://opencitations.net/index/meta/api/v1/citations/10.1088/0022-3719/15/5/014\n",
      "HTTP error: 404 Client Error: Not Found for url: https://opencitations.net/index/meta/api/v1/citations/10.1088/0022-3719/16/12/012\n",
      "HTTP error: 404 Client Error: Not Found for url: https://opencitations.net/index/meta/api/v1/citations/10.1103/PhysRev.184.451\n",
      "HTTP error: 404 Client Error: Not Found for url: https://opencitations.net/index/meta/api/v1/citations/10.1016/S0038-1098(85)80023-5\n",
      "HTTP error: 404 Client Error: Not Found for url: https://opencitations.net/index/meta/api/v1/citations/10.1103/PhysRevB.38.2555\n",
      "HTTP error: 404 Client Error: Not Found for url: https://opencitations.net/index/meta/api/v1/citations/10.1016/0038-1098(89)90385-2\n",
      "HTTP error: 404 Client Error: Not Found for url: https://opencitations.net/index/meta/api/v1/citations/10.1103/PhysRev.133.A1594\n",
      "HTTP error: 404 Client Error: Not Found for url: https://opencitations.net/index/meta/api/v1/citations/10.1063/1.3048415\n",
      "HTTP error: 404 Client Error: Not Found for url: https://opencitations.net/index/meta/api/v1/citations/10.1016/0038-1098(65)90158-4\n",
      "HTTP error: 404 Client Error: Not Found for url: https://opencitations.net/index/meta/api/v1/citations/10.1021/ja01299a050\n",
      "HTTP error: 404 Client Error: Not Found for url: https://opencitations.net/index/meta/api/v1/citations/10.1007/BF02725707\n",
      "HTTP error: 404 Client Error: Not Found for url: https://opencitations.net/index/meta/api/v1/citations/10.1007/BF01014801\n",
      "HTTP error: 404 Client Error: Not Found for url: https://opencitations.net/index/meta/api/v1/citations/10.1103/PhysRev.178.403\n",
      "HTTP error: 404 Client Error: Not Found for url: https://opencitations.net/index/meta/api/v1/citations/10.1103/PhysRevA.28.3037\n",
      "HTTP error: 404 Client Error: Not Found for url: https://opencitations.net/index/meta/api/v1/citations/10.1103/PhysRev.130.890\n",
      "HTTP error: 404 Client Error: Not Found for url: https://opencitations.net/index/meta/api/v1/citations/10.1016/0031-8914(60)90196-8\n",
      "HTTP error: 404 Client Error: Not Found for url: https://opencitations.net/index/meta/api/v1/citations/10.1080/00018736800101356\n",
      "HTTP error: 404 Client Error: Not Found for url: https://opencitations.net/index/meta/api/v1/citations/10.1007/BF02755024\n",
      "HTTP error: 404 Client Error: Not Found for url: https://opencitations.net/index/meta/api/v1/citations/10.1007/BF02812722\n",
      "HTTP error: 404 Client Error: Not Found for url: https://opencitations.net/index/meta/api/v1/citations/10.1088/0305-4470/2/5/002\n",
      "HTTP error: 404 Client Error: Not Found for url: https://opencitations.net/index/meta/api/v1/citations/10.1007/BF02755082\n",
      "HTTP error: 404 Client Error: Not Found for url: https://opencitations.net/index/meta/api/v1/citations/10.1007/BF02710190\n",
      "HTTP error: 404 Client Error: Not Found for url: https://opencitations.net/index/meta/api/v1/citations/10.1016/S0378-4371(98)00665-7\n",
      "HTTP error: 404 Client Error: Not Found for url: https://opencitations.net/index/meta/api/v1/citations/10.1088/0022-3719/4/16/013\n",
      "HTTP error: 404 Client Error: Not Found for url: https://opencitations.net/index/meta/api/v1/citations/10.1016/S0081-1947(08)60248-9\n",
      "HTTP error: 404 Client Error: Not Found for url: https://opencitations.net/index/meta/api/v1/citations/10.1103/PhysRevB.3.961\n",
      "HTTP error: 404 Client Error: Not Found for url: https://opencitations.net/index/meta/api/v1/citations/10.1103/PhysRevLett.37.855\n",
      "HTTP error: 404 Client Error: Not Found for url: https://opencitations.net/index/meta/api/v1/citations/10.1051/jphys:01980004103028100\n",
      "HTTP error: 404 Client Error: Not Found for url: https://opencitations.net/index/meta/api/v1/citations/10.1103/PhysRevB.41.413\n",
      "HTTP error: 404 Client Error: Not Found for url: https://opencitations.net/index/meta/api/v1/citations/10.1103/PhysRevB.43.1090\n",
      "HTTP error: 404 Client Error: Not Found for url: https://opencitations.net/index/meta/api/v1/citations/10.1103/RevModPhys.66.261\n",
      "HTTP error: 404 Client Error: Not Found for url: https://opencitations.net/index/meta/api/v1/citations/10.1103/PhysRevB.2.4715\n",
      "HTTP error: 404 Client Error: Not Found for url: https://opencitations.net/index/meta/api/v1/citations/10.1088/0305-4608/12/12/017\n",
      "HTTP error: 404 Client Error: Not Found for url: https://opencitations.net/index/meta/api/v1/citations/10.1103/PhysRevB.31.4954\n",
      "HTTP error: 404 Client Error: Not Found for url: https://opencitations.net/index/meta/api/v1/citations/10.1016/0378-4363(83)90080-3\n",
      "HTTP error: 404 Client Error: Not Found for url: https://opencitations.net/index/meta/api/v1/citations/10.1002/pssb.2221130202\n",
      "HTTP error: 404 Client Error: Not Found for url: https://opencitations.net/index/meta/api/v1/citations/10.1007/BF00681267\n",
      "HTTP error: 404 Client Error: Not Found for url: https://opencitations.net/index/meta/api/v1/citations/10.1142/S0217979290000681\n",
      "HTTP error: 404 Client Error: Not Found for url: https://opencitations.net/index/meta/api/v1/citations/10.1063/1.347994\n",
      "HTTP error: 404 Client Error: Not Found for url: https://opencitations.net/index/meta/api/v1/citations/10.1103/PhysRevB.32.5002\n",
      "HTTP error: 404 Client Error: Not Found for url: https://opencitations.net/index/meta/api/v1/citations/10.1103/PhysRevLett.66.818\n",
      "HTTP error: 404 Client Error: Not Found for url: https://opencitations.net/index/meta/api/v1/citations/10.1088/0305-4608/11/11/020\n",
      "HTTP error: 404 Client Error: Not Found for url: https://opencitations.net/index/meta/api/v1/citations/10.1209/epl/i1996-00428-0\n",
      "HTTP error: 404 Client Error: Not Found for url: https://opencitations.net/index/meta/api/v1/citations/10.1103/PhysRev.180.544\n",
      "HTTP error: 404 Client Error: Not Found for url: https://opencitations.net/index/meta/api/v1/citations/10.1143/JPSJ.32.604\n"
     ]
    },
    {
     "name": "stderr",
     "output_type": "stream",
     "text": [
      "198it [28:26, 26.01s/it]"
     ]
    },
    {
     "name": "stdout",
     "output_type": "stream",
     "text": [
      "HTTP error: 404 Client Error: Not Found for url: https://opencitations.net/index/meta/api/v1/citations/10.1007/BF02748866\n"
     ]
    },
    {
     "name": "stderr",
     "output_type": "stream",
     "text": [
      "199it [28:27, 18.45s/it]"
     ]
    },
    {
     "name": "stdout",
     "output_type": "stream",
     "text": [
      "HTTP error: 404 Client Error: Not Found for url: https://opencitations.net/index/meta/api/v1/citations/10.1016/0375-9474(94)00692-G\n",
      "HTTP error: 404 Client Error: Not Found for url: https://opencitations.net/index/meta/api/v1/citations/10.1016/0375-9474(87)90321-6\n",
      "HTTP error: 404 Client Error: Not Found for url: https://opencitations.net/index/meta/api/v1/citations/10.1016/0003-4916(90)90201-X\n",
      "HTTP error: 404 Client Error: Not Found for url: https://opencitations.net/index/meta/api/v1/citations/10.1016/0370-1573(90)90164-W\n",
      "HTTP error: 404 Client Error: Not Found for url: https://opencitations.net/index/meta/api/v1/citations/10.1209/0295-5075/15/2/006\n",
      "HTTP error: 404 Client Error: Not Found for url: https://opencitations.net/index/meta/api/v1/citations/10.1007/BF01292520\n",
      "HTTP error: 404 Client Error: Not Found for url: https://opencitations.net/index/meta/api/v1/citations/10.1103/PhysRevC.25.2361\n"
     ]
    },
    {
     "name": "stderr",
     "output_type": "stream",
     "text": [
      "200it [28:34,  8.57s/it]\n"
     ]
    }
   ],
   "source": [
    "build_graph(graph, samp, depth=2)"
   ]
  },
  {
   "cell_type": "code",
   "execution_count": 13,
   "metadata": {},
   "outputs": [],
   "source": [
    "def quick_info(g):\n",
    "    print(f\"Number of resulting nodes: {len(g.nodes)}\")\n",
    "    print(f\"Number of edges in resulting graph: {len(g.edges)}\")\n",
    "    if nx.is_strongly_connected(g):\n",
    "        print(\"The graph is strongly connected!\")\n",
    "    elif nx.is_weakly_connected(g):\n",
    "        print(\"The graph is weakly connected.\")\n",
    "    else:\n",
    "        print(f\"The graph is not connected, having {nx.number_strongly_connected_components(g)} strongly connected components\")\n",
    "        print(f\"And {nx.number_weakly_connected_components(g)} weakly connected components\")"
   ]
  },
  {
   "cell_type": "code",
   "execution_count": 14,
   "metadata": {},
   "outputs": [
    {
     "name": "stdout",
     "output_type": "stream",
     "text": [
      "Number of resulting nodes: 18827\n",
      "Number of edges in resulting graph: 27883\n",
      "The graph is not connected, having 18819 strongly connected components\n",
      "And 26 weakly connected components\n"
     ]
    }
   ],
   "source": [
    "quick_info(graph)"
   ]
  },
  {
   "cell_type": "code",
   "execution_count": null,
   "metadata": {},
   "outputs": [],
   "source": [
    "# save graph to graph.pickle\n",
    "pickle.dump(graph, open(\"../data/graph_small.pickle\", \"wb\"))"
   ]
  },
  {
   "cell_type": "code",
   "execution_count": 4,
   "metadata": {},
   "outputs": [],
   "source": [
    "graph = pickle.load(open(\"../data/graph.pickle\", \"rb\"))"
   ]
  },
  {
   "cell_type": "code",
   "execution_count": 19,
   "metadata": {},
   "outputs": [],
   "source": [
    "largest_cc = max(nx.weakly_connected_components(graph), key=len)\n",
    "subgraph = nx.subgraph(graph, largest_cc)"
   ]
  },
  {
   "cell_type": "code",
   "execution_count": 20,
   "metadata": {},
   "outputs": [
    {
     "data": {
      "text/plain": [
       "17778"
      ]
     },
     "execution_count": 20,
     "metadata": {},
     "output_type": "execute_result"
    }
   ],
   "source": [
    "len(subgraph.nodes)"
   ]
  },
  {
   "cell_type": "code",
   "execution_count": 21,
   "metadata": {},
   "outputs": [
    {
     "name": "stdout",
     "output_type": "stream",
     "text": [
      "Number of resulting nodes: 17778\n",
      "Number of edges in resulting graph: 26624\n",
      "The graph is weakly connected.\n",
      "<class 'networkx.classes.digraph.DiGraph'>\n"
     ]
    }
   ],
   "source": [
    "quick_info(subgraph)\n",
    "print(type(subgraph))"
   ]
  },
  {
   "cell_type": "code",
   "execution_count": 22,
   "metadata": {},
   "outputs": [],
   "source": [
    "sub = nx.DiGraph(subgraph)\n",
    "pickle.dump(sub, open(\"../data/graph_medium.pickle\", \"wb\"))"
   ]
  },
  {
   "cell_type": "markdown",
   "metadata": {},
   "source": [
    "Теперь посчитаем метрики центральностей"
   ]
  },
  {
   "cell_type": "code",
   "execution_count": 11,
   "metadata": {},
   "outputs": [],
   "source": [
    "def calc_centralities(g):\n",
    "    deg = nx.degree_centrality(g)\n",
    "    bet = nx.betweenness_centrality(g)\n",
    "    eig = nx.eigenvector_centrality(g)\n",
    "    clos = nx.closeness_centrality(g)\n",
    "    pagerank = nx.pagerank(g)\n",
    "    return {\"Degree\": deg, \"Betweenness\": bet, \"Eigen\": eig, \"Closeness\": clos, \"PageRank\": pagerank}"
   ]
  },
  {
   "cell_type": "code",
   "execution_count": null,
   "metadata": {},
   "outputs": [
    {
     "name": "stderr",
     "output_type": "stream",
     "text": [
      "Exception ignored in: <bound method IPythonKernel._clean_thread_parent_frames of <ipykernel.ipkernel.IPythonKernel object at 0x7df8b2dc8f50>>\n",
      "Traceback (most recent call last):\n",
      "  File \"/home/vunz/Projects/Diploma/jup/lib/python3.12/site-packages/ipykernel/ipkernel.py\", line 775, in _clean_thread_parent_frames\n",
      "    def _clean_thread_parent_frames(\n",
      "\n",
      "KeyboardInterrupt: \n"
     ]
    }
   ],
   "source": [
    "results = calc_centralities(subgraph)"
   ]
  },
  {
   "cell_type": "markdown",
   "metadata": {},
   "source": [
    "Для посчета метрик я попросил запустить вычисления на сервере. Поэтому дальше обрабатываю json результаты"
   ]
  },
  {
   "cell_type": "code",
   "execution_count": 10,
   "metadata": {},
   "outputs": [],
   "source": [
    "import json\n",
    "import collections"
   ]
  },
  {
   "cell_type": "code",
   "execution_count": 11,
   "metadata": {},
   "outputs": [],
   "source": [
    "degree = json.load(open(\"../data/degree.json\"))\n",
    "eigen = json.load(open(\"../data/eigen.json\"))\n",
    "closeness = json.load(open(\"../data/closeness.json\"))\n",
    "betweenness = json.load(open(\"../data/betweenness.json\"))\n",
    "pagerank = json.load(open(\"../data/pagerank.json\"))"
   ]
  },
  {
   "cell_type": "code",
   "execution_count": 12,
   "metadata": {},
   "outputs": [],
   "source": [
    "degree = collections.OrderedDict(sorted(degree.items()))\n",
    "eigen = collections.OrderedDict(sorted(eigen.items()))\n",
    "closeness = collections.OrderedDict(sorted(closeness.items()))\n",
    "betweenness = collections.OrderedDict(sorted(betweenness.items()))\n",
    "pagerank = collections.OrderedDict(sorted(pagerank.items()))"
   ]
  },
  {
   "cell_type": "code",
   "execution_count": 13,
   "metadata": {},
   "outputs": [],
   "source": [
    "df_metrics = pd.DataFrame(degree.values(), index=degree.keys()).rename({0: \"degree\"}, axis=1)"
   ]
  },
  {
   "cell_type": "code",
   "execution_count": 14,
   "metadata": {},
   "outputs": [],
   "source": [
    "df_metrics[\"eigen\"] = eigen.values()\n",
    "df_metrics[\"closeness\"] = closeness.values()\n",
    "df_metrics[\"betweenness\"] = betweenness.values()\n",
    "df_metrics[\"pagerank\"] = pagerank.values()"
   ]
  },
  {
   "cell_type": "code",
   "execution_count": 10,
   "metadata": {},
   "outputs": [
    {
     "data": {
      "text/html": [
       "<div>\n",
       "<style scoped>\n",
       "    .dataframe tbody tr th:only-of-type {\n",
       "        vertical-align: middle;\n",
       "    }\n",
       "\n",
       "    .dataframe tbody tr th {\n",
       "        vertical-align: top;\n",
       "    }\n",
       "\n",
       "    .dataframe thead th {\n",
       "        text-align: right;\n",
       "    }\n",
       "</style>\n",
       "<table border=\"1\" class=\"dataframe\">\n",
       "  <thead>\n",
       "    <tr style=\"text-align: right;\">\n",
       "      <th></th>\n",
       "      <th>degree</th>\n",
       "      <th>eigen</th>\n",
       "      <th>closeness</th>\n",
       "      <th>betweenness</th>\n",
       "      <th>pagerank</th>\n",
       "    </tr>\n",
       "  </thead>\n",
       "  <tbody>\n",
       "    <tr>\n",
       "      <th>10.1017/CBO9780511524646</th>\n",
       "      <td>0.018530</td>\n",
       "      <td>5.301566e-22</td>\n",
       "      <td>0.016578</td>\n",
       "      <td>0.000000e+00</td>\n",
       "      <td>0.005365</td>\n",
       "    </tr>\n",
       "    <tr>\n",
       "      <th>10.1103/PhysRev.93.99</th>\n",
       "      <td>0.018427</td>\n",
       "      <td>8.474252e-04</td>\n",
       "      <td>0.026207</td>\n",
       "      <td>3.522018e-06</td>\n",
       "      <td>0.005208</td>\n",
       "    </tr>\n",
       "    <tr>\n",
       "      <th>10.1103/RevModPhys.57.287</th>\n",
       "      <td>0.018175</td>\n",
       "      <td>1.696595e-14</td>\n",
       "      <td>0.014253</td>\n",
       "      <td>5.865808e-05</td>\n",
       "      <td>0.004879</td>\n",
       "    </tr>\n",
       "    <tr>\n",
       "      <th>10.1103/PhysRev.131.2766</th>\n",
       "      <td>0.018030</td>\n",
       "      <td>1.267654e-03</td>\n",
       "      <td>0.027930</td>\n",
       "      <td>7.359271e-06</td>\n",
       "      <td>0.004439</td>\n",
       "    </tr>\n",
       "    <tr>\n",
       "      <th>10.1103/PhysRev.115.485</th>\n",
       "      <td>0.017426</td>\n",
       "      <td>1.172719e-02</td>\n",
       "      <td>0.046483</td>\n",
       "      <td>5.679642e-06</td>\n",
       "      <td>0.004692</td>\n",
       "    </tr>\n",
       "    <tr>\n",
       "      <th>10.1016/0550-3213(79)90022-1</th>\n",
       "      <td>0.013350</td>\n",
       "      <td>2.890676e-03</td>\n",
       "      <td>0.026376</td>\n",
       "      <td>1.263169e-04</td>\n",
       "      <td>0.002438</td>\n",
       "    </tr>\n",
       "    <tr>\n",
       "      <th>10.1006/adnd.1995.1002</th>\n",
       "      <td>0.011003</td>\n",
       "      <td>4.709557e-16</td>\n",
       "      <td>0.011959</td>\n",
       "      <td>0.000000e+00</td>\n",
       "      <td>0.002037</td>\n",
       "    </tr>\n",
       "    <tr>\n",
       "      <th>10.1143/JJAP.27.L209</th>\n",
       "      <td>0.010771</td>\n",
       "      <td>8.102113e-26</td>\n",
       "      <td>0.008158</td>\n",
       "      <td>2.996363e-06</td>\n",
       "      <td>0.003158</td>\n",
       "    </tr>\n",
       "    <tr>\n",
       "      <th>10.1103/PhysRev.130.2529</th>\n",
       "      <td>0.010367</td>\n",
       "      <td>1.902232e-03</td>\n",
       "      <td>0.028841</td>\n",
       "      <td>4.395669e-06</td>\n",
       "      <td>0.002767</td>\n",
       "    </tr>\n",
       "    <tr>\n",
       "      <th>10.1016/0031-9163(62)91369-0</th>\n",
       "      <td>0.010267</td>\n",
       "      <td>2.542276e-03</td>\n",
       "      <td>0.025970</td>\n",
       "      <td>8.714625e-07</td>\n",
       "      <td>0.002733</td>\n",
       "    </tr>\n",
       "  </tbody>\n",
       "</table>\n",
       "</div>"
      ],
      "text/plain": [
       "                                degree         eigen  closeness   betweenness  \\\n",
       "10.1017/CBO9780511524646      0.018530  5.301566e-22   0.016578  0.000000e+00   \n",
       "10.1103/PhysRev.93.99         0.018427  8.474252e-04   0.026207  3.522018e-06   \n",
       "10.1103/RevModPhys.57.287     0.018175  1.696595e-14   0.014253  5.865808e-05   \n",
       "10.1103/PhysRev.131.2766      0.018030  1.267654e-03   0.027930  7.359271e-06   \n",
       "10.1103/PhysRev.115.485       0.017426  1.172719e-02   0.046483  5.679642e-06   \n",
       "10.1016/0550-3213(79)90022-1  0.013350  2.890676e-03   0.026376  1.263169e-04   \n",
       "10.1006/adnd.1995.1002        0.011003  4.709557e-16   0.011959  0.000000e+00   \n",
       "10.1143/JJAP.27.L209          0.010771  8.102113e-26   0.008158  2.996363e-06   \n",
       "10.1103/PhysRev.130.2529      0.010367  1.902232e-03   0.028841  4.395669e-06   \n",
       "10.1016/0031-9163(62)91369-0  0.010267  2.542276e-03   0.025970  8.714625e-07   \n",
       "\n",
       "                              pagerank  \n",
       "10.1017/CBO9780511524646      0.005365  \n",
       "10.1103/PhysRev.93.99         0.005208  \n",
       "10.1103/RevModPhys.57.287     0.004879  \n",
       "10.1103/PhysRev.131.2766      0.004439  \n",
       "10.1103/PhysRev.115.485       0.004692  \n",
       "10.1016/0550-3213(79)90022-1  0.002438  \n",
       "10.1006/adnd.1995.1002        0.002037  \n",
       "10.1143/JJAP.27.L209          0.003158  \n",
       "10.1103/PhysRev.130.2529      0.002767  \n",
       "10.1016/0031-9163(62)91369-0  0.002733  "
      ]
     },
     "execution_count": 10,
     "metadata": {},
     "output_type": "execute_result"
    }
   ],
   "source": [
    "df_metrics.nlargest(10, \"degree\")"
   ]
  },
  {
   "cell_type": "code",
   "execution_count": 11,
   "metadata": {},
   "outputs": [
    {
     "data": {
      "text/html": [
       "<div>\n",
       "<style scoped>\n",
       "    .dataframe tbody tr th:only-of-type {\n",
       "        vertical-align: middle;\n",
       "    }\n",
       "\n",
       "    .dataframe tbody tr th {\n",
       "        vertical-align: top;\n",
       "    }\n",
       "\n",
       "    .dataframe thead th {\n",
       "        text-align: right;\n",
       "    }\n",
       "</style>\n",
       "<table border=\"1\" class=\"dataframe\">\n",
       "  <thead>\n",
       "    <tr style=\"text-align: right;\">\n",
       "      <th></th>\n",
       "      <th>degree</th>\n",
       "      <th>eigen</th>\n",
       "      <th>closeness</th>\n",
       "      <th>betweenness</th>\n",
       "      <th>pagerank</th>\n",
       "    </tr>\n",
       "  </thead>\n",
       "  <tbody>\n",
       "    <tr>\n",
       "      <th>10.1103/PhysRev.83.688</th>\n",
       "      <td>0.000026</td>\n",
       "      <td>0.216720</td>\n",
       "      <td>0.042345</td>\n",
       "      <td>0.000000</td>\n",
       "      <td>0.000035</td>\n",
       "    </tr>\n",
       "    <tr>\n",
       "      <th>10.1103/PhysRev.93.233</th>\n",
       "      <td>0.000023</td>\n",
       "      <td>0.154497</td>\n",
       "      <td>0.043223</td>\n",
       "      <td>0.000000</td>\n",
       "      <td>0.000159</td>\n",
       "    </tr>\n",
       "    <tr>\n",
       "      <th>10.1103/PhysRev.87.693</th>\n",
       "      <td>0.000029</td>\n",
       "      <td>0.152102</td>\n",
       "      <td>0.042732</td>\n",
       "      <td>0.000000</td>\n",
       "      <td>0.000033</td>\n",
       "    </tr>\n",
       "    <tr>\n",
       "      <th>10.1103/PhysRev.87.1100</th>\n",
       "      <td>0.000029</td>\n",
       "      <td>0.151775</td>\n",
       "      <td>0.037266</td>\n",
       "      <td>0.000000</td>\n",
       "      <td>0.000029</td>\n",
       "    </tr>\n",
       "    <tr>\n",
       "      <th>10.1103/PhysRev.88.1142</th>\n",
       "      <td>0.000026</td>\n",
       "      <td>0.147518</td>\n",
       "      <td>0.039551</td>\n",
       "      <td>0.000000</td>\n",
       "      <td>0.000028</td>\n",
       "    </tr>\n",
       "    <tr>\n",
       "      <th>10.1103/PhysRev.90.497</th>\n",
       "      <td>0.000265</td>\n",
       "      <td>0.139797</td>\n",
       "      <td>0.039791</td>\n",
       "      <td>0.000003</td>\n",
       "      <td>0.000071</td>\n",
       "    </tr>\n",
       "    <tr>\n",
       "      <th>10.1103/PhysRev.104.254</th>\n",
       "      <td>0.005920</td>\n",
       "      <td>0.136172</td>\n",
       "      <td>0.051663</td>\n",
       "      <td>0.000016</td>\n",
       "      <td>0.001699</td>\n",
       "    </tr>\n",
       "    <tr>\n",
       "      <th>10.1103/RevModPhys.13.203</th>\n",
       "      <td>0.001504</td>\n",
       "      <td>0.134626</td>\n",
       "      <td>0.070009</td>\n",
       "      <td>0.000031</td>\n",
       "      <td>0.000611</td>\n",
       "    </tr>\n",
       "    <tr>\n",
       "      <th>10.1103/PhysRev.95.1669</th>\n",
       "      <td>0.000403</td>\n",
       "      <td>0.127787</td>\n",
       "      <td>0.042116</td>\n",
       "      <td>0.000016</td>\n",
       "      <td>0.000102</td>\n",
       "    </tr>\n",
       "    <tr>\n",
       "      <th>10.1103/PhysRev.75.1736</th>\n",
       "      <td>0.000013</td>\n",
       "      <td>0.114590</td>\n",
       "      <td>0.036354</td>\n",
       "      <td>0.000000</td>\n",
       "      <td>0.000045</td>\n",
       "    </tr>\n",
       "  </tbody>\n",
       "</table>\n",
       "</div>"
      ],
      "text/plain": [
       "                             degree     eigen  closeness  betweenness  \\\n",
       "10.1103/PhysRev.83.688     0.000026  0.216720   0.042345     0.000000   \n",
       "10.1103/PhysRev.93.233     0.000023  0.154497   0.043223     0.000000   \n",
       "10.1103/PhysRev.87.693     0.000029  0.152102   0.042732     0.000000   \n",
       "10.1103/PhysRev.87.1100    0.000029  0.151775   0.037266     0.000000   \n",
       "10.1103/PhysRev.88.1142    0.000026  0.147518   0.039551     0.000000   \n",
       "10.1103/PhysRev.90.497     0.000265  0.139797   0.039791     0.000003   \n",
       "10.1103/PhysRev.104.254    0.005920  0.136172   0.051663     0.000016   \n",
       "10.1103/RevModPhys.13.203  0.001504  0.134626   0.070009     0.000031   \n",
       "10.1103/PhysRev.95.1669    0.000403  0.127787   0.042116     0.000016   \n",
       "10.1103/PhysRev.75.1736    0.000013  0.114590   0.036354     0.000000   \n",
       "\n",
       "                           pagerank  \n",
       "10.1103/PhysRev.83.688     0.000035  \n",
       "10.1103/PhysRev.93.233     0.000159  \n",
       "10.1103/PhysRev.87.693     0.000033  \n",
       "10.1103/PhysRev.87.1100    0.000029  \n",
       "10.1103/PhysRev.88.1142    0.000028  \n",
       "10.1103/PhysRev.90.497     0.000071  \n",
       "10.1103/PhysRev.104.254    0.001699  \n",
       "10.1103/RevModPhys.13.203  0.000611  \n",
       "10.1103/PhysRev.95.1669    0.000102  \n",
       "10.1103/PhysRev.75.1736    0.000045  "
      ]
     },
     "execution_count": 11,
     "metadata": {},
     "output_type": "execute_result"
    }
   ],
   "source": [
    "df_metrics.nlargest(10, \"eigen\")"
   ]
  },
  {
   "cell_type": "code",
   "execution_count": 12,
   "metadata": {},
   "outputs": [
    {
     "data": {
      "text/html": [
       "<div>\n",
       "<style scoped>\n",
       "    .dataframe tbody tr th:only-of-type {\n",
       "        vertical-align: middle;\n",
       "    }\n",
       "\n",
       "    .dataframe tbody tr th {\n",
       "        vertical-align: top;\n",
       "    }\n",
       "\n",
       "    .dataframe thead th {\n",
       "        text-align: right;\n",
       "    }\n",
       "</style>\n",
       "<table border=\"1\" class=\"dataframe\">\n",
       "  <thead>\n",
       "    <tr style=\"text-align: right;\">\n",
       "      <th></th>\n",
       "      <th>degree</th>\n",
       "      <th>eigen</th>\n",
       "      <th>closeness</th>\n",
       "      <th>betweenness</th>\n",
       "      <th>pagerank</th>\n",
       "    </tr>\n",
       "  </thead>\n",
       "  <tbody>\n",
       "    <tr>\n",
       "      <th>10.1103/RevModPhys.13.203</th>\n",
       "      <td>0.001504</td>\n",
       "      <td>0.134626</td>\n",
       "      <td>0.070009</td>\n",
       "      <td>0.000031</td>\n",
       "      <td>0.000611</td>\n",
       "    </tr>\n",
       "    <tr>\n",
       "      <th>10.1103/PhysRev.76.790</th>\n",
       "      <td>0.000023</td>\n",
       "      <td>0.109866</td>\n",
       "      <td>0.064020</td>\n",
       "      <td>0.000000</td>\n",
       "      <td>0.000443</td>\n",
       "    </tr>\n",
       "    <tr>\n",
       "      <th>10.1103/PhysRev.109.193</th>\n",
       "      <td>0.006223</td>\n",
       "      <td>0.049664</td>\n",
       "      <td>0.063183</td>\n",
       "      <td>0.000074</td>\n",
       "      <td>0.001911</td>\n",
       "    </tr>\n",
       "    <tr>\n",
       "      <th>10.1103/RevModPhys.8.82</th>\n",
       "      <td>0.000023</td>\n",
       "      <td>0.038946</td>\n",
       "      <td>0.062279</td>\n",
       "      <td>0.000000</td>\n",
       "      <td>0.000595</td>\n",
       "    </tr>\n",
       "    <tr>\n",
       "      <th>10.1016/S0031-8914(40)90099-4</th>\n",
       "      <td>0.000016</td>\n",
       "      <td>0.072516</td>\n",
       "      <td>0.061988</td>\n",
       "      <td>0.000000</td>\n",
       "      <td>0.000408</td>\n",
       "    </tr>\n",
       "    <tr>\n",
       "      <th>10.1103/PhysRev.75.486</th>\n",
       "      <td>0.000016</td>\n",
       "      <td>0.049510</td>\n",
       "      <td>0.061230</td>\n",
       "      <td>0.000000</td>\n",
       "      <td>0.000305</td>\n",
       "    </tr>\n",
       "    <tr>\n",
       "      <th>10.1007/BF01339504</th>\n",
       "      <td>0.003721</td>\n",
       "      <td>0.069550</td>\n",
       "      <td>0.060623</td>\n",
       "      <td>0.000000</td>\n",
       "      <td>0.001081</td>\n",
       "    </tr>\n",
       "    <tr>\n",
       "      <th>10.1016/S0031-8914(39)90090-X</th>\n",
       "      <td>0.001023</td>\n",
       "      <td>0.067188</td>\n",
       "      <td>0.060182</td>\n",
       "      <td>0.000009</td>\n",
       "      <td>0.000424</td>\n",
       "    </tr>\n",
       "    <tr>\n",
       "      <th>10.1038/143201a0</th>\n",
       "      <td>0.000006</td>\n",
       "      <td>0.099708</td>\n",
       "      <td>0.059525</td>\n",
       "      <td>0.000000</td>\n",
       "      <td>0.000071</td>\n",
       "    </tr>\n",
       "    <tr>\n",
       "      <th>10.1016/S0031-8914(39)90089-3</th>\n",
       "      <td>0.000010</td>\n",
       "      <td>0.067187</td>\n",
       "      <td>0.059116</td>\n",
       "      <td>0.000000</td>\n",
       "      <td>0.000090</td>\n",
       "    </tr>\n",
       "  </tbody>\n",
       "</table>\n",
       "</div>"
      ],
      "text/plain": [
       "                                 degree     eigen  closeness  betweenness  \\\n",
       "10.1103/RevModPhys.13.203      0.001504  0.134626   0.070009     0.000031   \n",
       "10.1103/PhysRev.76.790         0.000023  0.109866   0.064020     0.000000   \n",
       "10.1103/PhysRev.109.193        0.006223  0.049664   0.063183     0.000074   \n",
       "10.1103/RevModPhys.8.82        0.000023  0.038946   0.062279     0.000000   \n",
       "10.1016/S0031-8914(40)90099-4  0.000016  0.072516   0.061988     0.000000   \n",
       "10.1103/PhysRev.75.486         0.000016  0.049510   0.061230     0.000000   \n",
       "10.1007/BF01339504             0.003721  0.069550   0.060623     0.000000   \n",
       "10.1016/S0031-8914(39)90090-X  0.001023  0.067188   0.060182     0.000009   \n",
       "10.1038/143201a0               0.000006  0.099708   0.059525     0.000000   \n",
       "10.1016/S0031-8914(39)90089-3  0.000010  0.067187   0.059116     0.000000   \n",
       "\n",
       "                               pagerank  \n",
       "10.1103/RevModPhys.13.203      0.000611  \n",
       "10.1103/PhysRev.76.790         0.000443  \n",
       "10.1103/PhysRev.109.193        0.001911  \n",
       "10.1103/RevModPhys.8.82        0.000595  \n",
       "10.1016/S0031-8914(40)90099-4  0.000408  \n",
       "10.1103/PhysRev.75.486         0.000305  \n",
       "10.1007/BF01339504             0.001081  \n",
       "10.1016/S0031-8914(39)90090-X  0.000424  \n",
       "10.1038/143201a0               0.000071  \n",
       "10.1016/S0031-8914(39)90089-3  0.000090  "
      ]
     },
     "execution_count": 12,
     "metadata": {},
     "output_type": "execute_result"
    }
   ],
   "source": [
    "df_metrics.nlargest(10, \"closeness\")"
   ]
  },
  {
   "cell_type": "code",
   "execution_count": 13,
   "metadata": {},
   "outputs": [
    {
     "data": {
      "text/html": [
       "<div>\n",
       "<style scoped>\n",
       "    .dataframe tbody tr th:only-of-type {\n",
       "        vertical-align: middle;\n",
       "    }\n",
       "\n",
       "    .dataframe tbody tr th {\n",
       "        vertical-align: top;\n",
       "    }\n",
       "\n",
       "    .dataframe thead th {\n",
       "        text-align: right;\n",
       "    }\n",
       "</style>\n",
       "<table border=\"1\" class=\"dataframe\">\n",
       "  <thead>\n",
       "    <tr style=\"text-align: right;\">\n",
       "      <th></th>\n",
       "      <th>degree</th>\n",
       "      <th>eigen</th>\n",
       "      <th>closeness</th>\n",
       "      <th>betweenness</th>\n",
       "      <th>pagerank</th>\n",
       "    </tr>\n",
       "  </thead>\n",
       "  <tbody>\n",
       "    <tr>\n",
       "      <th>10.1016/0370-2693(71)90665-4</th>\n",
       "      <td>0.000817</td>\n",
       "      <td>5.517147e-04</td>\n",
       "      <td>0.032316</td>\n",
       "      <td>0.000290</td>\n",
       "      <td>0.000150</td>\n",
       "    </tr>\n",
       "    <tr>\n",
       "      <th>10.1002/prop.19610091102</th>\n",
       "      <td>0.001194</td>\n",
       "      <td>7.558833e-04</td>\n",
       "      <td>0.025299</td>\n",
       "      <td>0.000286</td>\n",
       "      <td>0.000053</td>\n",
       "    </tr>\n",
       "    <tr>\n",
       "      <th>10.1016/S0370-1573(87)80002-9</th>\n",
       "      <td>0.007572</td>\n",
       "      <td>1.473134e-08</td>\n",
       "      <td>0.017955</td>\n",
       "      <td>0.000272</td>\n",
       "      <td>0.001692</td>\n",
       "    </tr>\n",
       "    <tr>\n",
       "      <th>10.1016/0550-3213(69)90216-8</th>\n",
       "      <td>0.000010</td>\n",
       "      <td>3.029627e-04</td>\n",
       "      <td>0.027460</td>\n",
       "      <td>0.000237</td>\n",
       "      <td>0.000006</td>\n",
       "    </tr>\n",
       "    <tr>\n",
       "      <th>10.1016/0550-3213(79)90023-3</th>\n",
       "      <td>0.006881</td>\n",
       "      <td>2.890644e-03</td>\n",
       "      <td>0.024697</td>\n",
       "      <td>0.000223</td>\n",
       "      <td>0.001117</td>\n",
       "    </tr>\n",
       "    <tr>\n",
       "      <th>10.1103/RevModPhys.44.284</th>\n",
       "      <td>0.001052</td>\n",
       "      <td>5.418362e-04</td>\n",
       "      <td>0.016370</td>\n",
       "      <td>0.000221</td>\n",
       "      <td>0.000137</td>\n",
       "    </tr>\n",
       "    <tr>\n",
       "      <th>10.1007/BF02728133</th>\n",
       "      <td>0.002524</td>\n",
       "      <td>2.167925e-03</td>\n",
       "      <td>0.022490</td>\n",
       "      <td>0.000208</td>\n",
       "      <td>0.000668</td>\n",
       "    </tr>\n",
       "    <tr>\n",
       "      <th>10.1016/0370-2693(72)90420-0</th>\n",
       "      <td>0.000804</td>\n",
       "      <td>6.623604e-04</td>\n",
       "      <td>0.033980</td>\n",
       "      <td>0.000205</td>\n",
       "      <td>0.000320</td>\n",
       "    </tr>\n",
       "    <tr>\n",
       "      <th>10.1016/0550-3213(72)90190-3</th>\n",
       "      <td>0.000010</td>\n",
       "      <td>1.083870e-03</td>\n",
       "      <td>0.018439</td>\n",
       "      <td>0.000200</td>\n",
       "      <td>0.000118</td>\n",
       "    </tr>\n",
       "    <tr>\n",
       "      <th>10.1016/0370-1573(81)90059-4</th>\n",
       "      <td>0.004864</td>\n",
       "      <td>4.025980e-09</td>\n",
       "      <td>0.011487</td>\n",
       "      <td>0.000184</td>\n",
       "      <td>0.000915</td>\n",
       "    </tr>\n",
       "  </tbody>\n",
       "</table>\n",
       "</div>"
      ],
      "text/plain": [
       "                                 degree         eigen  closeness  betweenness  \\\n",
       "10.1016/0370-2693(71)90665-4   0.000817  5.517147e-04   0.032316     0.000290   \n",
       "10.1002/prop.19610091102       0.001194  7.558833e-04   0.025299     0.000286   \n",
       "10.1016/S0370-1573(87)80002-9  0.007572  1.473134e-08   0.017955     0.000272   \n",
       "10.1016/0550-3213(69)90216-8   0.000010  3.029627e-04   0.027460     0.000237   \n",
       "10.1016/0550-3213(79)90023-3   0.006881  2.890644e-03   0.024697     0.000223   \n",
       "10.1103/RevModPhys.44.284      0.001052  5.418362e-04   0.016370     0.000221   \n",
       "10.1007/BF02728133             0.002524  2.167925e-03   0.022490     0.000208   \n",
       "10.1016/0370-2693(72)90420-0   0.000804  6.623604e-04   0.033980     0.000205   \n",
       "10.1016/0550-3213(72)90190-3   0.000010  1.083870e-03   0.018439     0.000200   \n",
       "10.1016/0370-1573(81)90059-4   0.004864  4.025980e-09   0.011487     0.000184   \n",
       "\n",
       "                               pagerank  \n",
       "10.1016/0370-2693(71)90665-4   0.000150  \n",
       "10.1002/prop.19610091102       0.000053  \n",
       "10.1016/S0370-1573(87)80002-9  0.001692  \n",
       "10.1016/0550-3213(69)90216-8   0.000006  \n",
       "10.1016/0550-3213(79)90023-3   0.001117  \n",
       "10.1103/RevModPhys.44.284      0.000137  \n",
       "10.1007/BF02728133             0.000668  \n",
       "10.1016/0370-2693(72)90420-0   0.000320  \n",
       "10.1016/0550-3213(72)90190-3   0.000118  \n",
       "10.1016/0370-1573(81)90059-4   0.000915  "
      ]
     },
     "execution_count": 13,
     "metadata": {},
     "output_type": "execute_result"
    }
   ],
   "source": [
    "df_metrics.nlargest(10, \"betweenness\")"
   ]
  },
  {
   "cell_type": "code",
   "execution_count": 14,
   "metadata": {},
   "outputs": [
    {
     "data": {
      "text/html": [
       "<div>\n",
       "<style scoped>\n",
       "    .dataframe tbody tr th:only-of-type {\n",
       "        vertical-align: middle;\n",
       "    }\n",
       "\n",
       "    .dataframe tbody tr th {\n",
       "        vertical-align: top;\n",
       "    }\n",
       "\n",
       "    .dataframe thead th {\n",
       "        text-align: right;\n",
       "    }\n",
       "</style>\n",
       "<table border=\"1\" class=\"dataframe\">\n",
       "  <thead>\n",
       "    <tr style=\"text-align: right;\">\n",
       "      <th></th>\n",
       "      <th>degree</th>\n",
       "      <th>eigen</th>\n",
       "      <th>closeness</th>\n",
       "      <th>betweenness</th>\n",
       "      <th>pagerank</th>\n",
       "    </tr>\n",
       "  </thead>\n",
       "  <tbody>\n",
       "    <tr>\n",
       "      <th>10.1017/CBO9780511524646</th>\n",
       "      <td>0.018530</td>\n",
       "      <td>5.301566e-22</td>\n",
       "      <td>0.016578</td>\n",
       "      <td>0.000000e+00</td>\n",
       "      <td>0.005365</td>\n",
       "    </tr>\n",
       "    <tr>\n",
       "      <th>10.1103/PhysRev.93.99</th>\n",
       "      <td>0.018427</td>\n",
       "      <td>8.474252e-04</td>\n",
       "      <td>0.026207</td>\n",
       "      <td>3.522018e-06</td>\n",
       "      <td>0.005208</td>\n",
       "    </tr>\n",
       "    <tr>\n",
       "      <th>10.1103/RevModPhys.57.287</th>\n",
       "      <td>0.018175</td>\n",
       "      <td>1.696595e-14</td>\n",
       "      <td>0.014253</td>\n",
       "      <td>5.865808e-05</td>\n",
       "      <td>0.004879</td>\n",
       "    </tr>\n",
       "    <tr>\n",
       "      <th>10.1103/PhysRev.115.485</th>\n",
       "      <td>0.017426</td>\n",
       "      <td>1.172719e-02</td>\n",
       "      <td>0.046483</td>\n",
       "      <td>5.679642e-06</td>\n",
       "      <td>0.004692</td>\n",
       "    </tr>\n",
       "    <tr>\n",
       "      <th>10.1103/PhysRev.131.2766</th>\n",
       "      <td>0.018030</td>\n",
       "      <td>1.267654e-03</td>\n",
       "      <td>0.027930</td>\n",
       "      <td>7.359271e-06</td>\n",
       "      <td>0.004439</td>\n",
       "    </tr>\n",
       "    <tr>\n",
       "      <th>10.1016/0370-2693(75)90162-8</th>\n",
       "      <td>0.000026</td>\n",
       "      <td>1.681489e-02</td>\n",
       "      <td>0.033549</td>\n",
       "      <td>0.000000e+00</td>\n",
       "      <td>0.003271</td>\n",
       "    </tr>\n",
       "    <tr>\n",
       "      <th>10.1143/JJAP.27.L209</th>\n",
       "      <td>0.010771</td>\n",
       "      <td>8.102113e-26</td>\n",
       "      <td>0.008158</td>\n",
       "      <td>2.996363e-06</td>\n",
       "      <td>0.003158</td>\n",
       "    </tr>\n",
       "    <tr>\n",
       "      <th>10.1016/0370-2693(75)90163-X</th>\n",
       "      <td>0.007504</td>\n",
       "      <td>2.132962e-02</td>\n",
       "      <td>0.041031</td>\n",
       "      <td>1.593069e-07</td>\n",
       "      <td>0.002855</td>\n",
       "    </tr>\n",
       "    <tr>\n",
       "      <th>10.1088/0022-3719/4/14/022</th>\n",
       "      <td>0.010048</td>\n",
       "      <td>2.498750e-25</td>\n",
       "      <td>0.008344</td>\n",
       "      <td>4.143266e-06</td>\n",
       "      <td>0.002795</td>\n",
       "    </tr>\n",
       "    <tr>\n",
       "      <th>10.1103/PhysRev.130.2529</th>\n",
       "      <td>0.010367</td>\n",
       "      <td>1.902232e-03</td>\n",
       "      <td>0.028841</td>\n",
       "      <td>4.395669e-06</td>\n",
       "      <td>0.002767</td>\n",
       "    </tr>\n",
       "  </tbody>\n",
       "</table>\n",
       "</div>"
      ],
      "text/plain": [
       "                                degree         eigen  closeness   betweenness  \\\n",
       "10.1017/CBO9780511524646      0.018530  5.301566e-22   0.016578  0.000000e+00   \n",
       "10.1103/PhysRev.93.99         0.018427  8.474252e-04   0.026207  3.522018e-06   \n",
       "10.1103/RevModPhys.57.287     0.018175  1.696595e-14   0.014253  5.865808e-05   \n",
       "10.1103/PhysRev.115.485       0.017426  1.172719e-02   0.046483  5.679642e-06   \n",
       "10.1103/PhysRev.131.2766      0.018030  1.267654e-03   0.027930  7.359271e-06   \n",
       "10.1016/0370-2693(75)90162-8  0.000026  1.681489e-02   0.033549  0.000000e+00   \n",
       "10.1143/JJAP.27.L209          0.010771  8.102113e-26   0.008158  2.996363e-06   \n",
       "10.1016/0370-2693(75)90163-X  0.007504  2.132962e-02   0.041031  1.593069e-07   \n",
       "10.1088/0022-3719/4/14/022    0.010048  2.498750e-25   0.008344  4.143266e-06   \n",
       "10.1103/PhysRev.130.2529      0.010367  1.902232e-03   0.028841  4.395669e-06   \n",
       "\n",
       "                              pagerank  \n",
       "10.1017/CBO9780511524646      0.005365  \n",
       "10.1103/PhysRev.93.99         0.005208  \n",
       "10.1103/RevModPhys.57.287     0.004879  \n",
       "10.1103/PhysRev.115.485       0.004692  \n",
       "10.1103/PhysRev.131.2766      0.004439  \n",
       "10.1016/0370-2693(75)90162-8  0.003271  \n",
       "10.1143/JJAP.27.L209          0.003158  \n",
       "10.1016/0370-2693(75)90163-X  0.002855  \n",
       "10.1088/0022-3719/4/14/022    0.002795  \n",
       "10.1103/PhysRev.130.2529      0.002767  "
      ]
     },
     "execution_count": 14,
     "metadata": {},
     "output_type": "execute_result"
    }
   ],
   "source": [
    "df_metrics.nlargest(10, \"pagerank\")"
   ]
  },
  {
   "cell_type": "code",
   "execution_count": 16,
   "metadata": {},
   "outputs": [],
   "source": [
    "jinr_subdf = df_metrics[df_metrics.index.isin(samp['doi'])]"
   ]
  },
  {
   "cell_type": "code",
   "execution_count": 17,
   "metadata": {},
   "outputs": [],
   "source": [
    "jinr_100best_degree = jinr_subdf.nlargest(100, \"degree\")[\"degree\"]"
   ]
  },
  {
   "cell_type": "code",
   "execution_count": 18,
   "metadata": {},
   "outputs": [],
   "source": [
    "jinr_100best_closeness = jinr_subdf.nlargest(100, \"closeness\")[\"closeness\"]"
   ]
  },
  {
   "cell_type": "code",
   "execution_count": 19,
   "metadata": {},
   "outputs": [],
   "source": [
    "jinr_100best_pagerank = jinr_subdf.nlargest(100, \"pagerank\")[\"pagerank\"]"
   ]
  },
  {
   "cell_type": "code",
   "execution_count": 20,
   "metadata": {},
   "outputs": [],
   "source": [
    "jinr_100best_eigen = jinr_subdf.nlargest(100, \"eigen\")[\"eigen\"]"
   ]
  },
  {
   "cell_type": "code",
   "execution_count": 22,
   "metadata": {},
   "outputs": [
    {
     "data": {
      "text/plain": [
       "pandas.core.series.Series"
      ]
     },
     "execution_count": 22,
     "metadata": {},
     "output_type": "execute_result"
    }
   ],
   "source": [
    "type(jinr_100best_closeness)"
   ]
  },
  {
   "cell_type": "code",
   "execution_count": 31,
   "metadata": {},
   "outputs": [
    {
     "name": "stdout",
     "output_type": "stream",
     "text": [
      "top100|Degree ∩ Closeness| = 76\n",
      "top100|Degree ∩ Pagerank| = 64\n",
      "top100|Degree ∩ Eigen| = 70\n"
     ]
    }
   ],
   "source": [
    "degree_close = jinr_100best_degree.index.intersection(jinr_100best_closeness.index)\n",
    "degree_eigen = jinr_100best_degree.index.intersection(jinr_100best_eigen.index)\n",
    "degree_pagerank = jinr_100best_degree.index.intersection(jinr_100best_pagerank.index)\n",
    "print(f\"top100|Degree \\u2229 Closeness| = {len(degree_close)}\")\n",
    "print(f\"top100|Degree \\u2229 Pagerank| = {len(degree_pagerank)}\")\n",
    "print(f\"top100|Degree \\u2229 Eigen| = {len(degree_eigen)}\")"
   ]
  },
  {
   "cell_type": "code",
   "execution_count": 32,
   "metadata": {},
   "outputs": [
    {
     "name": "stdout",
     "output_type": "stream",
     "text": [
      "top100|Closeness ∩ Pagerank| = 73\n",
      "top100|Closeness ∩ Eigen| =  88\n",
      "top100|Pagerank ∩ Eigen| =  66\n"
     ]
    }
   ],
   "source": [
    "close_page = jinr_100best_closeness.index.intersection(jinr_100best_pagerank.index)\n",
    "close_eigen = jinr_100best_closeness.index.intersection(jinr_100best_eigen.index)\n",
    "page_eigen = jinr_100best_pagerank.index.intersection(jinr_100best_eigen.index)\n",
    "print(f\"top100|Closeness \\u2229 Pagerank| = {len(close_page)}\")\n",
    "print(f\"top100|Closeness \\u2229 Eigen| =  {len(close_eigen)}\")\n",
    "print(f\"top100|Pagerank \\u2229 Eigen| =  {len(page_eigen)}\")"
   ]
  },
  {
   "cell_type": "code",
   "execution_count": 33,
   "metadata": {},
   "outputs": [
    {
     "name": "stdout",
     "output_type": "stream",
     "text": [
      "top100|Closeness ∩ Pagerank ∩ Degree ∩ Eigen| = 56\n"
     ]
    }
   ],
   "source": [
    "all_inter = jinr_100best_degree.index.intersection(\n",
    "    jinr_100best_closeness.index\n",
    "    ).intersection(\n",
    "        jinr_100best_eigen.index\n",
    "        ).intersection(\n",
    "            jinr_100best_pagerank.index)\n",
    "print(f\"top100|Closeness \\u2229 Pagerank \\u2229 Degree \\u2229 Eigen| = {len(all_inter)}\")"
   ]
  },
  {
   "cell_type": "markdown",
   "metadata": {},
   "source": [
    "На этом этапе стоит разобраться в корректности аггрегирования метрик для получения одной более интуитивной и уникальной оценки вершины"
   ]
  },
  {
   "cell_type": "code",
   "execution_count": 6,
   "metadata": {},
   "outputs": [],
   "source": [
    "def agg_centralities():\n",
    "    pass"
   ]
  },
  {
   "cell_type": "markdown",
   "metadata": {},
   "source": [
    "Время визуализации. Постараемся нарисовать как можно более понятный рисунок, используя кластеризация и без неё"
   ]
  }
 ],
 "metadata": {
  "kernelspec": {
   "display_name": "jup",
   "language": "python",
   "name": "python3"
  },
  "language_info": {
   "codemirror_mode": {
    "name": "ipython",
    "version": 3
   },
   "file_extension": ".py",
   "mimetype": "text/x-python",
   "name": "python",
   "nbconvert_exporter": "python",
   "pygments_lexer": "ipython3",
   "version": "3.12.3"
  }
 },
 "nbformat": 4,
 "nbformat_minor": 2
}
