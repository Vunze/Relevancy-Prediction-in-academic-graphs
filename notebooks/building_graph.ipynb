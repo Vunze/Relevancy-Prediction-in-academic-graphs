{
 "cells": [
  {
   "cell_type": "code",
   "execution_count": 10,
   "metadata": {},
   "outputs": [],
   "source": [
    "import pandas as pd\n",
    "import networkx as nx\n",
    "from helpers import get_refs_and_cites, deduplicate_edges\n",
    "from tqdm import tqdm\n",
    "from IPython.display import clear_output\n",
    "from habanero import Crossref\n",
    "import pickle"
   ]
  },
  {
   "cell_type": "markdown",
   "metadata": {},
   "source": [
    "Теперь давайте сделаем граф. На этом этапе я решил не делить данные по годам, поскольку пока мы не изучаем динамику и данных в принципе немного.\n",
    "\n",
    "Для этого я воспользуюсь библиотекой networkx. "
   ]
  },
  {
   "cell_type": "code",
   "execution_count": 2,
   "metadata": {},
   "outputs": [],
   "source": [
    "cr = Crossref()\n",
    "def recursive_edges(base_doi: str, edges: list, doi: str = \"\", depth = 3, curr_depth = 3):\n",
    "    \"\"\"\n",
    "    Build the citation graph, starting from doi, with depth.\n",
    "    Need to deduplicate edges after.\n",
    "    Hoping that fixing the depth to 5 would yield a single connected component for multiple starting dois\n",
    "    \"\"\"\n",
    "    if curr_depth == 0:\n",
    "        return\n",
    "    # time.sleep(0.5)\n",
    "    d = doi if len(doi) else base_doi\n",
    "    try:\n",
    "        refs, cites = get_refs_and_cites(d, cr)\n",
    "    except Exception as e:\n",
    "        print(e)\n",
    "        print(type(e))\n",
    "    refs_edges = zip([d] * len(refs), refs)\n",
    "    cites_edges = zip(cites, [d] * len(cites))\n",
    "    edges.extend(refs_edges)\n",
    "    edges.extend(cites_edges)\n",
    "    for ref in refs:\n",
    "        recursive_edges(base_doi, edges, ref, depth, curr_depth-1)\n",
    "    if curr_depth < depth:\n",
    "        for cite in cites:\n",
    "            if cite != base_doi:\n",
    "                recursive_edges(base_doi, edges, cite, depth, curr_depth-1)"
   ]
  },
  {
   "cell_type": "code",
   "execution_count": 3,
   "metadata": {},
   "outputs": [],
   "source": [
    "def build_graph(g: nx.DiGraph, df: pd.DataFrame, depth: int = 5):\n",
    "    \"\"\"\n",
    "    g - base graph.\n",
    "    df - DataFrame, containing dois of publications\n",
    "    Algo: With a fixed depth iterate over all publications within a cluster, gathering citations and references.\n",
    "        From that, get a list of these connections in the form of edges. Then deduplicate and add them to the graph.\n",
    "    \"\"\"\n",
    "    for ind, row in tqdm(df.iterrows()):\n",
    "        edges = []\n",
    "        recursive_edges(row[\"doi\"], edges, depth=depth, curr_depth=depth)\n",
    "        edges = deduplicate_edges(edges)\n",
    "        g.add_edges_from(edges)\n",
    "    "
   ]
  },
  {
   "cell_type": "code",
   "execution_count": 40,
   "metadata": {},
   "outputs": [],
   "source": [
    "pubs = pd.read_csv(\"../data/clean_pubs.csv\")"
   ]
  },
  {
   "cell_type": "markdown",
   "metadata": {},
   "source": [
    "Перед тем как пытаться собрать данные в одну связную компоненту путем рекурсивного поиска цитирований, я собираюсь кластеризовать наши данные, чтобы немного ускорить процесс поиска"
   ]
  },
  {
   "cell_type": "code",
   "execution_count": 41,
   "metadata": {},
   "outputs": [
    {
     "name": "stderr",
     "output_type": "stream",
     "text": [
      "[nltk_data] Downloading package punkt_tab to /home/vunz/nltk_data...\n",
      "[nltk_data]   Package punkt_tab is already up-to-date!\n",
      "[nltk_data] Downloading package stopwords to /home/vunz/nltk_data...\n",
      "[nltk_data]   Package stopwords is already up-to-date!\n"
     ]
    }
   ],
   "source": [
    "import nltk\n",
    "from nltk.corpus import stopwords\n",
    "from nltk.stem import PorterStemmer\n",
    "from sklearn.feature_extraction.text import TfidfVectorizer\n",
    "\n",
    "# Download NLTK resources (if not already downloaded)\n",
    "nltk.download('punkt_tab')\n",
    "nltk.download('stopwords')\n",
    "\n",
    "# Initialize stemmer and stop words\n",
    "stemmer = PorterStemmer()\n",
    "stop_words = set(stopwords.words('english'))\n",
    "\n",
    "def preprocess_text(text):\n",
    "    # Tokenize and remove stop words\n",
    "    tokens = nltk.word_tokenize(text.lower())\n",
    "    tokens = [stemmer.stem(word) for word in tokens if word.isalnum() and word not in stop_words]\n",
    "    return ' '.join(tokens)\n",
    "\n",
    "# Apply preprocessing to the abstracts\n",
    "pubs['processed_abstract'] = pubs['abstract'].apply(preprocess_text)\n"
   ]
  },
  {
   "cell_type": "code",
   "execution_count": 42,
   "metadata": {},
   "outputs": [],
   "source": [
    "# Initialize TF-IDF Vectorizer\n",
    "vectorizer = TfidfVectorizer()\n",
    "\n",
    "# Fit and transform the processed abstracts\n",
    "tfidf_matrix = vectorizer.fit_transform(pubs['processed_abstract'])"
   ]
  },
  {
   "cell_type": "code",
   "execution_count": 43,
   "metadata": {},
   "outputs": [],
   "source": [
    "from sklearn.cluster import KMeans\n",
    "\n",
    "# Set the number of clusters (you may want to experiment with this value)\n",
    "num_clusters = 5\n",
    "kmeans = KMeans(n_clusters=num_clusters, random_state=42)\n",
    "\n",
    "# Fit K-Means on the TF-IDF matrix\n",
    "kmeans.fit(tfidf_matrix)\n",
    "\n",
    "# Assign cluster labels to each publication in the DataFrame\n",
    "pubs['cluster'] = kmeans.labels_"
   ]
  },
  {
   "cell_type": "code",
   "execution_count": 44,
   "metadata": {},
   "outputs": [
    {
     "data": {
      "text/html": [
       "<div>\n",
       "<style scoped>\n",
       "    .dataframe tbody tr th:only-of-type {\n",
       "        vertical-align: middle;\n",
       "    }\n",
       "\n",
       "    .dataframe tbody tr th {\n",
       "        vertical-align: top;\n",
       "    }\n",
       "\n",
       "    .dataframe thead th {\n",
       "        text-align: right;\n",
       "    }\n",
       "</style>\n",
       "<table border=\"1\" class=\"dataframe\">\n",
       "  <thead>\n",
       "    <tr style=\"text-align: right;\">\n",
       "      <th></th>\n",
       "      <th>count</th>\n",
       "    </tr>\n",
       "    <tr>\n",
       "      <th>cluster</th>\n",
       "      <th></th>\n",
       "    </tr>\n",
       "  </thead>\n",
       "  <tbody>\n",
       "    <tr>\n",
       "      <th>0</th>\n",
       "      <td>1548</td>\n",
       "    </tr>\n",
       "    <tr>\n",
       "      <th>1</th>\n",
       "      <td>5023</td>\n",
       "    </tr>\n",
       "    <tr>\n",
       "      <th>2</th>\n",
       "      <td>14465</td>\n",
       "    </tr>\n",
       "    <tr>\n",
       "      <th>3</th>\n",
       "      <td>24885</td>\n",
       "    </tr>\n",
       "    <tr>\n",
       "      <th>4</th>\n",
       "      <td>18425</td>\n",
       "    </tr>\n",
       "  </tbody>\n",
       "</table>\n",
       "</div>"
      ],
      "text/plain": [
       "         count\n",
       "cluster       \n",
       "0         1548\n",
       "1         5023\n",
       "2        14465\n",
       "3        24885\n",
       "4        18425"
      ]
     },
     "execution_count": 44,
     "metadata": {},
     "output_type": "execute_result"
    }
   ],
   "source": [
    "pubs.groupby(by=\"cluster\").count()[[\"doi\"]].rename({\"doi\":\"count\"},axis=1)"
   ]
  },
  {
   "cell_type": "code",
   "execution_count": 45,
   "metadata": {},
   "outputs": [
    {
     "data": {
      "text/html": [
       "<div>\n",
       "<style scoped>\n",
       "    .dataframe tbody tr th:only-of-type {\n",
       "        vertical-align: middle;\n",
       "    }\n",
       "\n",
       "    .dataframe tbody tr th {\n",
       "        vertical-align: top;\n",
       "    }\n",
       "\n",
       "    .dataframe thead th {\n",
       "        text-align: right;\n",
       "    }\n",
       "</style>\n",
       "<table border=\"1\" class=\"dataframe\">\n",
       "  <thead>\n",
       "    <tr style=\"text-align: right;\">\n",
       "      <th></th>\n",
       "      <th>Unnamed: 0</th>\n",
       "      <th>title</th>\n",
       "      <th>doi</th>\n",
       "      <th>year</th>\n",
       "      <th>abstract</th>\n",
       "      <th>keywords</th>\n",
       "      <th>refs</th>\n",
       "      <th>authors</th>\n",
       "      <th>processed_abstract</th>\n",
       "      <th>cluster</th>\n",
       "    </tr>\n",
       "  </thead>\n",
       "  <tbody>\n",
       "    <tr>\n",
       "      <th>0</th>\n",
       "      <td>0</td>\n",
       "      <td>Studies of Zγ production in association with a...</td>\n",
       "      <td>10.1007/JHEP07(2017)107</td>\n",
       "      <td>2017</td>\n",
       "      <td>The production of a Z boson and a photon in as...</td>\n",
       "      <td>(\"'Electroweak interaction'\", \" 'Hadron-Hadron...</td>\n",
       "      <td>('Eboli O.J.P., Gonzalez-Garcia M.C., Lietti S...</td>\n",
       "      <td>(\"'Ahmadov F.'\", \" 'Aleksandrov I.N.'\", \" 'Bed...</td>\n",
       "      <td>product z boson photon associ dijet system stu...</td>\n",
       "      <td>1</td>\n",
       "    </tr>\n",
       "    <tr>\n",
       "      <th>1</th>\n",
       "      <td>1</td>\n",
       "      <td>Towards the detection of light and heavy relic...</td>\n",
       "      <td>10.1016/j.ppnp.2011.01.050</td>\n",
       "      <td>2011</td>\n",
       "      <td>The standard Big Bang cosmology predicts that ...</td>\n",
       "      <td>(\"'Neutrino capture'\", \" 'Relic neutrinos'\", \"...</td>\n",
       "      <td>('Giunti C., Kim C.W., Fundamentals of Neutrin...</td>\n",
       "      <td>(\"'Šimkovic F.'\",)</td>\n",
       "      <td>standard big bang cosmolog predict univers abu...</td>\n",
       "      <td>3</td>\n",
       "    </tr>\n",
       "    <tr>\n",
       "      <th>2</th>\n",
       "      <td>3</td>\n",
       "      <td>Measurement of the underlying event in jet eve...</td>\n",
       "      <td>10.1140/epjc/s10052-014-2965-5</td>\n",
       "      <td>2014</td>\n",
       "      <td>Distributions sensitive to the underlying even...</td>\n",
       "      <td>('',)</td>\n",
       "      <td>('The underlying event in hard interactions at...</td>\n",
       "      <td>(\"'Ahmadov F.'\", \" 'Aleksandrov I.N.'\", \" 'Bed...</td>\n",
       "      <td>distribut sensit underli event qcd jet event m...</td>\n",
       "      <td>2</td>\n",
       "    </tr>\n",
       "    <tr>\n",
       "      <th>3</th>\n",
       "      <td>4</td>\n",
       "      <td>Bubble and kink solitons in the φ6-model of no...</td>\n",
       "      <td>10.1016/0375-9601(93)91074-F</td>\n",
       "      <td>1993</td>\n",
       "      <td>We have studied the φ6-model in the parameter ...</td>\n",
       "      <td>('',)</td>\n",
       "      <td>('Kosevich, Et al., Sov. J. Low Temp. Phys., 2...</td>\n",
       "      <td>(\"'Agüero Granados M.A.'\",)</td>\n",
       "      <td>studi paramet domain 1 relev paramet model cas...</td>\n",
       "      <td>4</td>\n",
       "    </tr>\n",
       "    <tr>\n",
       "      <th>4</th>\n",
       "      <td>5</td>\n",
       "      <td>Standard complex for quantum lie algebras</td>\n",
       "      <td>10.1134/1.1432906</td>\n",
       "      <td>2001</td>\n",
       "      <td>For a quantum Lie algebra Γ, let Γ∧ be its ext...</td>\n",
       "      <td>('',)</td>\n",
       "      <td>('Woronowicz S.L., Publ. RIMS Kyoto, 23, (1987...</td>\n",
       "      <td>(\"'Burdik C.'\", \" 'Isaev A.P.'\", \" 'Ogievetsky...</td>\n",
       "      <td>quantum lie algebra γ let exterior extens alge...</td>\n",
       "      <td>4</td>\n",
       "    </tr>\n",
       "    <tr>\n",
       "      <th>...</th>\n",
       "      <td>...</td>\n",
       "      <td>...</td>\n",
       "      <td>...</td>\n",
       "      <td>...</td>\n",
       "      <td>...</td>\n",
       "      <td>...</td>\n",
       "      <td>...</td>\n",
       "      <td>...</td>\n",
       "      <td>...</td>\n",
       "      <td>...</td>\n",
       "    </tr>\n",
       "    <tr>\n",
       "      <th>64341</th>\n",
       "      <td>72011</td>\n",
       "      <td>Molecular markers development for studying of ...</td>\n",
       "      <td>10.1063/5.0063872</td>\n",
       "      <td>2021</td>\n",
       "      <td>['Here we report about molecular genetic marke...</td>\n",
       "      <td>('',)</td>\n",
       "      <td>('Philippe H., Et al., Phylogenomics Revives T...</td>\n",
       "      <td>(\"'Yakhnenko A.'\", \" 'Yushin N.'\", \" 'Zinicovs...</td>\n",
       "      <td>report molecular genet marker develop primer p...</td>\n",
       "      <td>3</td>\n",
       "    </tr>\n",
       "    <tr>\n",
       "      <th>64342</th>\n",
       "      <td>72012</td>\n",
       "      <td>Measurement of the anomalous precession freque...</td>\n",
       "      <td>10.1103/PhysRevD.103.072002</td>\n",
       "      <td>2021</td>\n",
       "      <td>['The Muon g-2 Experiment at Fermi National Ac...</td>\n",
       "      <td>('',)</td>\n",
       "      <td>('Abi B., Letter companion, Measurement of the...</td>\n",
       "      <td>(\"'Baranov V.A.'\", \" 'Duginov V.N.'\", \" 'Khomu...</td>\n",
       "      <td>muon experi fermi nation acceler laboratori fn...</td>\n",
       "      <td>2</td>\n",
       "    </tr>\n",
       "    <tr>\n",
       "      <th>64343</th>\n",
       "      <td>72013</td>\n",
       "      <td>ATLAS results on quarkonia and heavy flavor pr...</td>\n",
       "      <td>10.1142/S0217751X20440030</td>\n",
       "      <td>2020</td>\n",
       "      <td>['The associated production a vector boson wit...</td>\n",
       "      <td>(\"'associated production'\", \" 'atlas'\", \" 'hea...</td>\n",
       "      <td>('J. Instrum, 3, (2008)', 'J. High Energy Phys...</td>\n",
       "      <td>(\"'Lyubushkina T.'\",)</td>\n",
       "      <td>associ product vector boson key observ underst...</td>\n",
       "      <td>2</td>\n",
       "    </tr>\n",
       "    <tr>\n",
       "      <th>64344</th>\n",
       "      <td>72014</td>\n",
       "      <td>Analytical study of light bullets stabilizatio...</td>\n",
       "      <td>10.1016/j.chaos.2022.111799</td>\n",
       "      <td>2022</td>\n",
       "      <td>[\"Dynamics of light bullets in the Raman activ...</td>\n",
       "      <td>(\"'diffraction'\", \" 'light bullet'\", \" 'lyapun...</td>\n",
       "      <td>('Couairon A., Mysyrowicz A., Femtosecond fila...</td>\n",
       "      <td>(\"'Bugay A.N.'\", \" 'Khalyapin V.A.'\")</td>\n",
       "      <td>dynam light bullet raman activ ioniz medium an...</td>\n",
       "      <td>4</td>\n",
       "    </tr>\n",
       "    <tr>\n",
       "      <th>64345</th>\n",
       "      <td>72015</td>\n",
       "      <td>Production of Hyperons, Strange Mesons and Sea...</td>\n",
       "      <td>10.1134/S1063779621040304</td>\n",
       "      <td>2021</td>\n",
       "      <td>['Abstract: The BM@N (Baryonic Matter at Nuclo...</td>\n",
       "      <td>('',)</td>\n",
       "      <td>('Steinheimer J., Prog. Part. Nucl. Phys., 62,...</td>\n",
       "      <td>(\"'Kapishin M.'\", \" 'Alishina K.'\", \" 'Batyuk ...</td>\n",
       "      <td>bm n baryon matter nuclotron first experi oper...</td>\n",
       "      <td>2</td>\n",
       "    </tr>\n",
       "  </tbody>\n",
       "</table>\n",
       "<p>64346 rows × 10 columns</p>\n",
       "</div>"
      ],
      "text/plain": [
       "       Unnamed: 0                                              title  \\\n",
       "0               0  Studies of Zγ production in association with a...   \n",
       "1               1  Towards the detection of light and heavy relic...   \n",
       "2               3  Measurement of the underlying event in jet eve...   \n",
       "3               4  Bubble and kink solitons in the φ6-model of no...   \n",
       "4               5          Standard complex for quantum lie algebras   \n",
       "...           ...                                                ...   \n",
       "64341       72011  Molecular markers development for studying of ...   \n",
       "64342       72012  Measurement of the anomalous precession freque...   \n",
       "64343       72013  ATLAS results on quarkonia and heavy flavor pr...   \n",
       "64344       72014  Analytical study of light bullets stabilizatio...   \n",
       "64345       72015  Production of Hyperons, Strange Mesons and Sea...   \n",
       "\n",
       "                                  doi  year  \\\n",
       "0             10.1007/JHEP07(2017)107  2017   \n",
       "1          10.1016/j.ppnp.2011.01.050  2011   \n",
       "2      10.1140/epjc/s10052-014-2965-5  2014   \n",
       "3        10.1016/0375-9601(93)91074-F  1993   \n",
       "4                   10.1134/1.1432906  2001   \n",
       "...                               ...   ...   \n",
       "64341               10.1063/5.0063872  2021   \n",
       "64342     10.1103/PhysRevD.103.072002  2021   \n",
       "64343       10.1142/S0217751X20440030  2020   \n",
       "64344     10.1016/j.chaos.2022.111799  2022   \n",
       "64345       10.1134/S1063779621040304  2021   \n",
       "\n",
       "                                                abstract  \\\n",
       "0      The production of a Z boson and a photon in as...   \n",
       "1      The standard Big Bang cosmology predicts that ...   \n",
       "2      Distributions sensitive to the underlying even...   \n",
       "3      We have studied the φ6-model in the parameter ...   \n",
       "4      For a quantum Lie algebra Γ, let Γ∧ be its ext...   \n",
       "...                                                  ...   \n",
       "64341  ['Here we report about molecular genetic marke...   \n",
       "64342  ['The Muon g-2 Experiment at Fermi National Ac...   \n",
       "64343  ['The associated production a vector boson wit...   \n",
       "64344  [\"Dynamics of light bullets in the Raman activ...   \n",
       "64345  ['Abstract: The BM@N (Baryonic Matter at Nuclo...   \n",
       "\n",
       "                                                keywords  \\\n",
       "0      (\"'Electroweak interaction'\", \" 'Hadron-Hadron...   \n",
       "1      (\"'Neutrino capture'\", \" 'Relic neutrinos'\", \"...   \n",
       "2                                                  ('',)   \n",
       "3                                                  ('',)   \n",
       "4                                                  ('',)   \n",
       "...                                                  ...   \n",
       "64341                                              ('',)   \n",
       "64342                                              ('',)   \n",
       "64343  (\"'associated production'\", \" 'atlas'\", \" 'hea...   \n",
       "64344  (\"'diffraction'\", \" 'light bullet'\", \" 'lyapun...   \n",
       "64345                                              ('',)   \n",
       "\n",
       "                                                    refs  \\\n",
       "0      ('Eboli O.J.P., Gonzalez-Garcia M.C., Lietti S...   \n",
       "1      ('Giunti C., Kim C.W., Fundamentals of Neutrin...   \n",
       "2      ('The underlying event in hard interactions at...   \n",
       "3      ('Kosevich, Et al., Sov. J. Low Temp. Phys., 2...   \n",
       "4      ('Woronowicz S.L., Publ. RIMS Kyoto, 23, (1987...   \n",
       "...                                                  ...   \n",
       "64341  ('Philippe H., Et al., Phylogenomics Revives T...   \n",
       "64342  ('Abi B., Letter companion, Measurement of the...   \n",
       "64343  ('J. Instrum, 3, (2008)', 'J. High Energy Phys...   \n",
       "64344  ('Couairon A., Mysyrowicz A., Femtosecond fila...   \n",
       "64345  ('Steinheimer J., Prog. Part. Nucl. Phys., 62,...   \n",
       "\n",
       "                                                 authors  \\\n",
       "0      (\"'Ahmadov F.'\", \" 'Aleksandrov I.N.'\", \" 'Bed...   \n",
       "1                                     (\"'Šimkovic F.'\",)   \n",
       "2      (\"'Ahmadov F.'\", \" 'Aleksandrov I.N.'\", \" 'Bed...   \n",
       "3                            (\"'Agüero Granados M.A.'\",)   \n",
       "4      (\"'Burdik C.'\", \" 'Isaev A.P.'\", \" 'Ogievetsky...   \n",
       "...                                                  ...   \n",
       "64341  (\"'Yakhnenko A.'\", \" 'Yushin N.'\", \" 'Zinicovs...   \n",
       "64342  (\"'Baranov V.A.'\", \" 'Duginov V.N.'\", \" 'Khomu...   \n",
       "64343                              (\"'Lyubushkina T.'\",)   \n",
       "64344              (\"'Bugay A.N.'\", \" 'Khalyapin V.A.'\")   \n",
       "64345  (\"'Kapishin M.'\", \" 'Alishina K.'\", \" 'Batyuk ...   \n",
       "\n",
       "                                      processed_abstract  cluster  \n",
       "0      product z boson photon associ dijet system stu...        1  \n",
       "1      standard big bang cosmolog predict univers abu...        3  \n",
       "2      distribut sensit underli event qcd jet event m...        2  \n",
       "3      studi paramet domain 1 relev paramet model cas...        4  \n",
       "4      quantum lie algebra γ let exterior extens alge...        4  \n",
       "...                                                  ...      ...  \n",
       "64341  report molecular genet marker develop primer p...        3  \n",
       "64342  muon experi fermi nation acceler laboratori fn...        2  \n",
       "64343  associ product vector boson key observ underst...        2  \n",
       "64344  dynam light bullet raman activ ioniz medium an...        4  \n",
       "64345  bm n baryon matter nuclotron first experi oper...        2  \n",
       "\n",
       "[64346 rows x 10 columns]"
      ]
     },
     "execution_count": 45,
     "metadata": {},
     "output_type": "execute_result"
    }
   ],
   "source": [
    "pubs"
   ]
  },
  {
   "cell_type": "markdown",
   "metadata": {},
   "source": [
    "Выберем, к примеру, второй кластер. Потом надо будет использовать алгоритм на каждом, но в данный момент для проверки я просто возьму кластер со сравнительно небольшим количеством публикаций. И не слишком маленьким, как в первом кластере"
   ]
  },
  {
   "cell_type": "code",
   "execution_count": 46,
   "metadata": {},
   "outputs": [],
   "source": [
    "cluster0 = pubs.loc[pubs.cluster == 0]\n",
    "samp = cluster0.iloc[:450]"
   ]
  },
  {
   "cell_type": "code",
   "execution_count": 13,
   "metadata": {},
   "outputs": [],
   "source": [
    "graph = nx.DiGraph()"
   ]
  },
  {
   "cell_type": "code",
   "execution_count": null,
   "metadata": {},
   "outputs": [
    {
     "name": "stderr",
     "output_type": "stream",
     "text": [
      "19it [06:13, 16.67s/it]"
     ]
    },
    {
     "name": "stdout",
     "output_type": "stream",
     "text": [
      "HTTP error: 400 Client Error: Bad Request for url: https://opencitations.net/index/coci/api/v1/citations/10.1016/0029-554X(67)91363-8\n"
     ]
    },
    {
     "name": "stderr",
     "output_type": "stream",
     "text": [
      "21it [06:24, 10.57s/it]"
     ]
    },
    {
     "name": "stdout",
     "output_type": "stream",
     "text": [
      "Request failed: HTTPSConnectionPool(host='opencitations.net', port=443): Read timed out. (read timeout=10)\n",
      "Request failed: HTTPSConnectionPool(host='opencitations.net', port=443): Read timed out. (read timeout=10)\n",
      "Request failed: HTTPSConnectionPool(host='opencitations.net', port=443): Read timed out. (read timeout=10)\n",
      "Request failed: HTTPSConnectionPool(host='opencitations.net', port=443): Read timed out. (read timeout=10)\n"
     ]
    },
    {
     "name": "stderr",
     "output_type": "stream",
     "text": [
      "58it [12:38, 11.96s/it]"
     ]
    },
    {
     "name": "stdout",
     "output_type": "stream",
     "text": [
      "Request failed: HTTPSConnectionPool(host='opencitations.net', port=443): Read timed out. (read timeout=10)\n",
      "Request failed: HTTPSConnectionPool(host='opencitations.net', port=443): Read timed out. (read timeout=10)\n",
      "Request failed: HTTPSConnectionPool(host='opencitations.net', port=443): Read timed out. (read timeout=10)\n",
      "Request failed: HTTPSConnectionPool(host='opencitations.net', port=443): Read timed out. (read timeout=10)\n",
      "Request failed: HTTPSConnectionPool(host='opencitations.net', port=443): Read timed out. (read timeout=10)\n",
      "Request failed: HTTPSConnectionPool(host='opencitations.net', port=443): Read timed out. (read timeout=10)\n",
      "Request failed: HTTPSConnectionPool(host='opencitations.net', port=443): Read timed out. (read timeout=10)\n",
      "Request failed: HTTPSConnectionPool(host='opencitations.net', port=443): Read timed out. (read timeout=10)\n",
      "Request failed: HTTPSConnectionPool(host='opencitations.net', port=443): Read timed out. (read timeout=10)\n",
      "Request failed: HTTPSConnectionPool(host='opencitations.net', port=443): Read timed out. (read timeout=10)\n",
      "Request failed: HTTPSConnectionPool(host='opencitations.net', port=443): Read timed out. (read timeout=10)\n",
      "Request failed: HTTPSConnectionPool(host='opencitations.net', port=443): Read timed out. (read timeout=10)\n",
      "Request failed: HTTPSConnectionPool(host='opencitations.net', port=443): Read timed out. (read timeout=10)\n",
      "Request failed: HTTPSConnectionPool(host='opencitations.net', port=443): Read timed out. (read timeout=10)\n",
      "Request failed: HTTPSConnectionPool(host='opencitations.net', port=443): Read timed out. (read timeout=10)\n",
      "Request failed: HTTPSConnectionPool(host='opencitations.net', port=443): Read timed out. (read timeout=10)\n",
      "Request failed: HTTPSConnectionPool(host='opencitations.net', port=443): Read timed out. (read timeout=10)\n",
      "Request failed: HTTPSConnectionPool(host='opencitations.net', port=443): Read timed out. (read timeout=10)\n",
      "Request failed: HTTPSConnectionPool(host='opencitations.net', port=443): Read timed out. (read timeout=10)\n",
      "Request failed: HTTPSConnectionPool(host='opencitations.net', port=443): Read timed out. (read timeout=10)\n",
      "Request failed: HTTPSConnectionPool(host='opencitations.net', port=443): Read timed out. (read timeout=10)\n",
      "Request failed: HTTPSConnectionPool(host='opencitations.net', port=443): Read timed out. (read timeout=10)\n",
      "Request failed: HTTPSConnectionPool(host='opencitations.net', port=443): Read timed out. (read timeout=10)\n",
      "Request failed: HTTPSConnectionPool(host='opencitations.net', port=443): Read timed out. (read timeout=10)\n",
      "Request failed: HTTPSConnectionPool(host='opencitations.net', port=443): Read timed out. (read timeout=10)\n",
      "Request failed: HTTPSConnectionPool(host='opencitations.net', port=443): Read timed out. (read timeout=10)\n",
      "HTTP error: 400 Client Error: Bad Request for url: https://opencitations.net/index/coci/api/v1/citations/10.1016/S0168-9002(03)01368-8\n",
      "Request failed: HTTPSConnectionPool(host='opencitations.net', port=443): Read timed out. (read timeout=10)\n",
      "Request failed: HTTPSConnectionPool(host='opencitations.net', port=443): Read timed out. (read timeout=10)\n",
      "Request failed: HTTPSConnectionPool(host='opencitations.net', port=443): Read timed out. (read timeout=10)\n",
      "Request failed: HTTPSConnectionPool(host='opencitations.net', port=443): Read timed out. (read timeout=10)\n",
      "Request failed: HTTPSConnectionPool(host='opencitations.net', port=443): Read timed out. (read timeout=10)\n",
      "Request failed: HTTPSConnectionPool(host='opencitations.net', port=443): Read timed out. (read timeout=10)\n",
      "Request failed: HTTPSConnectionPool(host='opencitations.net', port=443): Read timed out. (read timeout=10)\n",
      "Request failed: HTTPSConnectionPool(host='opencitations.net', port=443): Read timed out. (read timeout=10)\n",
      "Request failed: HTTPSConnectionPool(host='opencitations.net', port=443): Read timed out. (read timeout=10)\n"
     ]
    },
    {
     "name": "stderr",
     "output_type": "stream",
     "text": [
      "67it [19:48, 10.97s/it] "
     ]
    },
    {
     "name": "stdout",
     "output_type": "stream",
     "text": [
      "In crossref got an exception Redirect response '301 Moved Permanently' for url 'https://api.crossref.org/works/10.1007/s100520050217'\n",
      "Redirect location: '/works/10.1007/s100529800895'\n",
      "For more information check: https://developer.mozilla.org/en-US/docs/Web/HTTP/Status/301\n"
     ]
    },
    {
     "name": "stderr",
     "output_type": "stream",
     "text": [
      "70it [20:20,  9.87s/it]"
     ]
    },
    {
     "name": "stdout",
     "output_type": "stream",
     "text": [
      "Request failed: HTTPSConnectionPool(host='opencitations.net', port=443): Read timed out. (read timeout=10)\n",
      "Request failed: HTTPSConnectionPool(host='opencitations.net', port=443): Read timed out. (read timeout=10)\n"
     ]
    },
    {
     "name": "stderr",
     "output_type": "stream",
     "text": [
      "72it [21:07, 14.96s/it]"
     ]
    },
    {
     "name": "stdout",
     "output_type": "stream",
     "text": [
      "In crossref got an exception Client error '404 Not Found' for url 'https://api.crossref.org/works/10.5516/j.physletb.2015.09.001'\n",
      "For more information check: https://developer.mozilla.org/en-US/docs/Web/HTTP/Status/404\n"
     ]
    },
    {
     "name": "stderr",
     "output_type": "stream",
     "text": [
      "82it [22:16,  5.36s/it]"
     ]
    },
    {
     "name": "stdout",
     "output_type": "stream",
     "text": [
      "Request failed: HTTPSConnectionPool(host='opencitations.net', port=443): Read timed out. (read timeout=10)\n"
     ]
    },
    {
     "name": "stderr",
     "output_type": "stream",
     "text": [
      "85it [22:45,  7.40s/it]"
     ]
    },
    {
     "name": "stdout",
     "output_type": "stream",
     "text": [
      "Request failed: HTTPSConnectionPool(host='opencitations.net', port=443): Read timed out. (read timeout=10)\n"
     ]
    },
    {
     "name": "stderr",
     "output_type": "stream",
     "text": [
      "92it [23:34,  6.56s/it]"
     ]
    },
    {
     "name": "stdout",
     "output_type": "stream",
     "text": [
      "Request failed: HTTPSConnectionPool(host='opencitations.net', port=443): Max retries exceeded with url: /index/coci/api/v1/citations/10.1139/p56-005 (Caused by ConnectTimeoutError(<urllib3.connection.HTTPSConnection object at 0x72fd2348fe00>, 'Connection to opencitations.net timed out. (connect timeout=10)'))\n",
      "Request failed: HTTPSConnectionPool(host='opencitations.net', port=443): Max retries exceeded with url: /index/coci/api/v1/citations/10.1103/RevModPhys.27.339 (Caused by ConnectTimeoutError(<urllib3.connection.HTTPSConnection object at 0x72fd0d12caa0>, 'Connection to opencitations.net timed out. (connect timeout=10)'))\n",
      "Request failed: HTTPSConnectionPool(host='opencitations.net', port=443): Max retries exceeded with url: /index/coci/api/v1/citations/10.1016/0029-5582(60)90038-9 (Caused by ConnectTimeoutError(<urllib3.connection.HTTPSConnection object at 0x72fe4157b860>, 'Connection to opencitations.net timed out. (connect timeout=10)'))\n"
     ]
    },
    {
     "name": "stderr",
     "output_type": "stream",
     "text": [
      "94it [25:21, 25.84s/it]"
     ]
    },
    {
     "name": "stdout",
     "output_type": "stream",
     "text": [
      "Request failed: HTTPSConnectionPool(host='opencitations.net', port=443): Max retries exceeded with url: /index/coci/api/v1/citations/10.1002/ctpp.19810210505 (Caused by ConnectTimeoutError(<urllib3.connection.HTTPSConnection object at 0x72fddf826a50>, 'Connection to opencitations.net timed out. (connect timeout=10)'))\n"
     ]
    },
    {
     "name": "stderr",
     "output_type": "stream",
     "text": [
      "95it [25:43, 24.65s/it]"
     ]
    },
    {
     "name": "stdout",
     "output_type": "stream",
     "text": [
      "Request failed: HTTPSConnectionPool(host='opencitations.net', port=443): Read timed out. (read timeout=10)\n",
      "Request failed: HTTPSConnectionPool(host='opencitations.net', port=443): Read timed out. (read timeout=10)\n",
      "Request failed: HTTPSConnectionPool(host='opencitations.net', port=443): Read timed out. (read timeout=10)\n",
      "Request failed: HTTPSConnectionPool(host='opencitations.net', port=443): Read timed out. (read timeout=10)\n",
      "Request failed: HTTPSConnectionPool(host='opencitations.net', port=443): Read timed out. (read timeout=10)\n",
      "Request failed: HTTPSConnectionPool(host='opencitations.net', port=443): Read timed out. (read timeout=10)\n",
      "Request failed: HTTPSConnectionPool(host='opencitations.net', port=443): Read timed out. (read timeout=10)\n",
      "Request failed: HTTPSConnectionPool(host='opencitations.net', port=443): Read timed out. (read timeout=10)\n",
      "Request failed: HTTPSConnectionPool(host='opencitations.net', port=443): Read timed out. (read timeout=10)\n",
      "Request failed: HTTPSConnectionPool(host='opencitations.net', port=443): Read timed out. (read timeout=10)\n",
      "Request failed: HTTPSConnectionPool(host='opencitations.net', port=443): Read timed out. (read timeout=10)\n",
      "Request failed: HTTPSConnectionPool(host='opencitations.net', port=443): Read timed out. (read timeout=10)\n",
      "Request failed: HTTPSConnectionPool(host='opencitations.net', port=443): Read timed out. (read timeout=10)\n",
      "Request failed: HTTPSConnectionPool(host='opencitations.net', port=443): Read timed out. (read timeout=10)\n",
      "Request failed: HTTPSConnectionPool(host='opencitations.net', port=443): Read timed out. (read timeout=10)\n",
      "Request failed: HTTPSConnectionPool(host='opencitations.net', port=443): Read timed out. (read timeout=10)\n",
      "Request failed: HTTPSConnectionPool(host='opencitations.net', port=443): Read timed out. (read timeout=10)\n",
      "Request failed: HTTPSConnectionPool(host='opencitations.net', port=443): Read timed out. (read timeout=10)\n",
      "Request failed: HTTPSConnectionPool(host='opencitations.net', port=443): Read timed out. (read timeout=10)\n",
      "Request failed: HTTPSConnectionPool(host='opencitations.net', port=443): Read timed out. (read timeout=10)\n"
     ]
    },
    {
     "name": "stderr",
     "output_type": "stream",
     "text": [
      "98it [29:27, 42.25s/it]"
     ]
    },
    {
     "name": "stdout",
     "output_type": "stream",
     "text": [
      "Request failed: HTTPSConnectionPool(host='opencitations.net', port=443): Read timed out. (read timeout=10)\n"
     ]
    },
    {
     "name": "stderr",
     "output_type": "stream",
     "text": [
      "101it [29:43, 17.25s/it]"
     ]
    },
    {
     "name": "stdout",
     "output_type": "stream",
     "text": [
      "Request failed: HTTPSConnectionPool(host='opencitations.net', port=443): Read timed out. (read timeout=10)\n"
     ]
    },
    {
     "name": "stderr",
     "output_type": "stream",
     "text": [
      "103it [30:03, 13.10s/it]"
     ]
    },
    {
     "name": "stdout",
     "output_type": "stream",
     "text": [
      "Request failed: HTTPSConnectionPool(host='opencitations.net', port=443): Read timed out. (read timeout=10)\n",
      "Request failed: HTTPSConnectionPool(host='opencitations.net', port=443): Read timed out. (read timeout=10)\n",
      "Request failed: HTTPSConnectionPool(host='opencitations.net', port=443): Read timed out. (read timeout=10)\n",
      "Request failed: HTTPSConnectionPool(host='opencitations.net', port=443): Read timed out. (read timeout=10)\n",
      "Request failed: HTTPSConnectionPool(host='opencitations.net', port=443): Read timed out. (read timeout=10)\n"
     ]
    },
    {
     "name": "stderr",
     "output_type": "stream",
     "text": [
      "105it [32:08, 36.09s/it]"
     ]
    },
    {
     "name": "stdout",
     "output_type": "stream",
     "text": [
      "Request failed: HTTPSConnectionPool(host='opencitations.net', port=443): Read timed out. (read timeout=10)\n"
     ]
    },
    {
     "name": "stderr",
     "output_type": "stream",
     "text": [
      "108it [32:34, 17.13s/it]"
     ]
    },
    {
     "name": "stdout",
     "output_type": "stream",
     "text": [
      "Request failed: HTTPSConnectionPool(host='opencitations.net', port=443): Read timed out. (read timeout=10)\n"
     ]
    },
    {
     "name": "stderr",
     "output_type": "stream",
     "text": [
      "111it [33:56, 19.83s/it]"
     ]
    },
    {
     "name": "stdout",
     "output_type": "stream",
     "text": [
      "Request failed: HTTPSConnectionPool(host='opencitations.net', port=443): Read timed out. (read timeout=10)\n",
      "Request failed: HTTPSConnectionPool(host='opencitations.net', port=443): Read timed out. (read timeout=10)\n"
     ]
    },
    {
     "name": "stderr",
     "output_type": "stream",
     "text": [
      "112it [34:49, 29.61s/it]"
     ]
    },
    {
     "name": "stdout",
     "output_type": "stream",
     "text": [
      "Request failed: HTTPSConnectionPool(host='opencitations.net', port=443): Read timed out. (read timeout=10)\n",
      "Request failed: HTTPSConnectionPool(host='opencitations.net', port=443): Read timed out. (read timeout=10)\n"
     ]
    },
    {
     "name": "stderr",
     "output_type": "stream",
     "text": [
      "115it [35:32, 17.05s/it]"
     ]
    },
    {
     "name": "stdout",
     "output_type": "stream",
     "text": [
      "Request failed: HTTPSConnectionPool(host='opencitations.net', port=443): Max retries exceeded with url: /index/coci/api/v1/citations/10.1063/1.1716052 (Caused by ConnectTimeoutError(<urllib3.connection.HTTPSConnection object at 0x72fd550a4950>, 'Connection to opencitations.net timed out. (connect timeout=10)'))\n",
      "In crossref got an exception [Errno 113] No route to host\n",
      "Request failed: HTTPSConnectionPool(host='opencitations.net', port=443): Max retries exceeded with url: /index/coci/api/v1/citations/10.1109/TNS2.1958.4315653 (Caused by ConnectTimeoutError(<urllib3.connection.HTTPSConnection object at 0x72fd545ec2c0>, 'Connection to opencitations.net timed out. (connect timeout=10)'))\n"
     ]
    },
    {
     "name": "stderr",
     "output_type": "stream",
     "text": [
      "116it [36:14, 24.79s/it]"
     ]
    },
    {
     "name": "stdout",
     "output_type": "stream",
     "text": [
      "In crossref got an exception timed out\n"
     ]
    },
    {
     "name": "stderr",
     "output_type": "stream",
     "text": [
      "119it [37:02, 16.63s/it]"
     ]
    },
    {
     "name": "stdout",
     "output_type": "stream",
     "text": [
      "Request failed: HTTPSConnectionPool(host='opencitations.net', port=443): Read timed out. (read timeout=10)\n"
     ]
    },
    {
     "name": "stderr",
     "output_type": "stream",
     "text": [
      "121it [37:38, 16.11s/it]"
     ]
    },
    {
     "name": "stdout",
     "output_type": "stream",
     "text": [
      "Request failed: HTTPSConnectionPool(host='opencitations.net', port=443): Read timed out. (read timeout=10)\n",
      "Request failed: HTTPSConnectionPool(host='opencitations.net', port=443): Read timed out. (read timeout=10)\n"
     ]
    },
    {
     "name": "stderr",
     "output_type": "stream",
     "text": [
      "122it [38:37, 28.95s/it]"
     ]
    },
    {
     "name": "stdout",
     "output_type": "stream",
     "text": [
      "Request failed: HTTPSConnectionPool(host='opencitations.net', port=443): Max retries exceeded with url: /index/coci/api/v1/citations/10.1016/j.nuclphysa.2006.12.055 (Caused by ConnectTimeoutError(<urllib3.connection.HTTPSConnection object at 0x72fe4155baa0>, 'Connection to opencitations.net timed out. (connect timeout=10)'))\n",
      "Request failed: HTTPSConnectionPool(host='opencitations.net', port=443): Read timed out. (read timeout=10)\n",
      "Request failed: HTTPSConnectionPool(host='opencitations.net', port=443): Read timed out. (read timeout=10)\n"
     ]
    },
    {
     "name": "stderr",
     "output_type": "stream",
     "text": [
      "126it [42:17, 40.90s/it]"
     ]
    },
    {
     "name": "stdout",
     "output_type": "stream",
     "text": [
      "Request failed: HTTPSConnectionPool(host='opencitations.net', port=443): Read timed out. (read timeout=10)\n"
     ]
    },
    {
     "name": "stderr",
     "output_type": "stream",
     "text": [
      "130it [43:11, 16.89s/it]"
     ]
    },
    {
     "name": "stdout",
     "output_type": "stream",
     "text": [
      "Request failed: HTTPSConnectionPool(host='opencitations.net', port=443): Read timed out. (read timeout=10)\n",
      "Request failed: HTTPSConnectionPool(host='opencitations.net', port=443): Max retries exceeded with url: /index/coci/api/v1/citations/10.1007/BF01459410 (Caused by ConnectTimeoutError(<urllib3.connection.HTTPSConnection object at 0x72fde38d1ac0>, 'Connection to opencitations.net timed out. (connect timeout=10)'))\n",
      "Request failed: HTTPSConnectionPool(host='opencitations.net', port=443): Read timed out. (read timeout=10)\n",
      "Request failed: HTTPSConnectionPool(host='opencitations.net', port=443): Read timed out. (read timeout=10)\n",
      "Request failed: HTTPSConnectionPool(host='opencitations.net', port=443): Read timed out. (read timeout=10)\n",
      "Request failed: HTTPSConnectionPool(host='opencitations.net', port=443): Max retries exceeded with url: /index/coci/api/v1/citations/10.2307/1968929 (Caused by ConnectTimeoutError(<urllib3.connection.HTTPSConnection object at 0x72fd54530a70>, 'Connection to opencitations.net timed out. (connect timeout=10)'))\n",
      "Request failed: HTTPSConnectionPool(host='opencitations.net', port=443): Read timed out. (read timeout=10)\n",
      "Request failed: HTTPSConnectionPool(host='opencitations.net', port=443): Read timed out. (read timeout=10)\n",
      "Request failed: HTTPSConnectionPool(host='opencitations.net', port=443): Read timed out. (read timeout=10)\n",
      "Request failed: HTTPSConnectionPool(host='opencitations.net', port=443): Read timed out. (read timeout=10)\n",
      "Request failed: HTTPSConnectionPool(host='opencitations.net', port=443): Read timed out. (read timeout=10)\n",
      "Request failed: HTTPSConnectionPool(host='opencitations.net', port=443): Read timed out. (read timeout=10)\n",
      "Request failed: HTTPSConnectionPool(host='opencitations.net', port=443): Read timed out. (read timeout=10)\n",
      "Request failed: HTTPSConnectionPool(host='opencitations.net', port=443): Read timed out. (read timeout=10)\n",
      "Request failed: HTTPSConnectionPool(host='opencitations.net', port=443): Read timed out. (read timeout=10)\n",
      "Request failed: HTTPSConnectionPool(host='opencitations.net', port=443): Read timed out. (read timeout=10)\n",
      "Request failed: HTTPSConnectionPool(host='opencitations.net', port=443): Read timed out. (read timeout=10)\n",
      "Request failed: HTTPSConnectionPool(host='opencitations.net', port=443): Read timed out. (read timeout=10)\n",
      "Request failed: HTTPSConnectionPool(host='opencitations.net', port=443): Read timed out. (read timeout=10)\n",
      "Request failed: HTTPSConnectionPool(host='opencitations.net', port=443): Read timed out. (read timeout=10)\n",
      "Request failed: HTTPSConnectionPool(host='opencitations.net', port=443): Read timed out. (read timeout=10)\n",
      "Request failed: HTTPSConnectionPool(host='opencitations.net', port=443): Read timed out. (read timeout=10)\n"
     ]
    },
    {
     "name": "stderr",
     "output_type": "stream",
     "text": [
      "132it [51:44, 117.01s/it]"
     ]
    },
    {
     "name": "stdout",
     "output_type": "stream",
     "text": [
      "Request failed: HTTPSConnectionPool(host='opencitations.net', port=443): Read timed out. (read timeout=10)\n",
      "Request failed: HTTPSConnectionPool(host='opencitations.net', port=443): Read timed out. (read timeout=10)\n"
     ]
    },
    {
     "name": "stderr",
     "output_type": "stream",
     "text": [
      "133it [52:15, 91.27s/it] "
     ]
    },
    {
     "name": "stdout",
     "output_type": "stream",
     "text": [
      "Request failed: HTTPSConnectionPool(host='opencitations.net', port=443): Read timed out. (read timeout=10)\n",
      "Request failed: HTTPSConnectionPool(host='opencitations.net', port=443): Read timed out. (read timeout=10)\n",
      "Request failed: HTTPSConnectionPool(host='opencitations.net', port=443): Read timed out. (read timeout=10)\n"
     ]
    },
    {
     "name": "stderr",
     "output_type": "stream",
     "text": [
      "145it [53:37,  6.18s/it]"
     ]
    },
    {
     "name": "stdout",
     "output_type": "stream",
     "text": [
      "Request failed: HTTPSConnectionPool(host='opencitations.net', port=443): Read timed out. (read timeout=10)\n",
      "Request failed: HTTPSConnectionPool(host='opencitations.net', port=443): Read timed out. (read timeout=10)\n",
      "Request failed: HTTPSConnectionPool(host='opencitations.net', port=443): Read timed out. (read timeout=10)\n"
     ]
    },
    {
     "name": "stderr",
     "output_type": "stream",
     "text": [
      "146it [55:03, 30.10s/it]"
     ]
    },
    {
     "name": "stdout",
     "output_type": "stream",
     "text": [
      "Request failed: HTTPSConnectionPool(host='opencitations.net', port=443): Read timed out. (read timeout=10)\n"
     ]
    },
    {
     "name": "stderr",
     "output_type": "stream",
     "text": [
      "147it [55:38, 31.39s/it]"
     ]
    },
    {
     "name": "stdout",
     "output_type": "stream",
     "text": [
      "Request failed: HTTPSConnectionPool(host='opencitations.net', port=443): Read timed out. (read timeout=10)\n"
     ]
    },
    {
     "name": "stderr",
     "output_type": "stream",
     "text": [
      "148it [56:11, 31.84s/it]"
     ]
    },
    {
     "name": "stdout",
     "output_type": "stream",
     "text": [
      "Request failed: HTTPSConnectionPool(host='opencitations.net', port=443): Max retries exceeded with url: /index/coci/api/v1/citations/10.1103/PhysRev.157.317 (Caused by ConnectTimeoutError(<urllib3.connection.HTTPSConnection object at 0x72fd3b9cb0e0>, 'Connection to opencitations.net timed out. (connect timeout=10)'))\n",
      "Request failed: HTTPSConnectionPool(host='opencitations.net', port=443): Max retries exceeded with url: /index/coci/api/v1/citations/10.1103/PhysRevB.6.832 (Caused by ConnectTimeoutError(<urllib3.connection.HTTPSConnection object at 0x72fd3abe3c80>, 'Connection to opencitations.net timed out. (connect timeout=10)'))\n",
      "Request failed: HTTPSConnectionPool(host='opencitations.net', port=443): Max retries exceeded with url: /index/coci/api/v1/citations/10.1063/1.1662830 (Caused by ConnectTimeoutError(<urllib3.connection.HTTPSConnection object at 0x72fd97a3bf80>, 'Connection to opencitations.net timed out. (connect timeout=10)'))\n",
      "Request failed: HTTPSConnectionPool(host='opencitations.net', port=443): Max retries exceeded with url: /index/coci/api/v1/citations/10.1070/PU1968v011n03ABEH003840 (Caused by ConnectTimeoutError(<urllib3.connection.HTTPSConnection object at 0x72fd3abe29f0>, 'Connection to opencitations.net timed out. (connect timeout=10)'))\n",
      "Request failed: HTTPSConnectionPool(host='opencitations.net', port=443): Max retries exceeded with url: /index/coci/api/v1/citations/10.1063/1.1654144 (Caused by ConnectTimeoutError(<urllib3.connection.HTTPSConnection object at 0x72fe23b8c0b0>, 'Connection to opencitations.net timed out. (connect timeout=10)'))\n"
     ]
    },
    {
     "name": "stderr",
     "output_type": "stream",
     "text": [
      "149it [57:36, 47.79s/it]"
     ]
    },
    {
     "name": "stdout",
     "output_type": "stream",
     "text": [
      "Request failed: HTTPSConnectionPool(host='opencitations.net', port=443): Max retries exceeded with url: /index/coci/api/v1/citations/10.1103/PhysRev.107.1729 (Caused by NewConnectionError('<urllib3.connection.HTTPSConnection object at 0x72fd234ecd10>: Failed to establish a new connection: [Errno 113] No route to host'))\n",
      "Request failed: HTTPSConnectionPool(host='opencitations.net', port=443): Max retries exceeded with url: /index/coci/api/v1/citations/10.1103/PhysRev.106.386 (Caused by ConnectTimeoutError(<urllib3.connection.HTTPSConnection object at 0x72fcb81c7890>, 'Connection to opencitations.net timed out. (connect timeout=10)'))\n",
      "Request failed: HTTPSConnectionPool(host='opencitations.net', port=443): Max retries exceeded with url: /index/coci/api/v1/citations/10.1103/PhysRev.109.223 (Caused by ConnectTimeoutError(<urllib3.connection.HTTPSConnection object at 0x72fcb81c61b0>, 'Connection to opencitations.net timed out. (connect timeout=10)'))\n",
      "Request failed: HTTPSConnectionPool(host='opencitations.net', port=443): Read timed out. (read timeout=10)\n"
     ]
    },
    {
     "name": "stderr",
     "output_type": "stream",
     "text": [
      "162it [1:04:19,  8.02s/it] "
     ]
    },
    {
     "name": "stdout",
     "output_type": "stream",
     "text": [
      "In crossref got an exception timed out\n",
      "In crossref got an exception timed out\n",
      "HTTP error: 400 Client Error: Bad Request for url: https://opencitations.net/index/coci/api/v1/citations/10.1103/PhysRevB.6.4370\n"
     ]
    },
    {
     "name": "stderr",
     "output_type": "stream",
     "text": [
      "177it [1:07:06,  7.94s/it]"
     ]
    },
    {
     "name": "stdout",
     "output_type": "stream",
     "text": [
      "Request failed: HTTPSConnectionPool(host='opencitations.net', port=443): Read timed out. (read timeout=10)\n",
      "In crossref got an exception Redirect response '301 Moved Permanently' for url 'https://api.crossref.org/works/10.1002/andp.19730290204'\n",
      "Redirect location: '/works/10.1002/andp.19734840204'\n",
      "For more information check: https://developer.mozilla.org/en-US/docs/Web/HTTP/Status/301\n",
      "In crossref got an exception timed out\n"
     ]
    },
    {
     "name": "stderr",
     "output_type": "stream",
     "text": [
      "178it [1:10:27, 65.84s/it]"
     ]
    },
    {
     "name": "stdout",
     "output_type": "stream",
     "text": [
      "Request failed: HTTPSConnectionPool(host='opencitations.net', port=443): Max retries exceeded with url: /index/coci/api/v1/citations/10.1002/pssb.2221030259 (Caused by NewConnectionError('<urllib3.connection.HTTPSConnection object at 0x72fddf8204d0>: Failed to establish a new connection: [Errno 113] No route to host'))\n"
     ]
    },
    {
     "name": "stderr",
     "output_type": "stream",
     "text": [
      "179it [1:10:50, 53.05s/it]"
     ]
    },
    {
     "name": "stdout",
     "output_type": "stream",
     "text": [
      "In crossref got an exception [Errno -3] Temporary failure in name resolution\n",
      "Request failed: HTTPSConnectionPool(host='opencitations.net', port=443): Max retries exceeded with url: /index/coci/api/v1/citations/10.2753/RSP1061-1967150425 (Caused by NameResolutionError(\"<urllib3.connection.HTTPSConnection object at 0x72fd545eeba0>: Failed to resolve 'opencitations.net' ([Errno -3] Temporary failure in name resolution)\"))\n"
     ]
    },
    {
     "name": "stderr",
     "output_type": "stream",
     "text": [
      "180it [1:11:30, 49.18s/it]"
     ]
    },
    {
     "name": "stdout",
     "output_type": "stream",
     "text": [
      "In crossref got an exception [Errno -3] Temporary failure in name resolution\n"
     ]
    },
    {
     "name": "stderr",
     "output_type": "stream",
     "text": [
      "181it [1:11:44, 38.43s/it]"
     ]
    },
    {
     "name": "stdout",
     "output_type": "stream",
     "text": [
      "Request failed: HTTPSConnectionPool(host='opencitations.net', port=443): Read timed out. (read timeout=10)\n",
      "Request failed: HTTPSConnectionPool(host='opencitations.net', port=443): Read timed out. (read timeout=10)\n"
     ]
    },
    {
     "name": "stderr",
     "output_type": "stream",
     "text": [
      "183it [1:13:21, 42.26s/it]"
     ]
    },
    {
     "name": "stdout",
     "output_type": "stream",
     "text": [
      "Request failed: HTTPSConnectionPool(host='opencitations.net', port=443): Read timed out. (read timeout=10)\n",
      "Request failed: HTTPSConnectionPool(host='opencitations.net', port=443): Read timed out. (read timeout=10)\n",
      "Request failed: HTTPSConnectionPool(host='opencitations.net', port=443): Read timed out. (read timeout=10)\n"
     ]
    },
    {
     "name": "stderr",
     "output_type": "stream",
     "text": [
      "184it [1:14:11, 44.57s/it]"
     ]
    },
    {
     "name": "stdout",
     "output_type": "stream",
     "text": [
      "Request failed: HTTPSConnectionPool(host='opencitations.net', port=443): Read timed out. (read timeout=10)\n"
     ]
    },
    {
     "name": "stderr",
     "output_type": "stream",
     "text": [
      "190it [1:15:50, 18.86s/it]"
     ]
    },
    {
     "name": "stdout",
     "output_type": "stream",
     "text": [
      "In crossref got an exception [Errno 113] No route to host\n"
     ]
    },
    {
     "name": "stderr",
     "output_type": "stream",
     "text": [
      "191it [1:16:02, 16.65s/it]"
     ]
    },
    {
     "name": "stdout",
     "output_type": "stream",
     "text": [
      "In crossref got an exception _ssl.c:983: The handshake operation timed out\n"
     ]
    },
    {
     "name": "stderr",
     "output_type": "stream",
     "text": [
      "195it [1:16:26,  9.91s/it]"
     ]
    },
    {
     "name": "stdout",
     "output_type": "stream",
     "text": [
      "In crossref got an exception _ssl.c:983: The handshake operation timed out\n",
      "Request failed: HTTPSConnectionPool(host='opencitations.net', port=443): Max retries exceeded with url: /index/coci/api/v1/citations/10.1103/PhysRevC.93.019802 (Caused by NameResolutionError(\"<urllib3.connection.HTTPSConnection object at 0x72fddf844c50>: Failed to resolve 'opencitations.net' ([Errno -3] Temporary failure in name resolution)\"))\n"
     ]
    },
    {
     "name": "stderr",
     "output_type": "stream",
     "text": [
      "197it [1:17:30, 18.44s/it]"
     ]
    },
    {
     "name": "stdout",
     "output_type": "stream",
     "text": [
      "Request failed: HTTPSConnectionPool(host='opencitations.net', port=443): Read timed out. (read timeout=10)\n",
      "Request failed: HTTPSConnectionPool(host='opencitations.net', port=443): Read timed out. (read timeout=10)\n",
      "Request failed: HTTPSConnectionPool(host='opencitations.net', port=443): Read timed out. (read timeout=10)\n",
      "Request failed: HTTPSConnectionPool(host='opencitations.net', port=443): Read timed out. (read timeout=10)\n",
      "Request failed: HTTPSConnectionPool(host='opencitations.net', port=443): Read timed out. (read timeout=10)\n",
      "Request failed: HTTPSConnectionPool(host='opencitations.net', port=443): Read timed out. (read timeout=10)\n",
      "Request failed: HTTPSConnectionPool(host='opencitations.net', port=443): Max retries exceeded with url: /index/coci/api/v1/citations/10.1002/pssb.2220770108 (Caused by ConnectTimeoutError(<urllib3.connection.HTTPSConnection object at 0x72fe4157b680>, 'Connection to opencitations.net timed out. (connect timeout=10)'))\n",
      "Request failed: HTTPSConnectionPool(host='opencitations.net', port=443): Max retries exceeded with url: /index/coci/api/v1/citations/10.1016/S0038-1098(85)80023-5 (Caused by ConnectTimeoutError(<urllib3.connection.HTTPSConnection object at 0x72fe41578dd0>, 'Connection to opencitations.net timed out. (connect timeout=10)'))\n",
      "Request failed: HTTPSConnectionPool(host='opencitations.net', port=443): Max retries exceeded with url: /index/coci/api/v1/citations/10.1016/0038-1098(89)90385-2 (Caused by ConnectTimeoutError(<urllib3.connection.HTTPSConnection object at 0x72fde0735bb0>, 'Connection to opencitations.net timed out. (connect timeout=10)'))\n",
      "Request failed: HTTPSConnectionPool(host='opencitations.net', port=443): Read timed out. (read timeout=10)\n",
      "Request failed: HTTPSConnectionPool(host='opencitations.net', port=443): Read timed out. (read timeout=10)\n",
      "Request failed: HTTPSConnectionPool(host='opencitations.net', port=443): Read timed out. (read timeout=10)\n",
      "Request failed: HTTPSConnectionPool(host='opencitations.net', port=443): Read timed out. (read timeout=10)\n",
      "Request failed: HTTPSConnectionPool(host='opencitations.net', port=443): Read timed out. (read timeout=10)\n",
      "Request failed: HTTPSConnectionPool(host='opencitations.net', port=443): Max retries exceeded with url: /index/coci/api/v1/citations/10.1088/0305-4608/12/12/017 (Caused by ConnectTimeoutError(<urllib3.connection.HTTPSConnection object at 0x72fc05595b80>, 'Connection to opencitations.net timed out. (connect timeout=10)'))\n",
      "Request failed: HTTPSConnectionPool(host='opencitations.net', port=443): Max retries exceeded with url: /index/coci/api/v1/citations/10.1143/JPSJ.32.604 (Caused by ConnectTimeoutError(<urllib3.connection.HTTPSConnection object at 0x72fd398936e0>, 'Connection to opencitations.net timed out. (connect timeout=10)'))\n"
     ]
    },
    {
     "name": "stderr",
     "output_type": "stream",
     "text": [
      "198it [1:25:00, 148.13s/it]"
     ]
    },
    {
     "name": "stdout",
     "output_type": "stream",
     "text": [
      "Request failed: HTTPSConnectionPool(host='opencitations.net', port=443): Max retries exceeded with url: /index/coci/api/v1/citations/10.1007/BF02748866 (Caused by ConnectTimeoutError(<urllib3.connection.HTTPSConnection object at 0x72fc055947d0>, 'Connection to opencitations.net timed out. (connect timeout=10)'))\n"
     ]
    },
    {
     "name": "stderr",
     "output_type": "stream",
     "text": [
      "199it [1:25:11, 106.89s/it]"
     ]
    },
    {
     "name": "stdout",
     "output_type": "stream",
     "text": [
      "Request failed: HTTPSConnectionPool(host='opencitations.net', port=443): Read timed out. (read timeout=10)\n",
      "Request failed: HTTPSConnectionPool(host='opencitations.net', port=443): Read timed out. (read timeout=10)\n",
      "Request failed: HTTPSConnectionPool(host='opencitations.net', port=443): Read timed out. (read timeout=10)\n",
      "Request failed: HTTPSConnectionPool(host='opencitations.net', port=443): Read timed out. (read timeout=10)\n",
      "Request failed: HTTPSConnectionPool(host='opencitations.net', port=443): Read timed out. (read timeout=10)\n"
     ]
    },
    {
     "name": "stderr",
     "output_type": "stream",
     "text": [
      "201it [1:26:24, 68.16s/it] "
     ]
    },
    {
     "name": "stdout",
     "output_type": "stream",
     "text": [
      "Request failed: HTTPSConnectionPool(host='opencitations.net', port=443): Read timed out. (read timeout=10)\n",
      "Request failed: HTTPSConnectionPool(host='opencitations.net', port=443): Read timed out. (read timeout=10)\n"
     ]
    },
    {
     "name": "stderr",
     "output_type": "stream",
     "text": [
      "203it [1:27:09, 44.19s/it]"
     ]
    },
    {
     "name": "stdout",
     "output_type": "stream",
     "text": [
      "Request failed: HTTPSConnectionPool(host='opencitations.net', port=443): Read timed out. (read timeout=10)\n"
     ]
    },
    {
     "name": "stderr",
     "output_type": "stream",
     "text": [
      "204it [1:27:29, 36.80s/it]"
     ]
    },
    {
     "name": "stdout",
     "output_type": "stream",
     "text": [
      "Request failed: HTTPSConnectionPool(host='opencitations.net', port=443): Read timed out. (read timeout=10)\n",
      "Request failed: HTTPSConnectionPool(host='opencitations.net', port=443): Read timed out. (read timeout=10)\n"
     ]
    },
    {
     "name": "stderr",
     "output_type": "stream",
     "text": [
      "209it [1:29:45, 23.74s/it]"
     ]
    },
    {
     "name": "stdout",
     "output_type": "stream",
     "text": [
      "Request failed: HTTPSConnectionPool(host='opencitations.net', port=443): Read timed out. (read timeout=10)\n"
     ]
    },
    {
     "name": "stderr",
     "output_type": "stream",
     "text": [
      "214it [1:32:06, 19.42s/it]"
     ]
    },
    {
     "name": "stdout",
     "output_type": "stream",
     "text": [
      "In crossref got an exception Client error '404 Not Found' for url 'https://api.crossref.org/works/10.1045/january2003-kalinichenko'\n",
      "For more information check: https://developer.mozilla.org/en-US/docs/Web/HTTP/Status/404\n",
      "Request failed: HTTPSConnectionPool(host='opencitations.net', port=443): Read timed out. (read timeout=10)\n"
     ]
    },
    {
     "name": "stderr",
     "output_type": "stream",
     "text": [
      "217it [1:32:43, 12.62s/it]"
     ]
    },
    {
     "name": "stdout",
     "output_type": "stream",
     "text": [
      "In crossref got an exception Client error '404 Not Found' for url 'https://api.crossref.org/works/10.3204/DESY-PROC-2010-01/lykasov'\n",
      "For more information check: https://developer.mozilla.org/en-US/docs/Web/HTTP/Status/404\n"
     ]
    },
    {
     "name": "stderr",
     "output_type": "stream",
     "text": [
      "218it [1:32:49, 10.58s/it]"
     ]
    },
    {
     "name": "stdout",
     "output_type": "stream",
     "text": [
      "Request failed: HTTPSConnectionPool(host='opencitations.net', port=443): Read timed out. (read timeout=10)\n"
     ]
    },
    {
     "name": "stderr",
     "output_type": "stream",
     "text": [
      "226it [1:33:51,  7.19s/it]"
     ]
    },
    {
     "name": "stdout",
     "output_type": "stream",
     "text": [
      "Request failed: HTTPSConnectionPool(host='opencitations.net', port=443): Read timed out. (read timeout=10)\n"
     ]
    },
    {
     "name": "stderr",
     "output_type": "stream",
     "text": [
      "229it [1:34:31, 10.18s/it]"
     ]
    },
    {
     "name": "stdout",
     "output_type": "stream",
     "text": [
      "Request failed: HTTPSConnectionPool(host='opencitations.net', port=443): Max retries exceeded with url: /index/coci/api/v1/citations/10.1103/PhysRevD.18.3890 (Caused by ConnectTimeoutError(<urllib3.connection.HTTPSConnection object at 0x72fd3ab9ce30>, 'Connection to opencitations.net timed out. (connect timeout=10)'))\n",
      "Request failed: HTTPSConnectionPool(host='opencitations.net', port=443): Max retries exceeded with url: /index/coci/api/v1/citations/10.1103/PhysRevD.10.2445 (Caused by ConnectTimeoutError(<urllib3.connection.HTTPSConnection object at 0x72fc21e39100>, 'Connection to opencitations.net timed out. (connect timeout=10)'))\n"
     ]
    },
    {
     "name": "stderr",
     "output_type": "stream",
     "text": [
      "231it [1:36:03, 24.44s/it]"
     ]
    },
    {
     "name": "stdout",
     "output_type": "stream",
     "text": [
      "Request failed: HTTPSConnectionPool(host='opencitations.net', port=443): Max retries exceeded with url: /index/coci/api/v1/citations/10.1016/S0375-9474(00)00125-1 (Caused by ConnectTimeoutError(<urllib3.connection.HTTPSConnection object at 0x72fe29a2b890>, 'Connection to opencitations.net timed out. (connect timeout=10)'))\n",
      "In crossref got an exception timed out\n",
      "Request failed: HTTPSConnectionPool(host='opencitations.net', port=443): Max retries exceeded with url: /index/coci/api/v1/citations/10.1016/S0375-9474(00)00462-0 (Caused by NameResolutionError(\"<urllib3.connection.HTTPSConnection object at 0x72fd56447830>: Failed to resolve 'opencitations.net' ([Errno -3] Temporary failure in name resolution)\"))\n",
      "In crossref got an exception [Errno -3] Temporary failure in name resolution\n",
      "Request failed: HTTPSConnectionPool(host='opencitations.net', port=443): Max retries exceeded with url: /index/coci/api/v1/citations/10.1016/S0375-9474(00)00613-8 (Caused by NameResolutionError(\"<urllib3.connection.HTTPSConnection object at 0x72fd567238c0>: Failed to resolve 'opencitations.net' ([Errno -3] Temporary failure in name resolution)\"))\n",
      "Request failed: HTTPSConnectionPool(host='opencitations.net', port=443): Read timed out. (read timeout=10)\n",
      "In crossref got an exception timed out\n",
      "Request failed: HTTPSConnectionPool(host='opencitations.net', port=443): Max retries exceeded with url: /index/coci/api/v1/citations/10.1007/s002180050406 (Caused by NameResolutionError(\"<urllib3.connection.HTTPSConnection object at 0x72fd244d0950>: Failed to resolve 'opencitations.net' ([Errno -3] Temporary failure in name resolution)\"))\n",
      "Request failed: HTTPSConnectionPool(host='opencitations.net', port=443): Read timed out. (read timeout=10)\n",
      "Request failed: HTTPSConnectionPool(host='opencitations.net', port=443): Read timed out. (read timeout=10)\n",
      "Request failed: HTTPSConnectionPool(host='opencitations.net', port=443): Read timed out. (read timeout=10)\n",
      "Request failed: HTTPSConnectionPool(host='opencitations.net', port=443): Read timed out. (read timeout=10)\n",
      "Request failed: HTTPSConnectionPool(host='opencitations.net', port=443): Read timed out. (read timeout=10)\n",
      "Request failed: HTTPSConnectionPool(host='opencitations.net', port=443): Read timed out. (read timeout=10)\n",
      "Request failed: HTTPSConnectionPool(host='opencitations.net', port=443): Read timed out. (read timeout=10)\n",
      "Request failed: HTTPSConnectionPool(host='opencitations.net', port=443): Read timed out. (read timeout=10)\n",
      "Request failed: HTTPSConnectionPool(host='opencitations.net', port=443): Read timed out. (read timeout=10)\n",
      "Request failed: HTTPSConnectionPool(host='opencitations.net', port=443): Read timed out. (read timeout=10)\n",
      "Request failed: HTTPSConnectionPool(host='opencitations.net', port=443): Read timed out. (read timeout=10)\n",
      "Request failed: HTTPSConnectionPool(host='opencitations.net', port=443): Read timed out. (read timeout=10)\n",
      "Request failed: HTTPSConnectionPool(host='opencitations.net', port=443): Read timed out. (read timeout=10)\n",
      "Request failed: HTTPSConnectionPool(host='opencitations.net', port=443): Max retries exceeded with url: /index/coci/api/v1/citations/10.1016/0370-2693(86)91404-8 (Caused by ConnectTimeoutError(<urllib3.connection.HTTPSConnection object at 0x72fddf80fb00>, 'Connection to opencitations.net timed out. (connect timeout=10)'))\n",
      "Request failed: HTTPSConnectionPool(host='opencitations.net', port=443): Max retries exceeded with url: /index/coci/api/v1/citations/10.1103/PhysRevD.20.3239 (Caused by ConnectTimeoutError(<urllib3.connection.HTTPSConnection object at 0x72fc2a968e90>, 'Connection to opencitations.net timed out. (connect timeout=10)'))\n",
      "Request failed: HTTPSConnectionPool(host='opencitations.net', port=443): Max retries exceeded with url: /index/coci/api/v1/citations/10.1016/S0370-2693(02)01777-X (Caused by ConnectTimeoutError(<urllib3.connection.HTTPSConnection object at 0x72fde0730530>, 'Connection to opencitations.net timed out. (connect timeout=10)'))\n",
      "Request failed: HTTPSConnectionPool(host='opencitations.net', port=443): Max retries exceeded with url: /index/coci/api/v1/citations/10.1103/PhysRevD.73.074007 (Caused by ConnectTimeoutError(<urllib3.connection.HTTPSConnection object at 0x72fd24455040>, 'Connection to opencitations.net timed out. (connect timeout=10)'))\n",
      "Request failed: HTTPSConnectionPool(host='opencitations.net', port=443): Max retries exceeded with url: /index/coci/api/v1/citations/10.1103/RevModPhys.77.1423 (Caused by ConnectTimeoutError(<urllib3.connection.HTTPSConnection object at 0x72fd21f5c350>, 'Connection to opencitations.net timed out. (connect timeout=10)'))\n",
      "Request failed: HTTPSConnectionPool(host='opencitations.net', port=443): Read timed out. (read timeout=10)\n",
      "Request failed: HTTPSConnectionPool(host='opencitations.net', port=443): Max retries exceeded with url: /index/coci/api/v1/citations/10.1016/S0370-2693(00)00991-6 (Caused by ConnectTimeoutError(<urllib3.connection.HTTPSConnection object at 0x72fd55022690>, 'Connection to opencitations.net timed out. (connect timeout=10)'))\n",
      "Request failed: HTTPSConnectionPool(host='opencitations.net', port=443): Read timed out. (read timeout=10)\n",
      "Request failed: HTTPSConnectionPool(host='opencitations.net', port=443): Read timed out. (read timeout=10)\n",
      "Request failed: HTTPSConnectionPool(host='opencitations.net', port=443): Read timed out. (read timeout=10)\n",
      "Request failed: HTTPSConnectionPool(host='opencitations.net', port=443): Max retries exceeded with url: /index/coci/api/v1/citations/10.1103/PhysRevD.75.034505 (Caused by ConnectTimeoutError(<urllib3.connection.HTTPSConnection object at 0x72fe41578170>, 'Connection to opencitations.net timed out. (connect timeout=10)'))\n",
      "Request failed: HTTPSConnectionPool(host='opencitations.net', port=443): Read timed out. (read timeout=10)\n",
      "Request failed: HTTPSConnectionPool(host='opencitations.net', port=443): Max retries exceeded with url: /index/coci/api/v1/citations/10.1016/0370-2693(88)90571-0 (Caused by ConnectTimeoutError(<urllib3.connection.HTTPSConnection object at 0x72fd5666ff80>, 'Connection to opencitations.net timed out. (connect timeout=10)'))\n",
      "Request failed: HTTPSConnectionPool(host='opencitations.net', port=443): Max retries exceeded with url: /index/coci/api/v1/citations/10.1103/PhysRevLett.85.2080 (Caused by ConnectTimeoutError(<urllib3.connection.HTTPSConnection object at 0x72fd5666c9e0>, 'Connection to opencitations.net timed out. (connect timeout=10)'))\n",
      "Request failed: HTTPSConnectionPool(host='opencitations.net', port=443): Max retries exceeded with url: /index/coci/api/v1/citations/10.1103/PhysRevC.70.044906 (Caused by ConnectTimeoutError(<urllib3.connection.HTTPSConnection object at 0x72fd21f55280>, 'Connection to opencitations.net timed out. (connect timeout=10)'))\n",
      "Request failed: HTTPSConnectionPool(host='opencitations.net', port=443): Max retries exceeded with url: /index/coci/api/v1/citations/10.1016/j.physletb.2008.03.068 (Caused by ConnectTimeoutError(<urllib3.connection.HTTPSConnection object at 0x72fd21f57da0>, 'Connection to opencitations.net timed out. (connect timeout=10)'))\n",
      "Request failed: HTTPSConnectionPool(host='opencitations.net', port=443): Max retries exceeded with url: /index/coci/api/v1/citations/10.1016/S0370-2693(01)00864-4 (Caused by ConnectTimeoutError(<urllib3.connection.HTTPSConnection object at 0x72fd23418560>, 'Connection to opencitations.net timed out. (connect timeout=10)'))\n",
      "Request failed: HTTPSConnectionPool(host='opencitations.net', port=443): Max retries exceeded with url: /index/coci/api/v1/citations/10.1016/j.physletb.2004.12.023 (Caused by ConnectTimeoutError(<urllib3.connection.HTTPSConnection object at 0x72fd2341b110>, 'Connection to opencitations.net timed out. (connect timeout=10)'))\n",
      "Request failed: HTTPSConnectionPool(host='opencitations.net', port=443): Max retries exceeded with url: /index/coci/api/v1/citations/10.1103/PhysRevLett.88.232301 (Caused by ConnectTimeoutError(<urllib3.connection.HTTPSConnection object at 0x72fd21f3e630>, 'Connection to opencitations.net timed out. (connect timeout=10)'))\n"
     ]
    },
    {
     "name": "stderr",
     "output_type": "stream",
     "text": [
      "234it [2:01:21, 234.37s/it]"
     ]
    },
    {
     "name": "stdout",
     "output_type": "stream",
     "text": [
      "Request failed: HTTPSConnectionPool(host='opencitations.net', port=443): Read timed out. (read timeout=10)\n"
     ]
    },
    {
     "name": "stderr",
     "output_type": "stream",
     "text": [
      "235it [2:02:14, 179.79s/it]"
     ]
    },
    {
     "name": "stdout",
     "output_type": "stream",
     "text": [
      "Request failed: HTTPSConnectionPool(host='opencitations.net', port=443): Read timed out. (read timeout=10)\n"
     ]
    },
    {
     "name": "stderr",
     "output_type": "stream",
     "text": [
      "237it [2:02:26, 90.79s/it] "
     ]
    },
    {
     "name": "stdout",
     "output_type": "stream",
     "text": [
      "Request failed: HTTPSConnectionPool(host='opencitations.net', port=443): Max retries exceeded with url: /index/coci/api/v1/citations/10.1007/BF02827775 (Caused by ConnectTimeoutError(<urllib3.connection.HTTPSConnection object at 0x72fcb819a510>, 'Connection to opencitations.net timed out. (connect timeout=10)'))\n"
     ]
    },
    {
     "name": "stderr",
     "output_type": "stream",
     "text": [
      "240it [2:02:46, 34.35s/it]"
     ]
    },
    {
     "name": "stdout",
     "output_type": "stream",
     "text": [
      "Request failed: HTTPSConnectionPool(host='opencitations.net', port=443): Max retries exceeded with url: /index/coci/api/v1/citations/10.1016/0969-8043(93)90112-N (Caused by ConnectTimeoutError(<urllib3.connection.HTTPSConnection object at 0x72fd23434740>, 'Connection to opencitations.net timed out. (connect timeout=10)'))\n",
      "Request failed: HTTPSConnectionPool(host='opencitations.net', port=443): Max retries exceeded with url: /index/coci/api/v1/citations/10.1016/0969-8043(94)90123-6 (Caused by ConnectTimeoutError(<urllib3.connection.HTTPSConnection object at 0x72fd234354f0>, 'Connection to opencitations.net timed out. (connect timeout=10)'))\n"
     ]
    },
    {
     "name": "stderr",
     "output_type": "stream",
     "text": [
      "241it [2:03:18, 33.60s/it]"
     ]
    },
    {
     "name": "stdout",
     "output_type": "stream",
     "text": [
      "Request failed: HTTPSConnectionPool(host='opencitations.net', port=443): Max retries exceeded with url: /index/coci/api/v1/citations/10.1103/RevModPhys.35.335 (Caused by ConnectTimeoutError(<urllib3.connection.HTTPSConnection object at 0x72fd234377d0>, 'Connection to opencitations.net timed out. (connect timeout=10)'))\n"
     ]
    },
    {
     "name": "stderr",
     "output_type": "stream",
     "text": [
      "243it [2:03:36, 20.41s/it]"
     ]
    },
    {
     "name": "stdout",
     "output_type": "stream",
     "text": [
      "Request failed: HTTPSConnectionPool(host='opencitations.net', port=443): Max retries exceeded with url: /index/coci/api/v1/citations/10.1063/1.1150301 (Caused by ConnectTimeoutError(<urllib3.connection.HTTPSConnection object at 0x72fd234358b0>, 'Connection to opencitations.net timed out. (connect timeout=10)'))\n",
      "Request failed: HTTPSConnectionPool(host='opencitations.net', port=443): Max retries exceeded with url: /index/coci/api/v1/citations/10.1063/1.1427032 (Caused by ConnectTimeoutError(<urllib3.connection.HTTPSConnection object at 0x72fd21f4e660>, 'Connection to opencitations.net timed out. (connect timeout=10)'))\n"
     ]
    },
    {
     "name": "stderr",
     "output_type": "stream",
     "text": [
      "245it [2:04:11, 17.89s/it]"
     ]
    },
    {
     "name": "stdout",
     "output_type": "stream",
     "text": [
      "Request failed: HTTPSConnectionPool(host='opencitations.net', port=443): Max retries exceeded with url: /index/coci/api/v1/citations/10.1002/pssb.2221500144 (Caused by ConnectTimeoutError(<urllib3.connection.HTTPSConnection object at 0x72fd21f4f800>, 'Connection to opencitations.net timed out. (connect timeout=10)'))\n",
      "Request failed: HTTPSConnectionPool(host='opencitations.net', port=443): Max retries exceeded with url: /index/coci/api/v1/citations/10.1063/1.435259 (Caused by ConnectTimeoutError(<urllib3.connection.HTTPSConnection object at 0x72fd21f4e030>, 'Connection to opencitations.net timed out. (connect timeout=10)'))\n"
     ]
    },
    {
     "name": "stderr",
     "output_type": "stream",
     "text": [
      "246it [2:04:43, 22.35s/it]"
     ]
    },
    {
     "name": "stdout",
     "output_type": "stream",
     "text": [
      "Request failed: HTTPSConnectionPool(host='opencitations.net', port=443): Read timed out. (read timeout=10)\n"
     ]
    },
    {
     "name": "stderr",
     "output_type": "stream",
     "text": [
      "250it [2:05:45, 14.18s/it]"
     ]
    },
    {
     "name": "stdout",
     "output_type": "stream",
     "text": [
      "Request failed: HTTPSConnectionPool(host='opencitations.net', port=443): Read timed out. (read timeout=10)\n",
      "Request failed: HTTPSConnectionPool(host='opencitations.net', port=443): Read timed out. (read timeout=10)\n",
      "HTTP error: 400 Client Error: Bad Request for url: https://opencitations.net/index/coci/api/v1/citations/10.1103/PhysicsPhysiqueFizika.1.195\n",
      "Request failed: HTTPSConnectionPool(host='opencitations.net', port=443): Read timed out. (read timeout=10)\n"
     ]
    },
    {
     "name": "stderr",
     "output_type": "stream",
     "text": [
      "266it [2:10:06,  6.68s/it]"
     ]
    },
    {
     "name": "stdout",
     "output_type": "stream",
     "text": [
      "Request failed: HTTPSConnectionPool(host='opencitations.net', port=443): Read timed out. (read timeout=10)\n",
      "Request failed: HTTPSConnectionPool(host='opencitations.net', port=443): Read timed out. (read timeout=10)\n",
      "Request failed: HTTPSConnectionPool(host='opencitations.net', port=443): Read timed out. (read timeout=10)\n",
      "Request failed: HTTPSConnectionPool(host='opencitations.net', port=443): Read timed out. (read timeout=10)\n",
      "Request failed: HTTPSConnectionPool(host='opencitations.net', port=443): Read timed out. (read timeout=10)\n"
     ]
    },
    {
     "name": "stderr",
     "output_type": "stream",
     "text": [
      "267it [2:11:44, 34.04s/it]"
     ]
    },
    {
     "name": "stdout",
     "output_type": "stream",
     "text": [
      "Request failed: HTTPSConnectionPool(host='opencitations.net', port=443): Read timed out. (read timeout=10)\n"
     ]
    },
    {
     "name": "stderr",
     "output_type": "stream",
     "text": [
      "272it [2:12:37, 14.04s/it]"
     ]
    },
    {
     "name": "stdout",
     "output_type": "stream",
     "text": [
      "Request failed: HTTPSConnectionPool(host='opencitations.net', port=443): Read timed out. (read timeout=10)\n"
     ]
    },
    {
     "name": "stderr",
     "output_type": "stream",
     "text": [
      "273it [2:12:54, 15.21s/it]"
     ]
    },
    {
     "name": "stdout",
     "output_type": "stream",
     "text": [
      "Request failed: HTTPSConnectionPool(host='opencitations.net', port=443): Read timed out. (read timeout=10)\n"
     ]
    },
    {
     "name": "stderr",
     "output_type": "stream",
     "text": [
      "286it [2:15:09,  8.64s/it]"
     ]
    },
    {
     "name": "stdout",
     "output_type": "stream",
     "text": [
      "Request failed: HTTPSConnectionPool(host='opencitations.net', port=443): Read timed out. (read timeout=10)\n",
      "Request failed: HTTPSConnectionPool(host='opencitations.net', port=443): Read timed out. (read timeout=10)\n"
     ]
    },
    {
     "name": "stderr",
     "output_type": "stream",
     "text": [
      "289it [2:15:54, 10.17s/it]"
     ]
    },
    {
     "name": "stdout",
     "output_type": "stream",
     "text": [
      "Request failed: HTTPSConnectionPool(host='opencitations.net', port=443): Read timed out. (read timeout=10)\n",
      "Request failed: HTTPSConnectionPool(host='opencitations.net', port=443): Max retries exceeded with url: /index/coci/api/v1/citations/10.1146/annurev.aa.05.090167.002341 (Caused by ConnectTimeoutError(<urllib3.connection.HTTPSConnection object at 0x72fd5666c890>, 'Connection to opencitations.net timed out. (connect timeout=10)'))\n",
      "Request failed: HTTPSConnectionPool(host='opencitations.net', port=443): Max retries exceeded with url: /index/coci/api/v1/citations/10.1103/PhysRev.78.22 (Caused by ConnectTimeoutError(<urllib3.connection.HTTPSConnection object at 0x72fde0679070>, 'Connection to opencitations.net timed out. (connect timeout=10)'))\n",
      "HTTP error: 400 Client Error: Bad Request for url: https://opencitations.net/index/coci/api/v1/citations/10.1103/PhysRev.108.1175\n",
      "Request failed: HTTPSConnectionPool(host='opencitations.net', port=443): Max retries exceeded with url: /index/coci/api/v1/citations/10.1103/PhysRev.103.1786 (Caused by ConnectTimeoutError(<urllib3.connection.HTTPSConnection object at 0x72fd234a9970>, 'Connection to opencitations.net timed out. (connect timeout=10)'))\n",
      "Request failed: HTTPSConnectionPool(host='opencitations.net', port=443): Max retries exceeded with url: /index/coci/api/v1/citations/10.1103/PhysRevLett.5.511 (Caused by ConnectTimeoutError(<urllib3.connection.HTTPSConnection object at 0x72fd003a5700>, 'Connection to opencitations.net timed out. (connect timeout=10)'))\n",
      "Request failed: HTTPSConnectionPool(host='opencitations.net', port=443): Max retries exceeded with url: /index/coci/api/v1/citations/10.1103/PhysRevC.14.1704 (Caused by ConnectTimeoutError(<urllib3.connection.HTTPSConnection object at 0x72fd52852ae0>, 'Connection to opencitations.net timed out. (connect timeout=10)'))\n",
      "Request failed: HTTPSConnectionPool(host='opencitations.net', port=443): Max retries exceeded with url: /index/coci/api/v1/citations/10.1016/0370-2693(75)90684-X (Caused by ConnectTimeoutError(<urllib3.connection.HTTPSConnection object at 0x72fde8486930>, 'Connection to opencitations.net timed out. (connect timeout=10)'))\n",
      "Request failed: HTTPSConnectionPool(host='opencitations.net', port=443): Read timed out. (read timeout=10)\n"
     ]
    },
    {
     "name": "stderr",
     "output_type": "stream",
     "text": [
      "291it [2:18:51, 42.47s/it]"
     ]
    },
    {
     "name": "stdout",
     "output_type": "stream",
     "text": [
      "Request failed: HTTPSConnectionPool(host='opencitations.net', port=443): Read timed out. (read timeout=10)\n",
      "Request failed: HTTPSConnectionPool(host='opencitations.net', port=443): Read timed out. (read timeout=10)\n"
     ]
    },
    {
     "name": "stderr",
     "output_type": "stream",
     "text": [
      "292it [2:19:55, 48.96s/it]"
     ]
    },
    {
     "name": "stdout",
     "output_type": "stream",
     "text": [
      "Request failed: HTTPSConnectionPool(host='opencitations.net', port=443): Read timed out. (read timeout=10)\n",
      "Request failed: HTTPSConnectionPool(host='opencitations.net', port=443): Read timed out. (read timeout=10)\n",
      "Request failed: HTTPSConnectionPool(host='opencitations.net', port=443): Read timed out. (read timeout=10)\n",
      "Request failed: HTTPSConnectionPool(host='opencitations.net', port=443): Read timed out. (read timeout=10)\n",
      "Request failed: HTTPSConnectionPool(host='opencitations.net', port=443): Read timed out. (read timeout=10)\n",
      "Request failed: HTTPSConnectionPool(host='opencitations.net', port=443): Read timed out. (read timeout=10)\n",
      "Request failed: HTTPSConnectionPool(host='opencitations.net', port=443): Max retries exceeded with url: /index/coci/api/v1/citations/10.1016/0010-4655(82)90060-1 (Caused by ConnectTimeoutError(<urllib3.connection.HTTPSConnection object at 0x72fd3b9b5a00>, 'Connection to opencitations.net timed out. (connect timeout=10)'))\n"
     ]
    },
    {
     "name": "stderr",
     "output_type": "stream",
     "text": [
      "294it [2:25:01, 89.25s/it] "
     ]
    },
    {
     "name": "stdout",
     "output_type": "stream",
     "text": [
      "HTTP error: 400 Client Error: Bad Request for url: https://opencitations.net/index/coci/api/v1/citations/10.1103/PhysRevLett.8.142\n"
     ]
    },
    {
     "name": "stderr",
     "output_type": "stream",
     "text": [
      "296it [2:25:59, 57.97s/it]"
     ]
    },
    {
     "name": "stdout",
     "output_type": "stream",
     "text": [
      "Request failed: HTTPSConnectionPool(host='opencitations.net', port=443): Read timed out. (read timeout=10)\n"
     ]
    },
    {
     "name": "stderr",
     "output_type": "stream",
     "text": [
      "297it [2:26:10, 43.89s/it]"
     ]
    },
    {
     "name": "stdout",
     "output_type": "stream",
     "text": [
      "Request failed: HTTPSConnectionPool(host='opencitations.net', port=443): Read timed out. (read timeout=10)\n",
      "Request failed: HTTPSConnectionPool(host='opencitations.net', port=443): Read timed out. (read timeout=10)\n"
     ]
    },
    {
     "name": "stderr",
     "output_type": "stream",
     "text": [
      "304it [2:29:01, 30.80s/it]"
     ]
    },
    {
     "name": "stdout",
     "output_type": "stream",
     "text": [
      "Request failed: HTTPSConnectionPool(host='opencitations.net', port=443): Max retries exceeded with url: /index/coci/api/v1/citations/10.1002/pssb.2221230251 (Caused by ConnectTimeoutError(<urllib3.connection.HTTPSConnection object at 0x72fd21f1f4d0>, 'Connection to opencitations.net timed out. (connect timeout=10)'))\n",
      "Request failed: HTTPSConnectionPool(host='opencitations.net', port=443): Max retries exceeded with url: /index/coci/api/v1/citations/10.1016/0038-1098(79)91051-2 (Caused by ConnectTimeoutError(<urllib3.connection.HTTPSConnection object at 0x72fd21f1e960>, 'Connection to opencitations.net timed out. (connect timeout=10)'))\n"
     ]
    },
    {
     "name": "stderr",
     "output_type": "stream",
     "text": [
      "306it [2:29:40, 23.51s/it]"
     ]
    },
    {
     "name": "stdout",
     "output_type": "stream",
     "text": [
      "Request failed: HTTPSConnectionPool(host='opencitations.net', port=443): Read timed out. (read timeout=10)\n"
     ]
    },
    {
     "name": "stderr",
     "output_type": "stream",
     "text": [
      "315it [2:31:15,  7.93s/it]"
     ]
    },
    {
     "name": "stdout",
     "output_type": "stream",
     "text": [
      "Request failed: HTTPSConnectionPool(host='opencitations.net', port=443): Read timed out. (read timeout=10)\n",
      "Request failed: HTTPSConnectionPool(host='opencitations.net', port=443): Read timed out. (read timeout=10)\n",
      "Request failed: HTTPSConnectionPool(host='opencitations.net', port=443): Read timed out. (read timeout=10)\n",
      "Request failed: HTTPSConnectionPool(host='opencitations.net', port=443): Read timed out. (read timeout=10)\n",
      "Request failed: HTTPSConnectionPool(host='opencitations.net', port=443): Read timed out. (read timeout=10)\n",
      "Request failed: HTTPSConnectionPool(host='opencitations.net', port=443): Read timed out. (read timeout=10)\n",
      "Request failed: HTTPSConnectionPool(host='opencitations.net', port=443): Read timed out. (read timeout=10)\n",
      "Request failed: HTTPSConnectionPool(host='opencitations.net', port=443): Read timed out. (read timeout=10)\n",
      "Request failed: HTTPSConnectionPool(host='opencitations.net', port=443): Read timed out. (read timeout=10)\n",
      "Request failed: HTTPSConnectionPool(host='opencitations.net', port=443): Read timed out. (read timeout=10)\n",
      "Request failed: HTTPSConnectionPool(host='opencitations.net', port=443): Read timed out. (read timeout=10)\n",
      "HTTP error: 400 Client Error: Bad Request for url: https://opencitations.net/index/coci/api/v1/citations/10.1016/S0168-9002(03)01368-8\n",
      "Request failed: HTTPSConnectionPool(host='opencitations.net', port=443): Read timed out. (read timeout=10)\n",
      "Request failed: HTTPSConnectionPool(host='opencitations.net', port=443): Read timed out. (read timeout=10)\n",
      "Request failed: HTTPSConnectionPool(host='opencitations.net', port=443): Read timed out. (read timeout=10)\n",
      "Request failed: HTTPSConnectionPool(host='opencitations.net', port=443): Read timed out. (read timeout=10)\n",
      "Request failed: HTTPSConnectionPool(host='opencitations.net', port=443): Read timed out. (read timeout=10)\n",
      "Request failed: HTTPSConnectionPool(host='opencitations.net', port=443): Read timed out. (read timeout=10)\n",
      "Request failed: HTTPSConnectionPool(host='opencitations.net', port=443): Read timed out. (read timeout=10)\n",
      "Request failed: HTTPSConnectionPool(host='opencitations.net', port=443): Read timed out. (read timeout=10)\n",
      "Request failed: HTTPSConnectionPool(host='opencitations.net', port=443): Read timed out. (read timeout=10)\n",
      "Request failed: HTTPSConnectionPool(host='opencitations.net', port=443): Read timed out. (read timeout=10)\n",
      "Request failed: HTTPSConnectionPool(host='opencitations.net', port=443): Read timed out. (read timeout=10)\n",
      "Request failed: HTTPSConnectionPool(host='opencitations.net', port=443): Read timed out. (read timeout=10)\n",
      "Request failed: HTTPSConnectionPool(host='opencitations.net', port=443): Read timed out. (read timeout=10)\n",
      "Request failed: HTTPSConnectionPool(host='opencitations.net', port=443): Read timed out. (read timeout=10)\n",
      "Request failed: HTTPSConnectionPool(host='opencitations.net', port=443): Read timed out. (read timeout=10)\n",
      "Request failed: HTTPSConnectionPool(host='opencitations.net', port=443): Read timed out. (read timeout=10)\n",
      "Request failed: HTTPSConnectionPool(host='opencitations.net', port=443): Read timed out. (read timeout=10)\n",
      "Request failed: HTTPSConnectionPool(host='opencitations.net', port=443): Read timed out. (read timeout=10)\n",
      "Request failed: HTTPSConnectionPool(host='opencitations.net', port=443): Read timed out. (read timeout=10)\n",
      "Request failed: HTTPSConnectionPool(host='opencitations.net', port=443): Read timed out. (read timeout=10)\n",
      "Request failed: HTTPSConnectionPool(host='opencitations.net', port=443): Read timed out. (read timeout=10)\n",
      "Request failed: HTTPSConnectionPool(host='opencitations.net', port=443): Read timed out. (read timeout=10)\n",
      "Request failed: HTTPSConnectionPool(host='opencitations.net', port=443): Max retries exceeded with url: /index/coci/api/v1/citations/10.1088/0954-3899/28/10/313 (Caused by ConnectTimeoutError(<urllib3.connection.HTTPSConnection object at 0x72fde88e6240>, 'Connection to opencitations.net timed out. (connect timeout=10)'))\n",
      "Request failed: HTTPSConnectionPool(host='opencitations.net', port=443): Read timed out. (read timeout=10)\n"
     ]
    },
    {
     "name": "stderr",
     "output_type": "stream",
     "text": [
      "320it [2:39:35, 51.83s/it] "
     ]
    },
    {
     "name": "stdout",
     "output_type": "stream",
     "text": [
      "Request failed: HTTPSConnectionPool(host='opencitations.net', port=443): Max retries exceeded with url: /index/coci/api/v1/citations/10.1016/0165-7992(81)90051-8 (Caused by ConnectTimeoutError(<urllib3.connection.HTTPSConnection object at 0x72fde0730080>, 'Connection to opencitations.net timed out. (connect timeout=10)'))\n",
      "Request failed: HTTPSConnectionPool(host='opencitations.net', port=443): Max retries exceeded with url: /index/coci/api/v1/citations/10.1007/BF00352529 (Caused by ConnectTimeoutError(<urllib3.connection.HTTPSConnection object at 0x72fd545c1880>, 'Connection to opencitations.net timed out. (connect timeout=10)'))\n",
      "Request failed: HTTPSConnectionPool(host='opencitations.net', port=443): Max retries exceeded with url: /index/coci/api/v1/citations/10.1016/0027-5107(69)90072-4 (Caused by ConnectTimeoutError(<urllib3.connection.HTTPSConnection object at 0x72fd545c1430>, 'Connection to opencitations.net timed out. (connect timeout=10)'))\n",
      "Request failed: HTTPSConnectionPool(host='opencitations.net', port=443): Max retries exceeded with url: /index/coci/api/v1/citations/10.1146/annurev.bi.49.070180.004213 (Caused by ConnectTimeoutError(<urllib3.connection.HTTPSConnection object at 0x72fd3ab7bcb0>, 'Connection to opencitations.net timed out. (connect timeout=10)'))\n",
      "Request failed: HTTPSConnectionPool(host='opencitations.net', port=443): Max retries exceeded with url: /index/coci/api/v1/citations/10.1007/BF00446914 (Caused by ConnectTimeoutError(<urllib3.connection.HTTPSConnection object at 0x72fcb819abd0>, 'Connection to opencitations.net timed out. (connect timeout=10)'))\n",
      "Request failed: HTTPSConnectionPool(host='opencitations.net', port=443): Max retries exceeded with url: /index/coci/api/v1/citations/10.1111/j.1751-1097.1975.tb06703.x (Caused by ConnectTimeoutError(<urllib3.connection.HTTPSConnection object at 0x72fd2348d910>, 'Connection to opencitations.net timed out. (connect timeout=10)'))\n"
     ]
    },
    {
     "name": "stderr",
     "output_type": "stream",
     "text": [
      "327it [2:41:35, 12.97s/it]"
     ]
    },
    {
     "name": "stdout",
     "output_type": "stream",
     "text": [
      "Request failed: HTTPSConnectionPool(host='opencitations.net', port=443): Max retries exceeded with url: /index/coci/api/v1/citations/10.1007/3-540-10290-6 (Caused by ConnectTimeoutError(<urllib3.connection.HTTPSConnection object at 0x72fd24481130>, 'Connection to opencitations.net timed out. (connect timeout=10)'))\n"
     ]
    },
    {
     "name": "stderr",
     "output_type": "stream",
     "text": [
      "330it [2:41:54,  7.66s/it]"
     ]
    },
    {
     "name": "stdout",
     "output_type": "stream",
     "text": [
      "Request failed: HTTPSConnectionPool(host='opencitations.net', port=443): Max retries exceeded with url: /index/coci/api/v1/citations/10.1103/PhysRevLett.29.500 (Caused by ConnectTimeoutError(<urllib3.connection.HTTPSConnection object at 0x72fd3bca8260>, 'Connection to opencitations.net timed out. (connect timeout=10)'))\n",
      "Request failed: HTTPSConnectionPool(host='opencitations.net', port=443): Max retries exceeded with url: /index/coci/api/v1/citations/10.1016/0370-2693(87)90555-7 (Caused by ConnectTimeoutError(<urllib3.connection.HTTPSConnection object at 0x72fd3bcaabd0>, 'Connection to opencitations.net timed out. (connect timeout=10)'))\n"
     ]
    },
    {
     "name": "stderr",
     "output_type": "stream",
     "text": [
      "333it [2:42:34,  9.40s/it]"
     ]
    },
    {
     "name": "stdout",
     "output_type": "stream",
     "text": [
      "Request failed: HTTPSConnectionPool(host='opencitations.net', port=443): Max retries exceeded with url: /index/coci/api/v1/citations/10.1002/pssb.2221490145 (Caused by ConnectTimeoutError(<urllib3.connection.HTTPSConnection object at 0x72fd54399850>, 'Connection to opencitations.net timed out. (connect timeout=10)'))\n"
     ]
    },
    {
     "name": "stderr",
     "output_type": "stream",
     "text": [
      "334it [2:43:00, 14.40s/it]"
     ]
    },
    {
     "name": "stdout",
     "output_type": "stream",
     "text": [
      "Request failed: HTTPSConnectionPool(host='opencitations.net', port=443): Max retries exceeded with url: /index/coci/api/v1/citations/10.1143/JPSJ.51.213 (Caused by ConnectTimeoutError(<urllib3.connection.HTTPSConnection object at 0x72fd54398e60>, 'Connection to opencitations.net timed out. (connect timeout=10)'))\n"
     ]
    },
    {
     "name": "stderr",
     "output_type": "stream",
     "text": [
      "343it [2:44:30, 10.58s/it]"
     ]
    },
    {
     "name": "stdout",
     "output_type": "stream",
     "text": [
      "Request failed: HTTPSConnectionPool(host='opencitations.net', port=443): Read timed out. (read timeout=10)\n"
     ]
    },
    {
     "name": "stderr",
     "output_type": "stream",
     "text": [
      "344it [2:44:42, 10.77s/it]"
     ]
    },
    {
     "name": "stdout",
     "output_type": "stream",
     "text": [
      "Request failed: HTTPSConnectionPool(host='opencitations.net', port=443): Read timed out. (read timeout=10)\n"
     ]
    },
    {
     "name": "stderr",
     "output_type": "stream",
     "text": [
      "345it [2:44:53, 11.00s/it]"
     ]
    },
    {
     "name": "stdout",
     "output_type": "stream",
     "text": [
      "Request failed: HTTPSConnectionPool(host='opencitations.net', port=443): Read timed out. (read timeout=10)\n",
      "Request failed: HTTPSConnectionPool(host='opencitations.net', port=443): Max retries exceeded with url: /index/coci/api/v1/citations/10.1088/0954-3899/30/8/008 (Caused by ConnectTimeoutError(<urllib3.connection.HTTPSConnection object at 0x72fe12f59d90>, 'Connection to opencitations.net timed out. (connect timeout=10)'))\n",
      "Request failed: HTTPSConnectionPool(host='opencitations.net', port=443): Read timed out. (read timeout=10)\n",
      "Request failed: HTTPSConnectionPool(host='opencitations.net', port=443): Read timed out. (read timeout=10)\n",
      "Request failed: HTTPSConnectionPool(host='opencitations.net', port=443): Read timed out. (read timeout=10)\n"
     ]
    },
    {
     "name": "stderr",
     "output_type": "stream",
     "text": [
      "346it [2:47:56, 62.62s/it]"
     ]
    },
    {
     "name": "stdout",
     "output_type": "stream",
     "text": [
      "Request failed: HTTPSConnectionPool(host='opencitations.net', port=443): Read timed out. (read timeout=10)\n"
     ]
    },
    {
     "name": "stderr",
     "output_type": "stream",
     "text": [
      "349it [2:49:59, 47.32s/it]"
     ]
    },
    {
     "name": "stdout",
     "output_type": "stream",
     "text": [
      "Request failed: HTTPSConnectionPool(host='opencitations.net', port=443): Read timed out. (read timeout=10)\n",
      "Request failed: HTTPSConnectionPool(host='opencitations.net', port=443): Read timed out. (read timeout=10)\n",
      "Request failed: HTTPSConnectionPool(host='opencitations.net', port=443): Read timed out. (read timeout=10)\n",
      "Request failed: HTTPSConnectionPool(host='opencitations.net', port=443): Read timed out. (read timeout=10)\n",
      "Request failed: HTTPSConnectionPool(host='opencitations.net', port=443): Read timed out. (read timeout=10)\n",
      "Request failed: HTTPSConnectionPool(host='opencitations.net', port=443): Read timed out. (read timeout=10)\n",
      "Request failed: HTTPSConnectionPool(host='opencitations.net', port=443): Read timed out. (read timeout=10)\n",
      "Request failed: HTTPSConnectionPool(host='opencitations.net', port=443): Read timed out. (read timeout=10)\n",
      "Request failed: HTTPSConnectionPool(host='opencitations.net', port=443): Read timed out. (read timeout=10)\n",
      "Request failed: HTTPSConnectionPool(host='opencitations.net', port=443): Read timed out. (read timeout=10)\n",
      "Request failed: HTTPSConnectionPool(host='opencitations.net', port=443): Read timed out. (read timeout=10)\n",
      "Request failed: HTTPSConnectionPool(host='opencitations.net', port=443): Read timed out. (read timeout=10)\n",
      "Request failed: HTTPSConnectionPool(host='opencitations.net', port=443): Read timed out. (read timeout=10)\n",
      "Request failed: HTTPSConnectionPool(host='opencitations.net', port=443): Read timed out. (read timeout=10)\n",
      "Request failed: HTTPSConnectionPool(host='opencitations.net', port=443): Read timed out. (read timeout=10)\n"
     ]
    },
    {
     "name": "stderr",
     "output_type": "stream",
     "text": [
      "350it [2:54:58, 122.71s/it]"
     ]
    },
    {
     "name": "stdout",
     "output_type": "stream",
     "text": [
      "Request failed: HTTPSConnectionPool(host='opencitations.net', port=443): Read timed out. (read timeout=10)\n"
     ]
    },
    {
     "name": "stderr",
     "output_type": "stream",
     "text": [
      "351it [2:55:14, 90.78s/it] "
     ]
    },
    {
     "name": "stdout",
     "output_type": "stream",
     "text": [
      "In crossref got an exception The read operation timed out\n"
     ]
    },
    {
     "name": "stderr",
     "output_type": "stream",
     "text": [
      "352it [2:55:24, 66.68s/it]"
     ]
    },
    {
     "name": "stdout",
     "output_type": "stream",
     "text": [
      "Request failed: HTTPSConnectionPool(host='opencitations.net', port=443): Read timed out. (read timeout=10)\n",
      "Request failed: HTTPSConnectionPool(host='opencitations.net', port=443): Max retries exceeded with url: /index/coci/api/v1/citations/10.1016/0370-2693(82)90967-4 (Caused by ConnectTimeoutError(<urllib3.connection.HTTPSConnection object at 0x72fe29f3c410>, 'Connection to opencitations.net timed out. (connect timeout=10)'))\n",
      "Request failed: HTTPSConnectionPool(host='opencitations.net', port=443): Read timed out. (read timeout=10)\n"
     ]
    },
    {
     "name": "stderr",
     "output_type": "stream",
     "text": [
      "353it [2:56:38, 68.85s/it]"
     ]
    },
    {
     "name": "stdout",
     "output_type": "stream",
     "text": [
      "Request failed: HTTPSConnectionPool(host='opencitations.net', port=443): Read timed out. (read timeout=10)\n"
     ]
    },
    {
     "name": "stderr",
     "output_type": "stream",
     "text": [
      "354it [2:57:20, 60.61s/it]"
     ]
    },
    {
     "name": "stdout",
     "output_type": "stream",
     "text": [
      "Request failed: HTTPSConnectionPool(host='opencitations.net', port=443): Read timed out. (read timeout=10)\n",
      "Request failed: HTTPSConnectionPool(host='opencitations.net', port=443): Read timed out. (read timeout=10)\n"
     ]
    },
    {
     "name": "stderr",
     "output_type": "stream",
     "text": [
      "355it [2:58:16, 59.45s/it]"
     ]
    },
    {
     "name": "stdout",
     "output_type": "stream",
     "text": [
      "Request failed: HTTPSConnectionPool(host='opencitations.net', port=443): Max retries exceeded with url: /index/coci/api/v1/citations/10.1103/PhysRevLett.26.1190 (Caused by ConnectTimeoutError(<urllib3.connection.HTTPSConnection object at 0x72fd569f2300>, 'Connection to opencitations.net timed out. (connect timeout=10)'))\n",
      "Request failed: HTTPSConnectionPool(host='opencitations.net', port=443): Read timed out. (read timeout=10)\n"
     ]
    },
    {
     "name": "stderr",
     "output_type": "stream",
     "text": [
      "357it [2:59:09, 40.50s/it]"
     ]
    },
    {
     "name": "stdout",
     "output_type": "stream",
     "text": [
      "Request failed: HTTPSConnectionPool(host='opencitations.net', port=443): Read timed out. (read timeout=10)\n",
      "Request failed: HTTPSConnectionPool(host='opencitations.net', port=443): Read timed out. (read timeout=10)\n",
      "Request failed: HTTPSConnectionPool(host='opencitations.net', port=443): Read timed out. (read timeout=10)\n"
     ]
    },
    {
     "name": "stderr",
     "output_type": "stream",
     "text": [
      "358it [3:00:11, 47.00s/it]"
     ]
    },
    {
     "name": "stdout",
     "output_type": "stream",
     "text": [
      "Request failed: HTTPSConnectionPool(host='opencitations.net', port=443): Read timed out. (read timeout=10)\n",
      "Request failed: HTTPSConnectionPool(host='opencitations.net', port=443): Read timed out. (read timeout=10)\n",
      "In crossref got an exception The read operation timed out\n",
      "Request failed: HTTPSConnectionPool(host='opencitations.net', port=443): Max retries exceeded with url: /index/coci/api/v1/citations/10.1016/0029-5582(63)90505-4 (Caused by ConnectTimeoutError(<urllib3.connection.HTTPSConnection object at 0x72fd3986c200>, 'Connection to opencitations.net timed out. (connect timeout=10)'))\n",
      "Request failed: HTTPSConnectionPool(host='opencitations.net', port=443): Read timed out. (read timeout=10)\n",
      "Request failed: HTTPSConnectionPool(host='opencitations.net', port=443): Read timed out. (read timeout=10)\n",
      "Request failed: HTTPSConnectionPool(host='opencitations.net', port=443): Max retries exceeded with url: /index/coci/api/v1/citations/10.1016/0031-9163(62)90069-0 (Caused by ConnectTimeoutError(<urllib3.connection.HTTPSConnection object at 0x72fe10259d30>, 'Connection to opencitations.net timed out. (connect timeout=10)'))\n",
      "Request failed: HTTPSConnectionPool(host='opencitations.net', port=443): Read timed out. (read timeout=10)\n"
     ]
    },
    {
     "name": "stderr",
     "output_type": "stream",
     "text": [
      "360it [3:03:00, 62.02s/it]"
     ]
    },
    {
     "name": "stdout",
     "output_type": "stream",
     "text": [
      "Request failed: HTTPSConnectionPool(host='opencitations.net', port=443): Read timed out. (read timeout=10)\n"
     ]
    },
    {
     "name": "stderr",
     "output_type": "stream",
     "text": [
      "361it [3:03:11, 46.95s/it]"
     ]
    },
    {
     "name": "stdout",
     "output_type": "stream",
     "text": [
      "Request failed: HTTPSConnectionPool(host='opencitations.net', port=443): Read timed out. (read timeout=10)\n"
     ]
    },
    {
     "name": "stderr",
     "output_type": "stream",
     "text": [
      "362it [3:03:23, 36.42s/it]"
     ]
    },
    {
     "name": "stdout",
     "output_type": "stream",
     "text": [
      "Request failed: HTTPSConnectionPool(host='opencitations.net', port=443): Read timed out. (read timeout=10)\n",
      "Request failed: HTTPSConnectionPool(host='opencitations.net', port=443): Read timed out. (read timeout=10)\n",
      "Request failed: HTTPSConnectionPool(host='opencitations.net', port=443): Read timed out. (read timeout=10)\n",
      "Request failed: HTTPSConnectionPool(host='opencitations.net', port=443): Read timed out. (read timeout=10)\n",
      "Request failed: HTTPSConnectionPool(host='opencitations.net', port=443): Read timed out. (read timeout=10)\n",
      "Request failed: HTTPSConnectionPool(host='opencitations.net', port=443): Read timed out. (read timeout=10)\n",
      "Request failed: HTTPSConnectionPool(host='opencitations.net', port=443): Read timed out. (read timeout=10)\n",
      "Request failed: HTTPSConnectionPool(host='opencitations.net', port=443): Read timed out. (read timeout=10)\n",
      "Request failed: HTTPSConnectionPool(host='opencitations.net', port=443): Read timed out. (read timeout=10)\n",
      "Request failed: HTTPSConnectionPool(host='opencitations.net', port=443): Read timed out. (read timeout=10)\n",
      "Request failed: HTTPSConnectionPool(host='opencitations.net', port=443): Read timed out. (read timeout=10)\n"
     ]
    },
    {
     "name": "stderr",
     "output_type": "stream",
     "text": [
      "363it [3:05:26, 62.45s/it]"
     ]
    },
    {
     "name": "stdout",
     "output_type": "stream",
     "text": [
      "Request failed: HTTPSConnectionPool(host='opencitations.net', port=443): Read timed out. (read timeout=10)\n",
      "Request failed: HTTPSConnectionPool(host='opencitations.net', port=443): Read timed out. (read timeout=10)\n"
     ]
    },
    {
     "name": "stderr",
     "output_type": "stream",
     "text": [
      "365it [3:06:03, 38.96s/it]"
     ]
    },
    {
     "name": "stdout",
     "output_type": "stream",
     "text": [
      "In crossref got an exception timed out\n",
      "Request failed: HTTPSConnectionPool(host='opencitations.net', port=443): Max retries exceeded with url: /index/coci/api/v1/citations/10.1103/PhysRevB.74.094513 (Caused by ConnectTimeoutError(<urllib3.connection.HTTPSConnection object at 0x72fe415cd2b0>, 'Connection to opencitations.net timed out. (connect timeout=10)'))\n"
     ]
    },
    {
     "name": "stderr",
     "output_type": "stream",
     "text": [
      "380it [3:08:31,  5.00s/it]"
     ]
    },
    {
     "name": "stdout",
     "output_type": "stream",
     "text": [
      "In crossref got an exception Client error '404 Not Found' for url 'https://api.crossref.org/works/10.4032/9789814613972'\n",
      "For more information check: https://developer.mozilla.org/en-US/docs/Web/HTTP/Status/404\n",
      "Request failed: HTTPSConnectionPool(host='opencitations.net', port=443): Read timed out. (read timeout=10)\n"
     ]
    },
    {
     "name": "stderr",
     "output_type": "stream",
     "text": [
      "393it [3:10:13,  8.84s/it]"
     ]
    },
    {
     "name": "stdout",
     "output_type": "stream",
     "text": [
      "HTTP error: 400 Client Error: Bad Request for url: https://opencitations.net/index/coci/api/v1/citations/10.1007/BF01303701\n",
      "Request failed: HTTPSConnectionPool(host='opencitations.net', port=443): Read timed out. (read timeout=10)\n"
     ]
    },
    {
     "name": "stderr",
     "output_type": "stream",
     "text": [
      "399it [3:11:43, 12.67s/it]"
     ]
    },
    {
     "name": "stdout",
     "output_type": "stream",
     "text": [
      "In crossref got an exception timed out\n"
     ]
    },
    {
     "name": "stderr",
     "output_type": "stream",
     "text": [
      "401it [3:12:22, 16.32s/it]"
     ]
    },
    {
     "name": "stdout",
     "output_type": "stream",
     "text": [
      "Request failed: HTTPSConnectionPool(host='opencitations.net', port=443): Read timed out. (read timeout=10)\n"
     ]
    },
    {
     "name": "stderr",
     "output_type": "stream",
     "text": [
      "424it [3:17:13,  8.31s/it]"
     ]
    },
    {
     "name": "stdout",
     "output_type": "stream",
     "text": [
      "Request failed: HTTPSConnectionPool(host='opencitations.net', port=443): Read timed out. (read timeout=10)\n"
     ]
    },
    {
     "name": "stderr",
     "output_type": "stream",
     "text": [
      "425it [3:17:55, 18.57s/it]"
     ]
    },
    {
     "name": "stdout",
     "output_type": "stream",
     "text": [
      "HTTP error: 400 Client Error: Bad Request for url: https://opencitations.net/index/coci/api/v1/citations/10.1007/BF01303701\n",
      "Request failed: HTTPSConnectionPool(host='opencitations.net', port=443): Read timed out. (read timeout=10)\n",
      "Request failed: HTTPSConnectionPool(host='opencitations.net', port=443): Read timed out. (read timeout=10)\n"
     ]
    },
    {
     "name": "stderr",
     "output_type": "stream",
     "text": [
      "427it [3:18:52, 21.33s/it]"
     ]
    },
    {
     "name": "stdout",
     "output_type": "stream",
     "text": [
      "Request failed: HTTPSConnectionPool(host='opencitations.net', port=443): Read timed out. (read timeout=10)\n"
     ]
    },
    {
     "name": "stderr",
     "output_type": "stream",
     "text": [
      "435it [3:19:43,  5.96s/it]"
     ]
    },
    {
     "name": "stdout",
     "output_type": "stream",
     "text": [
      "In crossref got an exception _ssl.c:983: The handshake operation timed out\n"
     ]
    },
    {
     "name": "stderr",
     "output_type": "stream",
     "text": [
      "439it [3:20:46,  9.63s/it]"
     ]
    },
    {
     "name": "stdout",
     "output_type": "stream",
     "text": [
      "Request failed: HTTPSConnectionPool(host='opencitations.net', port=443): Read timed out. (read timeout=10)\n"
     ]
    },
    {
     "name": "stderr",
     "output_type": "stream",
     "text": [
      "441it [3:21:31, 14.83s/it]"
     ]
    },
    {
     "name": "stdout",
     "output_type": "stream",
     "text": [
      "In crossref got an exception timed out\n"
     ]
    },
    {
     "name": "stderr",
     "output_type": "stream",
     "text": [
      "450it [3:24:22, 27.25s/it]\n"
     ]
    }
   ],
   "source": [
    "# build_graph(graph, samp, depth=2)"
   ]
  },
  {
   "cell_type": "code",
   "execution_count": 6,
   "metadata": {},
   "outputs": [],
   "source": [
    "def quick_info(g):\n",
    "    print(f\"Number of resulting nodes: {len(g.nodes)}\")\n",
    "    print(f\"Number of edges in resulting graph: {len(g.edges)}\")\n",
    "    if nx.is_strongly_connected(g):\n",
    "        print(\"The graph is strongly connected!\")\n",
    "    elif nx.is_weakly_connected(g):\n",
    "        print(\"The graph is weakly connected.\")\n",
    "    else:\n",
    "        print(f\"The graph is not connected, having {nx.number_strongly_connected_components(g)} strongly connected components\")\n",
    "        print(f\"And {nx.number_weakly_connected_components(g)} weakly connected components\")"
   ]
  },
  {
   "cell_type": "code",
   "execution_count": 7,
   "metadata": {},
   "outputs": [
    {
     "name": "stdout",
     "output_type": "stream",
     "text": [
      "Number of resulting nodes: 309823\n",
      "Number of edges in resulting graph: 503819\n",
      "The graph is not connected, having 309789 strongly connected components\n",
      "And 39 weakly connected components\n"
     ]
    }
   ],
   "source": [
    "quick_info(graph)"
   ]
  },
  {
   "cell_type": "code",
   "execution_count": null,
   "metadata": {},
   "outputs": [],
   "source": [
    "# save graph to graph.pickle\n",
    "pickle.dump(graph, open(\"../data/graph.pickle\", \"wb\"))"
   ]
  },
  {
   "cell_type": "code",
   "execution_count": 4,
   "metadata": {},
   "outputs": [],
   "source": [
    "graph = pickle.load(open(\"../data/graph.pickle\", \"rb\"))"
   ]
  },
  {
   "cell_type": "code",
   "execution_count": 9,
   "metadata": {},
   "outputs": [],
   "source": [
    "largest_cc = max(nx.weakly_connected_components(graph))\n",
    "subgraph = nx.subgraph(graph, largest_cc)"
   ]
  },
  {
   "cell_type": "code",
   "execution_count": 10,
   "metadata": {},
   "outputs": [
    {
     "name": "stdout",
     "output_type": "stream",
     "text": [
      "Number of resulting nodes: 307888\n",
      "Number of edges in resulting graph: 501433\n",
      "The graph is weakly connected.\n"
     ]
    }
   ],
   "source": [
    "quick_info(subgraph)"
   ]
  },
  {
   "cell_type": "markdown",
   "metadata": {},
   "source": [
    "Теперь посчитаем метрики центральностей"
   ]
  },
  {
   "cell_type": "code",
   "execution_count": 11,
   "metadata": {},
   "outputs": [],
   "source": [
    "def calc_centralities(g):\n",
    "    deg = nx.degree_centrality(g)\n",
    "    bet = nx.betweenness_centrality(g)\n",
    "    eig = nx.eigenvector_centrality(g)\n",
    "    clos = nx.closeness_centrality(g)\n",
    "    pagerank = nx.pagerank(g)\n",
    "    return {\"Degree\": deg, \"Betweenness\": bet, \"Eigen\": eig, \"Closeness\": clos, \"PageRank\": pagerank}"
   ]
  },
  {
   "cell_type": "code",
   "execution_count": null,
   "metadata": {},
   "outputs": [
    {
     "name": "stderr",
     "output_type": "stream",
     "text": [
      "Exception ignored in: <bound method IPythonKernel._clean_thread_parent_frames of <ipykernel.ipkernel.IPythonKernel object at 0x7df8b2dc8f50>>\n",
      "Traceback (most recent call last):\n",
      "  File \"/home/vunz/Projects/Diploma/jup/lib/python3.12/site-packages/ipykernel/ipkernel.py\", line 775, in _clean_thread_parent_frames\n",
      "    def _clean_thread_parent_frames(\n",
      "\n",
      "KeyboardInterrupt: \n"
     ]
    }
   ],
   "source": [
    "results = calc_centralities(subgraph)"
   ]
  },
  {
   "cell_type": "markdown",
   "metadata": {},
   "source": [
    "Для посчета метрик я попросил запустить вычисления на сервере. Поэтому дальше обрабатываю json результаты"
   ]
  },
  {
   "cell_type": "code",
   "execution_count": 16,
   "metadata": {},
   "outputs": [],
   "source": [
    "import json\n",
    "import collections"
   ]
  },
  {
   "cell_type": "code",
   "execution_count": 6,
   "metadata": {},
   "outputs": [],
   "source": [
    "degree = json.load(open(\"../data/degree.json\"))\n",
    "eigen = json.load(open(\"../data/eigen.json\"))\n",
    "closeness = json.load(open(\"../data/closeness.json\"))\n",
    "betweenness = json.load(open(\"../data/betweenness.json\"))\n",
    "pagerank = json.load(open(\"../data/pagerank.json\"))"
   ]
  },
  {
   "cell_type": "code",
   "execution_count": 17,
   "metadata": {},
   "outputs": [],
   "source": [
    "degree = collections.OrderedDict(sorted(degree.items()))\n",
    "eigen = collections.OrderedDict(sorted(eigen.items()))\n",
    "closeness = collections.OrderedDict(sorted(closeness.items()))\n",
    "betweenness = collections.OrderedDict(sorted(betweenness.items()))\n",
    "pagerank = collections.OrderedDict(sorted(pagerank.items()))"
   ]
  },
  {
   "cell_type": "code",
   "execution_count": 32,
   "metadata": {},
   "outputs": [],
   "source": [
    "df_metrics = pd.DataFrame(degree.values(), index=degree.keys()).rename({0: \"degree\"}, axis=1)"
   ]
  },
  {
   "cell_type": "code",
   "execution_count": 33,
   "metadata": {},
   "outputs": [],
   "source": [
    "df_metrics[\"eigen\"] = eigen.values()\n",
    "df_metrics[\"closeness\"] = closeness.values()\n",
    "df_metrics[\"betweenness\"] = betweenness.values()\n",
    "df_metrics[\"pagerank\"] = pagerank.values()"
   ]
  },
  {
   "cell_type": "code",
   "execution_count": 35,
   "metadata": {},
   "outputs": [
    {
     "data": {
      "text/html": [
       "<div>\n",
       "<style scoped>\n",
       "    .dataframe tbody tr th:only-of-type {\n",
       "        vertical-align: middle;\n",
       "    }\n",
       "\n",
       "    .dataframe tbody tr th {\n",
       "        vertical-align: top;\n",
       "    }\n",
       "\n",
       "    .dataframe thead th {\n",
       "        text-align: right;\n",
       "    }\n",
       "</style>\n",
       "<table border=\"1\" class=\"dataframe\">\n",
       "  <thead>\n",
       "    <tr style=\"text-align: right;\">\n",
       "      <th></th>\n",
       "      <th>degree</th>\n",
       "      <th>eigen</th>\n",
       "      <th>closeness</th>\n",
       "      <th>betweenness</th>\n",
       "      <th>pagerank</th>\n",
       "    </tr>\n",
       "  </thead>\n",
       "  <tbody>\n",
       "    <tr>\n",
       "      <th>10.1017/CBO9780511524646</th>\n",
       "      <td>0.018530</td>\n",
       "      <td>5.301566e-22</td>\n",
       "      <td>0.016578</td>\n",
       "      <td>0.000000e+00</td>\n",
       "      <td>0.005365</td>\n",
       "    </tr>\n",
       "    <tr>\n",
       "      <th>10.1103/PhysRev.93.99</th>\n",
       "      <td>0.018427</td>\n",
       "      <td>8.474252e-04</td>\n",
       "      <td>0.026207</td>\n",
       "      <td>3.522018e-06</td>\n",
       "      <td>0.005208</td>\n",
       "    </tr>\n",
       "    <tr>\n",
       "      <th>10.1103/RevModPhys.57.287</th>\n",
       "      <td>0.018175</td>\n",
       "      <td>1.696595e-14</td>\n",
       "      <td>0.014253</td>\n",
       "      <td>5.865808e-05</td>\n",
       "      <td>0.004879</td>\n",
       "    </tr>\n",
       "    <tr>\n",
       "      <th>10.1103/PhysRev.131.2766</th>\n",
       "      <td>0.018030</td>\n",
       "      <td>1.267654e-03</td>\n",
       "      <td>0.027930</td>\n",
       "      <td>7.359271e-06</td>\n",
       "      <td>0.004439</td>\n",
       "    </tr>\n",
       "    <tr>\n",
       "      <th>10.1103/PhysRev.115.485</th>\n",
       "      <td>0.017426</td>\n",
       "      <td>1.172719e-02</td>\n",
       "      <td>0.046483</td>\n",
       "      <td>5.679642e-06</td>\n",
       "      <td>0.004692</td>\n",
       "    </tr>\n",
       "    <tr>\n",
       "      <th>10.1016/0550-3213(79)90022-1</th>\n",
       "      <td>0.013350</td>\n",
       "      <td>2.890676e-03</td>\n",
       "      <td>0.026376</td>\n",
       "      <td>1.263169e-04</td>\n",
       "      <td>0.002438</td>\n",
       "    </tr>\n",
       "    <tr>\n",
       "      <th>10.1006/adnd.1995.1002</th>\n",
       "      <td>0.011003</td>\n",
       "      <td>4.709557e-16</td>\n",
       "      <td>0.011959</td>\n",
       "      <td>0.000000e+00</td>\n",
       "      <td>0.002037</td>\n",
       "    </tr>\n",
       "    <tr>\n",
       "      <th>10.1143/JJAP.27.L209</th>\n",
       "      <td>0.010771</td>\n",
       "      <td>8.102113e-26</td>\n",
       "      <td>0.008158</td>\n",
       "      <td>2.996363e-06</td>\n",
       "      <td>0.003158</td>\n",
       "    </tr>\n",
       "    <tr>\n",
       "      <th>10.1103/PhysRev.130.2529</th>\n",
       "      <td>0.010367</td>\n",
       "      <td>1.902232e-03</td>\n",
       "      <td>0.028841</td>\n",
       "      <td>4.395669e-06</td>\n",
       "      <td>0.002767</td>\n",
       "    </tr>\n",
       "    <tr>\n",
       "      <th>10.1016/0031-9163(62)91369-0</th>\n",
       "      <td>0.010267</td>\n",
       "      <td>2.542276e-03</td>\n",
       "      <td>0.025970</td>\n",
       "      <td>8.714625e-07</td>\n",
       "      <td>0.002733</td>\n",
       "    </tr>\n",
       "  </tbody>\n",
       "</table>\n",
       "</div>"
      ],
      "text/plain": [
       "                                degree         eigen  closeness   betweenness  \\\n",
       "10.1017/CBO9780511524646      0.018530  5.301566e-22   0.016578  0.000000e+00   \n",
       "10.1103/PhysRev.93.99         0.018427  8.474252e-04   0.026207  3.522018e-06   \n",
       "10.1103/RevModPhys.57.287     0.018175  1.696595e-14   0.014253  5.865808e-05   \n",
       "10.1103/PhysRev.131.2766      0.018030  1.267654e-03   0.027930  7.359271e-06   \n",
       "10.1103/PhysRev.115.485       0.017426  1.172719e-02   0.046483  5.679642e-06   \n",
       "10.1016/0550-3213(79)90022-1  0.013350  2.890676e-03   0.026376  1.263169e-04   \n",
       "10.1006/adnd.1995.1002        0.011003  4.709557e-16   0.011959  0.000000e+00   \n",
       "10.1143/JJAP.27.L209          0.010771  8.102113e-26   0.008158  2.996363e-06   \n",
       "10.1103/PhysRev.130.2529      0.010367  1.902232e-03   0.028841  4.395669e-06   \n",
       "10.1016/0031-9163(62)91369-0  0.010267  2.542276e-03   0.025970  8.714625e-07   \n",
       "\n",
       "                              pagerank  \n",
       "10.1017/CBO9780511524646      0.005365  \n",
       "10.1103/PhysRev.93.99         0.005208  \n",
       "10.1103/RevModPhys.57.287     0.004879  \n",
       "10.1103/PhysRev.131.2766      0.004439  \n",
       "10.1103/PhysRev.115.485       0.004692  \n",
       "10.1016/0550-3213(79)90022-1  0.002438  \n",
       "10.1006/adnd.1995.1002        0.002037  \n",
       "10.1143/JJAP.27.L209          0.003158  \n",
       "10.1103/PhysRev.130.2529      0.002767  \n",
       "10.1016/0031-9163(62)91369-0  0.002733  "
      ]
     },
     "execution_count": 35,
     "metadata": {},
     "output_type": "execute_result"
    }
   ],
   "source": [
    "df_metrics.nlargest(10, \"degree\")"
   ]
  },
  {
   "cell_type": "code",
   "execution_count": 36,
   "metadata": {},
   "outputs": [
    {
     "data": {
      "text/html": [
       "<div>\n",
       "<style scoped>\n",
       "    .dataframe tbody tr th:only-of-type {\n",
       "        vertical-align: middle;\n",
       "    }\n",
       "\n",
       "    .dataframe tbody tr th {\n",
       "        vertical-align: top;\n",
       "    }\n",
       "\n",
       "    .dataframe thead th {\n",
       "        text-align: right;\n",
       "    }\n",
       "</style>\n",
       "<table border=\"1\" class=\"dataframe\">\n",
       "  <thead>\n",
       "    <tr style=\"text-align: right;\">\n",
       "      <th></th>\n",
       "      <th>degree</th>\n",
       "      <th>eigen</th>\n",
       "      <th>closeness</th>\n",
       "      <th>betweenness</th>\n",
       "      <th>pagerank</th>\n",
       "    </tr>\n",
       "  </thead>\n",
       "  <tbody>\n",
       "    <tr>\n",
       "      <th>10.1103/PhysRev.83.688</th>\n",
       "      <td>0.000026</td>\n",
       "      <td>0.216720</td>\n",
       "      <td>0.042345</td>\n",
       "      <td>0.000000</td>\n",
       "      <td>0.000035</td>\n",
       "    </tr>\n",
       "    <tr>\n",
       "      <th>10.1103/PhysRev.93.233</th>\n",
       "      <td>0.000023</td>\n",
       "      <td>0.154497</td>\n",
       "      <td>0.043223</td>\n",
       "      <td>0.000000</td>\n",
       "      <td>0.000159</td>\n",
       "    </tr>\n",
       "    <tr>\n",
       "      <th>10.1103/PhysRev.87.693</th>\n",
       "      <td>0.000029</td>\n",
       "      <td>0.152102</td>\n",
       "      <td>0.042732</td>\n",
       "      <td>0.000000</td>\n",
       "      <td>0.000033</td>\n",
       "    </tr>\n",
       "    <tr>\n",
       "      <th>10.1103/PhysRev.87.1100</th>\n",
       "      <td>0.000029</td>\n",
       "      <td>0.151775</td>\n",
       "      <td>0.037266</td>\n",
       "      <td>0.000000</td>\n",
       "      <td>0.000029</td>\n",
       "    </tr>\n",
       "    <tr>\n",
       "      <th>10.1103/PhysRev.88.1142</th>\n",
       "      <td>0.000026</td>\n",
       "      <td>0.147518</td>\n",
       "      <td>0.039551</td>\n",
       "      <td>0.000000</td>\n",
       "      <td>0.000028</td>\n",
       "    </tr>\n",
       "    <tr>\n",
       "      <th>10.1103/PhysRev.90.497</th>\n",
       "      <td>0.000265</td>\n",
       "      <td>0.139797</td>\n",
       "      <td>0.039791</td>\n",
       "      <td>0.000003</td>\n",
       "      <td>0.000071</td>\n",
       "    </tr>\n",
       "    <tr>\n",
       "      <th>10.1103/PhysRev.104.254</th>\n",
       "      <td>0.005920</td>\n",
       "      <td>0.136172</td>\n",
       "      <td>0.051663</td>\n",
       "      <td>0.000016</td>\n",
       "      <td>0.001699</td>\n",
       "    </tr>\n",
       "    <tr>\n",
       "      <th>10.1103/RevModPhys.13.203</th>\n",
       "      <td>0.001504</td>\n",
       "      <td>0.134626</td>\n",
       "      <td>0.070009</td>\n",
       "      <td>0.000031</td>\n",
       "      <td>0.000611</td>\n",
       "    </tr>\n",
       "    <tr>\n",
       "      <th>10.1103/PhysRev.95.1669</th>\n",
       "      <td>0.000403</td>\n",
       "      <td>0.127787</td>\n",
       "      <td>0.042116</td>\n",
       "      <td>0.000016</td>\n",
       "      <td>0.000102</td>\n",
       "    </tr>\n",
       "    <tr>\n",
       "      <th>10.1103/PhysRev.75.1736</th>\n",
       "      <td>0.000013</td>\n",
       "      <td>0.114590</td>\n",
       "      <td>0.036354</td>\n",
       "      <td>0.000000</td>\n",
       "      <td>0.000045</td>\n",
       "    </tr>\n",
       "  </tbody>\n",
       "</table>\n",
       "</div>"
      ],
      "text/plain": [
       "                             degree     eigen  closeness  betweenness  \\\n",
       "10.1103/PhysRev.83.688     0.000026  0.216720   0.042345     0.000000   \n",
       "10.1103/PhysRev.93.233     0.000023  0.154497   0.043223     0.000000   \n",
       "10.1103/PhysRev.87.693     0.000029  0.152102   0.042732     0.000000   \n",
       "10.1103/PhysRev.87.1100    0.000029  0.151775   0.037266     0.000000   \n",
       "10.1103/PhysRev.88.1142    0.000026  0.147518   0.039551     0.000000   \n",
       "10.1103/PhysRev.90.497     0.000265  0.139797   0.039791     0.000003   \n",
       "10.1103/PhysRev.104.254    0.005920  0.136172   0.051663     0.000016   \n",
       "10.1103/RevModPhys.13.203  0.001504  0.134626   0.070009     0.000031   \n",
       "10.1103/PhysRev.95.1669    0.000403  0.127787   0.042116     0.000016   \n",
       "10.1103/PhysRev.75.1736    0.000013  0.114590   0.036354     0.000000   \n",
       "\n",
       "                           pagerank  \n",
       "10.1103/PhysRev.83.688     0.000035  \n",
       "10.1103/PhysRev.93.233     0.000159  \n",
       "10.1103/PhysRev.87.693     0.000033  \n",
       "10.1103/PhysRev.87.1100    0.000029  \n",
       "10.1103/PhysRev.88.1142    0.000028  \n",
       "10.1103/PhysRev.90.497     0.000071  \n",
       "10.1103/PhysRev.104.254    0.001699  \n",
       "10.1103/RevModPhys.13.203  0.000611  \n",
       "10.1103/PhysRev.95.1669    0.000102  \n",
       "10.1103/PhysRev.75.1736    0.000045  "
      ]
     },
     "execution_count": 36,
     "metadata": {},
     "output_type": "execute_result"
    }
   ],
   "source": [
    "df_metrics.nlargest(10, \"eigen\")"
   ]
  },
  {
   "cell_type": "code",
   "execution_count": 37,
   "metadata": {},
   "outputs": [
    {
     "data": {
      "text/html": [
       "<div>\n",
       "<style scoped>\n",
       "    .dataframe tbody tr th:only-of-type {\n",
       "        vertical-align: middle;\n",
       "    }\n",
       "\n",
       "    .dataframe tbody tr th {\n",
       "        vertical-align: top;\n",
       "    }\n",
       "\n",
       "    .dataframe thead th {\n",
       "        text-align: right;\n",
       "    }\n",
       "</style>\n",
       "<table border=\"1\" class=\"dataframe\">\n",
       "  <thead>\n",
       "    <tr style=\"text-align: right;\">\n",
       "      <th></th>\n",
       "      <th>degree</th>\n",
       "      <th>eigen</th>\n",
       "      <th>closeness</th>\n",
       "      <th>betweenness</th>\n",
       "      <th>pagerank</th>\n",
       "    </tr>\n",
       "  </thead>\n",
       "  <tbody>\n",
       "    <tr>\n",
       "      <th>10.1103/RevModPhys.13.203</th>\n",
       "      <td>0.001504</td>\n",
       "      <td>0.134626</td>\n",
       "      <td>0.070009</td>\n",
       "      <td>0.000031</td>\n",
       "      <td>0.000611</td>\n",
       "    </tr>\n",
       "    <tr>\n",
       "      <th>10.1103/PhysRev.76.790</th>\n",
       "      <td>0.000023</td>\n",
       "      <td>0.109866</td>\n",
       "      <td>0.064020</td>\n",
       "      <td>0.000000</td>\n",
       "      <td>0.000443</td>\n",
       "    </tr>\n",
       "    <tr>\n",
       "      <th>10.1103/PhysRev.109.193</th>\n",
       "      <td>0.006223</td>\n",
       "      <td>0.049664</td>\n",
       "      <td>0.063183</td>\n",
       "      <td>0.000074</td>\n",
       "      <td>0.001911</td>\n",
       "    </tr>\n",
       "    <tr>\n",
       "      <th>10.1103/RevModPhys.8.82</th>\n",
       "      <td>0.000023</td>\n",
       "      <td>0.038946</td>\n",
       "      <td>0.062279</td>\n",
       "      <td>0.000000</td>\n",
       "      <td>0.000595</td>\n",
       "    </tr>\n",
       "    <tr>\n",
       "      <th>10.1016/S0031-8914(40)90099-4</th>\n",
       "      <td>0.000016</td>\n",
       "      <td>0.072516</td>\n",
       "      <td>0.061988</td>\n",
       "      <td>0.000000</td>\n",
       "      <td>0.000408</td>\n",
       "    </tr>\n",
       "    <tr>\n",
       "      <th>10.1103/PhysRev.75.486</th>\n",
       "      <td>0.000016</td>\n",
       "      <td>0.049510</td>\n",
       "      <td>0.061230</td>\n",
       "      <td>0.000000</td>\n",
       "      <td>0.000305</td>\n",
       "    </tr>\n",
       "    <tr>\n",
       "      <th>10.1007/BF01339504</th>\n",
       "      <td>0.003721</td>\n",
       "      <td>0.069550</td>\n",
       "      <td>0.060623</td>\n",
       "      <td>0.000000</td>\n",
       "      <td>0.001081</td>\n",
       "    </tr>\n",
       "    <tr>\n",
       "      <th>10.1016/S0031-8914(39)90090-X</th>\n",
       "      <td>0.001023</td>\n",
       "      <td>0.067188</td>\n",
       "      <td>0.060182</td>\n",
       "      <td>0.000009</td>\n",
       "      <td>0.000424</td>\n",
       "    </tr>\n",
       "    <tr>\n",
       "      <th>10.1038/143201a0</th>\n",
       "      <td>0.000006</td>\n",
       "      <td>0.099708</td>\n",
       "      <td>0.059525</td>\n",
       "      <td>0.000000</td>\n",
       "      <td>0.000071</td>\n",
       "    </tr>\n",
       "    <tr>\n",
       "      <th>10.1016/S0031-8914(39)90089-3</th>\n",
       "      <td>0.000010</td>\n",
       "      <td>0.067187</td>\n",
       "      <td>0.059116</td>\n",
       "      <td>0.000000</td>\n",
       "      <td>0.000090</td>\n",
       "    </tr>\n",
       "  </tbody>\n",
       "</table>\n",
       "</div>"
      ],
      "text/plain": [
       "                                 degree     eigen  closeness  betweenness  \\\n",
       "10.1103/RevModPhys.13.203      0.001504  0.134626   0.070009     0.000031   \n",
       "10.1103/PhysRev.76.790         0.000023  0.109866   0.064020     0.000000   \n",
       "10.1103/PhysRev.109.193        0.006223  0.049664   0.063183     0.000074   \n",
       "10.1103/RevModPhys.8.82        0.000023  0.038946   0.062279     0.000000   \n",
       "10.1016/S0031-8914(40)90099-4  0.000016  0.072516   0.061988     0.000000   \n",
       "10.1103/PhysRev.75.486         0.000016  0.049510   0.061230     0.000000   \n",
       "10.1007/BF01339504             0.003721  0.069550   0.060623     0.000000   \n",
       "10.1016/S0031-8914(39)90090-X  0.001023  0.067188   0.060182     0.000009   \n",
       "10.1038/143201a0               0.000006  0.099708   0.059525     0.000000   \n",
       "10.1016/S0031-8914(39)90089-3  0.000010  0.067187   0.059116     0.000000   \n",
       "\n",
       "                               pagerank  \n",
       "10.1103/RevModPhys.13.203      0.000611  \n",
       "10.1103/PhysRev.76.790         0.000443  \n",
       "10.1103/PhysRev.109.193        0.001911  \n",
       "10.1103/RevModPhys.8.82        0.000595  \n",
       "10.1016/S0031-8914(40)90099-4  0.000408  \n",
       "10.1103/PhysRev.75.486         0.000305  \n",
       "10.1007/BF01339504             0.001081  \n",
       "10.1016/S0031-8914(39)90090-X  0.000424  \n",
       "10.1038/143201a0               0.000071  \n",
       "10.1016/S0031-8914(39)90089-3  0.000090  "
      ]
     },
     "execution_count": 37,
     "metadata": {},
     "output_type": "execute_result"
    }
   ],
   "source": [
    "df_metrics.nlargest(10, \"closeness\")"
   ]
  },
  {
   "cell_type": "code",
   "execution_count": 38,
   "metadata": {},
   "outputs": [
    {
     "data": {
      "text/html": [
       "<div>\n",
       "<style scoped>\n",
       "    .dataframe tbody tr th:only-of-type {\n",
       "        vertical-align: middle;\n",
       "    }\n",
       "\n",
       "    .dataframe tbody tr th {\n",
       "        vertical-align: top;\n",
       "    }\n",
       "\n",
       "    .dataframe thead th {\n",
       "        text-align: right;\n",
       "    }\n",
       "</style>\n",
       "<table border=\"1\" class=\"dataframe\">\n",
       "  <thead>\n",
       "    <tr style=\"text-align: right;\">\n",
       "      <th></th>\n",
       "      <th>degree</th>\n",
       "      <th>eigen</th>\n",
       "      <th>closeness</th>\n",
       "      <th>betweenness</th>\n",
       "      <th>pagerank</th>\n",
       "    </tr>\n",
       "  </thead>\n",
       "  <tbody>\n",
       "    <tr>\n",
       "      <th>10.1016/0370-2693(71)90665-4</th>\n",
       "      <td>0.000817</td>\n",
       "      <td>5.517147e-04</td>\n",
       "      <td>0.032316</td>\n",
       "      <td>0.000290</td>\n",
       "      <td>0.000150</td>\n",
       "    </tr>\n",
       "    <tr>\n",
       "      <th>10.1002/prop.19610091102</th>\n",
       "      <td>0.001194</td>\n",
       "      <td>7.558833e-04</td>\n",
       "      <td>0.025299</td>\n",
       "      <td>0.000286</td>\n",
       "      <td>0.000053</td>\n",
       "    </tr>\n",
       "    <tr>\n",
       "      <th>10.1016/S0370-1573(87)80002-9</th>\n",
       "      <td>0.007572</td>\n",
       "      <td>1.473134e-08</td>\n",
       "      <td>0.017955</td>\n",
       "      <td>0.000272</td>\n",
       "      <td>0.001692</td>\n",
       "    </tr>\n",
       "    <tr>\n",
       "      <th>10.1016/0550-3213(69)90216-8</th>\n",
       "      <td>0.000010</td>\n",
       "      <td>3.029627e-04</td>\n",
       "      <td>0.027460</td>\n",
       "      <td>0.000237</td>\n",
       "      <td>0.000006</td>\n",
       "    </tr>\n",
       "    <tr>\n",
       "      <th>10.1016/0550-3213(79)90023-3</th>\n",
       "      <td>0.006881</td>\n",
       "      <td>2.890644e-03</td>\n",
       "      <td>0.024697</td>\n",
       "      <td>0.000223</td>\n",
       "      <td>0.001117</td>\n",
       "    </tr>\n",
       "    <tr>\n",
       "      <th>10.1103/RevModPhys.44.284</th>\n",
       "      <td>0.001052</td>\n",
       "      <td>5.418362e-04</td>\n",
       "      <td>0.016370</td>\n",
       "      <td>0.000221</td>\n",
       "      <td>0.000137</td>\n",
       "    </tr>\n",
       "    <tr>\n",
       "      <th>10.1007/BF02728133</th>\n",
       "      <td>0.002524</td>\n",
       "      <td>2.167925e-03</td>\n",
       "      <td>0.022490</td>\n",
       "      <td>0.000208</td>\n",
       "      <td>0.000668</td>\n",
       "    </tr>\n",
       "    <tr>\n",
       "      <th>10.1016/0370-2693(72)90420-0</th>\n",
       "      <td>0.000804</td>\n",
       "      <td>6.623604e-04</td>\n",
       "      <td>0.033980</td>\n",
       "      <td>0.000205</td>\n",
       "      <td>0.000320</td>\n",
       "    </tr>\n",
       "    <tr>\n",
       "      <th>10.1016/0550-3213(72)90190-3</th>\n",
       "      <td>0.000010</td>\n",
       "      <td>1.083870e-03</td>\n",
       "      <td>0.018439</td>\n",
       "      <td>0.000200</td>\n",
       "      <td>0.000118</td>\n",
       "    </tr>\n",
       "    <tr>\n",
       "      <th>10.1016/0370-1573(81)90059-4</th>\n",
       "      <td>0.004864</td>\n",
       "      <td>4.025980e-09</td>\n",
       "      <td>0.011487</td>\n",
       "      <td>0.000184</td>\n",
       "      <td>0.000915</td>\n",
       "    </tr>\n",
       "  </tbody>\n",
       "</table>\n",
       "</div>"
      ],
      "text/plain": [
       "                                 degree         eigen  closeness  betweenness  \\\n",
       "10.1016/0370-2693(71)90665-4   0.000817  5.517147e-04   0.032316     0.000290   \n",
       "10.1002/prop.19610091102       0.001194  7.558833e-04   0.025299     0.000286   \n",
       "10.1016/S0370-1573(87)80002-9  0.007572  1.473134e-08   0.017955     0.000272   \n",
       "10.1016/0550-3213(69)90216-8   0.000010  3.029627e-04   0.027460     0.000237   \n",
       "10.1016/0550-3213(79)90023-3   0.006881  2.890644e-03   0.024697     0.000223   \n",
       "10.1103/RevModPhys.44.284      0.001052  5.418362e-04   0.016370     0.000221   \n",
       "10.1007/BF02728133             0.002524  2.167925e-03   0.022490     0.000208   \n",
       "10.1016/0370-2693(72)90420-0   0.000804  6.623604e-04   0.033980     0.000205   \n",
       "10.1016/0550-3213(72)90190-3   0.000010  1.083870e-03   0.018439     0.000200   \n",
       "10.1016/0370-1573(81)90059-4   0.004864  4.025980e-09   0.011487     0.000184   \n",
       "\n",
       "                               pagerank  \n",
       "10.1016/0370-2693(71)90665-4   0.000150  \n",
       "10.1002/prop.19610091102       0.000053  \n",
       "10.1016/S0370-1573(87)80002-9  0.001692  \n",
       "10.1016/0550-3213(69)90216-8   0.000006  \n",
       "10.1016/0550-3213(79)90023-3   0.001117  \n",
       "10.1103/RevModPhys.44.284      0.000137  \n",
       "10.1007/BF02728133             0.000668  \n",
       "10.1016/0370-2693(72)90420-0   0.000320  \n",
       "10.1016/0550-3213(72)90190-3   0.000118  \n",
       "10.1016/0370-1573(81)90059-4   0.000915  "
      ]
     },
     "execution_count": 38,
     "metadata": {},
     "output_type": "execute_result"
    }
   ],
   "source": [
    "df_metrics.nlargest(10, \"betweenness\")"
   ]
  },
  {
   "cell_type": "code",
   "execution_count": 39,
   "metadata": {},
   "outputs": [
    {
     "data": {
      "text/html": [
       "<div>\n",
       "<style scoped>\n",
       "    .dataframe tbody tr th:only-of-type {\n",
       "        vertical-align: middle;\n",
       "    }\n",
       "\n",
       "    .dataframe tbody tr th {\n",
       "        vertical-align: top;\n",
       "    }\n",
       "\n",
       "    .dataframe thead th {\n",
       "        text-align: right;\n",
       "    }\n",
       "</style>\n",
       "<table border=\"1\" class=\"dataframe\">\n",
       "  <thead>\n",
       "    <tr style=\"text-align: right;\">\n",
       "      <th></th>\n",
       "      <th>degree</th>\n",
       "      <th>eigen</th>\n",
       "      <th>closeness</th>\n",
       "      <th>betweenness</th>\n",
       "      <th>pagerank</th>\n",
       "    </tr>\n",
       "  </thead>\n",
       "  <tbody>\n",
       "    <tr>\n",
       "      <th>10.1017/CBO9780511524646</th>\n",
       "      <td>0.018530</td>\n",
       "      <td>5.301566e-22</td>\n",
       "      <td>0.016578</td>\n",
       "      <td>0.000000e+00</td>\n",
       "      <td>0.005365</td>\n",
       "    </tr>\n",
       "    <tr>\n",
       "      <th>10.1103/PhysRev.93.99</th>\n",
       "      <td>0.018427</td>\n",
       "      <td>8.474252e-04</td>\n",
       "      <td>0.026207</td>\n",
       "      <td>3.522018e-06</td>\n",
       "      <td>0.005208</td>\n",
       "    </tr>\n",
       "    <tr>\n",
       "      <th>10.1103/RevModPhys.57.287</th>\n",
       "      <td>0.018175</td>\n",
       "      <td>1.696595e-14</td>\n",
       "      <td>0.014253</td>\n",
       "      <td>5.865808e-05</td>\n",
       "      <td>0.004879</td>\n",
       "    </tr>\n",
       "    <tr>\n",
       "      <th>10.1103/PhysRev.115.485</th>\n",
       "      <td>0.017426</td>\n",
       "      <td>1.172719e-02</td>\n",
       "      <td>0.046483</td>\n",
       "      <td>5.679642e-06</td>\n",
       "      <td>0.004692</td>\n",
       "    </tr>\n",
       "    <tr>\n",
       "      <th>10.1103/PhysRev.131.2766</th>\n",
       "      <td>0.018030</td>\n",
       "      <td>1.267654e-03</td>\n",
       "      <td>0.027930</td>\n",
       "      <td>7.359271e-06</td>\n",
       "      <td>0.004439</td>\n",
       "    </tr>\n",
       "    <tr>\n",
       "      <th>10.1016/0370-2693(75)90162-8</th>\n",
       "      <td>0.000026</td>\n",
       "      <td>1.681489e-02</td>\n",
       "      <td>0.033549</td>\n",
       "      <td>0.000000e+00</td>\n",
       "      <td>0.003271</td>\n",
       "    </tr>\n",
       "    <tr>\n",
       "      <th>10.1143/JJAP.27.L209</th>\n",
       "      <td>0.010771</td>\n",
       "      <td>8.102113e-26</td>\n",
       "      <td>0.008158</td>\n",
       "      <td>2.996363e-06</td>\n",
       "      <td>0.003158</td>\n",
       "    </tr>\n",
       "    <tr>\n",
       "      <th>10.1016/0370-2693(75)90163-X</th>\n",
       "      <td>0.007504</td>\n",
       "      <td>2.132962e-02</td>\n",
       "      <td>0.041031</td>\n",
       "      <td>1.593069e-07</td>\n",
       "      <td>0.002855</td>\n",
       "    </tr>\n",
       "    <tr>\n",
       "      <th>10.1088/0022-3719/4/14/022</th>\n",
       "      <td>0.010048</td>\n",
       "      <td>2.498750e-25</td>\n",
       "      <td>0.008344</td>\n",
       "      <td>4.143266e-06</td>\n",
       "      <td>0.002795</td>\n",
       "    </tr>\n",
       "    <tr>\n",
       "      <th>10.1103/PhysRev.130.2529</th>\n",
       "      <td>0.010367</td>\n",
       "      <td>1.902232e-03</td>\n",
       "      <td>0.028841</td>\n",
       "      <td>4.395669e-06</td>\n",
       "      <td>0.002767</td>\n",
       "    </tr>\n",
       "  </tbody>\n",
       "</table>\n",
       "</div>"
      ],
      "text/plain": [
       "                                degree         eigen  closeness   betweenness  \\\n",
       "10.1017/CBO9780511524646      0.018530  5.301566e-22   0.016578  0.000000e+00   \n",
       "10.1103/PhysRev.93.99         0.018427  8.474252e-04   0.026207  3.522018e-06   \n",
       "10.1103/RevModPhys.57.287     0.018175  1.696595e-14   0.014253  5.865808e-05   \n",
       "10.1103/PhysRev.115.485       0.017426  1.172719e-02   0.046483  5.679642e-06   \n",
       "10.1103/PhysRev.131.2766      0.018030  1.267654e-03   0.027930  7.359271e-06   \n",
       "10.1016/0370-2693(75)90162-8  0.000026  1.681489e-02   0.033549  0.000000e+00   \n",
       "10.1143/JJAP.27.L209          0.010771  8.102113e-26   0.008158  2.996363e-06   \n",
       "10.1016/0370-2693(75)90163-X  0.007504  2.132962e-02   0.041031  1.593069e-07   \n",
       "10.1088/0022-3719/4/14/022    0.010048  2.498750e-25   0.008344  4.143266e-06   \n",
       "10.1103/PhysRev.130.2529      0.010367  1.902232e-03   0.028841  4.395669e-06   \n",
       "\n",
       "                              pagerank  \n",
       "10.1017/CBO9780511524646      0.005365  \n",
       "10.1103/PhysRev.93.99         0.005208  \n",
       "10.1103/RevModPhys.57.287     0.004879  \n",
       "10.1103/PhysRev.115.485       0.004692  \n",
       "10.1103/PhysRev.131.2766      0.004439  \n",
       "10.1016/0370-2693(75)90162-8  0.003271  \n",
       "10.1143/JJAP.27.L209          0.003158  \n",
       "10.1016/0370-2693(75)90163-X  0.002855  \n",
       "10.1088/0022-3719/4/14/022    0.002795  \n",
       "10.1103/PhysRev.130.2529      0.002767  "
      ]
     },
     "execution_count": 39,
     "metadata": {},
     "output_type": "execute_result"
    }
   ],
   "source": [
    "df_metrics.nlargest(10, \"pagerank\")"
   ]
  },
  {
   "cell_type": "code",
   "execution_count": 50,
   "metadata": {},
   "outputs": [],
   "source": [
    "jinr_subdf = df_metrics[df_metrics.index.isin(samp['doi'])]"
   ]
  },
  {
   "cell_type": "code",
   "execution_count": 51,
   "metadata": {},
   "outputs": [
    {
     "data": {
      "text/html": [
       "<div>\n",
       "<style scoped>\n",
       "    .dataframe tbody tr th:only-of-type {\n",
       "        vertical-align: middle;\n",
       "    }\n",
       "\n",
       "    .dataframe tbody tr th {\n",
       "        vertical-align: top;\n",
       "    }\n",
       "\n",
       "    .dataframe thead th {\n",
       "        text-align: right;\n",
       "    }\n",
       "</style>\n",
       "<table border=\"1\" class=\"dataframe\">\n",
       "  <thead>\n",
       "    <tr style=\"text-align: right;\">\n",
       "      <th></th>\n",
       "      <th>degree</th>\n",
       "      <th>eigen</th>\n",
       "      <th>closeness</th>\n",
       "      <th>betweenness</th>\n",
       "      <th>pagerank</th>\n",
       "    </tr>\n",
       "  </thead>\n",
       "  <tbody>\n",
       "    <tr>\n",
       "      <th>10.1016/0031-9163(62)90221-4</th>\n",
       "      <td>0.000100</td>\n",
       "      <td>1.497168e-07</td>\n",
       "      <td>0.012742</td>\n",
       "      <td>9.965129e-06</td>\n",
       "      <td>0.000224</td>\n",
       "    </tr>\n",
       "    <tr>\n",
       "      <th>10.1016/0031-9163(65)90885-1</th>\n",
       "      <td>0.000939</td>\n",
       "      <td>6.155996e-33</td>\n",
       "      <td>0.000913</td>\n",
       "      <td>9.747595e-07</td>\n",
       "      <td>0.000215</td>\n",
       "    </tr>\n",
       "    <tr>\n",
       "      <th>10.1007/BF02777988</th>\n",
       "      <td>0.000261</td>\n",
       "      <td>1.083894e-03</td>\n",
       "      <td>0.018499</td>\n",
       "      <td>5.936431e-06</td>\n",
       "      <td>0.000167</td>\n",
       "    </tr>\n",
       "    <tr>\n",
       "      <th>10.1007/BF02742679</th>\n",
       "      <td>0.000381</td>\n",
       "      <td>5.372915e-12</td>\n",
       "      <td>0.003531</td>\n",
       "      <td>4.970233e-07</td>\n",
       "      <td>0.000129</td>\n",
       "    </tr>\n",
       "    <tr>\n",
       "      <th>10.1080/00150198008009006</th>\n",
       "      <td>0.000394</td>\n",
       "      <td>2.567050e-33</td>\n",
       "      <td>0.000381</td>\n",
       "      <td>0.000000e+00</td>\n",
       "      <td>0.000103</td>\n",
       "    </tr>\n",
       "    <tr>\n",
       "      <th>10.1016/0370-2693(68)90437-1</th>\n",
       "      <td>0.000355</td>\n",
       "      <td>4.310600e-08</td>\n",
       "      <td>0.006791</td>\n",
       "      <td>1.269500e-06</td>\n",
       "      <td>0.000071</td>\n",
       "    </tr>\n",
       "    <tr>\n",
       "      <th>10.1007/BF02746567</th>\n",
       "      <td>0.000336</td>\n",
       "      <td>5.506903e-09</td>\n",
       "      <td>0.008671</td>\n",
       "      <td>7.710729e-06</td>\n",
       "      <td>0.000060</td>\n",
       "    </tr>\n",
       "    <tr>\n",
       "      <th>10.1007/BF02891914</th>\n",
       "      <td>0.000297</td>\n",
       "      <td>1.119957e-09</td>\n",
       "      <td>0.010095</td>\n",
       "      <td>1.215018e-06</td>\n",
       "      <td>0.000049</td>\n",
       "    </tr>\n",
       "    <tr>\n",
       "      <th>10.1103/PhysRevLett.93.142001</th>\n",
       "      <td>0.000239</td>\n",
       "      <td>5.886459e-26</td>\n",
       "      <td>0.000208</td>\n",
       "      <td>2.851118e-08</td>\n",
       "      <td>0.000048</td>\n",
       "    </tr>\n",
       "    <tr>\n",
       "      <th>10.1070/RM2001v056n01ABEH000374</th>\n",
       "      <td>0.000242</td>\n",
       "      <td>1.501242e-33</td>\n",
       "      <td>0.000223</td>\n",
       "      <td>0.000000e+00</td>\n",
       "      <td>0.000047</td>\n",
       "    </tr>\n",
       "  </tbody>\n",
       "</table>\n",
       "</div>"
      ],
      "text/plain": [
       "                                   degree         eigen  closeness  \\\n",
       "10.1016/0031-9163(62)90221-4     0.000100  1.497168e-07   0.012742   \n",
       "10.1016/0031-9163(65)90885-1     0.000939  6.155996e-33   0.000913   \n",
       "10.1007/BF02777988               0.000261  1.083894e-03   0.018499   \n",
       "10.1007/BF02742679               0.000381  5.372915e-12   0.003531   \n",
       "10.1080/00150198008009006        0.000394  2.567050e-33   0.000381   \n",
       "10.1016/0370-2693(68)90437-1     0.000355  4.310600e-08   0.006791   \n",
       "10.1007/BF02746567               0.000336  5.506903e-09   0.008671   \n",
       "10.1007/BF02891914               0.000297  1.119957e-09   0.010095   \n",
       "10.1103/PhysRevLett.93.142001    0.000239  5.886459e-26   0.000208   \n",
       "10.1070/RM2001v056n01ABEH000374  0.000242  1.501242e-33   0.000223   \n",
       "\n",
       "                                  betweenness  pagerank  \n",
       "10.1016/0031-9163(62)90221-4     9.965129e-06  0.000224  \n",
       "10.1016/0031-9163(65)90885-1     9.747595e-07  0.000215  \n",
       "10.1007/BF02777988               5.936431e-06  0.000167  \n",
       "10.1007/BF02742679               4.970233e-07  0.000129  \n",
       "10.1080/00150198008009006        0.000000e+00  0.000103  \n",
       "10.1016/0370-2693(68)90437-1     1.269500e-06  0.000071  \n",
       "10.1007/BF02746567               7.710729e-06  0.000060  \n",
       "10.1007/BF02891914               1.215018e-06  0.000049  \n",
       "10.1103/PhysRevLett.93.142001    2.851118e-08  0.000048  \n",
       "10.1070/RM2001v056n01ABEH000374  0.000000e+00  0.000047  "
      ]
     },
     "execution_count": 51,
     "metadata": {},
     "output_type": "execute_result"
    }
   ],
   "source": [
    "jinr_subdf.nlargest(10, \"pagerank\")"
   ]
  },
  {
   "cell_type": "markdown",
   "metadata": {},
   "source": [
    "На этом этапе стоит разобраться в корректности аггрегирования метрик для получения одной более интуитивной и уникальной оценки вершины"
   ]
  },
  {
   "cell_type": "code",
   "execution_count": 6,
   "metadata": {},
   "outputs": [],
   "source": [
    "def agg_centralities():\n",
    "    pass"
   ]
  },
  {
   "cell_type": "markdown",
   "metadata": {},
   "source": [
    "Время визуализации. Постараемся нарисовать как можно более понятный рисунок, используя кластеризация и без неё"
   ]
  }
 ],
 "metadata": {
  "kernelspec": {
   "display_name": "jup",
   "language": "python",
   "name": "python3"
  },
  "language_info": {
   "codemirror_mode": {
    "name": "ipython",
    "version": 3
   },
   "file_extension": ".py",
   "mimetype": "text/x-python",
   "name": "python",
   "nbconvert_exporter": "python",
   "pygments_lexer": "ipython3",
   "version": "3.12.3"
  }
 },
 "nbformat": 4,
 "nbformat_minor": 2
}
