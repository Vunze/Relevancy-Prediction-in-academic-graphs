{
 "cells": [
  {
   "cell_type": "code",
   "execution_count": 6,
   "metadata": {},
   "outputs": [],
   "source": [
    "import pandas as pd\n",
    "import numpy as np"
   ]
  },
  {
   "cell_type": "markdown",
   "metadata": {},
   "source": [
    "Сперва загрузим данные. Их форматирование из json в удобные таблицы представлена в ноутбуке data_preparation.ipynb."
   ]
  },
  {
   "cell_type": "code",
   "execution_count": 7,
   "metadata": {},
   "outputs": [],
   "source": [
    "authors = pd.read_csv(\"../data/authors.csv\")\n",
    "articles = pd.read_csv(\"../data/publications.csv\")\n",
    "sia_articles = pd.read_csv(\"../data/sia_pubs.csv\")"
   ]
  },
  {
   "cell_type": "code",
   "execution_count": 8,
   "metadata": {},
   "outputs": [
    {
     "name": "stdout",
     "output_type": "stream",
     "text": [
      "(36008, 8)\n",
      "(36008, 7)\n"
     ]
    }
   ],
   "source": [
    "print(articles.shape)\n",
    "print(sia_articles.shape)"
   ]
  },
  {
   "cell_type": "code",
   "execution_count": 9,
   "metadata": {},
   "outputs": [
    {
     "name": "stdout",
     "output_type": "stream",
     "text": [
      "DataFrames are not identical when reordered.\n"
     ]
    }
   ],
   "source": [
    "df_1_sorted = articles.drop(columns=[\"citations_num\"]).sort_values(by=list(articles.drop(columns=[\"citations_num\"]).columns)).reset_index(drop=True)\n",
    "df_2_sorted = sia_articles.sort_values(by=list(sia_articles.columns)).reset_index(drop=True)\n",
    "\n",
    "if df_1_sorted.equals(df_2_sorted):\n",
    "    print(\"DataFrames are identical when reordered.\")\n",
    "else:\n",
    "    print(\"DataFrames are not identical when reordered.\")"
   ]
  },
  {
   "cell_type": "markdown",
   "metadata": {},
   "source": [
    "Показалось, что таблицы содержат одинаковые значения, но это не так, поэтому объединю их в одну большую таблицу. Уберу информацию о числе цитирований, поскольку всё равно буду эту информацию добывать отдельно. Также удалю дупликаты на всякий случай"
   ]
  },
  {
   "cell_type": "code",
   "execution_count": 10,
   "metadata": {},
   "outputs": [],
   "source": [
    "pubs = pd.concat([articles.drop(columns=\"citations_num\"), sia_articles], ignore_index=True)"
   ]
  },
  {
   "cell_type": "code",
   "execution_count": 11,
   "metadata": {},
   "outputs": [],
   "source": [
    "def get_nice_refs(refs: str):\n",
    "    res = []\n",
    "    bad_l = refs.lstrip(\"[\").rstrip(\"]\").split(\"'\")\n",
    "    for elem in bad_l:\n",
    "        if len(elem) > 2:\n",
    "            res.append(elem)\n",
    "    return res\n",
    "# Эти признаки почему-то получились в виде одной большой строки, а не списка значений. Пофиксим:\n",
    "pubs.refs = pubs.refs.apply(get_nice_refs).apply(tuple)\n",
    "pubs.authors = pubs.authors.apply(lambda x: (x.lstrip(\"[\").rstrip(\"]\").split(\",\"))).apply(tuple)\n",
    "pubs.keywords = pubs.keywords.apply(lambda x: (x.lstrip(\"[\").rstrip(\"]\").split(\",\"))).apply(tuple)"
   ]
  },
  {
   "cell_type": "code",
   "execution_count": 12,
   "metadata": {},
   "outputs": [
    {
     "name": "stdout",
     "output_type": "stream",
     "text": [
      "(72016, 7)\n",
      "(72014, 7)\n"
     ]
    }
   ],
   "source": [
    "print(pubs.shape)\n",
    "pubs.drop_duplicates(inplace=True)\n",
    "print(pubs.shape)"
   ]
  },
  {
   "cell_type": "code",
   "execution_count": 13,
   "metadata": {},
   "outputs": [
    {
     "data": {
      "text/html": [
       "<div>\n",
       "<style scoped>\n",
       "    .dataframe tbody tr th:only-of-type {\n",
       "        vertical-align: middle;\n",
       "    }\n",
       "\n",
       "    .dataframe tbody tr th {\n",
       "        vertical-align: top;\n",
       "    }\n",
       "\n",
       "    .dataframe thead th {\n",
       "        text-align: right;\n",
       "    }\n",
       "</style>\n",
       "<table border=\"1\" class=\"dataframe\">\n",
       "  <thead>\n",
       "    <tr style=\"text-align: right;\">\n",
       "      <th></th>\n",
       "      <th>title</th>\n",
       "      <th>doi</th>\n",
       "      <th>year</th>\n",
       "      <th>abstract</th>\n",
       "      <th>keywords</th>\n",
       "      <th>refs</th>\n",
       "      <th>authors</th>\n",
       "    </tr>\n",
       "  </thead>\n",
       "  <tbody>\n",
       "    <tr>\n",
       "      <th>0</th>\n",
       "      <td>Studies of Zγ production in association with a...</td>\n",
       "      <td>10.1007/JHEP07(2017)107</td>\n",
       "      <td>2017</td>\n",
       "      <td>The production of a Z boson and a photon in as...</td>\n",
       "      <td>('Electroweak interaction',  'Hadron-Hadron sc...</td>\n",
       "      <td>(Eboli O.J.P., Gonzalez-Garcia M.C., Lietti S....</td>\n",
       "      <td>('Ahmadov F.',  'Aleksandrov I.N.',  'Bednyako...</td>\n",
       "    </tr>\n",
       "    <tr>\n",
       "      <th>1</th>\n",
       "      <td>Towards the detection of light and heavy relic...</td>\n",
       "      <td>10.1016/j.ppnp.2011.01.050</td>\n",
       "      <td>2011</td>\n",
       "      <td>The standard Big Bang cosmology predicts that ...</td>\n",
       "      <td>('Neutrino capture',  'Relic neutrinos',  'Ste...</td>\n",
       "      <td>(Giunti C., Kim C.W., Fundamentals of Neutrino...</td>\n",
       "      <td>('Šimkovic F.',)</td>\n",
       "    </tr>\n",
       "    <tr>\n",
       "      <th>2</th>\n",
       "      <td>Spatial characteristics of thin-film straw det...</td>\n",
       "      <td>NaN</td>\n",
       "      <td>1998</td>\n",
       "      <td>Spatial characteristics of a straw detector wi...</td>\n",
       "      <td>(,)</td>\n",
       "      <td>()</td>\n",
       "      <td>('Bychkov V.N.',  'Kekelidze G.D.',  'Lobastov...</td>\n",
       "    </tr>\n",
       "    <tr>\n",
       "      <th>3</th>\n",
       "      <td>Measurement of the underlying event in jet eve...</td>\n",
       "      <td>10.1140/epjc/s10052-014-2965-5</td>\n",
       "      <td>2014</td>\n",
       "      <td>Distributions sensitive to the underlying even...</td>\n",
       "      <td>(,)</td>\n",
       "      <td>(The underlying event in hard interactions at ...</td>\n",
       "      <td>('Ahmadov F.',  'Aleksandrov I.N.',  'Bednyako...</td>\n",
       "    </tr>\n",
       "    <tr>\n",
       "      <th>4</th>\n",
       "      <td>Bubble and kink solitons in the φ6-model of no...</td>\n",
       "      <td>10.1016/0375-9601(93)91074-F</td>\n",
       "      <td>1993</td>\n",
       "      <td>We have studied the φ6-model in the parameter ...</td>\n",
       "      <td>(,)</td>\n",
       "      <td>(Kosevich, Et al., Sov. J. Low Temp. Phys., 2,...</td>\n",
       "      <td>('Agüero Granados M.A.',)</td>\n",
       "    </tr>\n",
       "  </tbody>\n",
       "</table>\n",
       "</div>"
      ],
      "text/plain": [
       "                                               title  \\\n",
       "0  Studies of Zγ production in association with a...   \n",
       "1  Towards the detection of light and heavy relic...   \n",
       "2  Spatial characteristics of thin-film straw det...   \n",
       "3  Measurement of the underlying event in jet eve...   \n",
       "4  Bubble and kink solitons in the φ6-model of no...   \n",
       "\n",
       "                              doi  year  \\\n",
       "0         10.1007/JHEP07(2017)107  2017   \n",
       "1      10.1016/j.ppnp.2011.01.050  2011   \n",
       "2                             NaN  1998   \n",
       "3  10.1140/epjc/s10052-014-2965-5  2014   \n",
       "4    10.1016/0375-9601(93)91074-F  1993   \n",
       "\n",
       "                                            abstract  \\\n",
       "0  The production of a Z boson and a photon in as...   \n",
       "1  The standard Big Bang cosmology predicts that ...   \n",
       "2  Spatial characteristics of a straw detector wi...   \n",
       "3  Distributions sensitive to the underlying even...   \n",
       "4  We have studied the φ6-model in the parameter ...   \n",
       "\n",
       "                                            keywords  \\\n",
       "0  ('Electroweak interaction',  'Hadron-Hadron sc...   \n",
       "1  ('Neutrino capture',  'Relic neutrinos',  'Ste...   \n",
       "2                                                (,)   \n",
       "3                                                (,)   \n",
       "4                                                (,)   \n",
       "\n",
       "                                                refs  \\\n",
       "0  (Eboli O.J.P., Gonzalez-Garcia M.C., Lietti S....   \n",
       "1  (Giunti C., Kim C.W., Fundamentals of Neutrino...   \n",
       "2                                                 ()   \n",
       "3  (The underlying event in hard interactions at ...   \n",
       "4  (Kosevich, Et al., Sov. J. Low Temp. Phys., 2,...   \n",
       "\n",
       "                                             authors  \n",
       "0  ('Ahmadov F.',  'Aleksandrov I.N.',  'Bednyako...  \n",
       "1                                   ('Šimkovic F.',)  \n",
       "2  ('Bychkov V.N.',  'Kekelidze G.D.',  'Lobastov...  \n",
       "3  ('Ahmadov F.',  'Aleksandrov I.N.',  'Bednyako...  \n",
       "4                          ('Agüero Granados M.A.',)  "
      ]
     },
     "execution_count": 13,
     "metadata": {},
     "output_type": "execute_result"
    }
   ],
   "source": [
    "pubs.head()"
   ]
  },
  {
   "cell_type": "code",
   "execution_count": 14,
   "metadata": {},
   "outputs": [],
   "source": [
    "pubs = pubs[pubs.doi.notna()]\n",
    "pubs = pubs[pubs.title.notna()]"
   ]
  },
  {
   "cell_type": "code",
   "execution_count": 15,
   "metadata": {},
   "outputs": [
    {
     "data": {
      "text/plain": [
       "title       0\n",
       "doi         0\n",
       "year        0\n",
       "abstract    0\n",
       "keywords    0\n",
       "refs        0\n",
       "authors     0\n",
       "dtype: int64"
      ]
     },
     "execution_count": 15,
     "metadata": {},
     "output_type": "execute_result"
    }
   ],
   "source": [
    "pubs.isna().sum()"
   ]
  },
  {
   "cell_type": "code",
   "execution_count": 16,
   "metadata": {},
   "outputs": [
    {
     "data": {
      "text/plain": [
       "(64346, 7)"
      ]
     },
     "execution_count": 16,
     "metadata": {},
     "output_type": "execute_result"
    }
   ],
   "source": [
    "pubs.shape"
   ]
  },
  {
   "cell_type": "code",
   "execution_count": 17,
   "metadata": {},
   "outputs": [],
   "source": [
    "tp = pubs.shape[0] # total publications\n",
    "nca = authors.shape[0] # number of contributing authors\n",
    "sa = pubs.authors.apply(lambda x: len(x) == 1).sum() # sole-authored publications\n",
    "ca = tp - sa # coauthored publications\n",
    "nay = [pubs.year.min(), pubs.year.max()] # number of active years\n",
    "pay = pubs.groupby(by=\"year\", as_index=False).count()[[\"year\", \"doi\"]].rename(columns={\"doi\": \"count\"}) # productivity per year\n",
    "trc = pubs.refs.apply(lambda x: len(x)).sum()  # total references count\n",
    "arc = pubs.refs.apply(lambda x: len(x)).mean() # mean references count"
   ]
  },
  {
   "cell_type": "code",
   "execution_count": 18,
   "metadata": {},
   "outputs": [
    {
     "name": "stdout",
     "output_type": "stream",
     "text": [
      "\n",
      "Total number of publications: 64346\n",
      "Number of contributing authors: 10443\n",
      "Number of sole-authored publications: 16185\n",
      "Number of co-authored publications: 48161\n",
      "Range of years in research: 1957-2024\n",
      "Max productivity was in year 2018 with 3236 published articles\n",
      "Total number of references: 2028914\n",
      "Average number of references: 31.531\n",
      "\n"
     ]
    }
   ],
   "source": [
    "print(f\"\"\"\n",
    "Total number of publications: {tp}\n",
    "Number of contributing authors: {nca}\n",
    "Number of sole-authored publications: {sa}\n",
    "Number of co-authored publications: {ca}\n",
    "Range of years in research: {nay[0]}-{nay[1]}\n",
    "Max productivity was in year {pay[pay[\"count\"] == pay[\"count\"].max()][\"year\"].item()} with {pay[pay[\"count\"] == pay[\"count\"].max()][\"count\"].item()} published articles\n",
    "Total number of references: {trc}\n",
    "Average number of references: {arc:.3f}\n",
    "\"\"\")"
   ]
  },
  {
   "cell_type": "code",
   "execution_count": 19,
   "metadata": {},
   "outputs": [
    {
     "name": "stdout",
     "output_type": "stream",
     "text": [
      "Collaboration Index: 70.30057812451435, Collaboration Coefficient: 0.5706021451648997\n"
     ]
    }
   ],
   "source": [
    "def calculate_collaboration_indexes(publications):\n",
    "    N = len(publications)\n",
    "    sum_authors = 0\n",
    "    f_dict = {}\n",
    "    for index, row in publications.iterrows():\n",
    "        num_authors = len(row['authors'])\n",
    "        sum_authors += num_authors\n",
    "        if num_authors in f_dict:\n",
    "            f_dict[num_authors] += 1\n",
    "        else:\n",
    "            f_dict[num_authors] = 1\n",
    "    ci = sum_authors / N\n",
    "    cc_sum = sum([f / k for k, f in f_dict.items()])\n",
    "    cc = 1 - (cc_sum / N)\n",
    "    return ci, cc\n",
    "\n",
    "ci, cc = calculate_collaboration_indexes(pubs)\n",
    "print(f\"Collaboration Index: {ci}, Collaboration Coefficient: {cc}\")\n"
   ]
  },
  {
   "cell_type": "markdown",
   "metadata": {},
   "source": [
    "The Collaboration Index is a measure of the mean number of authors per paper. It is calculated as follows:\n",
    "$$CI=\\frac{\\sum_{i=1}^{k}i\\cdot f_i}{N}$$\n",
    "\n",
    "where $f_i$ is the number of publications with $i$ authors, $k$ is the maximum number of authors for any publication, and $N$ is the total number of publications.\n",
    "\n",
    "The Collaboration Coefficient reflects both single-authorship and multiple-authorship scenarios by giving each author a fraction of credit based on their contribution:\n",
    "$$CC=1-\\left(\\frac{\\sum_{j=1}^k\\frac{f_j}{j}}{N}\\right)$$\n",
    "\n",
    "where $f_j$ represents the number of papers with $j$ authors, and $N$ is the total number of papers.\n",
    "\n",
    "\n",
    "\n"
   ]
  },
  {
   "cell_type": "code",
   "execution_count": 20,
   "metadata": {},
   "outputs": [],
   "source": [
    "pubs.to_csv(\"clean_pubs.csv\")"
   ]
  },
  {
   "cell_type": "markdown",
   "metadata": {},
   "source": [
    "Здесь пока думаю закончить. Далее в тетрадке building_graph буду строить граф цитирований."
   ]
  }
 ],
 "metadata": {
  "kernelspec": {
   "display_name": "jup",
   "language": "python",
   "name": "python3"
  },
  "language_info": {
   "codemirror_mode": {
    "name": "ipython",
    "version": 3
   },
   "file_extension": ".py",
   "mimetype": "text/x-python",
   "name": "python",
   "nbconvert_exporter": "python",
   "pygments_lexer": "ipython3",
   "version": "3.12.3"
  }
 },
 "nbformat": 4,
 "nbformat_minor": 2
}
